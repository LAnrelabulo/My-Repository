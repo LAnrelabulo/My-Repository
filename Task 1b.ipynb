{
 "cells": [
  {
   "cell_type": "raw",
   "metadata": {},
   "source": [
    "Aim: Given an input vector x, the goal is to predict a value y as a linear function of a set of feature transformations, ϕ(x)."
   ]
  },
  {
   "cell_type": "code",
   "execution_count": 2,
   "metadata": {},
   "outputs": [],
   "source": [
    "import pandas as pd\n",
    "import numpy as np \n",
    "from sklearn.model_selection import KFold, StratifiedKFold\n",
    "from sklearn.linear_model import Ridge, Lasso\n",
    "from math import sqrt\n",
    "from sklearn.metrics import mean_squared_error\n",
    "import matplotlib.pyplot as plt\n",
    "from sklearn.preprocessing import StandardScaler\n",
    "from sklearn.model_selection import train_test_split\n",
    "from sklearn.linear_model import RidgeCV"
   ]
  },
  {
   "cell_type": "code",
   "execution_count": 3,
   "metadata": {},
   "outputs": [],
   "source": [
    "def createdata(X):\n",
    "    XS  = np.square(X)\n",
    "    XE = np.exp(X)\n",
    "    XC = np.cos(X)\n",
    "    ones = pd.DataFrame(np.ones((700, 1)))\n",
    "    NX = pd.concat([X,XS, XE, XC, ones], axis = 1)\n",
    "    return NX"
   ]
  },
  {
   "cell_type": "code",
   "execution_count": 4,
   "metadata": {},
   "outputs": [],
   "source": [
    "def dataprep(file):\n",
    "    data = pd.read_csv(file, index_col= 'Id')\n",
    "    y =  data['y']\n",
    "    X = data.drop('y', axis = 1)\n",
    "    return X, y "
   ]
  },
  {
   "cell_type": "code",
   "execution_count": 5,
   "metadata": {},
   "outputs": [],
   "source": [
    "X, y = dataprep('train.csv')"
   ]
  },
  {
   "cell_type": "code",
   "execution_count": 6,
   "metadata": {},
   "outputs": [],
   "source": [
    "NX = createdata(X)"
   ]
  },
  {
   "cell_type": "code",
   "execution_count": 7,
   "metadata": {},
   "outputs": [],
   "source": [
    "def KfoldRig(data, nfold, rs):\n",
    "    kf = KFold(n_splits=nfold,shuffle=True, random_state=rs)\n",
    "    lambdas = np.logspace(0, 2, 200)\n",
    "    RMSE = []\n",
    "    for l in lambdas:\n",
    "        score = []\n",
    "        for train_index, test_index in kf.split(data):\n",
    "            rig_mod = Ridge(alpha=l, normalize=True)\n",
    "            rig_mod.fit(X.iloc[train_index], y[train_index])\n",
    "            y_pred= rig_mod.predict(X.loc[test_index])\n",
    "            MSE = mean_squared_error(y[test_index], y_pred)\n",
    "            score.append(MSE/nfold)\n",
    "        RMSE.append(sqrt(sum(score)))\n",
    "    return RMSE        "
   ]
  },
  {
   "cell_type": "code",
   "execution_count": 8,
   "metadata": {},
   "outputs": [],
   "source": [
    "def minAlpha(RMSE):\n",
    "    m = min(RMSE)\n",
    "    return list(np.logspace(0, 4, 200))[[i for i, j in enumerate(RMSE) if j == m]]"
   ]
  },
  {
   "cell_type": "code",
   "execution_count": 9,
   "metadata": {},
   "outputs": [],
   "source": [
    "RMSE =KfoldRig(NX,5,2)"
   ]
  },
  {
   "cell_type": "code",
   "execution_count": 12,
   "metadata": {},
   "outputs": [],
   "source": [
    "ridge = Ridge(alpha=minAlpha(RMSE), fit_intercept=True)"
   ]
  },
  {
   "cell_type": "code",
   "execution_count": 294,
   "metadata": {},
   "outputs": [],
   "source": [
    "pd.Series(ridge.coef_).to_csv(\"Attempt18.csv\", index =False)"
   ]
  },
  {
   "cell_type": "code",
   "execution_count": null,
   "metadata": {},
   "outputs": [],
   "source": []
  }
 ],
 "metadata": {
  "kernelspec": {
   "display_name": "Python 3",
   "language": "python",
   "name": "python3"
  },
  "language_info": {
   "codemirror_mode": {
    "name": "ipython",
    "version": 3
   },
   "file_extension": ".py",
   "mimetype": "text/x-python",
   "name": "python",
   "nbconvert_exporter": "python",
   "pygments_lexer": "ipython3",
   "version": "3.6.8"
  }
 },
 "nbformat": 4,
 "nbformat_minor": 2
}
