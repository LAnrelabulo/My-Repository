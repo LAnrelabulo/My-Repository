{
 "cells": [
  {
   "cell_type": "code",
   "execution_count": 1,
   "metadata": {
    "colab": {
     "base_uri": "https://localhost:8080/",
     "height": 462
    },
    "colab_type": "code",
    "executionInfo": {
     "elapsed": 6382,
     "status": "ok",
     "timestamp": 1592406441617,
     "user": {
      "displayName": "Lanre Labulo",
      "photoUrl": "",
      "userId": "04327795118872642271"
     },
     "user_tz": -120
    },
    "id": "Aug3Kwk_OggW",
    "outputId": "e12a33b8-8575-4450-e052-e526e70d4c60"
   },
   "outputs": [
    {
     "name": "stderr",
     "output_type": "stream",
     "text": [
      "Using TensorFlow backend.\n"
     ]
    }
   ],
   "source": [
    "import glob\n",
    "from PIL import Image\n",
    "import PIL\n",
    "import numpy as np\n",
    "from matplotlib.pyplot import imread\n",
    "import pandas as pd\n",
    "import cv2\n",
    "from cv2 import imread\n",
    "import tensorflow as tf\n",
    "import matplotlib.pyplot as plt\n",
    "import random\n",
    "from keras.models import Sequential\n",
    "from keras.applications.resnet50 import ResNet50\n",
    "from keras.models import Model\n",
    "from keras.layers import Input, Dense, Flatten, Conv2D, MaxPooling2D, Dropout, MaxPooling1D\n",
    "import h5py\n",
    "import tensorflow as tf\n",
    "from keras.applications.imagenet_utils import preprocess_input\n",
    "from tensorflow.keras.regularizers import l2\n",
    "from tensorflow.keras.layers import Lambda\n",
    "from keras.optimizers import Adam\n",
    "import keras"
   ]
  },
  {
   "cell_type": "code",
   "execution_count": 2,
   "metadata": {
    "colab": {
     "base_uri": "https://localhost:8080/",
     "height": 34
    },
    "colab_type": "code",
    "executionInfo": {
     "elapsed": 3436,
     "status": "ok",
     "timestamp": 1592406441619,
     "user": {
      "displayName": "Lanre Labulo",
      "photoUrl": "",
      "userId": "04327795118872642271"
     },
     "user_tz": -120
    },
    "id": "SRVbxxBlOggb",
    "outputId": "7f8b7583-5ea5-452f-8800-19d3573652d7"
   },
   "outputs": [
    {
     "data": {
      "text/plain": [
       "'2.2.0'"
      ]
     },
     "execution_count": 2,
     "metadata": {},
     "output_type": "execute_result"
    }
   ],
   "source": [
    "tf.__version__"
   ]
  },
  {
   "cell_type": "code",
   "execution_count": 2,
   "metadata": {
    "colab": {},
    "colab_type": "code",
    "executionInfo": {
     "elapsed": 3026,
     "status": "ok",
     "timestamp": 1592406441622,
     "user": {
      "displayName": "Lanre Labulo",
      "photoUrl": "",
      "userId": "04327795118872642271"
     },
     "user_tz": -120
    },
    "id": "Jl9zWAOvOpeH"
   },
   "outputs": [],
   "source": []
  },
  {
   "cell_type": "markdown",
   "metadata": {
    "colab": {},
    "colab_type": "code",
    "executionInfo": {
     "elapsed": 2600,
     "status": "ok",
     "timestamp": 1592406441623,
     "user": {
      "displayName": "Lanre Labulo",
      "photoUrl": "",
      "userId": "04327795118872642271"
     },
     "user_tz": -120
    },
    "id": "fhJ0rw8ccxd4"
   },
   "source": [
    "# Preprocessing\n",
    "\n"
   ]
  },
  {
   "cell_type": "code",
   "execution_count": 3,
   "metadata": {
    "colab": {},
    "colab_type": "code",
    "executionInfo": {
     "elapsed": 2806,
     "status": "ok",
     "timestamp": 1592406442055,
     "user": {
      "displayName": "Lanre Labulo",
      "photoUrl": "",
      "userId": "04327795118872642271"
     },
     "user_tz": -120
    },
    "id": "4XPyZcqkOggm",
    "scrolled": true
   },
   "outputs": [],
   "source": [
    "colname = [\"Anchor\"]\n",
    "train_triplets = pd.read_csv('train_triplets.txt', names = colname, header = None)\n",
    "str.split(train_triplets[\"Anchor\"].iloc[0])\n",
    "new = train_triplets[\"Anchor\"].str.split(\" \", n = 2, expand = True)\n",
    "train_triplets[\"Anchor\"] = new[0]\n",
    "train_triplets[\"Positive\"] = new[1]\n",
    "train_triplets[\"Negative\"] = new[2]\n"
   ]
  },
  {
   "cell_type": "code",
   "execution_count": 4,
   "metadata": {
    "colab": {},
    "colab_type": "code",
    "executionInfo": {
     "elapsed": 2926,
     "status": "ok",
     "timestamp": 1592406442426,
     "user": {
      "displayName": "Lanre Labulo",
      "photoUrl": "",
      "userId": "04327795118872642271"
     },
     "user_tz": -120
    },
    "id": "s-vDaUD6Oggp"
   },
   "outputs": [],
   "source": [
    "colname = [\"Anchor\"]\n",
    "len = pd.read_csv('test_triplets.txt', names = colname, header = None)\n",
    "str.split(test_triplets[\"Anchor\"].iloc[0])\n",
    "new = test_triplets[\"Anchor\"].str.split(\" \", n = 2, expand = True)\n",
    "test_triplets[\"Anchor\"] = new[0]\n",
    "test_triplets[\"Positive\"] = new[1]\n",
    "test_triplets[\"Negative\"] = new[2]"
   ]
  },
  {
   "cell_type": "code",
   "execution_count": 5,
   "metadata": {
    "colab": {},
    "colab_type": "code",
    "executionInfo": {
     "elapsed": 5660,
     "status": "ok",
     "timestamp": 1592406445613,
     "user": {
      "displayName": "Lanre Labulo",
      "photoUrl": "",
      "userId": "04327795118872642271"
     },
     "user_tz": -120
    },
    "id": "D8yHzaAaOggt"
   },
   "outputs": [],
   "source": [
    "files = sorted(glob.glob(\"food/*.jpg\"))"
   ]
  },
  {
   "cell_type": "code",
   "execution_count": 6,
   "metadata": {
    "colab": {},
    "colab_type": "code",
    "executionInfo": {
     "elapsed": 90882,
     "status": "ok",
     "timestamp": 1592406531150,
     "user": {
      "displayName": "Lanre Labulo",
      "photoUrl": "",
      "userId": "04327795118872642271"
     },
     "user_tz": -120
    },
    "id": "acUhxOW6Oggx"
   },
   "outputs": [],
   "source": [
    "images = [imread(file) for file in files]"
   ]
  },
  {
   "cell_type": "code",
   "execution_count": 7,
   "metadata": {
    "colab": {},
    "colab_type": "code",
    "executionInfo": {
     "elapsed": 89988,
     "status": "ok",
     "timestamp": 1592406531152,
     "user": {
      "displayName": "Lanre Labulo",
      "photoUrl": "",
      "userId": "04327795118872642271"
     },
     "user_tz": -120
    },
    "id": "My9UB45rOgg4"
   },
   "outputs": [],
   "source": [
    "imgsize = 224\n",
    "def Resize(img, size = imgsize):\n",
    "  img = cv2.resize(img, (size, size))\n",
    "  img = cv2.cvtColor(img, cv2.COLOR_BGR2RGB)\n",
    "  return img"
   ]
  },
  {
   "cell_type": "code",
   "execution_count": 8,
   "metadata": {
    "colab": {},
    "colab_type": "code",
    "executionInfo": {
     "elapsed": 94508,
     "status": "ok",
     "timestamp": 1592406536478,
     "user": {
      "displayName": "Lanre Labulo",
      "photoUrl": "",
      "userId": "04327795118872642271"
     },
     "user_tz": -120
    },
    "id": "8PKiVp91Ogg6"
   },
   "outputs": [],
   "source": [
    "\n",
    "food_images_processed = []\n",
    "for i in range(0,10000):\n",
    "  processed_matrix = Resize(images[i])\n",
    "  food_images_processed.append(processed_matrix)\n"
   ]
  },
  {
   "cell_type": "code",
   "execution_count": 9,
   "metadata": {
    "colab": {},
    "colab_type": "code",
    "executionInfo": {
     "elapsed": 94983,
     "status": "ok",
     "timestamp": 1592406537262,
     "user": {
      "displayName": "Lanre Labulo",
      "photoUrl": "",
      "userId": "04327795118872642271"
     },
     "user_tz": -120
    },
    "id": "mLTX3lFFOgg9"
   },
   "outputs": [],
   "source": [
    "food_images_processed = np.array(food_images_processed)"
   ]
  },
  {
   "cell_type": "code",
   "execution_count": 10,
   "metadata": {
    "colab": {
     "base_uri": "https://localhost:8080/",
     "height": 34
    },
    "colab_type": "code",
    "executionInfo": {
     "elapsed": 690,
     "status": "ok",
     "timestamp": 1592406545703,
     "user": {
      "displayName": "Lanre Labulo",
      "photoUrl": "",
      "userId": "04327795118872642271"
     },
     "user_tz": -120
    },
    "id": "PLLvrlnXOghA",
    "outputId": "3bad06de-1f80-460e-b2de-a6382e8cda1e"
   },
   "outputs": [
    {
     "data": {
      "text/plain": [
       "(10000, 224, 224, 3)"
      ]
     },
     "execution_count": 10,
     "metadata": {},
     "output_type": "execute_result"
    }
   ],
   "source": [
    "food_images_processed.shape"
   ]
  },
  {
   "cell_type": "code",
   "execution_count": 11,
   "metadata": {
    "colab": {},
    "colab_type": "code",
    "executionInfo": {
     "elapsed": 462,
     "status": "ok",
     "timestamp": 1592406545911,
     "user": {
      "displayName": "Lanre Labulo",
      "photoUrl": "",
      "userId": "04327795118872642271"
     },
     "user_tz": -120
    },
    "id": "l6ZFfQmYOghC"
   },
   "outputs": [],
   "source": [
    "\n",
    "def get_image(index):\n",
    "  A = food_images_processed[int(train_triplets[\"Anchor\"].iloc[index])]\n",
    "  P = food_images_processed[int(train_triplets[\"Positive\"].iloc[index])]\n",
    "  N = food_images_processed[int(train_triplets[\"Negative\"].iloc[index])]\n",
    "  triplet = np.stack((A, P, N), axis = 0)\n",
    "\n",
    "  return (triplet)\n"
   ]
  },
  {
   "cell_type": "code",
   "execution_count": 12,
   "metadata": {
    "colab": {},
    "colab_type": "code",
    "executionInfo": {
     "elapsed": 566,
     "status": "ok",
     "timestamp": 1592406724523,
     "user": {
      "displayName": "Lanre Labulo",
      "photoUrl": "",
      "userId": "04327795118872642271"
     },
     "user_tz": -120
    },
    "id": "bIdEG3uuOghG"
   },
   "outputs": [],
   "source": [
    "def create_batch_A(batch_size, index_num):\n",
    "  anchors = np.zeros((batch_size, 224, 224, 3))\n",
    "  j = 0\n",
    "\n",
    "  for i in range(index_num, index_num + batch_size):\n",
    "    index = i\n",
    "    anc = get_image(index)[0]\n",
    "    anchors[j] = anc\n",
    "    j = j+1\n",
    "  \n",
    "  return anchors\n",
    "\n",
    "def create_batch_P(batch_size, index_num):\n",
    "  positives = np.zeros((batch_size, 224, 224, 3))\n",
    "  j = 0\n",
    "\n",
    "  for i in range(index_num, index_num + batch_size):\n",
    "    index = i\n",
    "    pos = get_image(index)[1]\n",
    "    positives[j] = pos\n",
    "    j = j+1\n",
    "\n",
    "  \n",
    "  return positives\n",
    "\n",
    "def create_batch_N(batch_size, index_num):\n",
    "  negatives = np.zeros((batch_size, 224, 224, 3))\n",
    "  j = 0\n",
    "\n",
    "  for i in range(index_num, index_num + batch_size):\n",
    "    index = i\n",
    "    neg = get_image(index)[2]\n",
    "    negatives[j] = neg\n",
    "    j = j + 1\n",
    "  \n",
    "  return negatives\n",
    "  "
   ]
  },
  {
   "cell_type": "code",
   "execution_count": 14,
   "metadata": {
    "colab": {},
    "colab_type": "code",
    "executionInfo": {
     "elapsed": 762,
     "status": "ok",
     "timestamp": 1592406547673,
     "user": {
      "displayName": "Lanre Labulo",
      "photoUrl": "",
      "userId": "04327795118872642271"
     },
     "user_tz": -120
    },
    "id": "lSZofvzhK9hX"
   },
   "outputs": [],
   "source": []
  },
  {
   "cell_type": "code",
   "execution_count": 22,
   "metadata": {
    "colab": {},
    "colab_type": "code",
    "executionInfo": {
     "elapsed": 428,
     "status": "ok",
     "timestamp": 1592406548053,
     "user": {
      "displayName": "Lanre Labulo",
      "photoUrl": "",
      "userId": "04327795118872642271"
     },
     "user_tz": -120
    },
    "id": "qPUWUjBvOghJ"
   },
   "outputs": [],
   "source": [
    "def plot_triplet(triplet):\n",
    "    plt.figure(figsize=(6,2))\n",
    "    for i in range(0,3):\n",
    "        plt.subplot(1,3, i+1)\n",
    "        plt.imshow(triplet[i])"
   ]
  },
  {
   "cell_type": "markdown",
   "metadata": {
    "colab_type": "text",
    "id": "9Z254HHEOghW"
   },
   "source": [
    "# Embedding"
   ]
  },
  {
   "cell_type": "code",
   "execution_count": 13,
   "metadata": {
    "colab": {
     "base_uri": "https://localhost:8080/",
     "height": 955
    },
    "colab_type": "code",
    "executionInfo": {
     "elapsed": 14766,
     "status": "ok",
     "timestamp": 1592406565049,
     "user": {
      "displayName": "Lanre Labulo",
      "photoUrl": "",
      "userId": "04327795118872642271"
     },
     "user_tz": -120
    },
    "id": "jEc1YxxOOghh",
    "outputId": "ccf33874-435b-455a-a310-3802b15e8837"
   },
   "outputs": [
    {
     "name": "stdout",
     "output_type": "stream",
     "text": [
      "Model: \"vgg16\"\n",
      "_________________________________________________________________\n",
      "Layer (type)                 Output Shape              Param #   \n",
      "=================================================================\n",
      "input_1 (InputLayer)         (None, 224, 224, 3)       0         \n",
      "_________________________________________________________________\n",
      "block1_conv1 (Conv2D)        (None, 224, 224, 64)      1792      \n",
      "_________________________________________________________________\n",
      "block1_conv2 (Conv2D)        (None, 224, 224, 64)      36928     \n",
      "_________________________________________________________________\n",
      "block1_pool (MaxPooling2D)   (None, 112, 112, 64)      0         \n",
      "_________________________________________________________________\n",
      "block2_conv1 (Conv2D)        (None, 112, 112, 128)     73856     \n",
      "_________________________________________________________________\n",
      "block2_conv2 (Conv2D)        (None, 112, 112, 128)     147584    \n",
      "_________________________________________________________________\n",
      "block2_pool (MaxPooling2D)   (None, 56, 56, 128)       0         \n",
      "_________________________________________________________________\n",
      "block3_conv1 (Conv2D)        (None, 56, 56, 256)       295168    \n",
      "_________________________________________________________________\n",
      "block3_conv2 (Conv2D)        (None, 56, 56, 256)       590080    \n",
      "_________________________________________________________________\n",
      "block3_conv3 (Conv2D)        (None, 56, 56, 256)       590080    \n",
      "_________________________________________________________________\n",
      "block3_pool (MaxPooling2D)   (None, 28, 28, 256)       0         \n",
      "_________________________________________________________________\n",
      "block4_conv1 (Conv2D)        (None, 28, 28, 512)       1180160   \n",
      "_________________________________________________________________\n",
      "block4_conv2 (Conv2D)        (None, 28, 28, 512)       2359808   \n",
      "_________________________________________________________________\n",
      "block4_conv3 (Conv2D)        (None, 28, 28, 512)       2359808   \n",
      "_________________________________________________________________\n",
      "block4_pool (MaxPooling2D)   (None, 14, 14, 512)       0         \n",
      "_________________________________________________________________\n",
      "block5_conv1 (Conv2D)        (None, 14, 14, 512)       2359808   \n",
      "_________________________________________________________________\n",
      "block5_conv2 (Conv2D)        (None, 14, 14, 512)       2359808   \n",
      "_________________________________________________________________\n",
      "block5_conv3 (Conv2D)        (None, 14, 14, 512)       2359808   \n",
      "_________________________________________________________________\n",
      "block5_pool (MaxPooling2D)   (None, 7, 7, 512)         0         \n",
      "_________________________________________________________________\n",
      "flatten (Flatten)            (None, 25088)             0         \n",
      "_________________________________________________________________\n",
      "fc1 (Dense)                  (None, 4096)              102764544 \n",
      "_________________________________________________________________\n",
      "fc2 (Dense)                  (None, 4096)              16781312  \n",
      "=================================================================\n",
      "Total params: 134,260,544\n",
      "Trainable params: 134,260,544\n",
      "Non-trainable params: 0\n",
      "_________________________________________________________________\n"
     ]
    }
   ],
   "source": [
    "from keras.applications.vgg16 import VGG16\n",
    "vgg16_model = VGG16(weights = 'imagenet')\n",
    "vgg16_model.layers.pop()\n",
    "vgg16_model.summary()"
   ]
  },
  {
   "cell_type": "code",
   "execution_count": 14,
   "metadata": {
    "colab": {},
    "colab_type": "code",
    "executionInfo": {
     "elapsed": 14166,
     "status": "ok",
     "timestamp": 1592406565050,
     "user": {
      "displayName": "Lanre Labulo",
      "photoUrl": "",
      "userId": "04327795118872642271"
     },
     "user_tz": -120
    },
    "id": "IhKoWosqYtPp"
   },
   "outputs": [],
   "source": [
    "model = Sequential()\n",
    "for layer in vgg16_model.layers:\n",
    "  model.add(layer)"
   ]
  },
  {
   "cell_type": "code",
   "execution_count": 15,
   "metadata": {
    "colab": {},
    "colab_type": "code",
    "executionInfo": {
     "elapsed": 13534,
     "status": "ok",
     "timestamp": 1592406565051,
     "user": {
      "displayName": "Lanre Labulo",
      "photoUrl": "",
      "userId": "04327795118872642271"
     },
     "user_tz": -120
    },
    "id": "JyLljKzJYyWA"
   },
   "outputs": [],
   "source": [
    "for layer in model.layers:\n",
    "  layer.trainable = False"
   ]
  },
  {
   "cell_type": "code",
   "execution_count": 16,
   "metadata": {
    "colab": {},
    "colab_type": "code",
    "executionInfo": {
     "elapsed": 12896,
     "status": "ok",
     "timestamp": 1592406565052,
     "user": {
      "displayName": "Lanre Labulo",
      "photoUrl": "",
      "userId": "04327795118872642271"
     },
     "user_tz": -120
    },
    "id": "CrJStLAXY6Do"
   },
   "outputs": [],
   "source": [
    "model.add(Dense(64, activation = \"sigmoid\"))"
   ]
  },
  {
   "cell_type": "markdown",
   "metadata": {
    "colab_type": "text",
    "id": "NBDPcsEIOgho"
   },
   "source": [
    "# Siemese Network\n"
   ]
  },
  {
   "cell_type": "code",
   "execution_count": 17,
   "metadata": {
    "colab": {},
    "colab_type": "code",
    "executionInfo": {
     "elapsed": 633,
     "status": "ok",
     "timestamp": 1592406572310,
     "user": {
      "displayName": "Lanre Labulo",
      "photoUrl": "",
      "userId": "04327795118872642271"
     },
     "user_tz": -120
    },
    "id": "E7NF7aSPOgho"
   },
   "outputs": [],
   "source": [
    "\n",
    "imgsize =224\n",
    "in_anc = keras.layers.Input(shape=(imgsize,imgsize,3))\n",
    "in_pos = keras.layers.Input(shape=(imgsize,imgsize,3))\n",
    "in_neg = keras.layers.Input(shape=(imgsize,imgsize,3))"
   ]
  },
  {
   "cell_type": "code",
   "execution_count": 18,
   "metadata": {
    "colab": {
     "base_uri": "https://localhost:8080/",
     "height": 391
    },
    "colab_type": "code",
    "executionInfo": {
     "elapsed": 677,
     "status": "ok",
     "timestamp": 1592406572906,
     "user": {
      "displayName": "Lanre Labulo",
      "photoUrl": "",
      "userId": "04327795118872642271"
     },
     "user_tz": -120
    },
    "id": "OLjQ-kv2Oghs",
    "outputId": "1ff8b47a-a15a-4e21-cf55-9df321537884"
   },
   "outputs": [
    {
     "name": "stdout",
     "output_type": "stream",
     "text": [
      "Model: \"model_1\"\n",
      "__________________________________________________________________________________________________\n",
      "Layer (type)                    Output Shape         Param #     Connected to                     \n",
      "==================================================================================================\n",
      "input_5 (InputLayer)            (None, 224, 224, 3)  0                                            \n",
      "__________________________________________________________________________________________________\n",
      "input_6 (InputLayer)            (None, 224, 224, 3)  0                                            \n",
      "__________________________________________________________________________________________________\n",
      "input_7 (InputLayer)            (None, 224, 224, 3)  0                                            \n",
      "__________________________________________________________________________________________________\n",
      "sequential_1 (Sequential)       (None, 64)           134522752   input_5[0][0]                    \n",
      "                                                                 input_6[0][0]                    \n",
      "                                                                 input_7[0][0]                    \n",
      "__________________________________________________________________________________________________\n",
      "concatenate_1 (Concatenate)     (None, 192)          0           sequential_1[1][0]               \n",
      "                                                                 sequential_1[2][0]               \n",
      "                                                                 sequential_1[3][0]               \n",
      "==================================================================================================\n",
      "Total params: 134,522,752\n",
      "Trainable params: 262,208\n",
      "Non-trainable params: 134,260,544\n",
      "__________________________________________________________________________________________________\n"
     ]
    }
   ],
   "source": [
    "in_anc = keras.layers.Input(shape=(imgsize,imgsize,3))\n",
    "in_pos = keras.layers.Input(shape=(imgsize,imgsize,3))\n",
    "in_neg = keras.layers.Input(shape=(imgsize,imgsize,3))\n",
    "\n",
    "\n",
    "em_anc = model(in_anc)\n",
    "em_pos = model(in_pos)\n",
    "em_neg = model(in_neg)\n",
    "\n",
    "out = keras.layers.concatenate([em_anc, em_pos, em_neg])\n",
    "net = keras.models.Model(\n",
    "    [in_anc, in_pos, in_neg],\n",
    "    out\n",
    ")\n",
    "net.summary()"
   ]
  },
  {
   "cell_type": "markdown",
   "metadata": {
    "colab_type": "text",
    "id": "SP4o1yVJOgh0"
   },
   "source": [
    "# Triplet Loss"
   ]
  },
  {
   "cell_type": "code",
   "execution_count": 19,
   "metadata": {
    "colab": {},
    "colab_type": "code",
    "executionInfo": {
     "elapsed": 861,
     "status": "ok",
     "timestamp": 1592406573891,
     "user": {
      "displayName": "Lanre Labulo",
      "photoUrl": "",
      "userId": "04327795118872642271"
     },
     "user_tz": -120
    },
    "id": "vOnXkqDROgh1"
   },
   "outputs": [],
   "source": [
    "alpha = 0.4\n",
    "def triplet_loss(alpha, emb_dim):\n",
    "    def loss(y_true, y_pred):\n",
    "        anc, pos, neg = y_pred[:, :emb_dim], y_pred[:, emb_dim:2*emb_dim], y_pred[:, 2*emb_dim:]\n",
    "        dp = tf.reduce_mean(tf.square(anc -pos), axis = 1)\n",
    "        dn = tf.reduce_mean(tf.square(anc -neg), axis = 1)\n",
    "        return tf.maximum(dp - dn +alpha, 0)\n",
    "    return loss"
   ]
  },
  {
   "cell_type": "markdown",
   "metadata": {
    "colab_type": "text",
    "id": "dFvN8UNlOgh8"
   },
   "source": [
    "# Data Generator"
   ]
  },
  {
   "cell_type": "code",
   "execution_count": 20,
   "metadata": {
    "colab": {},
    "colab_type": "code",
    "executionInfo": {
     "elapsed": 554,
     "status": "ok",
     "timestamp": 1592406779487,
     "user": {
      "displayName": "Lanre Labulo",
      "photoUrl": "",
      "userId": "04327795118872642271"
     },
     "user_tz": -120
    },
    "id": "hTpSBTMV1svC"
   },
   "outputs": [],
   "source": [
    "def data_generator(batch_size, emb_dim = 64):\n",
    "  checkpoints = list(range(0,59500,100))\n",
    "  while True:\n",
    "    index_num = random.choice(checkpoints)\n",
    "    x = [create_batch_A(batch_size, index_num), create_batch_P(batch_size, index_num), create_batch_N(batch_size, index_num)] # []\n",
    "    y = np.zeros((batch_size, 3*emb_dim))\n",
    "    yield x,y"
   ]
  },
  {
   "cell_type": "markdown",
   "metadata": {},
   "source": [
    "# Model Training"
   ]
  },
  {
   "cell_type": "code",
   "execution_count": 21,
   "metadata": {
    "colab": {},
    "colab_type": "code",
    "executionInfo": {
     "elapsed": 822,
     "status": "ok",
     "timestamp": 1592406782148,
     "user": {
      "displayName": "Lanre Labulo",
      "photoUrl": "",
      "userId": "04327795118872642271"
     },
     "user_tz": -120
    },
    "id": "ASUaSxXMOgh_"
   },
   "outputs": [],
   "source": [
    "batch_size = 100\n",
    "emb_dim =64\n",
    "epochs = 300\n",
    "steps_per_epoch = 30\n",
    "\n",
    "net.compile(loss=triplet_loss(alpha = 0.2, emb_dim = emb_dim), optimizer = 'adam')"
   ]
  },
  {
   "cell_type": "code",
   "execution_count": null,
   "metadata": {},
   "outputs": [],
   "source": [
    "net.fit( data_generator(batch_size, emb_dim),epochs = epochs, steps_per_epoch=steps_per_epoch)"
   ]
  },
  {
   "cell_type": "code",
   "execution_count": 25,
   "metadata": {
    "colab": {},
    "colab_type": "code",
    "id": "HPWZjLqVOgiE"
   },
   "outputs": [],
   "source": [
    "sim = []\n",
    "for i in range(1,100):\n",
    "  A = np.expand_dims(get_image(i)[0],axis = 0)\n",
    "  B = np.expand_dims(get_image(i)[1], axis = 0)\n",
    "  C = np.expand_dims(get_image(i)[2], axis = 0)\n",
    "  y_ans = net.predict(x=[A,B,C])\n",
    "  anc, pos, neg = y_ans[:, :emb_dim], y_ans[:, emb_dim:2*emb_dim], y_ans[:,2*emb_dim:]\n",
    "  dp = tf.reduce_mean(tf.square(anc - pos), axis = 1)\n",
    "  dn = tf.reduce_mean(tf.square(anc - neg), axis = 1)\n",
    "  if dp < dn:\n",
    "        \n",
    "    sim.append(1)\n",
    "\n",
    "  \n",
    "  else:\n",
    "    sim.append(0)\n",
    "\n"
   ]
  },
  {
   "cell_type": "markdown",
   "metadata": {},
   "source": [
    "# Prediction"
   ]
  },
  {
   "cell_type": "code",
   "execution_count": 27,
   "metadata": {
    "colab": {},
    "colab_type": "code",
    "id": "NlCfogTZOgiP"
   },
   "outputs": [],
   "source": [
    "def get_image_test(index):\n",
    "  A = food_images_processed[int(test_triplets[\"Anchor\"].iloc[index])]\n",
    "  P = food_images_processed[int(test_triplets[\"Positive\"].iloc[index])]\n",
    "  N = food_images_processed[int(test_triplets[\"Negative\"].iloc[index])]\n",
    "  triplet = np.stack((A, P, N), axis = 0)\n",
    "\n",
    "  return (triplet)\n"
   ]
  },
  {
   "cell_type": "code",
   "execution_count": null,
   "metadata": {
    "colab": {
     "base_uri": "https://localhost:8080/",
     "height": 232
    },
    "colab_type": "code",
    "executionInfo": {
     "elapsed": 725,
     "status": "error",
     "timestamp": 1592383391301,
     "user": {
      "displayName": "Lanre Labulo",
      "photoUrl": "",
      "userId": "04327795118872642271"
     },
     "user_tz": -120
    },
    "id": "xcwDiZqSOgiR",
    "outputId": "f162fba5-b378-47b9-8416-d98bd0510677"
   },
   "outputs": [],
   "source": [
    "sim = []\n",
    "for i in range(0,len(test_triplets)):\n",
    "  A = np.expand_dims(get_image_test(i)[0],0)\n",
    "  B = np.expand_dims(get_image_test(i)[1],0)\n",
    "  C = np.expand_dims(get_image_test(i)[2],0)\n",
    "  y_ans = net.predict(x=[A,B,C])\n",
    "  anc, pos, neg = y_ans[:, :emb_dim], y_ans[:, emb_dim:2*emb_dim], y_ans[:,2*emb_dim:]\n",
    "  dp = tf.reduce_mean(tf.square(anc - pos), axis = 1)\n",
    "  dn = tf.reduce_mean(tf.square(anc - neg), axis = 1)\n",
    "  if dp < dn:\n",
    "        \n",
    "    sim.append(1)\n",
    "  else:\n",
    "    sim.append(0)"
   ]
  },
  {
   "cell_type": "code",
   "execution_count": null,
   "metadata": {
    "colab": {
     "base_uri": "https://localhost:8080/",
     "height": 34
    },
    "colab_type": "code",
    "executionInfo": {
     "elapsed": 580,
     "status": "ok",
     "timestamp": 1592383395111,
     "user": {
      "displayName": "Lanre Labulo",
      "photoUrl": "",
      "userId": "04327795118872642271"
     },
     "user_tz": -120
    },
    "id": "BwO3o4X0OgiU",
    "outputId": "3966ce4e-57b8-401c-e074-50076e2260ed"
   },
   "outputs": [],
   "source": [
    "pd.Series(sim).to_csv(\"AttemptNNS.csv\", index =False, header = False)"
   ]
  },
  {
   "cell_type": "code",
   "execution_count": null,
   "metadata": {
    "colab": {},
    "colab_type": "code",
    "id": "KT7B4ObROgiW"
   },
   "outputs": [],
   "source": []
  }
 ],
 "metadata": {
  "colab": {
   "collapsed_sections": [],
   "name": "task 4-Copy4.ipynb",
   "provenance": []
  },
  "kernelspec": {
   "display_name": "Python 3",
   "language": "python",
   "name": "python3"
  },
  "language_info": {
   "codemirror_mode": {
    "name": "ipython",
    "version": 3
   },
   "file_extension": ".py",
   "mimetype": "text/x-python",
   "name": "python",
   "nbconvert_exporter": "python",
   "pygments_lexer": "ipython3",
   "version": "3.8.3"
  }
 },
 "nbformat": 4,
 "nbformat_minor": 1
}
