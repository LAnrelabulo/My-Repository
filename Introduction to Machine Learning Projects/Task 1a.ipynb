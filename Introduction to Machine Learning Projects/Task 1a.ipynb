{
 "cells": [
  {
   "cell_type": "raw",
   "metadata": {},
   "source": [
    "Aim: Tp perform 10-fold cross-validation with ridge regression for each of the lambdas [0.01,0.1,1,10,100] given above and report the Root Mean Squared Error (RMSE) averaged over the 10 test folds. "
   ]
  },
  {
   "cell_type": "code",
   "execution_count": 1,
   "metadata": {},
   "outputs": [],
   "source": [
    "import pandas as pd\n",
    "import numpy as np \n",
    "from sklearn.model_selection import KFold\n",
    "from sklearn.linear_model import Ridge\n",
    "from math import sqrt\n",
    "from sklearn.metrics import mean_squared_error"
   ]
  },
  {
   "cell_type": "code",
   "execution_count": 2,
   "metadata": {},
   "outputs": [],
   "source": [
    "def dataprep(file):\n",
    "    data = pd.read_csv(file, index_col= 'Id')\n",
    "    y =  data['y']\n",
    "    X = data.drop('y', axis = 1)\n",
    "    return X, y "
   ]
  },
  {
   "cell_type": "code",
   "execution_count": 3,
   "metadata": {},
   "outputs": [],
   "source": [
    "X, y = dataprep('train.csv')"
   ]
  },
  {
   "cell_type": "code",
   "execution_count": 4,
   "metadata": {},
   "outputs": [],
   "source": [
    "def KfoldRig(nfold, rs):\n",
    "    kf = KFold(n_splits=nfold,shuffle=True, random_state=rs)\n",
    "    lambdas = [0.01,0.1,1,10,100]\n",
    "    RMSE = []\n",
    "    for l in lambdas:\n",
    "        score = []\n",
    "        for train_index, test_index in kf.split(X):\n",
    "            rig_mod = Ridge(alpha=l, fit_intercept = False)\n",
    "            rig_mod.fit(X.iloc[train_index], y[train_index])\n",
    "            y_pred= rig_mod.predict(X.loc[test_index])\n",
    "            MSE = mean_squared_error(y[test_index], y_pred)\n",
    "            score.append(MSE/nfold)\n",
    "        RMSE.append(sqrt(sum(score)))\n",
    "    return RMSE        "
   ]
  },
  {
   "cell_type": "code",
   "execution_count": 7,
   "metadata": {},
   "outputs": [],
   "source": [
    "RMSE =KfoldRig(10,1)"
   ]
  },
  {
   "cell_type": "code",
   "execution_count": 8,
   "metadata": {},
   "outputs": [],
   "source": [
    "pd.Series(RMSE).to_csv(\"AttemptRS10.csv\", index =False)"
   ]
  },
  {
   "cell_type": "code",
   "execution_count": null,
   "metadata": {},
   "outputs": [],
   "source": []
  }
 ],
 "metadata": {
  "kernelspec": {
   "display_name": "Python 3",
   "language": "python",
   "name": "python3"
  },
  "language_info": {
   "codemirror_mode": {
    "name": "ipython",
    "version": 3
   },
   "file_extension": ".py",
   "mimetype": "text/x-python",
   "name": "python",
   "nbconvert_exporter": "python",
   "pygments_lexer": "ipython3",
   "version": "3.6.8"
  }
 },
 "nbformat": 4,
 "nbformat_minor": 2
}
