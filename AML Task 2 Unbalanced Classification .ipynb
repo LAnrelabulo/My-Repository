{
 "cells": [
  {
   "cell_type": "markdown",
   "metadata": {},
   "source": [
    "# Task Description"
   ]
  },
  {
   "cell_type": "markdown",
   "metadata": {},
   "source": [
    "This task is primarily concerned with multi-class classification where you have 3 classes. However, we have changed the original image features in several ways. You will need to deal with class imbalance; in the training set, there are 600 examples from class 0 and 2 but 3600 examples from class 1. Test set has the same class imbalance as the training set."
   ]
  },
  {
   "cell_type": "code",
   "execution_count": null,
   "metadata": {},
   "outputs": [],
   "source": [
    "import numpy as np\n",
    "import pandas as pd \n",
    "import matplotlib.pyplot as plt\n",
    "import seaborn as sns "
   ]
  },
  {
   "cell_type": "code",
   "execution_count": 2074,
   "metadata": {},
   "outputs": [],
   "source": [
    "data  = pd.concat([X,y], axis =1)"
   ]
  },
  {
   "cell_type": "code",
   "execution_count": 2075,
   "metadata": {},
   "outputs": [],
   "source": [
    "X = pd.read_csv(\"X_train.csv\")\n",
    "y = pd.read_csv(\"y_train.csv\")"
   ]
  },
  {
   "cell_type": "code",
   "execution_count": 2076,
   "metadata": {},
   "outputs": [],
   "source": [
    "y.set_index(\"id\", inplace = True)"
   ]
  },
  {
   "cell_type": "code",
   "execution_count": 2077,
   "metadata": {},
   "outputs": [],
   "source": [
    "X.set_index(\"id\", inplace = True)"
   ]
  },
  {
   "cell_type": "code",
   "execution_count": 2078,
   "metadata": {},
   "outputs": [
    {
     "data": {
      "text/html": [
       "<div>\n",
       "<style scoped>\n",
       "    .dataframe tbody tr th:only-of-type {\n",
       "        vertical-align: middle;\n",
       "    }\n",
       "\n",
       "    .dataframe tbody tr th {\n",
       "        vertical-align: top;\n",
       "    }\n",
       "\n",
       "    .dataframe thead th {\n",
       "        text-align: right;\n",
       "    }\n",
       "</style>\n",
       "<table border=\"1\" class=\"dataframe\">\n",
       "  <thead>\n",
       "    <tr style=\"text-align: right;\">\n",
       "      <th></th>\n",
       "      <th>x0</th>\n",
       "      <th>x1</th>\n",
       "      <th>x2</th>\n",
       "      <th>x3</th>\n",
       "      <th>x4</th>\n",
       "      <th>x5</th>\n",
       "      <th>x6</th>\n",
       "      <th>x7</th>\n",
       "      <th>x8</th>\n",
       "      <th>x9</th>\n",
       "      <th>...</th>\n",
       "      <th>x990</th>\n",
       "      <th>x991</th>\n",
       "      <th>x992</th>\n",
       "      <th>x993</th>\n",
       "      <th>x994</th>\n",
       "      <th>x995</th>\n",
       "      <th>x996</th>\n",
       "      <th>x997</th>\n",
       "      <th>x998</th>\n",
       "      <th>x999</th>\n",
       "    </tr>\n",
       "    <tr>\n",
       "      <th>id</th>\n",
       "      <th></th>\n",
       "      <th></th>\n",
       "      <th></th>\n",
       "      <th></th>\n",
       "      <th></th>\n",
       "      <th></th>\n",
       "      <th></th>\n",
       "      <th></th>\n",
       "      <th></th>\n",
       "      <th></th>\n",
       "      <th></th>\n",
       "      <th></th>\n",
       "      <th></th>\n",
       "      <th></th>\n",
       "      <th></th>\n",
       "      <th></th>\n",
       "      <th></th>\n",
       "      <th></th>\n",
       "      <th></th>\n",
       "      <th></th>\n",
       "      <th></th>\n",
       "    </tr>\n",
       "  </thead>\n",
       "  <tbody>\n",
       "    <tr>\n",
       "      <th>0.0</th>\n",
       "      <td>-1.099144</td>\n",
       "      <td>0.918165</td>\n",
       "      <td>-1.227394</td>\n",
       "      <td>0.887061</td>\n",
       "      <td>1.182734</td>\n",
       "      <td>-0.371802</td>\n",
       "      <td>-0.127331</td>\n",
       "      <td>1.201702</td>\n",
       "      <td>1.825839</td>\n",
       "      <td>2.944655</td>\n",
       "      <td>...</td>\n",
       "      <td>-1.111422</td>\n",
       "      <td>1.566261</td>\n",
       "      <td>-1.656656</td>\n",
       "      <td>-0.412988</td>\n",
       "      <td>2.803183</td>\n",
       "      <td>-3.253815</td>\n",
       "      <td>-2.042599</td>\n",
       "      <td>3.497246</td>\n",
       "      <td>-1.275422</td>\n",
       "      <td>2.440708</td>\n",
       "    </tr>\n",
       "    <tr>\n",
       "      <th>1.0</th>\n",
       "      <td>0.366477</td>\n",
       "      <td>0.933802</td>\n",
       "      <td>0.061234</td>\n",
       "      <td>0.430073</td>\n",
       "      <td>1.029673</td>\n",
       "      <td>-0.613771</td>\n",
       "      <td>0.364698</td>\n",
       "      <td>1.140867</td>\n",
       "      <td>0.182811</td>\n",
       "      <td>-0.344876</td>\n",
       "      <td>...</td>\n",
       "      <td>-0.672386</td>\n",
       "      <td>-0.003721</td>\n",
       "      <td>-0.496326</td>\n",
       "      <td>0.672818</td>\n",
       "      <td>-0.546066</td>\n",
       "      <td>-0.227112</td>\n",
       "      <td>0.291441</td>\n",
       "      <td>-0.150495</td>\n",
       "      <td>0.156421</td>\n",
       "      <td>0.714252</td>\n",
       "    </tr>\n",
       "    <tr>\n",
       "      <th>2.0</th>\n",
       "      <td>-0.425879</td>\n",
       "      <td>-0.802152</td>\n",
       "      <td>0.002718</td>\n",
       "      <td>0.820036</td>\n",
       "      <td>1.490237</td>\n",
       "      <td>-0.888121</td>\n",
       "      <td>0.769524</td>\n",
       "      <td>1.059020</td>\n",
       "      <td>0.854806</td>\n",
       "      <td>-0.077359</td>\n",
       "      <td>...</td>\n",
       "      <td>-1.031358</td>\n",
       "      <td>-0.085724</td>\n",
       "      <td>-0.557461</td>\n",
       "      <td>-0.091904</td>\n",
       "      <td>-0.123858</td>\n",
       "      <td>0.387162</td>\n",
       "      <td>1.031941</td>\n",
       "      <td>0.766522</td>\n",
       "      <td>0.339105</td>\n",
       "      <td>-0.046364</td>\n",
       "    </tr>\n",
       "    <tr>\n",
       "      <th>3.0</th>\n",
       "      <td>0.822922</td>\n",
       "      <td>-0.843041</td>\n",
       "      <td>-0.734624</td>\n",
       "      <td>-0.000040</td>\n",
       "      <td>0.123783</td>\n",
       "      <td>-1.777226</td>\n",
       "      <td>0.364601</td>\n",
       "      <td>0.425521</td>\n",
       "      <td>1.265122</td>\n",
       "      <td>0.734897</td>\n",
       "      <td>...</td>\n",
       "      <td>-0.118974</td>\n",
       "      <td>1.271367</td>\n",
       "      <td>-1.518161</td>\n",
       "      <td>-0.315441</td>\n",
       "      <td>0.218074</td>\n",
       "      <td>-1.880067</td>\n",
       "      <td>-0.495170</td>\n",
       "      <td>1.418946</td>\n",
       "      <td>-0.201938</td>\n",
       "      <td>1.475484</td>\n",
       "    </tr>\n",
       "    <tr>\n",
       "      <th>4.0</th>\n",
       "      <td>-0.285342</td>\n",
       "      <td>-0.641116</td>\n",
       "      <td>0.436524</td>\n",
       "      <td>-0.618663</td>\n",
       "      <td>0.319982</td>\n",
       "      <td>-1.160489</td>\n",
       "      <td>0.528379</td>\n",
       "      <td>0.337300</td>\n",
       "      <td>-0.156210</td>\n",
       "      <td>-0.756133</td>\n",
       "      <td>...</td>\n",
       "      <td>-0.997750</td>\n",
       "      <td>-1.008573</td>\n",
       "      <td>-0.404263</td>\n",
       "      <td>0.304188</td>\n",
       "      <td>0.313034</td>\n",
       "      <td>-0.514287</td>\n",
       "      <td>0.701526</td>\n",
       "      <td>0.473238</td>\n",
       "      <td>-0.046099</td>\n",
       "      <td>0.492881</td>\n",
       "    </tr>\n",
       "  </tbody>\n",
       "</table>\n",
       "<p>5 rows × 1000 columns</p>\n",
       "</div>"
      ],
      "text/plain": [
       "           x0        x1        x2        x3        x4        x5        x6  \\\n",
       "id                                                                          \n",
       "0.0 -1.099144  0.918165 -1.227394  0.887061  1.182734 -0.371802 -0.127331   \n",
       "1.0  0.366477  0.933802  0.061234  0.430073  1.029673 -0.613771  0.364698   \n",
       "2.0 -0.425879 -0.802152  0.002718  0.820036  1.490237 -0.888121  0.769524   \n",
       "3.0  0.822922 -0.843041 -0.734624 -0.000040  0.123783 -1.777226  0.364601   \n",
       "4.0 -0.285342 -0.641116  0.436524 -0.618663  0.319982 -1.160489  0.528379   \n",
       "\n",
       "           x7        x8        x9    ...         x990      x991      x992  \\\n",
       "id                                   ...                                    \n",
       "0.0  1.201702  1.825839  2.944655    ...    -1.111422  1.566261 -1.656656   \n",
       "1.0  1.140867  0.182811 -0.344876    ...    -0.672386 -0.003721 -0.496326   \n",
       "2.0  1.059020  0.854806 -0.077359    ...    -1.031358 -0.085724 -0.557461   \n",
       "3.0  0.425521  1.265122  0.734897    ...    -0.118974  1.271367 -1.518161   \n",
       "4.0  0.337300 -0.156210 -0.756133    ...    -0.997750 -1.008573 -0.404263   \n",
       "\n",
       "         x993      x994      x995      x996      x997      x998      x999  \n",
       "id                                                                         \n",
       "0.0 -0.412988  2.803183 -3.253815 -2.042599  3.497246 -1.275422  2.440708  \n",
       "1.0  0.672818 -0.546066 -0.227112  0.291441 -0.150495  0.156421  0.714252  \n",
       "2.0 -0.091904 -0.123858  0.387162  1.031941  0.766522  0.339105 -0.046364  \n",
       "3.0 -0.315441  0.218074 -1.880067 -0.495170  1.418946 -0.201938  1.475484  \n",
       "4.0  0.304188  0.313034 -0.514287  0.701526  0.473238 -0.046099  0.492881  \n",
       "\n",
       "[5 rows x 1000 columns]"
      ]
     },
     "execution_count": 2078,
     "metadata": {},
     "output_type": "execute_result"
    }
   ],
   "source": [
    "X.head()"
   ]
  },
  {
   "cell_type": "code",
   "execution_count": 2079,
   "metadata": {},
   "outputs": [
    {
     "data": {
      "text/html": [
       "<div>\n",
       "<style scoped>\n",
       "    .dataframe tbody tr th:only-of-type {\n",
       "        vertical-align: middle;\n",
       "    }\n",
       "\n",
       "    .dataframe tbody tr th {\n",
       "        vertical-align: top;\n",
       "    }\n",
       "\n",
       "    .dataframe thead th {\n",
       "        text-align: right;\n",
       "    }\n",
       "</style>\n",
       "<table border=\"1\" class=\"dataframe\">\n",
       "  <thead>\n",
       "    <tr style=\"text-align: right;\">\n",
       "      <th></th>\n",
       "      <th>y</th>\n",
       "    </tr>\n",
       "    <tr>\n",
       "      <th>id</th>\n",
       "      <th></th>\n",
       "    </tr>\n",
       "  </thead>\n",
       "  <tbody>\n",
       "    <tr>\n",
       "      <th>0</th>\n",
       "      <td>1</td>\n",
       "    </tr>\n",
       "    <tr>\n",
       "      <th>1</th>\n",
       "      <td>0</td>\n",
       "    </tr>\n",
       "    <tr>\n",
       "      <th>2</th>\n",
       "      <td>1</td>\n",
       "    </tr>\n",
       "    <tr>\n",
       "      <th>3</th>\n",
       "      <td>1</td>\n",
       "    </tr>\n",
       "    <tr>\n",
       "      <th>4</th>\n",
       "      <td>1</td>\n",
       "    </tr>\n",
       "  </tbody>\n",
       "</table>\n",
       "</div>"
      ],
      "text/plain": [
       "    y\n",
       "id   \n",
       "0   1\n",
       "1   0\n",
       "2   1\n",
       "3   1\n",
       "4   1"
      ]
     },
     "execution_count": 2079,
     "metadata": {},
     "output_type": "execute_result"
    }
   ],
   "source": [
    "y.head()"
   ]
  },
  {
   "cell_type": "code",
   "execution_count": 2080,
   "metadata": {},
   "outputs": [
    {
     "name": "stdout",
     "output_type": "stream",
     "text": [
      "<class 'pandas.core.frame.DataFrame'>\n",
      "Int64Index: 4800 entries, 0 to 4799\n",
      "Data columns (total 1 columns):\n",
      "y    4800 non-null int64\n",
      "dtypes: int64(1)\n",
      "memory usage: 75.0 KB\n"
     ]
    }
   ],
   "source": [
    "y.info()"
   ]
  },
  {
   "cell_type": "markdown",
   "metadata": {},
   "source": [
    "Checking for missing values "
   ]
  },
  {
   "cell_type": "code",
   "execution_count": 2081,
   "metadata": {},
   "outputs": [
    {
     "data": {
      "text/plain": [
       "<matplotlib.axes._subplots.AxesSubplot at 0x1a3ecc47b8>"
      ]
     },
     "execution_count": 2081,
     "metadata": {},
     "output_type": "execute_result"
    },
    {
     "data": {
      "image/png": "[encoded data removed]",
      "text/plain": [
       "<Figure size 432x288 with 2 Axes>"
      ]
     },
     "metadata": {},
     "output_type": "display_data"
    }
   ],
   "source": [
    "sns.heatmap(X.notna())"
   ]
  },
  {
   "cell_type": "code",
   "execution_count": 2082,
   "metadata": {},
   "outputs": [
    {
     "data": {
      "text/plain": [
       "<matplotlib.axes._subplots.AxesSubplot at 0x1a23a45898>"
      ]
     },
     "execution_count": 2082,
     "metadata": {},
     "output_type": "execute_result"
    },
    {
     "data": {
      "image/png": "[encoded data removed]",
      "text/plain": [
       "<Figure size 432x288 with 1 Axes>"
      ]
     },
     "metadata": {},
     "output_type": "display_data"
    }
   ],
   "source": [
    "sns.countplot(data=y, y= \"y\")"
   ]
  },
  {
   "cell_type": "markdown",
   "metadata": {},
   "source": [
    "# Normalizing the data and PCA"
   ]
  },
  {
   "cell_type": "code",
   "execution_count": 2083,
   "metadata": {},
   "outputs": [],
   "source": [
    "from sklearn.preprocessing import StandardScaler, Normalizer"
   ]
  },
  {
   "cell_type": "code",
   "execution_count": 2084,
   "metadata": {},
   "outputs": [],
   "source": [
    "scaler = StandardScaler()"
   ]
  },
  {
   "cell_type": "code",
   "execution_count": 2085,
   "metadata": {},
   "outputs": [],
   "source": [
    "rescaledX = scaler.fit_transform(X)"
   ]
  },
  {
   "cell_type": "code",
   "execution_count": 2086,
   "metadata": {},
   "outputs": [],
   "source": [
    "X= pd.DataFrame(rescaledX)"
   ]
  },
  {
   "cell_type": "code",
   "execution_count": 2042,
   "metadata": {},
   "outputs": [],
   "source": []
  },
  {
   "cell_type": "code",
   "execution_count": 2043,
   "metadata": {},
   "outputs": [],
   "source": [
    "from sklearn.decomposition import PCA\n",
    "pca = PCA(n_components=590)\n",
    "principalComponents = pca.fit_transform(X)"
   ]
  },
  {
   "cell_type": "code",
   "execution_count": 2719,
   "metadata": {},
   "outputs": [],
   "source": [
    "X = pd.DataFrame(principalComponents)"
   ]
  },
  {
   "cell_type": "code",
   "execution_count": null,
   "metadata": {},
   "outputs": [],
   "source": []
  },
  {
   "cell_type": "markdown",
   "metadata": {},
   "source": [
    "# Training the data Random Forest"
   ]
  },
  {
   "cell_type": "code",
   "execution_count": 1466,
   "metadata": {},
   "outputs": [],
   "source": [
    "from sklearn.model_selection import train_test_split"
   ]
  },
  {
   "cell_type": "code",
   "execution_count": 1346,
   "metadata": {},
   "outputs": [],
   "source": [
    "from sklearn.ensemble import RandomForestClassifier"
   ]
  },
  {
   "cell_type": "code",
   "execution_count": 2017,
   "metadata": {},
   "outputs": [],
   "source": [
    "class_weight = dict({ 0:1,1:1.5, 2:1})\n",
    "RF_1 = RandomForestClassifier(bootstrap=True,\n",
    "            class_weight=class_weight, \n",
    "            criterion='gini',\n",
    "            max_depth=10, max_features='auto', max_leaf_nodes=None,\n",
    "            min_impurity_decrease=0.0, min_impurity_split=None,\n",
    "            min_samples_leaf=20, min_samples_split=25,\n",
    "            min_weight_fraction_leaf=0.0, n_estimators=250,\n",
    "            oob_score=False,\n",
    "            random_state=67,\n",
    "            verbose=0, warm_start=False)"
   ]
  },
  {
   "cell_type": "code",
   "execution_count": 3110,
   "metadata": {},
   "outputs": [],
   "source": [
    "X_train, X_test, y_train, y_test = train_test_split( X, y, test_size=0.35, random_state=100)"
   ]
  },
  {
   "cell_type": "code",
   "execution_count": 3111,
   "metadata": {},
   "outputs": [
    {
     "name": "stderr",
     "output_type": "stream",
     "text": [
      "/anaconda3/lib/python3.6/site-packages/ipykernel_launcher.py:1: DataConversionWarning: A column-vector y was passed when a 1d array was expected. Please change the shape of y to (n_samples,), for example using ravel().\n",
      "  \"\"\"Entry point for launching an IPython kernel.\n"
     ]
    },
    {
     "data": {
      "text/plain": [
       "RandomForestClassifier(bootstrap=True, class_weight={0: 1, 1: 1.5, 2: 1},\n",
       "                       criterion='gini', max_depth=10, max_features='auto',\n",
       "                       max_leaf_nodes=None, min_impurity_decrease=0.0,\n",
       "                       min_impurity_split=None, min_samples_leaf=20,\n",
       "                       min_samples_split=25, min_weight_fraction_leaf=0.0,\n",
       "                       n_estimators=250, n_jobs=None, oob_score=False,\n",
       "                       random_state=67, verbose=0, warm_start=False)"
      ]
     },
     "execution_count": 3111,
     "metadata": {},
     "output_type": "execute_result"
    }
   ],
   "source": [
    "RF_1.fit(X_cc, y_cc)"
   ]
  },
  {
   "cell_type": "code",
   "execution_count": 2020,
   "metadata": {},
   "outputs": [],
   "source": [
    "y_pred = RF_1.predict(X_test)"
   ]
  },
  {
   "cell_type": "code",
   "execution_count": 2021,
   "metadata": {},
   "outputs": [],
   "source": [
    "from sklearn.metrics import confusion_matrix"
   ]
  },
  {
   "cell_type": "code",
   "execution_count": 2022,
   "metadata": {},
   "outputs": [],
   "source": [
    "cm = confusion_matrix(y_test, y_pred)"
   ]
  },
  {
   "cell_type": "code",
   "execution_count": 2023,
   "metadata": {},
   "outputs": [
    {
     "data": {
      "text/plain": [
       "array([[  44,  172,   19],\n",
       "       [  90, 1266,   71],\n",
       "       [  34,  190,   34]])"
      ]
     },
     "execution_count": 2023,
     "metadata": {},
     "output_type": "execute_result"
    }
   ],
   "source": [
    "cm"
   ]
  },
  {
   "cell_type": "code",
   "execution_count": 2024,
   "metadata": {},
   "outputs": [],
   "source": [
    "from sklearn.metrics import balanced_accuracy_score\n",
    "BMAC = balanced_accuracy_score(y_test, y_pred)\n"
   ]
  },
  {
   "cell_type": "code",
   "execution_count": 2025,
   "metadata": {},
   "outputs": [
    {
     "data": {
      "text/plain": [
       "0.40206429392415227"
      ]
     },
     "execution_count": 2025,
     "metadata": {},
     "output_type": "execute_result"
    }
   ],
   "source": [
    "BMAC"
   ]
  },
  {
   "cell_type": "markdown",
   "metadata": {},
   "source": [
    "# Undersampling"
   ]
  },
  {
   "cell_type": "code",
   "execution_count": 3112,
   "metadata": {},
   "outputs": [],
   "source": [
    "from imblearn.under_sampling import RandomUnderSampler"
   ]
  },
  {
   "cell_type": "code",
   "execution_count": 3113,
   "metadata": {},
   "outputs": [],
   "source": [
    "cc = RandomUnderSampler()\n",
    "X_cc, y_cc = cc.fit_sample(X_train, y_train)"
   ]
  },
  {
   "cell_type": "code",
   "execution_count": 3114,
   "metadata": {},
   "outputs": [],
   "source": [
    "y_cc = pd.DataFrame(y_cc)\n",
    "X_cc = pd.DataFrame(X_cc)\n"
   ]
  },
  {
   "cell_type": "code",
   "execution_count": null,
   "metadata": {},
   "outputs": [],
   "source": []
  },
  {
   "cell_type": "code",
   "execution_count": 1919,
   "metadata": {},
   "outputs": [],
   "source": [
    "class_weight = {0: 4.5, 1: 10, 2: 4}\n",
    "RF_3 =  RandomForestClassifier(bootstrap=True,\n",
    "            class_weight=class_weight, \n",
    "            criterion='gini',\n",
    "            max_depth=20, max_features='auto', max_leaf_nodes=None,\n",
    "            min_impurity_decrease=0.0, min_impurity_split=None,\n",
    "            min_samples_leaf=20, min_samples_split=20,\n",
    "            min_weight_fraction_leaf=0.0, n_estimators=287,\n",
    "            oob_score=False,\n",
    "            random_state=67,\n",
    "            verbose=0, warm_start=False)"
   ]
  },
  {
   "cell_type": "code",
   "execution_count": 1920,
   "metadata": {},
   "outputs": [
    {
     "data": {
      "text/plain": [
       "{0: 4.5, 1: 10, 2: 4}"
      ]
     },
     "execution_count": 1920,
     "metadata": {},
     "output_type": "execute_result"
    }
   ],
   "source": [
    "class_weight"
   ]
  },
  {
   "cell_type": "code",
   "execution_count": 1653,
   "metadata": {},
   "outputs": [
    {
     "name": "stderr",
     "output_type": "stream",
     "text": [
      "/anaconda3/lib/python3.6/site-packages/ipykernel_launcher.py:1: DataConversionWarning: A column-vector y was passed when a 1d array was expected. Please change the shape of y to (n_samples,), for example using ravel().\n",
      "  \"\"\"Entry point for launching an IPython kernel.\n"
     ]
    },
    {
     "data": {
      "text/plain": [
       "RandomForestClassifier(bootstrap=True, class_weight={0: 4.5, 1: 10, 2: 4},\n",
       "                       criterion='gini', max_depth=20, max_features='auto',\n",
       "                       max_leaf_nodes=None, min_impurity_decrease=0.0,\n",
       "                       min_impurity_split=None, min_samples_leaf=20,\n",
       "                       min_samples_split=20, min_weight_fraction_leaf=0.0,\n",
       "                       n_estimators=287, n_jobs=None, oob_score=False,\n",
       "                       random_state=67, verbose=0, warm_start=False)"
      ]
     },
     "execution_count": 1653,
     "metadata": {},
     "output_type": "execute_result"
    }
   ],
   "source": [
    "RF_3.fit(X_cc, y_cc)"
   ]
  },
  {
   "cell_type": "code",
   "execution_count": 1654,
   "metadata": {},
   "outputs": [
    {
     "data": {
      "text/plain": [
       "array([1, 2, 1, ..., 1, 0, 1])"
      ]
     },
     "execution_count": 1654,
     "metadata": {},
     "output_type": "execute_result"
    }
   ],
   "source": [
    "RF_3.predict(X_test)"
   ]
  },
  {
   "cell_type": "code",
   "execution_count": 1655,
   "metadata": {},
   "outputs": [
    {
     "data": {
      "text/plain": [
       "<matplotlib.axes._subplots.AxesSubplot at 0x1a1f696470>"
      ]
     },
     "execution_count": 1655,
     "metadata": {},
     "output_type": "execute_result"
    },
    {
     "data": {
      "image/png": "[encoded data removed]",
      "text/plain": [
       "<Figure size 432x288 with 1 Axes>"
      ]
     },
     "metadata": {},
     "output_type": "display_data"
    }
   ],
   "source": [
    "sns.countplot(y =0,data=pd.DataFrame(RF_3.predict(X_test)))"
   ]
  },
  {
   "cell_type": "code",
   "execution_count": 1656,
   "metadata": {},
   "outputs": [
    {
     "data": {
      "text/plain": [
       "<matplotlib.axes._subplots.AxesSubplot at 0x1a1f6e37f0>"
      ]
     },
     "execution_count": 1656,
     "metadata": {},
     "output_type": "execute_result"
    },
    {
     "data": {
      "image/png": "[encoded data removed]",
      "text/plain": [
       "<Figure size 432x288 with 1 Axes>"
      ]
     },
     "metadata": {},
     "output_type": "display_data"
    }
   ],
   "source": [
    "sns.countplot(y ='y',data=y_test)"
   ]
  },
  {
   "cell_type": "code",
   "execution_count": 1657,
   "metadata": {},
   "outputs": [
    {
     "data": {
      "text/plain": [
       "0.6172234402589675"
      ]
     },
     "execution_count": 1657,
     "metadata": {},
     "output_type": "execute_result"
    }
   ],
   "source": [
    "balanced_accuracy_score( y_test, RF_3.predict(X_test))"
   ]
  },
  {
   "cell_type": "markdown",
   "metadata": {},
   "source": [
    "# Predicting"
   ]
  },
  {
   "cell_type": "code",
   "execution_count": 198,
   "metadata": {},
   "outputs": [],
   "source": [
    "Xt = pd.read_csv(\"X_test.csv\")\n",
    "Xt.set_index(\"id\", inplace = True)"
   ]
  },
  {
   "cell_type": "code",
   "execution_count": 199,
   "metadata": {},
   "outputs": [],
   "source": [
    "scaler = StandardScaler()\n",
    "rescaledXt = scaler.fit_transform(Xt)\n",
    "Xt= pd.DataFrame(rescaledXt)"
   ]
  },
  {
   "cell_type": "code",
   "execution_count": 200,
   "metadata": {},
   "outputs": [],
   "source": [
    "pred = RF_1.predict(Xt)"
   ]
  },
  {
   "cell_type": "code",
   "execution_count": 201,
   "metadata": {},
   "outputs": [],
   "source": [
    "pred = pd.DataFrame(pred)"
   ]
  },
  {
   "cell_type": "code",
   "execution_count": 202,
   "metadata": {},
   "outputs": [],
   "source": [
    "pred.to_csv(\"RandomForrestCP.csv\")"
   ]
  },
  {
   "cell_type": "code",
   "execution_count": null,
   "metadata": {},
   "outputs": [],
   "source": []
  },
  {
   "cell_type": "markdown",
   "metadata": {},
   "source": [
    "# SVM Model"
   ]
  },
  {
   "cell_type": "code",
   "execution_count": 3115,
   "metadata": {},
   "outputs": [],
   "source": [
    "from sklearn.svm import SVC\n",
    "class_weight = {0: 0.9, 1: 1, 2:0.9}"
   ]
  },
  {
   "cell_type": "code",
   "execution_count": 3141,
   "metadata": {},
   "outputs": [],
   "source": [
    "SVC_1 = SVC(C=1, gamma = 0.00021, class_weight=class_weight)"
   ]
  },
  {
   "cell_type": "code",
   "execution_count": 3142,
   "metadata": {},
   "outputs": [
    {
     "name": "stderr",
     "output_type": "stream",
     "text": [
      "/anaconda3/lib/python3.6/site-packages/sklearn/utils/validation.py:724: DataConversionWarning: A column-vector y was passed when a 1d array was expected. Please change the shape of y to (n_samples, ), for example using ravel().\n",
      "  y = column_or_1d(y, warn=True)\n"
     ]
    },
    {
     "data": {
      "text/plain": [
       "SVC(C=1, cache_size=200, class_weight={0: 0.9, 1: 1, 2: 0.9}, coef0=0.0,\n",
       "    decision_function_shape='ovr', degree=3, gamma=0.00021, kernel='rbf',\n",
       "    max_iter=-1, probability=False, random_state=None, shrinking=True,\n",
       "    tol=0.001, verbose=False)"
      ]
     },
     "execution_count": 3142,
     "metadata": {},
     "output_type": "execute_result"
    }
   ],
   "source": [
    "SVC_1.fit(X_cc, y_cc)"
   ]
  },
  {
   "cell_type": "code",
   "execution_count": 3143,
   "metadata": {},
   "outputs": [],
   "source": [
    "y_SVCpred= SVC_1.predict(X_test)"
   ]
  },
  {
   "cell_type": "code",
   "execution_count": 3144,
   "metadata": {},
   "outputs": [],
   "source": [
    "BMAC = balanced_accuracy_score(y_test, y_SVCpred)"
   ]
  },
  {
   "cell_type": "code",
   "execution_count": 3145,
   "metadata": {},
   "outputs": [
    {
     "data": {
      "text/plain": [
       "0.6751898252892082"
      ]
     },
     "execution_count": 3145,
     "metadata": {},
     "output_type": "execute_result"
    }
   ],
   "source": [
    "BMAC"
   ]
  },
  {
   "cell_type": "code",
   "execution_count": null,
   "metadata": {},
   "outputs": [],
   "source": []
  },
  {
   "cell_type": "code",
   "execution_count": 1664,
   "metadata": {},
   "outputs": [
    {
     "data": {
      "text/plain": [
       "array([10.        , 10.00050505, 10.0010101 , 10.00151515, 10.0020202 ,\n",
       "       10.00252525, 10.0030303 , 10.00353535, 10.0040404 , 10.00454545,\n",
       "       10.00505051, 10.00555556, 10.00606061, 10.00656566, 10.00707071,\n",
       "       10.00757576, 10.00808081, 10.00858586, 10.00909091, 10.00959596,\n",
       "       10.01010101, 10.01060606, 10.01111111, 10.01161616, 10.01212121,\n",
       "       10.01262626, 10.01313131, 10.01363636, 10.01414141, 10.01464646,\n",
       "       10.01515152, 10.01565657, 10.01616162, 10.01666667, 10.01717172,\n",
       "       10.01767677, 10.01818182, 10.01868687, 10.01919192, 10.01969697,\n",
       "       10.02020202, 10.02070707, 10.02121212, 10.02171717, 10.02222222,\n",
       "       10.02272727, 10.02323232, 10.02373737, 10.02424242, 10.02474747,\n",
       "       10.02525253, 10.02575758, 10.02626263, 10.02676768, 10.02727273,\n",
       "       10.02777778, 10.02828283, 10.02878788, 10.02929293, 10.02979798,\n",
       "       10.03030303, 10.03080808, 10.03131313, 10.03181818, 10.03232323,\n",
       "       10.03282828, 10.03333333, 10.03383838, 10.03434343, 10.03484848,\n",
       "       10.03535354, 10.03585859, 10.03636364, 10.03686869, 10.03737374,\n",
       "       10.03787879, 10.03838384, 10.03888889, 10.03939394, 10.03989899,\n",
       "       10.04040404, 10.04090909, 10.04141414, 10.04191919, 10.04242424,\n",
       "       10.04292929, 10.04343434, 10.04393939, 10.04444444, 10.04494949,\n",
       "       10.04545455, 10.0459596 , 10.04646465, 10.0469697 , 10.04747475,\n",
       "       10.0479798 , 10.04848485, 10.0489899 , 10.04949495, 10.05      ,\n",
       "       10.05050505, 10.0510101 , 10.05151515, 10.0520202 , 10.05252525,\n",
       "       10.0530303 , 10.05353535, 10.0540404 , 10.05454545, 10.05505051,\n",
       "       10.05555556, 10.05606061, 10.05656566, 10.05707071, 10.05757576,\n",
       "       10.05808081, 10.05858586, 10.05909091, 10.05959596, 10.06010101,\n",
       "       10.06060606, 10.06111111, 10.06161616, 10.06212121, 10.06262626,\n",
       "       10.06313131, 10.06363636, 10.06414141, 10.06464646, 10.06515152,\n",
       "       10.06565657, 10.06616162, 10.06666667, 10.06717172, 10.06767677,\n",
       "       10.06818182, 10.06868687, 10.06919192, 10.06969697, 10.07020202,\n",
       "       10.07070707, 10.07121212, 10.07171717, 10.07222222, 10.07272727,\n",
       "       10.07323232, 10.07373737, 10.07424242, 10.07474747, 10.07525253,\n",
       "       10.07575758, 10.07626263, 10.07676768, 10.07727273, 10.07777778,\n",
       "       10.07828283, 10.07878788, 10.07929293, 10.07979798, 10.08030303,\n",
       "       10.08080808, 10.08131313, 10.08181818, 10.08232323, 10.08282828,\n",
       "       10.08333333, 10.08383838, 10.08434343, 10.08484848, 10.08535354,\n",
       "       10.08585859, 10.08636364, 10.08686869, 10.08737374, 10.08787879,\n",
       "       10.08838384, 10.08888889, 10.08939394, 10.08989899, 10.09040404,\n",
       "       10.09090909, 10.09141414, 10.09191919, 10.09242424, 10.09292929,\n",
       "       10.09343434, 10.09393939, 10.09444444, 10.09494949, 10.09545455,\n",
       "       10.0959596 , 10.09646465, 10.0969697 , 10.09747475, 10.0979798 ,\n",
       "       10.09848485, 10.0989899 , 10.09949495, 10.1       ])"
      ]
     },
     "execution_count": 1664,
     "metadata": {},
     "output_type": "execute_result"
    }
   ],
   "source": [
    "np.linspace(10,10.1,199)"
   ]
  },
  {
   "cell_type": "markdown",
   "metadata": {},
   "source": [
    "#"
   ]
  },
  {
   "cell_type": "markdown",
   "metadata": {},
   "source": [
    "# Neural Network"
   ]
  },
  {
   "cell_type": "code",
   "execution_count": 2930,
   "metadata": {},
   "outputs": [],
   "source": [
    "from sklearn.neural_network import MLPClassifier"
   ]
  },
  {
   "cell_type": "code",
   "execution_count": 2959,
   "metadata": {},
   "outputs": [],
   "source": [
    " clf = MLPClassifier(hidden_layer_sizes=(500), random_state=120, learning_rate= \"adaptive\", solver = 'adam', alpha =100,activation = 'relu', )"
   ]
  },
  {
   "cell_type": "code",
   "execution_count": 2960,
   "metadata": {},
   "outputs": [
    {
     "name": "stderr",
     "output_type": "stream",
     "text": [
      "/anaconda3/lib/python3.6/site-packages/sklearn/neural_network/multilayer_perceptron.py:921: DataConversionWarning: A column-vector y was passed when a 1d array was expected. Please change the shape of y to (n_samples, ), for example using ravel().\n",
      "  y = column_or_1d(y, warn=True)\n"
     ]
    },
    {
     "data": {
      "text/plain": [
       "MLPClassifier(activation='relu', alpha=100, batch_size='auto', beta_1=0.9,\n",
       "              beta_2=0.999, early_stopping=False, epsilon=1e-08,\n",
       "              hidden_layer_sizes=500, learning_rate='adaptive',\n",
       "              learning_rate_init=0.001, max_iter=200, momentum=0.9,\n",
       "              n_iter_no_change=10, nesterovs_momentum=True, power_t=0.5,\n",
       "              random_state=120, shuffle=True, solver='adam', tol=0.0001,\n",
       "              validation_fraction=0.1, verbose=False, warm_start=False)"
      ]
     },
     "execution_count": 2960,
     "metadata": {},
     "output_type": "execute_result"
    }
   ],
   "source": [
    "clf.fit(X_cc, y_cc)"
   ]
  },
  {
   "cell_type": "code",
   "execution_count": 2961,
   "metadata": {},
   "outputs": [
    {
     "data": {
      "text/plain": [
       "0.675"
      ]
     },
     "execution_count": 2961,
     "metadata": {},
     "output_type": "execute_result"
    }
   ],
   "source": [
    "clf.score(X_test, y_test)"
   ]
  },
  {
   "cell_type": "code",
   "execution_count": 2962,
   "metadata": {},
   "outputs": [],
   "source": [
    "clf_pred = clf.predict(X_test)"
   ]
  },
  {
   "cell_type": "code",
   "execution_count": 2963,
   "metadata": {},
   "outputs": [],
   "source": [
    "BMAC = balanced_accuracy_score(y_test, clf_pred)"
   ]
  },
  {
   "cell_type": "code",
   "execution_count": 2964,
   "metadata": {},
   "outputs": [
    {
     "data": {
      "text/plain": [
       "0.617447984360123"
      ]
     },
     "execution_count": 2964,
     "metadata": {},
     "output_type": "execute_result"
    }
   ],
   "source": [
    "BMAC"
   ]
  },
  {
   "cell_type": "code",
   "execution_count": 2958,
   "metadata": {},
   "outputs": [
    {
     "data": {
      "text/plain": [
       "0.8291354659128286"
      ]
     },
     "execution_count": 2958,
     "metadata": {},
     "output_type": "execute_result"
    }
   ],
   "source": [
    "BMAC2"
   ]
  },
  {
   "cell_type": "markdown",
   "metadata": {},
   "source": [
    "# SGD"
   ]
  },
  {
   "cell_type": "code",
   "execution_count": 2792,
   "metadata": {},
   "outputs": [],
   "source": [
    "from sklearn.linear_model import SGDClassifier"
   ]
  },
  {
   "cell_type": "code",
   "execution_count": 3161,
   "metadata": {},
   "outputs": [],
   "source": [
    "class_weight = dict({ 0:1.3,1:1, 2:1.3})"
   ]
  },
  {
   "cell_type": "code",
   "execution_count": 3162,
   "metadata": {},
   "outputs": [],
   "source": [
    "SGD = SGDClassifier(class_weight=class_weight, alpha =0.47, max_iter=1000, power_t = 0.95, random_state =190, warm_start = False, n_jobs = -1, n_iter_no_change=1000)\n"
   ]
  },
  {
   "cell_type": "code",
   "execution_count": 3163,
   "metadata": {},
   "outputs": [
    {
     "name": "stderr",
     "output_type": "stream",
     "text": [
      "/anaconda3/lib/python3.6/site-packages/sklearn/utils/validation.py:724: DataConversionWarning: A column-vector y was passed when a 1d array was expected. Please change the shape of y to (n_samples, ), for example using ravel().\n",
      "  y = column_or_1d(y, warn=True)\n",
      "/anaconda3/lib/python3.6/site-packages/sklearn/linear_model/stochastic_gradient.py:561: ConvergenceWarning: Maximum number of iteration reached before convergence. Consider increasing max_iter to improve the fit.\n",
      "  ConvergenceWarning)\n"
     ]
    },
    {
     "data": {
      "text/plain": [
       "SGDClassifier(alpha=0.47, average=False, class_weight={0: 1.3, 1: 1, 2: 1.3},\n",
       "              early_stopping=False, epsilon=0.1, eta0=0.0, fit_intercept=True,\n",
       "              l1_ratio=0.15, learning_rate='optimal', loss='hinge',\n",
       "              max_iter=1000, n_iter_no_change=1000, n_jobs=-1, penalty='l2',\n",
       "              power_t=0.95, random_state=190, shuffle=True, tol=0.001,\n",
       "              validation_fraction=0.1, verbose=0, warm_start=False)"
      ]
     },
     "execution_count": 3163,
     "metadata": {},
     "output_type": "execute_result"
    }
   ],
   "source": [
    "SGD.fit(X_cc, y_cc)"
   ]
  },
  {
   "cell_type": "code",
   "execution_count": 3164,
   "metadata": {},
   "outputs": [
    {
     "data": {
      "text/plain": [
       "array([1, 2, 0, ..., 1, 1, 1])"
      ]
     },
     "execution_count": 3164,
     "metadata": {},
     "output_type": "execute_result"
    }
   ],
   "source": [
    "SGD.predict(X_test)"
   ]
  },
  {
   "cell_type": "code",
   "execution_count": 3165,
   "metadata": {},
   "outputs": [
    {
     "data": {
      "text/plain": [
       "0.6714968434604858"
      ]
     },
     "execution_count": 3165,
     "metadata": {},
     "output_type": "execute_result"
    }
   ],
   "source": [
    "balanced_accuracy_score(y_test, SGD.predict(X_test))"
   ]
  },
  {
   "cell_type": "code",
   "execution_count": null,
   "metadata": {},
   "outputs": [],
   "source": []
  },
  {
   "cell_type": "code",
   "execution_count": null,
   "metadata": {},
   "outputs": [],
   "source": []
  },
  {
   "cell_type": "code",
   "execution_count": null,
   "metadata": {},
   "outputs": [],
   "source": []
  },
  {
   "cell_type": "code",
   "execution_count": null,
   "metadata": {},
   "outputs": [],
   "source": []
  }
 ],
 "metadata": {
  "kernelspec": {
   "display_name": "Python 3",
   "language": "python",
   "name": "python3"
  },
  "language_info": {
   "codemirror_mode": {
    "name": "ipython",
    "version": 3
   },
   "file_extension": ".py",
   "mimetype": "text/x-python",
   "name": "python",
   "nbconvert_exporter": "python",
   "pygments_lexer": "ipython3",
   "version": "3.6.8"
  }
 },
 "nbformat": 4,
 "nbformat_minor": 2
}
