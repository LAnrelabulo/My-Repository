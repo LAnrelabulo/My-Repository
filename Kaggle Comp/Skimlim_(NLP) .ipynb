{
  "nbformat": 4,
  "nbformat_minor": 0,
  "metadata": {
    "colab": {
      "name": "Skimlim (NLP).ipynb",
      "provenance": [],
      "collapsed_sections": [],
      "machine_shape": "hm"
    },
    "kernelspec": {
      "name": "python3",
      "display_name": "Python 3"
    },
    "language_info": {
      "name": "python"
    },
    "accelerator": "GPU"
  },
  "cells": [
    {
      "cell_type": "markdown",
      "source": [
       
        "Summarizing pubmet abstracts Takes sentences from publications and classifying them as; background, Objective, Method, Results, Conclusion\n",
        "\n",
        "\n"
      ],
      "metadata": {
        "id": "901nhTfbwDzd"
      }
    },
    {
      "cell_type": "code",
      "execution_count": 1,
      "metadata": {
        "colab": {
          "base_uri": "https://localhost:8080/"
        },
        "id": "gfsfRNiyrW8-",
        "outputId": "91a620ce-d999-4db8-a8cb-faba8817856c"
      },
      "outputs": [
        {
          "output_type": "stream",
          "name": "stdout",
          "text": [
            "Cloning into 'pubmed-rct'...\n",
            "remote: Enumerating objects: 33, done.\u001b[K\n",
            "remote: Counting objects: 100% (3/3), done.\u001b[K\n",
            "remote: Compressing objects: 100% (3/3), done.\u001b[K\n",
            "remote: Total 33 (delta 0), reused 0 (delta 0), pack-reused 30\u001b[K\n",
            "Unpacking objects: 100% (33/33), done.\n"
          ]
        }
      ],
      "source": [
        " #getting data\n",
        " !git clone https://github.com/Franck-Dernoncourt/pubmed-rct"
      ]
    },
    {
      "cell_type": "code",
      "source": [
        "import numpy as np"
      ],
      "metadata": {
        "id": "uga1gn32PByi"
      },
      "execution_count": 102,
      "outputs": []
    },
    {
      "cell_type": "code",
      "source": [
        "#list files \n",
        "!ls pubmed-rct/PubMed_20k_RCT_numbers_replaced_with_at_sign/"
      ],
      "metadata": {
        "colab": {
          "base_uri": "https://localhost:8080/"
        },
        "id": "-1eb7JFT2EX2",
        "outputId": "85d9b8d8-3f87-40f7-901a-6351735f6383"
      },
      "execution_count": 2,
      "outputs": [
        {
          "output_type": "stream",
          "name": "stdout",
          "text": [
            "dev.txt  test.txt  train.txt\n"
          ]
        }
      ]
    },
    {
      "cell_type": "code",
      "source": [
        "#data directory\n",
        "data_dir = \"/content/pubmed-rct/PubMed_20k_RCT_numbers_replaced_with_at_sign/\""
      ],
      "metadata": {
        "id": "m5axn8dy26Oa"
      },
      "execution_count": 3,
      "outputs": []
    },
    {
      "cell_type": "code",
      "source": [
        "#Check all file names in diretory\n",
        "import os \n",
        "filenames = [data_dir + filename for filename in os.listdir(data_dir)]"
      ],
      "metadata": {
        "id": "GHAdMWcA5KY-"
      },
      "execution_count": 4,
      "outputs": []
    },
    {
      "cell_type": "code",
      "source": [
        "filenames"
      ],
      "metadata": {
        "colab": {
          "base_uri": "https://localhost:8080/"
        },
        "id": "3KeEMvHB5hm3",
        "outputId": "7ccabdfe-a211-456e-9819-9b9ffe32cec7"
      },
      "execution_count": 5,
      "outputs": [
        {
          "output_type": "execute_result",
          "data": {
            "text/plain": [
              "['/content/pubmed-rct/PubMed_20k_RCT_numbers_replaced_with_at_sign/dev.txt',\n",
              " '/content/pubmed-rct/PubMed_20k_RCT_numbers_replaced_with_at_sign/train.txt',\n",
              " '/content/pubmed-rct/PubMed_20k_RCT_numbers_replaced_with_at_sign/test.txt']"
            ]
          },
          "metadata": {},
          "execution_count": 5
        }
      ]
    },
    {
      "cell_type": "code",
      "source": [
        "def get_lines(filenames):\n",
        "  \"\"\"\n",
        "  Reads filename and returns the lines of text in  list\n",
        "\n",
        "  Args:\n",
        "    filename: a string containing the target file name \n",
        "\n",
        "  Returns:\n",
        "    A list of strings with one string per line from the target filname \n",
        "  \"\"\"\n",
        "  with open(filenames, \"r\") as f:\n",
        "    return f.readlines()\n"
      ],
      "metadata": {
        "id": "s5cxFUCT5tmx"
      },
      "execution_count": 6,
      "outputs": []
    },
    {
      "cell_type": "code",
      "source": [
        "train_lines = get_lines(filenames[1])"
      ],
      "metadata": {
        "id": "r3pQJ-w48rXV"
      },
      "execution_count": 7,
      "outputs": []
    },
    {
      "cell_type": "code",
      "source": [
        "#first twenty columns \n",
        "train_lines[:20]"
      ],
      "metadata": {
        "colab": {
          "base_uri": "https://localhost:8080/"
        },
        "id": "Dshpuc3k84hK",
        "outputId": "50152a1c-edef-4ad5-d710-e5a7832b9e84"
      },
      "execution_count": 8,
      "outputs": [
        {
          "output_type": "execute_result",
          "data": {
            "text/plain": [
              "['###24293578\\n',\n",
              " 'OBJECTIVE\\tTo investigate the efficacy of @ weeks of daily low-dose oral prednisolone in improving pain , mobility , and systemic low-grade inflammation in the short term and whether the effect would be sustained at @ weeks in older adults with moderate to severe knee osteoarthritis ( OA ) .\\n',\n",
              " 'METHODS\\tA total of @ patients with primary knee OA were randomized @:@ ; @ received @ mg/day of prednisolone and @ received placebo for @ weeks .\\n',\n",
              " 'METHODS\\tOutcome measures included pain reduction and improvement in function scores and systemic inflammation markers .\\n',\n",
              " 'METHODS\\tPain was assessed using the visual analog pain scale ( @-@ mm ) .\\n',\n",
              " 'METHODS\\tSecondary outcome measures included the Western Ontario and McMaster Universities Osteoarthritis Index scores , patient global assessment ( PGA ) of the severity of knee OA , and @-min walk distance ( @MWD ) .\\n',\n",
              " 'METHODS\\tSerum levels of interleukin @ ( IL-@ ) , IL-@ , tumor necrosis factor ( TNF ) - , and high-sensitivity C-reactive protein ( hsCRP ) were measured .\\n',\n",
              " 'RESULTS\\tThere was a clinically relevant reduction in the intervention group compared to the placebo group for knee pain , physical function , PGA , and @MWD at @ weeks .\\n',\n",
              " 'RESULTS\\tThe mean difference between treatment arms ( @ % CI ) was @ ( @-@ @ ) , p < @ ; @ ( @-@ @ ) , p < @ ; @ ( @-@ @ ) , p < @ ; and @ ( @-@ @ ) , p < @ , respectively .\\n',\n",
              " 'RESULTS\\tFurther , there was a clinically relevant reduction in the serum levels of IL-@ , IL-@ , TNF - , and hsCRP at @ weeks in the intervention group when compared to the placebo group .\\n',\n",
              " 'RESULTS\\tThese differences remained significant at @ weeks .\\n',\n",
              " 'RESULTS\\tThe Outcome Measures in Rheumatology Clinical Trials-Osteoarthritis Research Society International responder rate was @ % in the intervention group and @ % in the placebo group ( p < @ ) .\\n',\n",
              " 'CONCLUSIONS\\tLow-dose oral prednisolone had both a short-term and a longer sustained effect resulting in less knee pain , better physical function , and attenuation of systemic inflammation in older patients with knee OA ( ClinicalTrials.gov identifier NCT@ ) .\\n',\n",
              " '\\n',\n",
              " '###24854809\\n',\n",
              " 'BACKGROUND\\tEmotional eating is associated with overeating and the development of obesity .\\n',\n",
              " 'BACKGROUND\\tYet , empirical evidence for individual ( trait ) differences in emotional eating and cognitive mechanisms that contribute to eating during sad mood remain equivocal .\\n',\n",
              " 'OBJECTIVE\\tThe aim of this study was to test if attention bias for food moderates the effect of self-reported emotional eating during sad mood ( vs neutral mood ) on actual food intake .\\n',\n",
              " 'OBJECTIVE\\tIt was expected that emotional eating is predictive of elevated attention for food and higher food intake after an experimentally induced sad mood and that attentional maintenance on food predicts food intake during a sad versus a neutral mood .\\n',\n",
              " 'METHODS\\tParticipants ( N = @ ) were randomly assigned to one of the two experimental mood induction conditions ( sad/neutral ) .\\n']"
            ]
          },
          "metadata": {},
          "execution_count": 8
        }
      ]
    },
    {
      "cell_type": "code",
      "source": [
        "len(train_lines)"
      ],
      "metadata": {
        "colab": {
          "base_uri": "https://localhost:8080/"
        },
        "id": "U05WY67d9C3v",
        "outputId": "19bef8ca-acdc-47a9-b891-765266c3d691"
      },
      "execution_count": 9,
      "outputs": [
        {
          "output_type": "execute_result",
          "data": {
            "text/plain": [
              "210040"
            ]
          },
          "metadata": {},
          "execution_count": 9
        }
      ]
    },
    {
      "cell_type": "markdown",
      "source": [
        "Turning line of text into dictionary format\n",
        "\n",
        "{\"line number\": 0,\n",
        "\"target\" : \"Backround\",\n",
        "\"text\" : Emotional eating is associated with overeating and the development of obesity .\\n',\n",
        "\"total_line\" : 11}\n",
        "\n"
      ],
      "metadata": {
        "id": "mEHwDIjF-OnF"
      }
    },
    {
      "cell_type": "code",
      "source": [
        "def preprocess_text_with_line_numbers(filename):\n",
        "  \"\"\"Returns a list of dictionaries of abstract line data.\n",
        "\n",
        "  Takes in filename, reads its contents and sorts through each line,\n",
        "  extracting things like the target label, the text of the sentence,\n",
        "  how many sentences are in the current abstract and what sentence number\n",
        "  the target line is.\n",
        "\n",
        "  Args:\n",
        "      filename: a string of the target text file to read and extract line data\n",
        "      from.\n",
        "\n",
        "  Returns:\n",
        "      A list of dictionaries each containing a line from an abstract,\n",
        "      the lines label, the lines position in the abstract and the total number\n",
        "      of lines in the abstract where the line is from. For example:\n",
        "\n",
        "      [{\"target\": 'CONCLUSION',\n",
        "        \"text\": The study couldn't have gone better, turns out people are kinder than you think\",\n",
        "        \"line_number\": 8,\n",
        "        \"total_lines\": 8}]\n",
        "  \"\"\"\n",
        "  input_lines = get_lines(filename) # get all lines from filename\n",
        "  abstract_lines = \"\" # create an empty abstract\n",
        "  abstract_samples = [] # create an empty list of abstracts\n",
        "  \n",
        "  # Loop through each line in target file\n",
        "  for line in input_lines:\n",
        "    if line.startswith(\"###\"): # check to see if line is an ID line\n",
        "      abstract_id = line\n",
        "      abstract_lines = \"\" # reset abstract string\n",
        "    elif line.isspace(): # check to see if line is a new line\n",
        "      abstract_line_split = abstract_lines.splitlines() # split abstract into separate lines\n",
        "\n",
        "      # Iterate through each line in abstract and count them at the same time\n",
        "      for abstract_line_number, abstract_line in enumerate(abstract_line_split):\n",
        "        line_data = {} # create empty dict to store data from line\n",
        "        target_text_split = abstract_line.split(\"\\t\") # split target label from text\n",
        "        line_data[\"target\"] = target_text_split[0] # get target label\n",
        "        line_data[\"text\"] = target_text_split[1].lower() # get target text and lower it\n",
        "        line_data[\"line_number\"] = abstract_line_number # what number line does the line appear in the abstract?\n",
        "        line_data[\"total_lines\"] = len(abstract_line_split) - 1 # how many total lines are in the abstract? (start from 0)\n",
        "        abstract_samples.append(line_data) # add line data to abstract samples list\n",
        "    \n",
        "    else: # if the above conditions aren't fulfilled, the line contains a labelled sentence\n",
        "      abstract_lines += line\n",
        "  \n",
        "  return abstract_samples\n"
      ],
      "metadata": {
        "id": "ubmAnZvF9YE5"
      },
      "execution_count": 10,
      "outputs": []
    },
    {
      "cell_type": "code",
      "source": [
        "#preprocessing all the samples \n",
        "train_samples = preprocess_text_with_line_numbers(filenames[1])\n",
        "val_samples = preprocess_text_with_line_numbers(filenames[0])\n",
        "test_samples = preprocess_text_with_line_numbers(filenames[2])"
      ],
      "metadata": {
        "id": "jFWkLN_GUuMO"
      },
      "execution_count": 11,
      "outputs": []
    },
    {
      "cell_type": "code",
      "source": [
        "len(val_samples)"
      ],
      "metadata": {
        "colab": {
          "base_uri": "https://localhost:8080/"
        },
        "id": "ofX-B9qyVEO-",
        "outputId": "de1527d9-8f8a-43c2-8576-8eab6b38ffdd"
      },
      "execution_count": 12,
      "outputs": [
        {
          "output_type": "execute_result",
          "data": {
            "text/plain": [
              "30212"
            ]
          },
          "metadata": {},
          "execution_count": 12
        }
      ]
    },
    {
      "cell_type": "code",
      "source": [
        "#changing samples to dataframe \n",
        "import pandas as pd\n",
        "train_df = pd.DataFrame(train_samples)\n",
        "val_df = pd.DataFrame(val_samples)\n",
        "test_df = pd.DataFrame(test_samples)"
      ],
      "metadata": {
        "id": "IA8F3PT00Wve"
      },
      "execution_count": null,
      "outputs": []
    },
    {
      "cell_type": "code",
      "source": [
        "train_df.head()"
      ],
      "metadata": {
        "colab": {
          "base_uri": "https://localhost:8080/",
          "height": 206
        },
        "id": "Gxw7L2jXZp3L",
        "outputId": "0f4553f8-220a-45fd-e0f5-557c1899e6d6"
      },
      "execution_count": 14,
      "outputs": [
        {
          "output_type": "execute_result",
          "data": {
            "text/html": [
              "\n",
              "  <div id=\"df-35913b8c-a764-4900-9759-38daefd7cd43\">\n",
              "    <div class=\"colab-df-container\">\n",
              "      <div>\n",
              "<style scoped>\n",
              "    .dataframe tbody tr th:only-of-type {\n",
              "        vertical-align: middle;\n",
              "    }\n",
              "\n",
              "    .dataframe tbody tr th {\n",
              "        vertical-align: top;\n",
              "    }\n",
              "\n",
              "    .dataframe thead th {\n",
              "        text-align: right;\n",
              "    }\n",
              "</style>\n",
              "<table border=\"1\" class=\"dataframe\">\n",
              "  <thead>\n",
              "    <tr style=\"text-align: right;\">\n",
              "      <th></th>\n",
              "      <th>target</th>\n",
              "      <th>text</th>\n",
              "      <th>line_number</th>\n",
              "      <th>total_lines</th>\n",
              "    </tr>\n",
              "  </thead>\n",
              "  <tbody>\n",
              "    <tr>\n",
              "      <th>0</th>\n",
              "      <td>OBJECTIVE</td>\n",
              "      <td>to investigate the efficacy of @ weeks of dail...</td>\n",
              "      <td>0</td>\n",
              "      <td>11</td>\n",
              "    </tr>\n",
              "    <tr>\n",
              "      <th>1</th>\n",
              "      <td>METHODS</td>\n",
              "      <td>a total of @ patients with primary knee oa wer...</td>\n",
              "      <td>1</td>\n",
              "      <td>11</td>\n",
              "    </tr>\n",
              "    <tr>\n",
              "      <th>2</th>\n",
              "      <td>METHODS</td>\n",
              "      <td>outcome measures included pain reduction and i...</td>\n",
              "      <td>2</td>\n",
              "      <td>11</td>\n",
              "    </tr>\n",
              "    <tr>\n",
              "      <th>3</th>\n",
              "      <td>METHODS</td>\n",
              "      <td>pain was assessed using the visual analog pain...</td>\n",
              "      <td>3</td>\n",
              "      <td>11</td>\n",
              "    </tr>\n",
              "    <tr>\n",
              "      <th>4</th>\n",
              "      <td>METHODS</td>\n",
              "      <td>secondary outcome measures included the wester...</td>\n",
              "      <td>4</td>\n",
              "      <td>11</td>\n",
              "    </tr>\n",
              "  </tbody>\n",
              "</table>\n",
              "</div>\n",
              "      <button class=\"colab-df-convert\" onclick=\"convertToInteractive('df-35913b8c-a764-4900-9759-38daefd7cd43')\"\n",
              "              title=\"Convert this dataframe to an interactive table.\"\n",
              "              style=\"display:none;\">\n",
              "        \n",
              "  <svg xmlns=\"http://www.w3.org/2000/svg\" height=\"24px\"viewBox=\"0 0 24 24\"\n",
              "       width=\"24px\">\n",
              "    <path d=\"M0 0h24v24H0V0z\" fill=\"none\"/>\n",
              "    <path d=\"M18.56 5.44l.94 2.06.94-2.06 2.06-.94-2.06-.94-.94-2.06-.94 2.06-2.06.94zm-11 1L8.5 8.5l.94-2.06 2.06-.94-2.06-.94L8.5 2.5l-.94 2.06-2.06.94zm10 10l.94 2.06.94-2.06 2.06-.94-2.06-.94-.94-2.06-.94 2.06-2.06.94z\"/><path d=\"M17.41 7.96l-1.37-1.37c-.4-.4-.92-.59-1.43-.59-.52 0-1.04.2-1.43.59L10.3 9.45l-7.72 7.72c-.78.78-.78 2.05 0 2.83L4 21.41c.39.39.9.59 1.41.59.51 0 1.02-.2 1.41-.59l7.78-7.78 2.81-2.81c.8-.78.8-2.07 0-2.86zM5.41 20L4 18.59l7.72-7.72 1.47 1.35L5.41 20z\"/>\n",
              "  </svg>\n",
              "      </button>\n",
              "      \n",
              "  <style>\n",
              "    .colab-df-container {\n",
              "      display:flex;\n",
              "      flex-wrap:wrap;\n",
              "      gap: 12px;\n",
              "    }\n",
              "\n",
              "    .colab-df-convert {\n",
              "      background-color: #E8F0FE;\n",
              "      border: none;\n",
              "      border-radius: 50%;\n",
              "      cursor: pointer;\n",
              "      display: none;\n",
              "      fill: #1967D2;\n",
              "      height: 32px;\n",
              "      padding: 0 0 0 0;\n",
              "      width: 32px;\n",
              "    }\n",
              "\n",
              "    .colab-df-convert:hover {\n",
              "      background-color: #E2EBFA;\n",
              "      box-shadow: 0px 1px 2px rgba(60, 64, 67, 0.3), 0px 1px 3px 1px rgba(60, 64, 67, 0.15);\n",
              "      fill: #174EA6;\n",
              "    }\n",
              "\n",
              "    [theme=dark] .colab-df-convert {\n",
              "      background-color: #3B4455;\n",
              "      fill: #D2E3FC;\n",
              "    }\n",
              "\n",
              "    [theme=dark] .colab-df-convert:hover {\n",
              "      background-color: #434B5C;\n",
              "      box-shadow: 0px 1px 3px 1px rgba(0, 0, 0, 0.15);\n",
              "      filter: drop-shadow(0px 1px 2px rgba(0, 0, 0, 0.3));\n",
              "      fill: #FFFFFF;\n",
              "    }\n",
              "  </style>\n",
              "\n",
              "      <script>\n",
              "        const buttonEl =\n",
              "          document.querySelector('#df-35913b8c-a764-4900-9759-38daefd7cd43 button.colab-df-convert');\n",
              "        buttonEl.style.display =\n",
              "          google.colab.kernel.accessAllowed ? 'block' : 'none';\n",
              "\n",
              "        async function convertToInteractive(key) {\n",
              "          const element = document.querySelector('#df-35913b8c-a764-4900-9759-38daefd7cd43');\n",
              "          const dataTable =\n",
              "            await google.colab.kernel.invokeFunction('convertToInteractive',\n",
              "                                                     [key], {});\n",
              "          if (!dataTable) return;\n",
              "\n",
              "          const docLinkHtml = 'Like what you see? Visit the ' +\n",
              "            '<a target=\"_blank\" href=https://colab.research.google.com/notebooks/data_table.ipynb>data table notebook</a>'\n",
              "            + ' to learn more about interactive tables.';\n",
              "          element.innerHTML = '';\n",
              "          dataTable['output_type'] = 'display_data';\n",
              "          await google.colab.output.renderOutput(dataTable, element);\n",
              "          const docLink = document.createElement('div');\n",
              "          docLink.innerHTML = docLinkHtml;\n",
              "          element.appendChild(docLink);\n",
              "        }\n",
              "      </script>\n",
              "    </div>\n",
              "  </div>\n",
              "  "
            ],
            "text/plain": [
              "      target  ... total_lines\n",
              "0  OBJECTIVE  ...          11\n",
              "1    METHODS  ...          11\n",
              "2    METHODS  ...          11\n",
              "3    METHODS  ...          11\n",
              "4    METHODS  ...          11\n",
              "\n",
              "[5 rows x 4 columns]"
            ]
          },
          "metadata": {},
          "execution_count": 14
        }
      ]
    },
    {
      "cell_type": "code",
      "source": [
        "#distribution of target\n",
        "train_df.target.value_counts()"
      ],
      "metadata": {
        "colab": {
          "base_uri": "https://localhost:8080/"
        },
        "id": "Ey7BxoqZZswQ",
        "outputId": "b635bbd0-7e7b-4e60-97f9-6e9a0332dd92"
      },
      "execution_count": 15,
      "outputs": [
        {
          "output_type": "execute_result",
          "data": {
            "text/plain": [
              "METHODS        59353\n",
              "RESULTS        57953\n",
              "CONCLUSIONS    27168\n",
              "BACKGROUND     21727\n",
              "OBJECTIVE      13839\n",
              "Name: target, dtype: int64"
            ]
          },
          "metadata": {},
          "execution_count": 15
        }
      ]
    },
    {
      "cell_type": "code",
      "source": [
        "train_df.total_lines.plot.hist()"
      ],
      "metadata": {
        "colab": {
          "base_uri": "https://localhost:8080/",
          "height": 284
        },
        "id": "eAmne0KvgBx0",
        "outputId": "29f4c6a7-3ce8-4730-9910-f9747e54dfe3"
      },
      "execution_count": 16,
      "outputs": [
        {
          "output_type": "execute_result",
          "data": {
            "text/plain": [
              "<matplotlib.axes._subplots.AxesSubplot at 0x7f75f9e4fa90>"
            ]
          },
          "metadata": {},
          "execution_count": 16
        },
        {
          "output_type": "display_data",
          "data": {
            "image/png": "[encoded data removed]",
            "text/plain": [
              "<Figure size 432x288 with 1 Axes>"
            ]
          },
          "metadata": {
            "needs_background": "light"
          }
        }
      ]
    },
    {
      "cell_type": "code",
      "source": [
        "#one hot encoding \n",
        "import tensorflow as tf\n",
        "from sklearn.preprocessing import OneHotEncoder\n",
        "ohe = OneHotEncoder(sparse=False)\n",
        "train_labels_ohe = ohe.fit_transform(train_df['target'].to_numpy().reshape(-1,1))\n",
        "val_labels_ohe = ohe.transform(val_df['target'].to_numpy().reshape(-1,1))\n",
        "test_labels_ohe = ohe.transform(test_df['target'].to_numpy().reshape(-1,1))"
      ],
      "metadata": {
        "id": "20r4TygAgPtf"
      },
      "execution_count": 17,
      "outputs": []
    },
    {
      "cell_type": "code",
      "source": [
        "#label Encoder\n",
        "from sklearn.preprocessing import LabelEncoder\n",
        "label_encoder = LabelEncoder()\n",
        "train_labels_encoded = label_encoder.fit_transform(train_df['target'].to_numpy())\n",
        "val_labels_encoded = label_encoder.transform(val_df['target'].to_numpy())\n",
        "test_labels_encoded = label_encoder.transform(test_df['target'].to_numpy())\n",
        "\n",
        "train_labels_encoded"
      ],
      "metadata": {
        "colab": {
          "base_uri": "https://localhost:8080/"
        },
        "id": "1KHDV5-SiOEA",
        "outputId": "7439094a-6f87-4362-8d42-59404f9da19d"
      },
      "execution_count": 18,
      "outputs": [
        {
          "output_type": "execute_result",
          "data": {
            "text/plain": [
              "array([3, 2, 2, ..., 4, 1, 1])"
            ]
          },
          "metadata": {},
          "execution_count": 18
        }
      ]
    },
    {
      "cell_type": "code",
      "source": [
        "#mappping back to text\n",
        "label_encoder.classes_"
      ],
      "metadata": {
        "colab": {
          "base_uri": "https://localhost:8080/"
        },
        "id": "wNHQ49xgjImD",
        "outputId": "0de71d1c-7cb7-4181-9896-db525a159a91"
      },
      "execution_count": 28,
      "outputs": [
        {
          "output_type": "execute_result",
          "data": {
            "text/plain": [
              "array(['BACKGROUND', 'CONCLUSIONS', 'METHODS', 'OBJECTIVE', 'RESULTS'],\n",
              "      dtype=object)"
            ]
          },
          "metadata": {},
          "execution_count": 28
        }
      ]
    },
    {
      "cell_type": "code",
      "source": [
        ""
      ],
      "metadata": {
        "id": "yc1dkVJPlgLy"
      },
      "execution_count": null,
      "outputs": []
    },
    {
      "cell_type": "markdown",
      "source": [
        "Baseline Model\n",
        "Naive Bayes"
      ],
      "metadata": {
        "id": "hP8BzFuIllgL"
      }
    },
    {
      "cell_type": "code",
      "source": [
        " from sklearn.feature_extraction.text import TfidfVectorizer\n",
        " from sklearn.naive_bayes import MultinomialNB\n",
        " from sklearn.pipeline import Pipeline\n",
        "\n",
        "#creating model\n",
        "model = Pipeline([\n",
        "                  (\"tf\",TfidfVectorizer()),\n",
        "                  (\"clf\", MultinomialNB())\n",
        "\n",
        "\n",
        "])"
      ],
      "metadata": {
        "id": "_cNEEbC0lnYC"
      },
      "execution_count": 32,
      "outputs": []
    },
    {
      "cell_type": "code",
      "source": [
        "model.fit(X = train_df['text'], \n",
        "          y = train_labels_encoded)"
      ],
      "metadata": {
        "colab": {
          "base_uri": "https://localhost:8080/"
        },
        "id": "gcxSWI3suo4D",
        "outputId": "82ffd987-e73b-4673-cba1-5f0f1e8e5fd5"
      },
      "execution_count": 33,
      "outputs": [
        {
          "output_type": "execute_result",
          "data": {
            "text/plain": [
              "Pipeline(steps=[('tf', TfidfVectorizer()), ('clf', MultinomialNB())])"
            ]
          },
          "metadata": {},
          "execution_count": 33
        }
      ]
    },
    {
      "cell_type": "code",
      "source": [
        "#Accuracy of model\n",
        "model.score(val_df['text'], val_labels_encoded)"
      ],
      "metadata": {
        "colab": {
          "base_uri": "https://localhost:8080/"
        },
        "id": "pnbuPe8zvJ2W",
        "outputId": "531399f7-8f7e-4434-80ea-84f43ba9e498"
      },
      "execution_count": 34,
      "outputs": [
        {
          "output_type": "execute_result",
          "data": {
            "text/plain": [
              "0.7218323844829869"
            ]
          },
          "metadata": {},
          "execution_count": 34
        }
      ]
    },
    {
      "cell_type": "code",
      "source": [
        "#model predictions \n",
        "NB_pred =model.predict(val_df['text'])"
      ],
      "metadata": {
        "id": "eLWta0TWvWsY"
      },
      "execution_count": 35,
      "outputs": []
    },
    {
      "cell_type": "code",
      "source": [
        "def calculate_results(y_true, y_pred):\n",
        "  \"\"\"\n",
        "  Calculates model accuracy, precision, recall and f1 score of a binary classification model.\n",
        "\n",
        "  Args:\n",
        "      y_true: true labels in the form of a 1D array\n",
        "      y_pred: predicted labels in the form of a 1D array\n",
        "\n",
        "  Returns a dictionary of accuracy, precision, recall, f1-score.\n",
        "  \"\"\"\n",
        "  from sklearn.metrics import accuracy_score, precision_recall_fscore_support\n",
        "  # Calculate model accuracy\n",
        "  model_accuracy = accuracy_score(y_true, y_pred) * 100\n",
        "  # Calculate model precision, recall and f1 score using \"weighted average\n",
        "  model_precision, model_recall, model_f1, _ = precision_recall_fscore_support(y_true, y_pred, average=\"weighted\")\n",
        "  model_results = {\"accuracy\": model_accuracy,\n",
        "                  \"precision\": model_precision,\n",
        "                  \"recall\": model_recall,\n",
        "                  \"f1\": model_f1}\n",
        "  return model_results"
      ],
      "metadata": {
        "id": "UPne-E9_wPS9"
      },
      "execution_count": 19,
      "outputs": []
    },
    {
      "cell_type": "code",
      "source": [
        ""
      ],
      "metadata": {
        "id": "UzRqbnIGwg_3"
      },
      "execution_count": 40,
      "outputs": []
    },
    {
      "cell_type": "code",
      "source": [
        "NB_results = calculate_results(val_labels_encoded, NB_pred)"
      ],
      "metadata": {
        "id": "3UDgdRSEwwCT"
      },
      "execution_count": 43,
      "outputs": []
    },
    {
      "cell_type": "markdown",
      "source": [
        ""
      ],
      "metadata": {
        "id": "OS5-Mt8Q4AmN"
      }
    },
    {
      "cell_type": "code",
      "source": [
        "NB_results"
      ],
      "metadata": {
        "colab": {
          "base_uri": "https://localhost:8080/"
        },
        "id": "3xHKT1aUxEXu",
        "outputId": "5f4c2704-3985-4502-f5fa-baa7dee3a8db"
      },
      "execution_count": 44,
      "outputs": [
        {
          "output_type": "execute_result",
          "data": {
            "text/plain": [
              "{'accuracy': 72.1832384482987,\n",
              " 'f1': 0.6989250353450294,\n",
              " 'precision': 0.7186466952323352,\n",
              " 'recall': 0.7218323844829869}"
            ]
          },
          "metadata": {},
          "execution_count": 44
        }
      ]
    },
    {
      "cell_type": "code",
      "source": [
        "sen_len = []\n",
        "for i in train_df[\"text\"]:\n",
        "  sen_len.append(len(i.split(\" \")))"
      ],
      "metadata": {
        "id": "5vNfpVgOxMsG"
      },
      "execution_count": 54,
      "outputs": []
    },
    {
      "cell_type": "code",
      "source": [
        "import numpy as np"
      ],
      "metadata": {
        "id": "UL_4sNcEHoAk"
      },
      "execution_count": 58,
      "outputs": []
    },
    {
      "cell_type": "code",
      "source": [
        "#95% quantile of sentence length\n",
        "np.quantile(np.array(sen_len), 0.95)\n",
        "np.mean(np.array(sen_len))"
      ],
      "metadata": {
        "colab": {
          "base_uri": "https://localhost:8080/"
        },
        "id": "3YBXJLjsHyRg",
        "outputId": "ef2ef98b-9ee2-493a-f6d4-ed430d1b0fd3"
      },
      "execution_count": 62,
      "outputs": [
        {
          "output_type": "execute_result",
          "data": {
            "text/plain": [
              "26.338269273494777"
            ]
          },
          "metadata": {},
          "execution_count": 62
        }
      ]
    },
    {
      "cell_type": "markdown",
      "source": [
        "Tokenizing data"
      ],
      "metadata": {
        "id": "XQFhaSGqxhSw"
      }
    },
    {
      "cell_type": "code",
      "source": [
        "from tensorflow.keras.layers import TextVectorization"
      ],
      "metadata": {
        "id": "_Lxw3lbcxkII"
      },
      "execution_count": 20,
      "outputs": []
    },
    {
      "cell_type": "code",
      "source": [
        "#create text vectorizer \n",
        "text_vectoriser = TextVectorization(max_tokens=68000,\n",
        "                                    output_mode = \"int\",\n",
        "                                    output_sequence_length = 55\n",
        "\n",
        "\n",
        "                                    )"
      ],
      "metadata": {
        "id": "WPFloU3hymE5"
      },
      "execution_count": 21,
      "outputs": []
    },
    {
      "cell_type": "code",
      "source": [
        "#fitting vectorizer \n",
        "text_vectoriser.adapt(train_df[\"text\"])"
      ],
      "metadata": {
        "id": "Au5q9-UDy3KT"
      },
      "execution_count": 22,
      "outputs": []
    },
    {
      "cell_type": "code",
      "source": [
        ""
      ],
      "metadata": {
        "id": "1WsAf-U5zSe3"
      },
      "execution_count": 103,
      "outputs": []
    },
    {
      "cell_type": "markdown",
      "source": [
        "Simple feed forward Model"
      ],
      "metadata": {
        "id": "AxW9RZqTzbr-"
      }
    },
    {
      "cell_type": "code",
      "source": [
        "from tensorflow.keras.layers import GlobalAveragePooling1D, Dropout,Embedding, Dense, LSTM, Conv1D, concatenate, Input"
      ],
      "metadata": {
        "id": "xcdngTOszdjC"
      },
      "execution_count": 81,
      "outputs": []
    },
    {
      "cell_type": "code",
      "source": [
        "from tensorflow.keras.models import Model,Sequential"
      ],
      "metadata": {
        "id": "_tDyRRBg27yW"
      },
      "execution_count": 52,
      "outputs": []
    },
    {
      "cell_type": "code",
      "source": [
        "from tensorflow.python.distribute.distribution_strategy_context import variable_sync_on_read_context\n",
        "def build_model():\n",
        "  input_1 = Input(shape = (1,), dtype = tf.string)\n",
        "  input_2 = Input(shape = (2, ))\n",
        "\n",
        "  vtext = text_vectoriser(input_1)\n",
        "  vtext = Embedding(68000,512)(vtext)\n",
        "  vtext = Conv1D(64, 5, activation = \"relu\")(vtext)\n",
        "  vtext = GlobalAveragePooling1D()(vtext)\n",
        "  con = concatenate([input_2, vtext])\n",
        "\n",
        "  output = Dense(128, activation = \"relu\")(con)\n",
        "  output = Dense(5, activation = \"softmax\" )(output)\n",
        "\n",
        "\n",
        "  model = Model(inputs = [input_1, input_2], outputs = output)\n",
        "\n",
        "  model.compile(optimizer = 'rmsprop', loss = 'sparse_categorical_crossentropy', metrics = 'accuracy')\n",
        "  return model\n",
        "\n"
      ],
      "metadata": {
        "id": "zxUW92w53FHP"
      },
      "execution_count": 37,
      "outputs": []
    },
    {
      "cell_type": "code",
      "source": [
        "ff_model = build_model()"
      ],
      "metadata": {
        "id": "mNz7jGbTMTcl"
      },
      "execution_count": 38,
      "outputs": []
    },
    {
      "cell_type": "code",
      "source": [
        "ff_model.fit(x =[train_df['text'], train_df[['total_lines',\"line_number\"]]],\n",
        "             y = train_labels_encoded,epochs =5,\n",
        "             validation_data = ([val_df['text'], val_df[['total_lines',\"line_number\"]]], val_labels_encoded))"
      ],
      "metadata": {
        "colab": {
          "base_uri": "https://localhost:8080/"
        },
        "id": "5ALXEF4gMhNR",
        "outputId": "f8ea05f2-dc7f-4a76-b040-2e3dc66535d8"
      },
      "execution_count": 41,
      "outputs": [
        {
          "output_type": "stream",
          "name": "stdout",
          "text": [
            "Epoch 1/5\n",
            "5627/5627 [==============================] - 48s 9ms/step - loss: 0.3263 - accuracy: 0.8803 - val_loss: 0.3102 - val_accuracy: 0.8870\n",
            "Epoch 2/5\n",
            "5627/5627 [==============================] - 46s 8ms/step - loss: 0.2951 - accuracy: 0.8938 - val_loss: 0.3025 - val_accuracy: 0.8913\n",
            "Epoch 3/5\n",
            "5627/5627 [==============================] - 46s 8ms/step - loss: 0.2785 - accuracy: 0.9024 - val_loss: 0.3147 - val_accuracy: 0.8883\n",
            "Epoch 4/5\n",
            "5627/5627 [==============================] - 48s 9ms/step - loss: 0.2642 - accuracy: 0.9088 - val_loss: 0.3157 - val_accuracy: 0.8858\n",
            "Epoch 5/5\n",
            "5627/5627 [==============================] - 46s 8ms/step - loss: 0.2506 - accuracy: 0.9154 - val_loss: 0.3375 - val_accuracy: 0.8758\n"
          ]
        },
        {
          "output_type": "execute_result",
          "data": {
            "text/plain": [
              "<keras.callbacks.History at 0x7f74dc08d790>"
            ]
          },
          "metadata": {},
          "execution_count": 41
        }
      ]
    },
    {
      "cell_type": "code",
      "source": [
        "\n",
        "#Feed forward predictions\n",
        "ff_preds =tf.argmax(ff_model.predict([test_df['text'], test_df[['total_lines',\"line_number\"]]]), axis = 1)"
      ],
      "metadata": {
        "id": "9mooJUMNNQAB"
      },
      "execution_count": 45,
      "outputs": []
    },
    {
      "cell_type": "code",
      "source": [
        "#results on test data \n",
        "calculate_results(test_labels_encoded, ff_preds)\n"
      ],
      "metadata": {
        "colab": {
          "base_uri": "https://localhost:8080/"
        },
        "id": "vdpkv-H5NwMU",
        "outputId": "c58f5330-c29a-44d1-a232-e2ebf5e715b2"
      },
      "execution_count": 46,
      "outputs": [
        {
          "output_type": "execute_result",
          "data": {
            "text/plain": [
              "{'accuracy': 87.33698357391737,\n",
              " 'f1': 0.8715814348737815,\n",
              " 'precision': 0.874008180394455,\n",
              " 'recall': 0.8733698357391737}"
            ]
          },
          "metadata": {},
          "execution_count": 46
        }
      ]
    },
    {
      "cell_type": "code",
      "source": [
        ""
      ],
      "metadata": {
        "id": "vH-QNpAQPE9H"
      },
      "execution_count": null,
      "outputs": []
    },
    {
      "cell_type": "markdown",
      "source": [
        "Transfer Learning, universal sentene encoder"
      ],
      "metadata": {
        "id": "D4M6KzdxATfi"
      }
    },
    {
      "cell_type": "code",
      "source": [
        "import tensorflow_hub as hub"
      ],
      "metadata": {
        "id": "4nWjtdYFAc0v"
      },
      "execution_count": 49,
      "outputs": []
    },
    {
      "cell_type": "code",
      "source": [
        "#download pretrained model\n",
        "sentence_encoder_layer = hub.KerasLayer(\"https://tfhub.dev/google/universal-sentence-encoder/4\", \n",
        "                                        input_shape =[],\n",
        "                                        dtype = tf.string,\n",
        "                                        name = \"badboy\")"
      ],
      "metadata": {
        "id": "g4CzbO-eAVqx"
      },
      "execution_count": 50,
      "outputs": []
    },
    {
      "cell_type": "code",
      "source": [
        "trained_emb_model = Sequential([sentence_encoder_layer,\n",
        "                                ])"
      ],
      "metadata": {
        "id": "_oK1vO7_Abrx"
      },
      "execution_count": 53,
      "outputs": []
    },
    {
      "cell_type": "code",
      "source": [
        "from tensorflow.python.keras.layers.pooling import GlobalMaxPooling1D\n",
        "def build_model():\n",
        "  input_1 = Input(shape = (), dtype = tf.string)\n",
        "  input_2 = Input(shape = (2, ))\n",
        "\n",
        "  \n",
        "  vtext = trained_emb_model(input_1)\n",
        "  con = concatenate([input_2, vtext])\n",
        "\n",
        "  output = Dense(128, activation = \"relu\")(con)\n",
        "  output = Dense(5, activation = \"softmax\" )(output)\n",
        "\n",
        "\n",
        "  model = Model(inputs = [input_1, input_2], outputs = output)\n",
        "\n",
        "  model.compile(optimizer = 'rmsprop', loss = 'sparse_categorical_crossentropy', metrics = 'accuracy')\n",
        "  return model\n"
      ],
      "metadata": {
        "id": "9TjSAdY3A0H8"
      },
      "execution_count": 69,
      "outputs": []
    },
    {
      "cell_type": "code",
      "source": [
        "tf_model = build_model()"
      ],
      "metadata": {
        "id": "2CgBjP4MBLTj"
      },
      "execution_count": 70,
      "outputs": []
    },
    {
      "cell_type": "code",
      "source": [
        "tf_model.fit(x =[train_df['text'], train_df[['total_lines',\"line_number\"]]],\n",
        "             y = train_labels_encoded,epochs =5,\n",
        "             validation_data = ([val_df['text'], val_df[['total_lines',\"line_number\"]]], val_labels_encoded))"
      ],
      "metadata": {
        "colab": {
          "base_uri": "https://localhost:8080/"
        },
        "id": "OOm_E4N2BYPF",
        "outputId": "46034f48-5a91-46f6-844d-d995af3f4c7e"
      },
      "execution_count": 71,
      "outputs": [
        {
          "output_type": "stream",
          "name": "stdout",
          "text": [
            "Epoch 1/5\n",
            "5627/5627 [==============================] - 82s 14ms/step - loss: 0.4278 - accuracy: 0.8361 - val_loss: 0.3838 - val_accuracy: 0.8516\n",
            "Epoch 2/5\n",
            "5627/5627 [==============================] - 77s 14ms/step - loss: 0.3714 - accuracy: 0.8565 - val_loss: 0.3775 - val_accuracy: 0.8500\n",
            "Epoch 3/5\n",
            "5627/5627 [==============================] - 80s 14ms/step - loss: 0.3534 - accuracy: 0.8637 - val_loss: 0.3526 - val_accuracy: 0.8637\n",
            "Epoch 4/5\n",
            "5627/5627 [==============================] - 77s 14ms/step - loss: 0.3412 - accuracy: 0.8692 - val_loss: 0.3524 - val_accuracy: 0.8657\n",
            "Epoch 5/5\n",
            "5627/5627 [==============================] - 76s 14ms/step - loss: 0.3325 - accuracy: 0.8740 - val_loss: 0.3452 - val_accuracy: 0.8675\n"
          ]
        },
        {
          "output_type": "execute_result",
          "data": {
            "text/plain": [
              "<keras.callbacks.History at 0x7f73a0406d50>"
            ]
          },
          "metadata": {},
          "execution_count": 71
        }
      ]
    },
    {
      "cell_type": "code",
      "source": [
        "tf_preds =tf.argmax(tf_model.predict([test_df['text'], test_df[['total_lines',\"line_number\"]]]), axis = 1)"
      ],
      "metadata": {
        "id": "wSWpC_QJFL8M"
      },
      "execution_count": 73,
      "outputs": []
    },
    {
      "cell_type": "code",
      "source": [
        "calculate_results(test_labels_encoded, tf_preds)"
      ],
      "metadata": {
        "colab": {
          "base_uri": "https://localhost:8080/"
        },
        "id": "-WLSuvlzGiBv",
        "outputId": "57dfbcf6-505c-4fa5-b9f6-32a8358d6480"
      },
      "execution_count": 74,
      "outputs": [
        {
          "output_type": "execute_result",
          "data": {
            "text/plain": [
              "{'accuracy': 86.41114982578398,\n",
              " 'f1': 0.8626788648522942,\n",
              " 'precision': 0.862682222426271,\n",
              " 'recall': 0.8641114982578397}"
            ]
          },
          "metadata": {},
          "execution_count": 74
        }
      ]
    },
    {
      "cell_type": "code",
      "source": [
        "#making it trainable\n",
        "sentence_encoder_layer = hub.KerasLayer(\"https://tfhub.dev/google/universal-sentence-encoder/4\", \n",
        "                                        input_shape =[],\n",
        "                                        dtype = tf.string,\n",
        "                                        trainable= True,\n",
        "                                        name = \"badboy\")"
      ],
      "metadata": {
        "id": "Xo3Ew0LIGnIP"
      },
      "execution_count": 76,
      "outputs": []
    },
    {
      "cell_type": "code",
      "source": [
        "from tensorflow.python.keras.layers.pooling import GlobalMaxPooling1D\n",
        "def build_model():\n",
        "  input_1 = Input(shape = (), dtype = tf.string)\n",
        "  input_2 = Input(shape = (2, ))\n",
        "\n",
        "  \n",
        "  vtext = trained_emb_model(input_1)\n",
        "  con = concatenate([input_2, vtext])\n",
        "\n",
        "  output = Dense(128, activation = \"relu\")(con)\n",
        "  output = Dense(5, activation = \"softmax\" )(output)\n",
        "\n",
        "\n",
        "  model = Model(inputs = [input_1, input_2], outputs = output)\n",
        "\n",
        "  model.compile(optimizer = 'rmsprop', loss = 'sparse_categorical_crossentropy', metrics = 'accuracy')\n",
        "  return model\n"
      ],
      "metadata": {
        "id": "H5hr1odGHyXY"
      },
      "execution_count": 77,
      "outputs": []
    },
    {
      "cell_type": "code",
      "source": [
        "ttf_model = build_model()"
      ],
      "metadata": {
        "id": "Eb3Y9i54H6qB"
      },
      "execution_count": 78,
      "outputs": []
    },
    {
      "cell_type": "code",
      "source": [
        "ttf_model.fit(x =[train_df['text'], train_df[['total_lines',\"line_number\"]]],\n",
        "             y = train_labels_encoded,epochs =5,\n",
        "             validation_data = ([val_df['text'], val_df[['total_lines',\"line_number\"]]], val_labels_encoded))"
      ],
      "metadata": {
        "colab": {
          "base_uri": "https://localhost:8080/"
        },
        "id": "3Sth3NCpH90y",
        "outputId": "fe1ffa02-0517-4ec0-91a5-e4a8db7f4836"
      },
      "execution_count": 79,
      "outputs": [
        {
          "output_type": "stream",
          "name": "stdout",
          "text": [
            "Epoch 1/5\n",
            "5627/5627 [==============================] - 80s 14ms/step - loss: 0.4322 - accuracy: 0.8343 - val_loss: 0.3860 - val_accuracy: 0.8499\n",
            "Epoch 2/5\n",
            "5627/5627 [==============================] - 77s 14ms/step - loss: 0.3751 - accuracy: 0.8554 - val_loss: 0.3630 - val_accuracy: 0.8616\n",
            "Epoch 3/5\n",
            "5627/5627 [==============================] - 78s 14ms/step - loss: 0.3561 - accuracy: 0.8636 - val_loss: 0.3546 - val_accuracy: 0.8636\n",
            "Epoch 4/5\n",
            "5627/5627 [==============================] - 78s 14ms/step - loss: 0.3439 - accuracy: 0.8690 - val_loss: 0.3565 - val_accuracy: 0.8643\n",
            "Epoch 5/5\n",
            "5627/5627 [==============================] - 80s 14ms/step - loss: 0.3345 - accuracy: 0.8733 - val_loss: 0.3450 - val_accuracy: 0.8685\n"
          ]
        },
        {
          "output_type": "execute_result",
          "data": {
            "text/plain": [
              "<keras.callbacks.History at 0x7f74dce2a090>"
            ]
          },
          "metadata": {},
          "execution_count": 79
        }
      ]
    },
    {
      "cell_type": "code",
      "source": [
        ""
      ],
      "metadata": {
        "id": "oGtunMoRJny0"
      },
      "execution_count": null,
      "outputs": []
    },
    {
      "cell_type": "code",
      "source": [
        "#making it trainable\n",
        "sentence_encoder_layer = hub.KerasLayer(\"https://tfhub.dev/google/universal-sentence-encoder/4\", \n",
        "                                        input_shape =[],\n",
        "                                        dtype = tf.string,\n",
        "                                        trainable= False,\n",
        "                                        name = \"badboy\")"
      ],
      "metadata": {
        "id": "ZJ9_uC-HKT0f"
      },
      "execution_count": 87,
      "outputs": []
    },
    {
      "cell_type": "code",
      "source": [
        "#dropout \n",
        "def build_model():\n",
        "  input_1 = Input(shape = (), dtype = tf.string)\n",
        "  input_2 = Input(shape = (2, ))\n",
        "\n",
        "  \n",
        "  vtext = trained_emb_model(input_1)\n",
        "  con = concatenate([input_2, vtext])\n",
        "\n",
        "  output = Dense(128, activation = \"relu\")(con)\n",
        "  output = Dropout(0.3)(output)\n",
        "  output = Dense(5, activation = \"softmax\" )(output)\n",
        "\n",
        "\n",
        "  model = Model(inputs = [input_1, input_2], outputs = output)\n",
        "\n",
        "  model.compile(optimizer = 'rmsprop', loss = 'sparse_categorical_crossentropy', metrics = 'accuracy')\n",
        "  return model\n"
      ],
      "metadata": {
        "id": "NELMxP6LKUFC"
      },
      "execution_count": 88,
      "outputs": []
    },
    {
      "cell_type": "code",
      "source": [
        "dttf_model = build_model()"
      ],
      "metadata": {
        "id": "cF-Lg2ahKf_u"
      },
      "execution_count": 89,
      "outputs": []
    },
    {
      "cell_type": "code",
      "source": [
        "dttf_model.fit(x =[train_df['text'], train_df[['total_lines',\"line_number\"]]],\n",
        "             y = train_labels_encoded,epochs =5,\n",
        "             validation_data = ([val_df['text'], val_df[['total_lines',\"line_number\"]]], val_labels_encoded))"
      ],
      "metadata": {
        "colab": {
          "base_uri": "https://localhost:8080/"
        },
        "id": "uLBY3Bv6Kk8G",
        "outputId": "5c96cd8d-0335-4ebe-c5fb-fa10333cc8f9"
      },
      "execution_count": 90,
      "outputs": [
        {
          "output_type": "stream",
          "name": "stdout",
          "text": [
            "Epoch 1/5\n",
            "5627/5627 [==============================] - 84s 15ms/step - loss: 0.4601 - accuracy: 0.8247 - val_loss: 0.3791 - val_accuracy: 0.8548\n",
            "Epoch 2/5\n",
            "5627/5627 [==============================] - 82s 15ms/step - loss: 0.3966 - accuracy: 0.8499 - val_loss: 0.3735 - val_accuracy: 0.8589\n",
            "Epoch 3/5\n",
            "5627/5627 [==============================] - 82s 14ms/step - loss: 0.3854 - accuracy: 0.8558 - val_loss: 0.3575 - val_accuracy: 0.8639\n",
            "Epoch 4/5\n",
            "5627/5627 [==============================] - 81s 14ms/step - loss: 0.3789 - accuracy: 0.8590 - val_loss: 0.3625 - val_accuracy: 0.8663\n",
            "Epoch 5/5\n",
            "5627/5627 [==============================] - 85s 15ms/step - loss: 0.3755 - accuracy: 0.8617 - val_loss: 0.3617 - val_accuracy: 0.8656\n"
          ]
        },
        {
          "output_type": "execute_result",
          "data": {
            "text/plain": [
              "<keras.callbacks.History at 0x7f73a1b61050>"
            ]
          },
          "metadata": {},
          "execution_count": 90
        }
      ]
    },
    {
      "cell_type": "code",
      "source": [
        ""
      ],
      "metadata": {
        "id": "F77ti6EWKvtI"
      },
      "execution_count": null,
      "outputs": []
    },
    {
      "cell_type": "markdown",
      "source": [
        "Character Embeddings "
      ],
      "metadata": {
        "id": "ECALppPcMd0B"
      }
    },
    {
      "cell_type": "code",
      "source": [
        "#make fuction to split sentences in characters \n",
        "def split_cha(text):\n",
        "  return \" \".join(list(text))\n",
        "import pandas as pd  \n",
        "#spliting data texts into characters \n",
        "train_char = pd.Series([split_cha(text) for text in train_df['text']])\n",
        "val_char = pd.Series([split_cha(text) for text in val_df['text']])\n",
        "test_char  = pd.Series([split_cha(text) for text in test_df['text']])"
      ],
      "metadata": {
        "id": "5nb4Z6mIMfW-"
      },
      "execution_count": 109,
      "outputs": []
    },
    {
      "cell_type": "code",
      "source": [
        "#average character sentence length \n",
        "np.quantile([len(sen.split(\" \")) for sen in train_char], 0.95)"
      ],
      "metadata": {
        "colab": {
          "base_uri": "https://localhost:8080/"
        },
        "id": "gij6tPUoPK86",
        "outputId": "09fbc519-8219-4e5c-ee06-f3ed3155e434"
      },
      "execution_count": 110,
      "outputs": [
        {
          "output_type": "execute_result",
          "data": {
            "text/plain": [
              "342.0"
            ]
          },
          "metadata": {},
          "execution_count": 110
        }
      ]
    },
    {
      "cell_type": "code",
      "source": [
        "train_char[0]"
      ],
      "metadata": {
        "colab": {
          "base_uri": "https://localhost:8080/",
          "height": 140
        },
        "id": "jcdgsSsKNji8",
        "outputId": "a83091ee-804f-481a-e695-deece0449df9"
      },
      "execution_count": 111,
      "outputs": [
        {
          "output_type": "execute_result",
          "data": {
            "application/vnd.google.colaboratory.intrinsic+json": {
              "type": "string"
            },
            "text/plain": [
              "'t o   i n v e s t i g a t e   t h e   e f f i c a c y   o f   @   w e e k s   o f   d a i l y   l o w - d o s e   o r a l   p r e d n i s o l o n e   i n   i m p r o v i n g   p a i n   ,   m o b i l i t y   ,   a n d   s y s t e m i c   l o w - g r a d e   i n f l a m m a t i o n   i n   t h e   s h o r t   t e r m   a n d   w h e t h e r   t h e   e f f e c t   w o u l d   b e   s u s t a i n e d   a t   @   w e e k s   i n   o l d e r   a d u l t s   w i t h   m o d e r a t e   t o   s e v e r e   k n e e   o s t e o a r t h r i t i s   (   o a   )   .'"
            ]
          },
          "metadata": {},
          "execution_count": 111
        }
      ]
    },
    {
      "cell_type": "code",
      "source": [
        "import string\n",
        "alphabet = string.ascii_lowercase + string.digits + string.punctuation\n",
        "len(alphabet)"
      ],
      "metadata": {
        "colab": {
          "base_uri": "https://localhost:8080/"
        },
        "id": "4cLH_bEeUX2-",
        "outputId": "50a87ae5-6e58-4928-b1e0-2d3096cdab37"
      },
      "execution_count": 120,
      "outputs": [
        {
          "output_type": "execute_result",
          "data": {
            "text/plain": [
              "68"
            ]
          },
          "metadata": {},
          "execution_count": 120
        }
      ]
    },
    {
      "cell_type": "code",
      "source": [
        "#creating character vectorizer\n",
        "char_vectoriser = TextVectorization(max_tokens=70,\n",
        "                                    output_mode = \"int\",\n",
        "                                    output_sequence_length = 342,\n",
        "\n",
        "\n",
        "                                    )"
      ],
      "metadata": {
        "id": "OQPIFjlSOCAB"
      },
      "execution_count": 122,
      "outputs": []
    },
    {
      "cell_type": "code",
      "source": [
        "#creating model \n",
        "def build_model():\n",
        "  input_1 = Input(shape = (1,), dtype = tf.string)\n",
        "  \n",
        "  input_2 = Input(shape = (2, ))\n",
        "\n",
        "  input_3 = Input(shape =(1,), dtype = tf.string)\n",
        "\n",
        "  vtext = text_vectoriser(input_1)\n",
        "  vtext = Embedding(68000,512)(vtext)\n",
        "  vtext = Conv1D(64, 5, activation = \"relu\")(vtext)\n",
        "  vtext = GlobalAveragePooling1D()(vtext)\n",
        "\n",
        "  ctext = text_vectoriser(input_3)\n",
        "  ctext = Embedding(28,512)(ctext)\n",
        "  ctext = Conv1D(64,5,activation = \"relu\")(ctext)\n",
        "  ctext = GlobalMaxPooling1D()(ctext)\n",
        "\n",
        "\n",
        "  con = concatenate([input_2, vtext, ctext], axis = 1)\n",
        "  output = Dense(64, activation = \"relu\")(con)\n",
        "\n",
        "  output = Dense(5, activation = \"softmax\" )(output)\n",
        "\n",
        "\n",
        "  model = Model(inputs = [input_1, input_2, input_3], outputs = output)\n",
        "\n",
        "  model.compile(optimizer = 'rmsprop', loss = 'sparse_categorical_crossentropy', metrics = 'accuracy')\n",
        "  return model"
      ],
      "metadata": {
        "id": "XV5xQ-L6O4hu"
      },
      "execution_count": 155,
      "outputs": []
    },
    {
      "cell_type": "code",
      "source": [
        "cff_model = build_model(\n",
        ")"
      ],
      "metadata": {
        "id": "ura10T4QQXP3"
      },
      "execution_count": 156,
      "outputs": []
    },
    {
      "cell_type": "code",
      "source": [
        "cff_model.fit(x =[train_df['text'], train_df[['total_lines',\"line_number\"]], train_char],\n",
        "             y = train_labels_encoded,epochs =5,\n",
        "             validation_data = ([val_df['text'], val_df[['total_lines',\"line_number\"]], val_char], val_labels_encoded))"
      ],
      "metadata": {
        "colab": {
          "base_uri": "https://localhost:8080/"
        },
        "id": "TE7mTuyvQiDD",
        "outputId": "7cfa5ca3-587c-4b3a-e47e-fa119198eff7"
      },
      "execution_count": 157,
      "outputs": [
        {
          "output_type": "stream",
          "name": "stdout",
          "text": [
            "Epoch 1/5\n",
            "5627/5627 [==============================] - 58s 10ms/step - loss: 0.3739 - accuracy: 0.8618 - val_loss: 0.3144 - val_accuracy: 0.8844\n",
            "Epoch 2/5\n",
            "5627/5627 [==============================] - 56s 10ms/step - loss: 0.3022 - accuracy: 0.8909 - val_loss: 0.3295 - val_accuracy: 0.8822\n",
            "Epoch 3/5\n",
            "5627/5627 [==============================] - 55s 10ms/step - loss: 0.2837 - accuracy: 0.8986 - val_loss: 0.3126 - val_accuracy: 0.8857\n",
            "Epoch 4/5\n",
            "5627/5627 [==============================] - 55s 10ms/step - loss: 0.2686 - accuracy: 0.9056 - val_loss: 0.3179 - val_accuracy: 0.8850\n",
            "Epoch 5/5\n",
            "5627/5627 [==============================] - 55s 10ms/step - loss: 0.2551 - accuracy: 0.9115 - val_loss: 0.3176 - val_accuracy: 0.8834\n"
          ]
        },
        {
          "output_type": "execute_result",
          "data": {
            "text/plain": [
              "<keras.callbacks.History at 0x7f739aa34290>"
            ]
          },
          "metadata": {},
          "execution_count": 157
        }
      ]
    },
    {
      "cell_type": "code",
      "source": [
        "#model prediction\n",
        "cff_pred = tf.argmax(cff_model.predict([test_df['text'], test_df[['total_lines',\"line_number\"]], test_char]), axis = 1)"
      ],
      "metadata": {
        "id": "nyqc-nGUV0Wg"
      },
      "execution_count": 130,
      "outputs": []
    },
    {
      "cell_type": "code",
      "source": [
        "#model performance \n",
        "calculate_results(test_labels_encoded, cff_pred)"
      ],
      "metadata": {
        "colab": {
          "base_uri": "https://localhost:8080/"
        },
        "id": "5YMPjaoHWvLk",
        "outputId": "3492454c-1012-4ed5-9076-5d30cb95fdc2"
      },
      "execution_count": 131,
      "outputs": [
        {
          "output_type": "execute_result",
          "data": {
            "text/plain": [
              "{'accuracy': 88.27277252364361,\n",
              " 'f1': 0.8771780211084232,\n",
              " 'precision': 0.889077038037158,\n",
              " 'recall': 0.8827277252364361}"
            ]
          },
          "metadata": {},
          "execution_count": 131
        }
      ]
    },
    {
      "cell_type": "code",
      "source": [
        ""
      ],
      "metadata": {
        "id": "5WOx6-5Mg-FG"
      },
      "execution_count": null,
      "outputs": []
    },
    {
      "cell_type": "markdown",
      "source": [
        "Adding character embeding seems to not be improving results"
      ],
      "metadata": {
        "id": "WgkSE4Bvg4nL"
      }
    },
    {
      "cell_type": "code",
      "source": [
        ""
      ],
      "metadata": {
        "id": "Av8WvRNdg9Ra"
      },
      "execution_count": null,
      "outputs": []
    }
  ]
}
