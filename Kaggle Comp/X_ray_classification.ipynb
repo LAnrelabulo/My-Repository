{
  "nbformat": 4,
  "nbformat_minor": 0,
  "metadata": {
    "colab": {
      "name": "X-ray classification.ipynb",
      "provenance": [],
      "collapsed_sections": [],
      "machine_shape": "hm"
    },
    "kernelspec": {
      "name": "python3",
      "display_name": "Python 3"
    },
    "language_info": {
      "name": "python"
    },
    "accelerator": "GPU"
  },
  "cells": [
    {
      "cell_type": "markdown",
      "metadata": {
        "id": "bj8ydqS4vRLT"
      },
      "source": [
        "**Aim is to classify chest X-Rays as pneumonic or healthy**\n"
      ]
    },
    {
      "cell_type": "markdown",
      "metadata": {
        "id": "-mMFshIJt-E0"
      },
      "source": [
        "Getting the data"
      ]
    },
    {
      "cell_type": "code",
      "metadata": {
        "colab": {
          "base_uri": "https://localhost:8080/"
        },
        "id": "Gn3TBajc5Yxg",
        "outputId": "2f2d5fd6-a5e1-4223-fc08-ad8c0927f26e"
      },
      "source": [
        "! ! pip install kaggle\n"
      ],
      "execution_count": 81,
      "outputs": [
        {
          "output_type": "stream",
          "name": "stdout",
          "text": [
            "Requirement already satisfied: kaggle in /usr/local/lib/python3.7/dist-packages (1.5.12)\n",
            "Requirement already satisfied: six>=1.10 in /usr/local/lib/python3.7/dist-packages (from kaggle) (1.15.0)\n",
            "Requirement already satisfied: requests in /usr/local/lib/python3.7/dist-packages (from kaggle) (2.23.0)\n",
            "Requirement already satisfied: urllib3 in /usr/local/lib/python3.7/dist-packages (from kaggle) (1.24.3)\n",
            "Requirement already satisfied: python-dateutil in /usr/local/lib/python3.7/dist-packages (from kaggle) (2.8.2)\n",
            "Requirement already satisfied: python-slugify in /usr/local/lib/python3.7/dist-packages (from kaggle) (5.0.2)\n",
            "Requirement already satisfied: certifi in /usr/local/lib/python3.7/dist-packages (from kaggle) (2021.10.8)\n",
            "Requirement already satisfied: tqdm in /usr/local/lib/python3.7/dist-packages (from kaggle) (4.62.3)\n",
            "Requirement already satisfied: text-unidecode>=1.3 in /usr/local/lib/python3.7/dist-packages (from python-slugify->kaggle) (1.3)\n",
            "Requirement already satisfied: idna<3,>=2.5 in /usr/local/lib/python3.7/dist-packages (from requests->kaggle) (2.10)\n",
            "Requirement already satisfied: chardet<4,>=3.0.2 in /usr/local/lib/python3.7/dist-packages (from requests->kaggle) (3.0.4)\n"
          ]
        }
      ]
    },
    {
      "cell_type": "code",
      "metadata": {
        "id": "JYwP0x0U5vJv",
        "colab": {
          "base_uri": "https://localhost:8080/"
        },
        "outputId": "3d024a24-3190-4c09-a4f4-9c55730ee87d"
      },
      "source": [
        "!mkdir ~/.kaggle"
      ],
      "execution_count": 82,
      "outputs": [
        {
          "output_type": "stream",
          "name": "stdout",
          "text": [
            "mkdir: cannot create directory ‘/root/.kaggle’: File exists\n"
          ]
        }
      ]
    },
    {
      "cell_type": "code",
      "metadata": {
        "id": "DkaIXB6D6qFK"
      },
      "source": [
        "!cp kaggle.json ~/.kaggle/"
      ],
      "execution_count": 83,
      "outputs": []
    },
    {
      "cell_type": "code",
      "metadata": {
        "id": "Qf6e3Hmo6t1t"
      },
      "source": [
        "! chmod 600 ~/.kaggle/kaggle.json"
      ],
      "execution_count": 84,
      "outputs": []
    },
    {
      "cell_type": "code",
      "metadata": {
        "colab": {
          "base_uri": "https://localhost:8080/"
        },
        "id": "maQ-xZGx62PE",
        "outputId": "c423425e-e931-4ef0-a01a-af2d8ff56e58"
      },
      "source": [
        "! kaggle datasets download paultimothymooney/chest-xray-pneumonia"
      ],
      "execution_count": 85,
      "outputs": [
        {
          "output_type": "stream",
          "name": "stdout",
          "text": [
            "chest-xray-pneumonia.zip: Skipping, found more recently modified local copy (use --force to force download)\n"
          ]
        }
      ]
    },
    {
      "cell_type": "code",
      "metadata": {
        "id": "2umCbNJG7JfN",
        "colab": {
          "base_uri": "https://localhost:8080/"
        },
        "outputId": "6327d3a0-a31a-4c38-f16e-a9c7c4e786fc"
      },
      "source": [
        "#@title Unzip\n",
        "! unzip chest-xray-pneumonia.zip"
      ],
      "execution_count": 87,
      "outputs": [
        {
          "output_type": "stream",
          "name": "stdout",
          "text": [
            "Archive:  chest-xray-pneumonia.zip\n",
            "replace chest_xray/__MACOSX/._chest_xray? [y]es, [n]o, [A]ll, [N]one, [r]ename: "
          ]
        }
      ]
    },
    {
      "cell_type": "code",
      "metadata": {
        "colab": {
          "base_uri": "https://localhost:8080/"
        },
        "id": "AuuhBm6W7x3D",
        "outputId": "1aba38e4-2118-4dee-95dd-340e69c5d7d3"
      },
      "source": [
        "#getting some useful custom functions\n",
        "!wget https://raw.githubusercontent.com/mrdbourke/tensorflow-deep-learning/main/extras/helper_functions.py"
      ],
      "execution_count": null,
      "outputs": [
        {
          "output_type": "stream",
          "name": "stdout",
          "text": [
            "--2021-11-21 12:05:12--  https://raw.githubusercontent.com/mrdbourke/tensorflow-deep-learning/main/extras/helper_functions.py\n",
            "Resolving raw.githubusercontent.com (raw.githubusercontent.com)... 185.199.108.133, 185.199.109.133, 185.199.110.133, ...\n",
            "Connecting to raw.githubusercontent.com (raw.githubusercontent.com)|185.199.108.133|:443... connected.\n",
            "HTTP request sent, awaiting response... 200 OK\n",
            "Length: 10246 (10K) [text/plain]\n",
            "Saving to: ‘helper_functions.py.1’\n",
            "\n",
            "\rhelper_functions.py   0%[                    ]       0  --.-KB/s               \rhelper_functions.py 100%[===================>]  10.01K  --.-KB/s    in 0s      \n",
            "\n",
            "2021-11-21 12:05:12 (68.0 MB/s) - ‘helper_functions.py.1’ saved [10246/10246]\n",
            "\n"
          ]
        }
      ]
    },
    {
      "cell_type": "code",
      "metadata": {
        "id": "iCk5vMXa8UjQ"
      },
      "source": [
        "#training and test directories \n",
        "train_direct = \"chest_xray/train\"\n",
        "test_direct = \"chest_xray/test\""
      ],
      "execution_count": 88,
      "outputs": []
    },
    {
      "cell_type": "code",
      "metadata": {
        "colab": {
          "base_uri": "https://localhost:8080/"
        },
        "id": "0ByrJbgJ9PB3",
        "outputId": "64e0fb65-7c41-4d73-e3d0-5e52d13aef18"
      },
      "source": [
        "#creating the datasets\n",
        "from tensorflow.keras.preprocessing import image_dataset_from_directory\n",
        "train_data = image_dataset_from_directory(directory = train_direct,\n",
        "                                          label_mode = \"binary\",\n",
        "                                          image_size = (256,256),\n",
        "                                          batch_size =32 \n",
        ")\n",
        "test_data = image_dataset_from_directory(directory = test_direct,\n",
        "                                         label_mode = \"binary\",\n",
        "                                         image_size = (256, 256),\n",
        "                                         batch_size = 32, shuffle = False\n",
        "\n",
        "                                         )"
      ],
      "execution_count": 89,
      "outputs": [
        {
          "output_type": "stream",
          "name": "stdout",
          "text": [
            "Found 5216 files belonging to 2 classes.\n",
            "Found 624 files belonging to 2 classes.\n"
          ]
        }
      ]
    },
    {
      "cell_type": "code",
      "metadata": {
        "colab": {
          "base_uri": "https://localhost:8080/",
          "height": 299
        },
        "id": "nhooQ3aV_rUA",
        "outputId": "cdec2a28-f57e-4487-a45b-f5472e67c8c3"
      },
      "source": [
        "#vistualizing a random image \n",
        "direct = \"chest_xray/train/\"\n",
        "import os\n",
        "import random\n",
        "theclass = random.choice(train_data.class_names)\n",
        "target_direct = direct + theclass\n",
        "choice = random.choice(os.listdir(target_direct))\n",
        "import matplotlib.image as mpimg\n",
        "image_direct = target_direct + \"/\" + choice\n",
        "img = mpimg.imread(image_direct)\n",
        "import matplotlib.pyplot as plt\n",
        "plt.imshow(img)\n",
        "plt.title(theclass)\n",
        "choice"
      ],
      "execution_count": 146,
      "outputs": [
        {
          "output_type": "execute_result",
          "data": {
            "application/vnd.google.colaboratory.intrinsic+json": {
              "type": "string"
            },
            "text/plain": [
              "'NORMAL2-IM-1024-0001.jpeg'"
            ]
          },
          "metadata": {},
          "execution_count": 146
        },
        {
          "output_type": "display_data",
          "data": {
            "image/png": "[encoded data removed]",
            "text/plain": [
              "<Figure size 432x288 with 1 Axes>"
            ]
          },
          "metadata": {
            "needs_background": "light"
          }
        }
      ]
    },
    {
      "cell_type": "code",
      "metadata": {
        "id": "GqZvh7e7-FR0"
      },
      "source": [
        "from helper_functions import walk_through_dir"
      ],
      "execution_count": 91,
      "outputs": []
    },
    {
      "cell_type": "code",
      "metadata": {
        "colab": {
          "base_uri": "https://localhost:8080/"
        },
        "id": "cJ97fvxE-RQL",
        "outputId": "55e3b56a-9f80-4b6b-f910-c2528735cd60"
      },
      "source": [
        "walk_through_dir(\"chest_xray\")"
      ],
      "execution_count": 92,
      "outputs": [
        {
          "output_type": "stream",
          "name": "stdout",
          "text": [
            "There are 5 directories and 0 images in 'chest_xray'.\n",
            "There are 1 directories and 1 images in 'chest_xray/__MACOSX'.\n",
            "There are 3 directories and 3 images in 'chest_xray/__MACOSX/chest_xray'.\n",
            "There are 2 directories and 3 images in 'chest_xray/__MACOSX/chest_xray/train'.\n",
            "There are 0 directories and 1342 images in 'chest_xray/__MACOSX/chest_xray/train/NORMAL'.\n",
            "There are 0 directories and 3876 images in 'chest_xray/__MACOSX/chest_xray/train/PNEUMONIA'.\n",
            "There are 2 directories and 1 images in 'chest_xray/__MACOSX/chest_xray/val'.\n",
            "There are 0 directories and 9 images in 'chest_xray/__MACOSX/chest_xray/val/NORMAL'.\n",
            "There are 0 directories and 9 images in 'chest_xray/__MACOSX/chest_xray/val/PNEUMONIA'.\n",
            "There are 2 directories and 3 images in 'chest_xray/__MACOSX/chest_xray/test'.\n",
            "There are 0 directories and 234 images in 'chest_xray/__MACOSX/chest_xray/test/NORMAL'.\n",
            "There are 0 directories and 390 images in 'chest_xray/__MACOSX/chest_xray/test/PNEUMONIA'.\n",
            "There are 2 directories and 0 images in 'chest_xray/train'.\n",
            "There are 0 directories and 1341 images in 'chest_xray/train/NORMAL'.\n",
            "There are 0 directories and 3875 images in 'chest_xray/train/PNEUMONIA'.\n",
            "There are 2 directories and 0 images in 'chest_xray/val'.\n",
            "There are 0 directories and 8 images in 'chest_xray/val/NORMAL'.\n",
            "There are 0 directories and 8 images in 'chest_xray/val/PNEUMONIA'.\n",
            "There are 2 directories and 0 images in 'chest_xray/test'.\n",
            "There are 0 directories and 234 images in 'chest_xray/test/NORMAL'.\n",
            "There are 0 directories and 390 images in 'chest_xray/test/PNEUMONIA'.\n",
            "There are 3 directories and 1 images in 'chest_xray/chest_xray'.\n",
            "There are 2 directories and 1 images in 'chest_xray/chest_xray/train'.\n",
            "There are 0 directories and 1342 images in 'chest_xray/chest_xray/train/NORMAL'.\n",
            "There are 0 directories and 3876 images in 'chest_xray/chest_xray/train/PNEUMONIA'.\n",
            "There are 2 directories and 1 images in 'chest_xray/chest_xray/val'.\n",
            "There are 0 directories and 9 images in 'chest_xray/chest_xray/val/NORMAL'.\n",
            "There are 0 directories and 9 images in 'chest_xray/chest_xray/val/PNEUMONIA'.\n",
            "There are 2 directories and 1 images in 'chest_xray/chest_xray/test'.\n",
            "There are 0 directories and 234 images in 'chest_xray/chest_xray/test/NORMAL'.\n",
            "There are 0 directories and 390 images in 'chest_xray/chest_xray/test/PNEUMONIA'.\n"
          ]
        }
      ]
    },
    {
      "cell_type": "markdown",
      "metadata": {
        "id": "GSogx4DEt6Zv"
      },
      "source": [
        "Simple Convoluted Model"
      ]
    },
    {
      "cell_type": "code",
      "metadata": {
        "id": "wwSo_Z53BiQ3"
      },
      "source": [
        "#creating a simple convoluted model\n",
        "from tensorflow.keras.models import Model, Sequential\n",
        "from tensorflow.keras.layers import Conv2D, Dense, MaxPooling2D, Flatten, Input,GlobalAveragePooling2D"
      ],
      "execution_count": null,
      "outputs": []
    },
    {
      "cell_type": "code",
      "metadata": {
        "id": "jJgbGmDvnm5K"
      },
      "source": [
        "model_1 = Sequential()"
      ],
      "execution_count": null,
      "outputs": []
    },
    {
      "cell_type": "code",
      "metadata": {
        "id": "p0pTofxZnqOY"
      },
      "source": [
        "#creating model\n",
        "model_1.add(Conv2D(10,3, activation= \"relu\", input_shape = (256,256,3)))\n",
        "model_1.add(Conv2D(10,3, activation = \"relu\"))\n",
        "model_1.add(MaxPooling2D())\n",
        "model_1.add(Conv2D(10, 3, activation=\"relu\"))\n",
        "model_1.add(Conv2D(10,3, activation=\"relu\"))\n",
        "model_1.add(MaxPooling2D())\n",
        "model_1.add((Conv2D(10,3, activation=\"relu\")))\n",
        "model_1.add((Conv2D(10, 3, activation=\"relu\")))\n",
        "model_1.add(MaxPooling2D())\n",
        "model_1.add(Flatten())\n",
        "model_1.add(Dense(1, activation = \"sigmoid\"))"
      ],
      "execution_count": null,
      "outputs": []
    },
    {
      "cell_type": "code",
      "metadata": {
        "id": "iytvI4BDoE0N"
      },
      "source": [
        "model_1.compile(optimizer=\"adam\", loss= \"binary_crossentropy\", metrics = \"accuracy\")"
      ],
      "execution_count": null,
      "outputs": []
    },
    {
      "cell_type": "code",
      "metadata": {
        "colab": {
          "base_uri": "https://localhost:8080/"
        },
        "id": "8Hd6SsiJsIAu",
        "outputId": "142b2940-8853-4228-c39f-48404c6df21e"
      },
      "source": [
        "model_1.fit(train_data, \n",
        "          epochs = 10, \n",
        "          steps_per_epoch= len(train_data), \n",
        "          validation_data= test_data,\n",
        "          validation_steps = len(test_data))               "
      ],
      "execution_count": null,
      "outputs": [
        {
          "output_type": "stream",
          "name": "stdout",
          "text": [
            "Epoch 1/10\n",
            "163/163 [==============================] - 33s 99ms/step - loss: 0.5079 - accuracy: 0.8535 - val_loss: 0.8135 - val_accuracy: 0.7196\n",
            "Epoch 2/10\n",
            "163/163 [==============================] - 16s 97ms/step - loss: 0.1380 - accuracy: 0.9469 - val_loss: 0.8385 - val_accuracy: 0.7099\n",
            "Epoch 3/10\n",
            "163/163 [==============================] - 17s 98ms/step - loss: 0.0966 - accuracy: 0.9630 - val_loss: 0.6640 - val_accuracy: 0.7997\n",
            "Epoch 4/10\n",
            "163/163 [==============================] - 17s 98ms/step - loss: 0.0784 - accuracy: 0.9686 - val_loss: 0.6601 - val_accuracy: 0.7949\n",
            "Epoch 5/10\n",
            "163/163 [==============================] - 17s 97ms/step - loss: 0.0635 - accuracy: 0.9766 - val_loss: 1.1278 - val_accuracy: 0.7340\n",
            "Epoch 6/10\n",
            "163/163 [==============================] - 17s 98ms/step - loss: 0.0473 - accuracy: 0.9831 - val_loss: 0.8374 - val_accuracy: 0.7804\n",
            "Epoch 7/10\n",
            "163/163 [==============================] - 17s 99ms/step - loss: 0.0428 - accuracy: 0.9854 - val_loss: 1.2096 - val_accuracy: 0.7837\n",
            "Epoch 8/10\n",
            "163/163 [==============================] - 17s 97ms/step - loss: 0.0342 - accuracy: 0.9877 - val_loss: 1.3527 - val_accuracy: 0.7500\n",
            "Epoch 9/10\n",
            "163/163 [==============================] - 18s 106ms/step - loss: 0.0228 - accuracy: 0.9925 - val_loss: 1.5325 - val_accuracy: 0.7644\n",
            "Epoch 10/10\n",
            "163/163 [==============================] - 17s 101ms/step - loss: 0.0236 - accuracy: 0.9919 - val_loss: 1.9747 - val_accuracy: 0.7772\n"
          ]
        },
        {
          "output_type": "execute_result",
          "data": {
            "text/plain": [
              "<keras.callbacks.History at 0x7fc2d0517950>"
            ]
          },
          "metadata": {},
          "execution_count": 29
        }
      ]
    },
    {
      "cell_type": "code",
      "metadata": {
        "id": "KpQveMGgspbn"
      },
      "source": [
        "#Simple model with data augmentation \n",
        "from tensorflow.keras.layers.experimental import preprocessing\n",
        "\n",
        "data_aug = Sequential([\n",
        "    preprocessing.RandomFlip(\"horizontal\"),\n",
        "    preprocessing.RandomRotation(0.2),\n",
        "    preprocessing.RandomZoom(0.2),\n",
        "    preprocessing.RandomHeight(0.2),\n",
        "    preprocessing.RandomWidth(0.2)\n",
        "\n",
        "\n",
        "\n",
        "], name = \"data_aug\")"
      ],
      "execution_count": null,
      "outputs": []
    },
    {
      "cell_type": "markdown",
      "metadata": {
        "id": "VCzsRL1luBLz"
      },
      "source": [
        "Data Augmentation with simple model"
      ]
    },
    {
      "cell_type": "code",
      "metadata": {
        "id": "FHdMbdrkv-Ws"
      },
      "source": [
        "input = Input(shape=(256,256, 3))\n",
        "x = data_aug(input)\n",
        "x = Conv2D(10,3, activation= \"relu\")(x)\n",
        "x = Conv2D(10,3, activation= \"relu\")(x)\n",
        "x = MaxPooling2D()(x)\n",
        "x = Conv2D(10,3, activation= \"relu\")(x)\n",
        "x = Conv2D(10,3, activation= \"relu\")(x)\n",
        "x = MaxPooling2D()(x)\n",
        "x = Conv2D(10,3, activation= \"relu\")(x)\n",
        "x = Conv2D(10,3, activation= \"relu\")(x)\n",
        "x = MaxPooling2D()(x)\n",
        "x = GlobalAveragePooling2D()(x)\n",
        "output = Dense(1, activation = \"sigmoid\")(x)"
      ],
      "execution_count": null,
      "outputs": []
    },
    {
      "cell_type": "code",
      "metadata": {
        "id": "AStlGI9lMIVR"
      },
      "source": [
        "model_2 = Model(inputs= input, outputs = output)"
      ],
      "execution_count": null,
      "outputs": []
    },
    {
      "cell_type": "code",
      "metadata": {
        "colab": {
          "base_uri": "https://localhost:8080/"
        },
        "id": "kA0EJEguwMyO",
        "outputId": "91a87b6c-928c-4e6e-866b-6f7339c3642d"
      },
      "source": [
        "model_2.compile(optimizer=\"adam\", loss= \"binary_crossentropy\", metrics = \"accuracy\")\n",
        "model_2.fit(train_data, \n",
        "          epochs = 10, \n",
        "          steps_per_epoch= len(train_data), \n",
        "          validation_data= test_data,\n",
        "          validation_steps = len(test_data))   "
      ],
      "execution_count": null,
      "outputs": [
        {
          "output_type": "stream",
          "name": "stdout",
          "text": [
            "Epoch 1/10\n",
            "163/163 [==============================] - 56s 333ms/step - loss: 0.5684 - accuracy: 0.7439 - val_loss: 0.6374 - val_accuracy: 0.6282\n",
            "Epoch 2/10\n",
            "163/163 [==============================] - 52s 313ms/step - loss: 0.5141 - accuracy: 0.7558 - val_loss: 0.5555 - val_accuracy: 0.7083\n",
            "Epoch 3/10\n",
            "163/163 [==============================] - 48s 287ms/step - loss: 0.4451 - accuracy: 0.7889 - val_loss: 0.5961 - val_accuracy: 0.6891\n",
            "Epoch 4/10\n",
            "163/163 [==============================] - 46s 277ms/step - loss: 0.3961 - accuracy: 0.8148 - val_loss: 0.4572 - val_accuracy: 0.7901\n",
            "Epoch 5/10\n",
            "163/163 [==============================] - 44s 268ms/step - loss: 0.3915 - accuracy: 0.8232 - val_loss: 0.6317 - val_accuracy: 0.6522\n",
            "Epoch 6/10\n",
            "163/163 [==============================] - 44s 265ms/step - loss: 0.3572 - accuracy: 0.8336 - val_loss: 0.4899 - val_accuracy: 0.7997\n",
            "Epoch 7/10\n",
            "163/163 [==============================] - 44s 265ms/step - loss: 0.3557 - accuracy: 0.8378 - val_loss: 0.4942 - val_accuracy: 0.7788\n",
            "Epoch 8/10\n",
            "163/163 [==============================] - 43s 260ms/step - loss: 0.3320 - accuracy: 0.8480 - val_loss: 0.4803 - val_accuracy: 0.7933\n",
            "Epoch 9/10\n",
            "163/163 [==============================] - 39s 237ms/step - loss: 0.3406 - accuracy: 0.8510 - val_loss: 0.5235 - val_accuracy: 0.7276\n",
            "Epoch 10/10\n",
            "163/163 [==============================] - 38s 226ms/step - loss: 0.3331 - accuracy: 0.8495 - val_loss: 0.4715 - val_accuracy: 0.7821\n"
          ]
        },
        {
          "output_type": "execute_result",
          "data": {
            "text/plain": [
              "<keras.callbacks.History at 0x7fc2442448d0>"
            ]
          },
          "metadata": {},
          "execution_count": 52
        }
      ]
    },
    {
      "cell_type": "markdown",
      "metadata": {
        "id": "6G8KLSaD2DPy"
      },
      "source": [
        "Model 3 pretrained EfficientNetB0"
      ]
    },
    {
      "cell_type": "code",
      "metadata": {
        "id": "o2gqLigu2H3W"
      },
      "source": [
        "from tensorflow.keras.applications import EfficientNetB0"
      ],
      "execution_count": null,
      "outputs": []
    },
    {
      "cell_type": "code",
      "metadata": {
        "id": "G_aYO3eK2RgA",
        "colab": {
          "base_uri": "https://localhost:8080/"
        },
        "outputId": "bf16dbc9-56a0-4359-c91a-e351a13f9e95"
      },
      "source": [
        "#downloading pretrained model\n",
        "base_model = EfficientNetB0(include_top= False)\n",
        "base_model.trainable = False"
      ],
      "execution_count": null,
      "outputs": [
        {
          "output_type": "stream",
          "name": "stdout",
          "text": [
            "Downloading data from https://storage.googleapis.com/keras-applications/efficientnetb0_notop.h5\n",
            "16711680/16705208 [==============================] - 0s 0us/step\n",
            "16719872/16705208 [==============================] - 0s 0us/step\n"
          ]
        }
      ]
    },
    {
      "cell_type": "code",
      "metadata": {
        "id": "OfJ2QQXrA7O4"
      },
      "source": [
        "input = Input(shape = (256,256,3))\n",
        "x = base_model(input)\n",
        "x = GlobalAveragePooling2D()(x)\n",
        "output = Dense(1, activation = \"sigmoid\")(x)\n",
        "model_3 = Model(inputs = input, outputs = output)"
      ],
      "execution_count": null,
      "outputs": []
    },
    {
      "cell_type": "code",
      "metadata": {
        "colab": {
          "base_uri": "https://localhost:8080/"
        },
        "id": "-uxfeC6lC4ku",
        "outputId": "4751519e-ed0a-48c0-8ddc-1c210a659605"
      },
      "source": [
        "model_3.compile(loss = \"binary_crossentropy\", optimizer = \"adam\", metrics= \"accuracy\")\n",
        "model_3.fit(train_data, epochs = 10, steps_per_epoch= len(train_data), validation_data=test_data, validation_steps = len(test_data))"
      ],
      "execution_count": null,
      "outputs": [
        {
          "output_type": "stream",
          "name": "stdout",
          "text": [
            "Epoch 1/10\n",
            "163/163 [==============================] - 24s 111ms/step - loss: 0.3380 - accuracy: 0.8495 - val_loss: 0.4526 - val_accuracy: 0.7580\n",
            "Epoch 2/10\n",
            "163/163 [==============================] - 18s 104ms/step - loss: 0.1841 - accuracy: 0.9363 - val_loss: 0.4256 - val_accuracy: 0.8013\n",
            "Epoch 3/10\n",
            "163/163 [==============================] - 18s 104ms/step - loss: 0.1548 - accuracy: 0.9452 - val_loss: 0.4249 - val_accuracy: 0.8093\n",
            "Epoch 4/10\n",
            "163/163 [==============================] - 18s 104ms/step - loss: 0.1334 - accuracy: 0.9548 - val_loss: 0.4517 - val_accuracy: 0.8013\n",
            "Epoch 5/10\n",
            "163/163 [==============================] - 18s 104ms/step - loss: 0.1216 - accuracy: 0.9544 - val_loss: 0.4668 - val_accuracy: 0.7933\n",
            "Epoch 6/10\n",
            "163/163 [==============================] - 18s 104ms/step - loss: 0.1136 - accuracy: 0.9617 - val_loss: 0.3948 - val_accuracy: 0.8365\n",
            "Epoch 7/10\n",
            "163/163 [==============================] - 18s 104ms/step - loss: 0.1097 - accuracy: 0.9620 - val_loss: 0.3995 - val_accuracy: 0.8413\n",
            "Epoch 8/10\n",
            "163/163 [==============================] - 18s 104ms/step - loss: 0.1029 - accuracy: 0.9668 - val_loss: 0.4471 - val_accuracy: 0.8173\n",
            "Epoch 9/10\n",
            "163/163 [==============================] - 18s 104ms/step - loss: 0.0980 - accuracy: 0.9674 - val_loss: 0.4583 - val_accuracy: 0.8125\n",
            "Epoch 10/10\n",
            "163/163 [==============================] - 18s 104ms/step - loss: 0.0924 - accuracy: 0.9651 - val_loss: 0.3796 - val_accuracy: 0.8462\n"
          ]
        },
        {
          "output_type": "execute_result",
          "data": {
            "text/plain": [
              "<keras.callbacks.History at 0x7fc1cc99ee50>"
            ]
          },
          "metadata": {},
          "execution_count": 59
        }
      ]
    },
    {
      "cell_type": "code",
      "metadata": {
        "colab": {
          "base_uri": "https://localhost:8080/"
        },
        "id": "FYmxO6d7DdsL",
        "outputId": "dd3dd4f4-0273-4e4c-dde4-5b713aa5ca57"
      },
      "source": [
        "model_3.fit(train_data, epochs = 5, steps_per_epoch= len(train_data), validation_data=test_data, validation_steps = len(test_data))"
      ],
      "execution_count": null,
      "outputs": [
        {
          "output_type": "stream",
          "name": "stdout",
          "text": [
            "Epoch 1/5\n",
            "163/163 [==============================] - 18s 104ms/step - loss: 0.0904 - accuracy: 0.9695 - val_loss: 0.3948 - val_accuracy: 0.8429\n",
            "Epoch 2/5\n",
            "163/163 [==============================] - 18s 104ms/step - loss: 0.0899 - accuracy: 0.9705 - val_loss: 0.4332 - val_accuracy: 0.8301\n",
            "Epoch 3/5\n",
            "163/163 [==============================] - 18s 104ms/step - loss: 0.0847 - accuracy: 0.9720 - val_loss: 0.4180 - val_accuracy: 0.8381\n",
            "Epoch 4/5\n",
            "163/163 [==============================] - 18s 104ms/step - loss: 0.0836 - accuracy: 0.9720 - val_loss: 0.3991 - val_accuracy: 0.8413\n",
            "Epoch 5/5\n",
            "163/163 [==============================] - 18s 104ms/step - loss: 0.0802 - accuracy: 0.9734 - val_loss: 0.4742 - val_accuracy: 0.8189\n"
          ]
        },
        {
          "output_type": "execute_result",
          "data": {
            "text/plain": [
              "<keras.callbacks.History at 0x7fc122585510>"
            ]
          },
          "metadata": {},
          "execution_count": 60
        }
      ]
    },
    {
      "cell_type": "markdown",
      "metadata": {
        "id": "6SbZ-AIfEOql"
      },
      "source": [
        "Model 4, augmented pretrained"
      ]
    },
    {
      "cell_type": "code",
      "metadata": {
        "id": "tF9Z3UYZETQI"
      },
      "source": [
        "input = Input(shape = (256,256, 3))\n",
        "x = data_aug(input)\n",
        "x = base_model(x)\n",
        "x = GlobalAveragePooling2D()(x)\n",
        "output = Dense(1, activation = \"sigmoid\")(x)\n",
        "model_4 = Model(inputs = input, outputs= output)"
      ],
      "execution_count": null,
      "outputs": []
    },
    {
      "cell_type": "code",
      "metadata": {
        "id": "dbhlFkssFQ6g"
      },
      "source": [
        "model_4.compile(optimizer = \"adam\", loss = \"binary_crossentropy\", metrics = \"accuracy\")"
      ],
      "execution_count": null,
      "outputs": []
    },
    {
      "cell_type": "code",
      "metadata": {
        "colab": {
          "base_uri": "https://localhost:8080/"
        },
        "id": "T_UQQl8DGa5Q",
        "outputId": "bddf1adc-23aa-47f0-fc0b-713af310c76f"
      },
      "source": [
        "model_4.fit(train_data, epochs = 10, steps_per_epoch=len(train_data), validation_data=test_data, validation_steps=len(test_data))"
      ],
      "execution_count": null,
      "outputs": [
        {
          "output_type": "stream",
          "name": "stdout",
          "text": [
            "Epoch 1/10\n",
            "163/163 [==============================] - 34s 172ms/step - loss: 0.3522 - accuracy: 0.8455 - val_loss: 0.4356 - val_accuracy: 0.8093\n",
            "Epoch 2/10\n",
            "163/163 [==============================] - 24s 142ms/step - loss: 0.2335 - accuracy: 0.9118 - val_loss: 0.3854 - val_accuracy: 0.8429\n",
            "Epoch 3/10\n",
            "163/163 [==============================] - 23s 135ms/step - loss: 0.2051 - accuracy: 0.9187 - val_loss: 0.3582 - val_accuracy: 0.8574\n",
            "Epoch 4/10\n",
            "163/163 [==============================] - 21s 126ms/step - loss: 0.1885 - accuracy: 0.9229 - val_loss: 0.3422 - val_accuracy: 0.8558\n",
            "Epoch 5/10\n",
            "163/163 [==============================] - 21s 126ms/step - loss: 0.1828 - accuracy: 0.9310 - val_loss: 0.3272 - val_accuracy: 0.8718\n",
            "Epoch 6/10\n",
            "163/163 [==============================] - 20s 120ms/step - loss: 0.1708 - accuracy: 0.9333 - val_loss: 0.3149 - val_accuracy: 0.8718\n",
            "Epoch 7/10\n",
            "163/163 [==============================] - 20s 117ms/step - loss: 0.1716 - accuracy: 0.9329 - val_loss: 0.3026 - val_accuracy: 0.8910\n",
            "Epoch 8/10\n",
            "163/163 [==============================] - 19s 115ms/step - loss: 0.1574 - accuracy: 0.9410 - val_loss: 0.2902 - val_accuracy: 0.8926\n",
            "Epoch 9/10\n",
            "163/163 [==============================] - 19s 113ms/step - loss: 0.1570 - accuracy: 0.9417 - val_loss: 0.2861 - val_accuracy: 0.8910\n",
            "Epoch 10/10\n",
            "163/163 [==============================] - 19s 114ms/step - loss: 0.1515 - accuracy: 0.9459 - val_loss: 0.2829 - val_accuracy: 0.9006\n"
          ]
        },
        {
          "output_type": "execute_result",
          "data": {
            "text/plain": [
              "<keras.callbacks.History at 0x7fc129201390>"
            ]
          },
          "metadata": {},
          "execution_count": 67
        }
      ]
    },
    {
      "cell_type": "code",
      "metadata": {
        "colab": {
          "base_uri": "https://localhost:8080/"
        },
        "id": "2FYeDQyYGyAc",
        "outputId": "cc17ac46-a2b4-421e-c00a-48865af7c8e8"
      },
      "source": [
        "model_4.fit(train_data, epochs = 5, steps_per_epoch=len(train_data), validation_data=test_data, validation_steps=len(test_data))"
      ],
      "execution_count": null,
      "outputs": [
        {
          "output_type": "stream",
          "name": "stdout",
          "text": [
            "Epoch 1/5\n",
            "163/163 [==============================] - 19s 112ms/step - loss: 0.1451 - accuracy: 0.9463 - val_loss: 0.2865 - val_accuracy: 0.9022\n",
            "Epoch 2/5\n",
            "163/163 [==============================] - 19s 111ms/step - loss: 0.1506 - accuracy: 0.9444 - val_loss: 0.2689 - val_accuracy: 0.8974\n",
            "Epoch 3/5\n",
            "163/163 [==============================] - 19s 110ms/step - loss: 0.1476 - accuracy: 0.9467 - val_loss: 0.2779 - val_accuracy: 0.8990\n",
            "Epoch 4/5\n",
            "163/163 [==============================] - 18s 109ms/step - loss: 0.1361 - accuracy: 0.9471 - val_loss: 0.2664 - val_accuracy: 0.8942\n",
            "Epoch 5/5\n",
            "163/163 [==============================] - 19s 110ms/step - loss: 0.1388 - accuracy: 0.9456 - val_loss: 0.2754 - val_accuracy: 0.9006\n"
          ]
        },
        {
          "output_type": "execute_result",
          "data": {
            "text/plain": [
              "<keras.callbacks.History at 0x7fc1cc54c890>"
            ]
          },
          "metadata": {},
          "execution_count": 68
        }
      ]
    },
    {
      "cell_type": "markdown",
      "metadata": {
        "id": "OidtaxBIIGEr"
      },
      "source": [
        "Model 5, augmented pretrained some layers trainable last 17 layers:\n"
      ]
    },
    {
      "cell_type": "code",
      "metadata": {
        "id": "Rrywn8EOIN1h"
      },
      "source": [
        "for i in range(220, len(base_model.layers)):\n",
        "  base_model.layers[i].trainable = True"
      ],
      "execution_count": null,
      "outputs": []
    },
    {
      "cell_type": "code",
      "metadata": {
        "id": "yPrNFIIiIUfr"
      },
      "source": [
        "input = Input(shape = (256,256, 3))\n",
        "x = data_aug(input)\n",
        "x = base_model(x)\n",
        "x = GlobalAveragePooling2D()(x)\n",
        "output = Dense(1, activation = \"sigmoid\")(x)\n",
        "model_5 = Model(inputs = input, outputs= output)"
      ],
      "execution_count": null,
      "outputs": []
    },
    {
      "cell_type": "code",
      "metadata": {
        "id": "ayp5d3pPIyTO"
      },
      "source": [
        "model_5.compile(optimizer = \"adam\", loss = \"binary_crossentropy\", metrics = \"accuracy\")\n"
      ],
      "execution_count": null,
      "outputs": []
    },
    {
      "cell_type": "code",
      "metadata": {
        "colab": {
          "base_uri": "https://localhost:8080/"
        },
        "id": "Ej4HJJDjJTQz",
        "outputId": "1318a3d0-844d-4e93-a679-a2fcd4ed520b"
      },
      "source": [
        "model_5.fit(train_data, epochs = 15, steps_per_epoch=len(train_data), validation_data=test_data, validation_steps=len(test_data))"
      ],
      "execution_count": null,
      "outputs": [
        {
          "output_type": "stream",
          "name": "stdout",
          "text": [
            "Epoch 1/15\n",
            "163/163 [==============================] - 25s 115ms/step - loss: 0.3719 - accuracy: 0.8606 - val_loss: 0.4293 - val_accuracy: 0.8077\n",
            "Epoch 2/15\n",
            "163/163 [==============================] - 18s 108ms/step - loss: 0.2380 - accuracy: 0.9147 - val_loss: 0.4171 - val_accuracy: 0.8029\n",
            "Epoch 3/15\n",
            "163/163 [==============================] - 18s 109ms/step - loss: 0.2173 - accuracy: 0.9153 - val_loss: 0.4022 - val_accuracy: 0.8013\n",
            "Epoch 4/15\n",
            "163/163 [==============================] - 19s 109ms/step - loss: 0.1961 - accuracy: 0.9250 - val_loss: 0.3716 - val_accuracy: 0.8301\n",
            "Epoch 5/15\n",
            "163/163 [==============================] - 19s 110ms/step - loss: 0.1822 - accuracy: 0.9308 - val_loss: 0.4033 - val_accuracy: 0.7997\n",
            "Epoch 6/15\n",
            "163/163 [==============================] - 19s 110ms/step - loss: 0.1878 - accuracy: 0.9300 - val_loss: 0.3553 - val_accuracy: 0.8365\n",
            "Epoch 7/15\n",
            "163/163 [==============================] - 18s 108ms/step - loss: 0.1694 - accuracy: 0.9371 - val_loss: 0.3808 - val_accuracy: 0.8125\n",
            "Epoch 8/15\n",
            "163/163 [==============================] - 18s 109ms/step - loss: 0.1752 - accuracy: 0.9333 - val_loss: 0.3657 - val_accuracy: 0.8221\n",
            "Epoch 9/15\n",
            "163/163 [==============================] - 18s 108ms/step - loss: 0.1648 - accuracy: 0.9377 - val_loss: 0.3499 - val_accuracy: 0.8365\n",
            "Epoch 10/15\n",
            "163/163 [==============================] - 18s 108ms/step - loss: 0.1677 - accuracy: 0.9344 - val_loss: 0.3589 - val_accuracy: 0.8253\n",
            "Epoch 11/15\n",
            "163/163 [==============================] - 18s 108ms/step - loss: 0.1598 - accuracy: 0.9415 - val_loss: 0.3646 - val_accuracy: 0.8205\n",
            "Epoch 12/15\n",
            "163/163 [==============================] - 18s 108ms/step - loss: 0.1571 - accuracy: 0.9417 - val_loss: 0.3207 - val_accuracy: 0.8510\n",
            "Epoch 13/15\n",
            "163/163 [==============================] - 18s 108ms/step - loss: 0.1584 - accuracy: 0.9442 - val_loss: 0.3486 - val_accuracy: 0.8349\n",
            "Epoch 14/15\n",
            "163/163 [==============================] - 18s 108ms/step - loss: 0.1527 - accuracy: 0.9421 - val_loss: 0.3325 - val_accuracy: 0.8462\n",
            "Epoch 15/15\n",
            "163/163 [==============================] - 18s 108ms/step - loss: 0.1472 - accuracy: 0.9450 - val_loss: 0.3027 - val_accuracy: 0.8654\n"
          ]
        },
        {
          "output_type": "execute_result",
          "data": {
            "text/plain": [
              "<keras.callbacks.History at 0x7fc129208f90>"
            ]
          },
          "metadata": {},
          "execution_count": 76
        }
      ]
    },
    {
      "cell_type": "markdown",
      "metadata": {
        "id": "4JbJj10dKaw9"
      },
      "source": [
        "Model 6, augmented pretrained some layers trainable last 5 layers\n",
        "\n",
        "\n",
        "\n"
      ]
    },
    {
      "cell_type": "code",
      "metadata": {
        "id": "D5rYzfLBKdSL"
      },
      "source": [
        "base_model = EfficientNetB0(include_top= False)\n",
        "base_model.trainable = False"
      ],
      "execution_count": null,
      "outputs": []
    },
    {
      "cell_type": "code",
      "metadata": {
        "id": "6TKqjeE7Kt9G"
      },
      "source": [
        "for i in range(231, len(base_model.layers)):\n",
        "  base_model.layers[i].trainable = True"
      ],
      "execution_count": null,
      "outputs": []
    },
    {
      "cell_type": "code",
      "metadata": {
        "id": "8LIonFdImJ-v"
      },
      "source": [
        "from tensorflow.keras.optimizers import  Adam"
      ],
      "execution_count": null,
      "outputs": []
    },
    {
      "cell_type": "code",
      "metadata": {
        "id": "5PxmlI0LKybO"
      },
      "source": [
        "input = Input(shape = (256,256, 3))\n",
        "x = data_aug(input)\n",
        "x = base_model(x)\n",
        "x = GlobalAveragePooling2D()(x)\n",
        "output = Dense(1, activation = \"sigmoid\")(x)\n",
        "model_6 = Model(inputs = input, outputs= output)"
      ],
      "execution_count": null,
      "outputs": []
    },
    {
      "cell_type": "code",
      "metadata": {
        "id": "E8oVg4XBLTtR"
      },
      "source": [
        "model_6.compile(optimizer = Adam(0.001), loss = \"binary_crossentropy\", metrics = \"accuracy\")"
      ],
      "execution_count": null,
      "outputs": []
    },
    {
      "cell_type": "code",
      "metadata": {
        "colab": {
          "base_uri": "https://localhost:8080/"
        },
        "id": "4h3XyHrfLXnd",
        "outputId": "571a43a2-8487-4ee1-9ba1-e5f181e11b47"
      },
      "source": [
        "model_6.fit(train_data, epochs = 15, steps_per_epoch=len(train_data), validation_data=test_data, validation_steps=len(test_data))"
      ],
      "execution_count": null,
      "outputs": [
        {
          "output_type": "stream",
          "name": "stdout",
          "text": [
            "Epoch 1/15\n",
            "163/163 [==============================] - 30s 130ms/step - loss: 0.3523 - accuracy: 0.8593 - val_loss: 0.4148 - val_accuracy: 0.8269\n",
            "Epoch 2/15\n",
            "163/163 [==============================] - 21s 122ms/step - loss: 0.2311 - accuracy: 0.9143 - val_loss: 0.3728 - val_accuracy: 0.8413\n",
            "Epoch 3/15\n",
            "163/163 [==============================] - 21s 121ms/step - loss: 0.1999 - accuracy: 0.9248 - val_loss: 0.3693 - val_accuracy: 0.8285\n",
            "Epoch 4/15\n",
            "163/163 [==============================] - 20s 118ms/step - loss: 0.1925 - accuracy: 0.9270 - val_loss: 0.3321 - val_accuracy: 0.8606\n",
            "Epoch 5/15\n",
            "163/163 [==============================] - 21s 121ms/step - loss: 0.1808 - accuracy: 0.9310 - val_loss: 0.3217 - val_accuracy: 0.8670\n",
            "Epoch 6/15\n",
            "163/163 [==============================] - 21s 122ms/step - loss: 0.1807 - accuracy: 0.9342 - val_loss: 0.3033 - val_accuracy: 0.8702\n",
            "Epoch 7/15\n",
            "163/163 [==============================] - 20s 120ms/step - loss: 0.1666 - accuracy: 0.9348 - val_loss: 0.3006 - val_accuracy: 0.8734\n",
            "Epoch 8/15\n",
            "163/163 [==============================] - 20s 120ms/step - loss: 0.1631 - accuracy: 0.9360 - val_loss: 0.2910 - val_accuracy: 0.8734\n",
            "Epoch 9/15\n",
            "163/163 [==============================] - 20s 120ms/step - loss: 0.1566 - accuracy: 0.9373 - val_loss: 0.2948 - val_accuracy: 0.8750\n",
            "Epoch 10/15\n",
            "163/163 [==============================] - 21s 121ms/step - loss: 0.1560 - accuracy: 0.9371 - val_loss: 0.2682 - val_accuracy: 0.8894\n",
            "Epoch 11/15\n",
            "163/163 [==============================] - 21s 121ms/step - loss: 0.1493 - accuracy: 0.9379 - val_loss: 0.2708 - val_accuracy: 0.8894\n",
            "Epoch 12/15\n",
            "163/163 [==============================] - 20s 119ms/step - loss: 0.1542 - accuracy: 0.9419 - val_loss: 0.2788 - val_accuracy: 0.8798\n",
            "Epoch 13/15\n",
            "163/163 [==============================] - 20s 119ms/step - loss: 0.1440 - accuracy: 0.9469 - val_loss: 0.2694 - val_accuracy: 0.8814\n",
            "Epoch 14/15\n",
            "163/163 [==============================] - 20s 119ms/step - loss: 0.1448 - accuracy: 0.9456 - val_loss: 0.2597 - val_accuracy: 0.9006\n",
            "Epoch 15/15\n",
            "163/163 [==============================] - 20s 119ms/step - loss: 0.1462 - accuracy: 0.9452 - val_loss: 0.2486 - val_accuracy: 0.9038\n"
          ]
        },
        {
          "output_type": "execute_result",
          "data": {
            "text/plain": [
              "<keras.callbacks.History at 0x7f8c61837850>"
            ]
          },
          "metadata": {},
          "execution_count": 71
        }
      ]
    },
    {
      "cell_type": "code",
      "metadata": {
        "id": "gcM0I6kaLdbZ"
      },
      "source": [
        ""
      ],
      "execution_count": null,
      "outputs": []
    },
    {
      "cell_type": "markdown",
      "metadata": {
        "id": "iMNqqg25MtcP"
      },
      "source": [
        "Model 7, augmented pretrained some layers trainable last  layers\n"
      ]
    },
    {
      "cell_type": "code",
      "metadata": {
        "id": "rPMYCP14Mw6j"
      },
      "source": [
        "base_model = EfficientNetB0(include_top= False)\n",
        "base_model.trainable = False"
      ],
      "execution_count": null,
      "outputs": []
    },
    {
      "cell_type": "code",
      "metadata": {
        "id": "wNUrvOoGM-w2"
      },
      "source": [
        "base_model.layers[236].trainable = True"
      ],
      "execution_count": null,
      "outputs": []
    },
    {
      "cell_type": "code",
      "metadata": {
        "id": "uyZjO-ktNB8e"
      },
      "source": [
        "input = Input(shape = (256,256, 3))\n",
        "x = data_aug(input)\n",
        "x = base_model(x)\n",
        "x = GlobalAveragePooling2D()(x)\n",
        "output = Dense(1, activation = \"sigmoid\")(x)\n",
        "model_7 = Model(inputs = input, outputs= output)"
      ],
      "execution_count": null,
      "outputs": []
    },
    {
      "cell_type": "code",
      "metadata": {
        "id": "N8s8hECyNG9R"
      },
      "source": [
        "model_7.compile(optimizer = \"adam\", loss = \"binary_crossentropy\", metrics = \"accuracy\")"
      ],
      "execution_count": null,
      "outputs": []
    },
    {
      "cell_type": "code",
      "metadata": {
        "colab": {
          "base_uri": "https://localhost:8080/"
        },
        "id": "Pt04LGCSNH0G",
        "outputId": "0c9092d7-b980-4b0b-d456-f2014fd2d4dd"
      },
      "source": [
        "model_7.fit(train_data, epochs = 15, steps_per_epoch=len(train_data), validation_data=test_data, validation_steps=len(test_data))"
      ],
      "execution_count": null,
      "outputs": [
        {
          "output_type": "stream",
          "name": "stdout",
          "text": [
            "Epoch 1/15\n",
            "163/163 [==============================] - 29s 129ms/step - loss: 0.3542 - accuracy: 0.8432 - val_loss: 0.4409 - val_accuracy: 0.7660\n",
            "Epoch 2/15\n",
            "163/163 [==============================] - 20s 119ms/step - loss: 0.2389 - accuracy: 0.9066 - val_loss: 0.4020 - val_accuracy: 0.8029\n",
            "Epoch 3/15\n",
            "163/163 [==============================] - 20s 119ms/step - loss: 0.2034 - accuracy: 0.9191 - val_loss: 0.3555 - val_accuracy: 0.8397\n",
            "Epoch 4/15\n",
            "163/163 [==============================] - 20s 120ms/step - loss: 0.1924 - accuracy: 0.9231 - val_loss: 0.3427 - val_accuracy: 0.8510\n",
            "Epoch 5/15\n",
            "163/163 [==============================] - 21s 122ms/step - loss: 0.1789 - accuracy: 0.9310 - val_loss: 0.3159 - val_accuracy: 0.8830\n",
            "Epoch 6/15\n",
            "163/163 [==============================] - 20s 120ms/step - loss: 0.1730 - accuracy: 0.9325 - val_loss: 0.3016 - val_accuracy: 0.8958\n",
            "Epoch 7/15\n",
            "163/163 [==============================] - 20s 120ms/step - loss: 0.1685 - accuracy: 0.9362 - val_loss: 0.3004 - val_accuracy: 0.8910\n",
            "Epoch 8/15\n",
            "163/163 [==============================] - 20s 119ms/step - loss: 0.1608 - accuracy: 0.9410 - val_loss: 0.2922 - val_accuracy: 0.8894\n",
            "Epoch 9/15\n",
            "163/163 [==============================] - 20s 119ms/step - loss: 0.1558 - accuracy: 0.9406 - val_loss: 0.2806 - val_accuracy: 0.8926\n",
            "Epoch 10/15\n",
            "163/163 [==============================] - 20s 119ms/step - loss: 0.1497 - accuracy: 0.9417 - val_loss: 0.2742 - val_accuracy: 0.9038\n",
            "Epoch 11/15\n",
            "163/163 [==============================] - 20s 120ms/step - loss: 0.1473 - accuracy: 0.9406 - val_loss: 0.2791 - val_accuracy: 0.8990\n",
            "Epoch 12/15\n",
            "163/163 [==============================] - 21s 124ms/step - loss: 0.1452 - accuracy: 0.9450 - val_loss: 0.2812 - val_accuracy: 0.9006\n",
            "Epoch 13/15\n",
            "163/163 [==============================] - 21s 124ms/step - loss: 0.1404 - accuracy: 0.9486 - val_loss: 0.2661 - val_accuracy: 0.9054\n",
            "Epoch 14/15\n",
            "163/163 [==============================] - 21s 124ms/step - loss: 0.1438 - accuracy: 0.9423 - val_loss: 0.2650 - val_accuracy: 0.9103\n",
            "Epoch 15/15\n",
            "163/163 [==============================] - 21s 123ms/step - loss: 0.1381 - accuracy: 0.9473 - val_loss: 0.2606 - val_accuracy: 0.9038\n"
          ]
        },
        {
          "output_type": "execute_result",
          "data": {
            "text/plain": [
              "<keras.callbacks.History at 0x7f8c554e5b10>"
            ]
          },
          "metadata": {},
          "execution_count": 79
        }
      ]
    },
    {
      "cell_type": "markdown",
      "metadata": {
        "id": "XWiXgF8SuPyq"
      },
      "source": [
        "Model 8 Pretrained, weights locked for 5 epochs then trainable for 10"
      ]
    },
    {
      "cell_type": "code",
      "metadata": {
        "id": "5ajEQ6hIvb2s"
      },
      "source": [
        "base_model = EfficientNetB0(include_top= False)\n",
        "base_model.trainable = False"
      ],
      "execution_count": 118,
      "outputs": []
    },
    {
      "cell_type": "code",
      "metadata": {
        "id": "z89tYHvqvi4Y"
      },
      "source": [
        "input = Input(shape=(256,256,3))\n",
        "x = data_aug(input)\n",
        "x = base_model(x)\n",
        "x = GlobalAveragePooling2D()(x)\n",
        "output = Dense(1, activation = \"sigmoid\")(x)\n",
        "model_8 = Model(inputs = input, outputs = output) "
      ],
      "execution_count": 119,
      "outputs": []
    },
    {
      "cell_type": "code",
      "metadata": {
        "id": "pIzjWb0KvrzZ"
      },
      "source": [
        "initial_epochs = 5"
      ],
      "execution_count": 120,
      "outputs": []
    },
    {
      "cell_type": "code",
      "metadata": {
        "id": "zDLHNT1Sw0TL",
        "colab": {
          "base_uri": "https://localhost:8080/"
        },
        "outputId": "4da78742-7e33-4575-d5ec-62c7cdddb2bd"
      },
      "source": [
        "model_8.compile(optimizer=Adam(0.001), loss = \"binary_crossentropy\", metrics = \"accuracy\")\n",
        "model_8.fit(train_data, epochs=initial_epochs, steps_per_epoch=len(train_data), validation_data= test_data, validation_steps=len(test_data))"
      ],
      "execution_count": 121,
      "outputs": [
        {
          "output_type": "stream",
          "name": "stdout",
          "text": [
            "Epoch 1/5\n",
            "163/163 [==============================] - 30s 133ms/step - loss: 0.3833 - accuracy: 0.8267 - val_loss: 0.5036 - val_accuracy: 0.7115\n",
            "Epoch 2/5\n",
            "163/163 [==============================] - 21s 124ms/step - loss: 0.2398 - accuracy: 0.9038 - val_loss: 0.4099 - val_accuracy: 0.8189\n",
            "Epoch 3/5\n",
            "163/163 [==============================] - 21s 124ms/step - loss: 0.2070 - accuracy: 0.9187 - val_loss: 0.3838 - val_accuracy: 0.8317\n",
            "Epoch 4/5\n",
            "163/163 [==============================] - 21s 124ms/step - loss: 0.1883 - accuracy: 0.9266 - val_loss: 0.3692 - val_accuracy: 0.8462\n",
            "Epoch 5/5\n",
            "163/163 [==============================] - 21s 123ms/step - loss: 0.1883 - accuracy: 0.9227 - val_loss: 0.3520 - val_accuracy: 0.8429\n"
          ]
        },
        {
          "output_type": "execute_result",
          "data": {
            "text/plain": [
              "<keras.callbacks.History at 0x7f8f8a020710>"
            ]
          },
          "metadata": {},
          "execution_count": 121
        }
      ]
    },
    {
      "cell_type": "code",
      "metadata": {
        "id": "9yVs6crYyZhv"
      },
      "source": [
        "#making the last 5 layers trainabe o\n",
        "base_model.trainable = True\n",
        "for layer in base_model.layers[:-5]:\n",
        "  layer.trainable = False"
      ],
      "execution_count": 122,
      "outputs": []
    },
    {
      "cell_type": "code",
      "metadata": {
        "id": "iI6EZRdmbDuS"
      },
      "source": [
        "model_8.compile(optimizer=Adam(0.0001), loss = \"binary_crossentropy\", metrics = \"accuracy\")"
      ],
      "execution_count": 123,
      "outputs": []
    },
    {
      "cell_type": "code",
      "metadata": {
        "id": "tEpQe0xm0XR1",
        "colab": {
          "base_uri": "https://localhost:8080/"
        },
        "outputId": "65cc07b7-13e6-4a3e-fc9e-ca73830152ed"
      },
      "source": [
        "model_8.fit(train_data, epochs=10, steps_per_epoch=len(train_data), validation_data= test_data, validation_steps=len(test_data))"
      ],
      "execution_count": 124,
      "outputs": [
        {
          "output_type": "stream",
          "name": "stdout",
          "text": [
            "Epoch 1/10\n",
            "163/163 [==============================] - 30s 134ms/step - loss: 0.1897 - accuracy: 0.9273 - val_loss: 0.2621 - val_accuracy: 0.9103\n",
            "Epoch 2/10\n",
            "163/163 [==============================] - 21s 125ms/step - loss: 0.1481 - accuracy: 0.9433 - val_loss: 0.2336 - val_accuracy: 0.9167\n",
            "Epoch 3/10\n",
            "163/163 [==============================] - 21s 125ms/step - loss: 0.1318 - accuracy: 0.9475 - val_loss: 0.2257 - val_accuracy: 0.9151\n",
            "Epoch 4/10\n",
            "163/163 [==============================] - 21s 124ms/step - loss: 0.1191 - accuracy: 0.9592 - val_loss: 0.2301 - val_accuracy: 0.9183\n",
            "Epoch 5/10\n",
            "163/163 [==============================] - 21s 124ms/step - loss: 0.1096 - accuracy: 0.9595 - val_loss: 0.3163 - val_accuracy: 0.8622\n",
            "Epoch 6/10\n",
            "163/163 [==============================] - 21s 124ms/step - loss: 0.1029 - accuracy: 0.9611 - val_loss: 0.2620 - val_accuracy: 0.8958\n",
            "Epoch 7/10\n",
            "163/163 [==============================] - 21s 124ms/step - loss: 0.0987 - accuracy: 0.9628 - val_loss: 0.2245 - val_accuracy: 0.9167\n",
            "Epoch 8/10\n",
            "163/163 [==============================] - 21s 125ms/step - loss: 0.0931 - accuracy: 0.9630 - val_loss: 0.2362 - val_accuracy: 0.9231\n",
            "Epoch 9/10\n",
            "163/163 [==============================] - 21s 125ms/step - loss: 0.0895 - accuracy: 0.9655 - val_loss: 0.2329 - val_accuracy: 0.9167\n",
            "Epoch 10/10\n",
            "163/163 [==============================] - 21s 124ms/step - loss: 0.0771 - accuracy: 0.9726 - val_loss: 0.2397 - val_accuracy: 0.9054\n"
          ]
        },
        {
          "output_type": "execute_result",
          "data": {
            "text/plain": [
              "<keras.callbacks.History at 0x7f8c5b16ad10>"
            ]
          },
          "metadata": {},
          "execution_count": 124
        }
      ]
    },
    {
      "cell_type": "markdown",
      "metadata": {
        "id": "QoaaEvzI2eY6"
      },
      "source": [
        "#Model 9 Trying EfficientNetB3 Aug\n",
        "\n"
      ]
    },
    {
      "cell_type": "code",
      "metadata": {
        "id": "BwUuof7X3Lih"
      },
      "source": [
        "from tensorflow.keras.applications import EfficientNetB3"
      ],
      "execution_count": 125,
      "outputs": []
    },
    {
      "cell_type": "code",
      "metadata": {
        "colab": {
          "base_uri": "https://localhost:8080/"
        },
        "id": "tnP1yAyO2kOv",
        "outputId": "5a5bcfad-3154-41ca-f4db-c6ce69935d87"
      },
      "source": [
        "base_modelB3 = EfficientNetB3(include_top=False)\n",
        "base_modelB3.trainable = False"
      ],
      "execution_count": null,
      "outputs": [
        {
          "output_type": "stream",
          "name": "stdout",
          "text": [
            "Downloading data from https://storage.googleapis.com/keras-applications/efficientnetb3_notop.h5\n",
            "43941888/43941136 [==============================] - 0s 0us/step\n",
            "43950080/43941136 [==============================] - 0s 0us/step\n"
          ]
        }
      ]
    },
    {
      "cell_type": "code",
      "metadata": {
        "id": "XrydFzcm30Oc"
      },
      "source": [
        "input = Input(shape = (256,256, 3))\n",
        "x = data_aug(input)\n",
        "x = base_modelB3(x)\n",
        "x = GlobalAveragePooling2D()(x)\n",
        "output = Dense(1, activation= 'sigmoid')(x)\n",
        "model_9 = Model(inputs = input, outputs = output)"
      ],
      "execution_count": null,
      "outputs": []
    },
    {
      "cell_type": "code",
      "metadata": {
        "colab": {
          "base_uri": "https://localhost:8080/"
        },
        "id": "NmgpvbPO4l2C",
        "outputId": "5f921976-3b28-4464-d963-6597f848f126"
      },
      "source": [
        "model_9.compile(optimizer = \"adam\", loss = \"binary_crossentropy\", metrics= ['accuracy'])\n",
        "model_9.fit(train_data, epochs=10, steps_per_epoch= len(train_data), validation_data=test_data, validation_steps=len(test_data))"
      ],
      "execution_count": null,
      "outputs": [
        {
          "output_type": "stream",
          "name": "stdout",
          "text": [
            "Epoch 1/10\n",
            "163/163 [==============================] - 57s 279ms/step - loss: 0.3409 - accuracy: 0.8579 - val_loss: 0.3580 - val_accuracy: 0.8365\n",
            "Epoch 2/10\n",
            "163/163 [==============================] - 39s 234ms/step - loss: 0.2215 - accuracy: 0.9141 - val_loss: 0.2994 - val_accuracy: 0.8862\n",
            "Epoch 3/10\n",
            "163/163 [==============================] - 36s 216ms/step - loss: 0.1907 - accuracy: 0.9296 - val_loss: 0.2832 - val_accuracy: 0.8846\n",
            "Epoch 4/10\n",
            "163/163 [==============================] - 34s 201ms/step - loss: 0.1780 - accuracy: 0.9321 - val_loss: 0.2672 - val_accuracy: 0.8862\n",
            "Epoch 5/10\n",
            "163/163 [==============================] - 33s 197ms/step - loss: 0.1670 - accuracy: 0.9363 - val_loss: 0.2654 - val_accuracy: 0.8926\n",
            "Epoch 6/10\n",
            "163/163 [==============================] - 32s 193ms/step - loss: 0.1621 - accuracy: 0.9377 - val_loss: 0.2640 - val_accuracy: 0.8798\n",
            "Epoch 7/10\n",
            "163/163 [==============================] - 30s 180ms/step - loss: 0.1536 - accuracy: 0.9431 - val_loss: 0.2472 - val_accuracy: 0.9006\n",
            "Epoch 8/10\n",
            "163/163 [==============================] - 31s 183ms/step - loss: 0.1511 - accuracy: 0.9402 - val_loss: 0.2431 - val_accuracy: 0.9071\n",
            "Epoch 9/10\n",
            "163/163 [==============================] - 29s 176ms/step - loss: 0.1468 - accuracy: 0.9436 - val_loss: 0.2384 - val_accuracy: 0.9006\n",
            "Epoch 10/10\n",
            "163/163 [==============================] - 30s 179ms/step - loss: 0.1433 - accuracy: 0.9427 - val_loss: 0.2463 - val_accuracy: 0.8878\n"
          ]
        },
        {
          "output_type": "execute_result",
          "data": {
            "text/plain": [
              "<keras.callbacks.History at 0x7f8d6dce8e90>"
            ]
          },
          "metadata": {},
          "execution_count": 34
        }
      ]
    },
    {
      "cell_type": "code",
      "metadata": {
        "colab": {
          "base_uri": "https://localhost:8080/"
        },
        "id": "unpmPVwb5trj",
        "outputId": "0271cbff-3a0f-4301-eb84-3ae914a74836"
      },
      "source": [
        "model_9.fit(train_data, epochs=5, steps_per_epoch= len(train_data), validation_data=test_data, validation_steps=len(test_data))"
      ],
      "execution_count": null,
      "outputs": [
        {
          "output_type": "stream",
          "name": "stdout",
          "text": [
            "Epoch 1/5\n",
            "163/163 [==============================] - 28s 167ms/step - loss: 0.1386 - accuracy: 0.9457 - val_loss: 0.2460 - val_accuracy: 0.8942\n",
            "Epoch 2/5\n",
            "163/163 [==============================] - 29s 170ms/step - loss: 0.1370 - accuracy: 0.9469 - val_loss: 0.2391 - val_accuracy: 0.9038\n",
            "Epoch 3/5\n",
            "163/163 [==============================] - 28s 164ms/step - loss: 0.1374 - accuracy: 0.9467 - val_loss: 0.2409 - val_accuracy: 0.9038\n",
            "Epoch 4/5\n",
            "163/163 [==============================] - 27s 160ms/step - loss: 0.1368 - accuracy: 0.9467 - val_loss: 0.2406 - val_accuracy: 0.8942\n",
            "Epoch 5/5\n",
            "163/163 [==============================] - 28s 165ms/step - loss: 0.1336 - accuracy: 0.9486 - val_loss: 0.2733 - val_accuracy: 0.8782\n"
          ]
        },
        {
          "output_type": "execute_result",
          "data": {
            "text/plain": [
              "<keras.callbacks.History at 0x7f8d691efc90>"
            ]
          },
          "metadata": {},
          "execution_count": 35
        }
      ]
    },
    {
      "cell_type": "code",
      "metadata": {
        "colab": {
          "base_uri": "https://localhost:8080/"
        },
        "id": "nHtVlTyU71m5",
        "outputId": "ab7c09c3-ba8c-4e66-d82c-14d5521bcc80"
      },
      "source": [
        "#the loss seems to continously go down so MORE EPOCHS!!!!!\n",
        "model_9.fit(train_data, epochs=5, steps_per_epoch= len(train_data), validation_data=test_data, validation_steps=len(test_data))"
      ],
      "execution_count": null,
      "outputs": [
        {
          "output_type": "stream",
          "name": "stdout",
          "text": [
            "Epoch 1/5\n",
            "163/163 [==============================] - 27s 161ms/step - loss: 0.1305 - accuracy: 0.9519 - val_loss: 0.2344 - val_accuracy: 0.9071\n",
            "Epoch 2/5\n",
            "163/163 [==============================] - 27s 163ms/step - loss: 0.1288 - accuracy: 0.9459 - val_loss: 0.2400 - val_accuracy: 0.9038\n",
            "Epoch 3/5\n",
            "163/163 [==============================] - 26s 152ms/step - loss: 0.1291 - accuracy: 0.9538 - val_loss: 0.2497 - val_accuracy: 0.8942\n",
            "Epoch 4/5\n",
            "163/163 [==============================] - 26s 157ms/step - loss: 0.1278 - accuracy: 0.9503 - val_loss: 0.2619 - val_accuracy: 0.8846\n",
            "Epoch 5/5\n",
            "163/163 [==============================] - 26s 153ms/step - loss: 0.1225 - accuracy: 0.9525 - val_loss: 0.2384 - val_accuracy: 0.9054\n"
          ]
        },
        {
          "output_type": "execute_result",
          "data": {
            "text/plain": [
              "<keras.callbacks.History at 0x7f8c657cc8d0>"
            ]
          },
          "metadata": {},
          "execution_count": 36
        }
      ]
    },
    {
      "cell_type": "code",
      "metadata": {
        "id": "vEonM98J72kT"
      },
      "source": [
        "#Seems to preform slightly better "
      ],
      "execution_count": null,
      "outputs": []
    },
    {
      "cell_type": "code",
      "metadata": {
        "colab": {
          "base_uri": "https://localhost:8080/"
        },
        "id": "hR1SnCyIA0q3",
        "outputId": "689dfc63-6580-4e14-f07f-49b14fa58868"
      },
      "source": [
        "model_9.evaluate(test_data)"
      ],
      "execution_count": null,
      "outputs": [
        {
          "output_type": "stream",
          "name": "stdout",
          "text": [
            "20/20 [==============================] - 2s 115ms/step - loss: 0.2384 - accuracy: 0.9054\n"
          ]
        },
        {
          "output_type": "execute_result",
          "data": {
            "text/plain": [
              "[0.23837406933307648, 0.9054487347602844]"
            ]
          },
          "metadata": {},
          "execution_count": 37
        }
      ]
    },
    {
      "cell_type": "code",
      "metadata": {
        "id": "etcN-lxZ_JLp"
      },
      "source": [
        "import tensorflow as tf"
      ],
      "execution_count": null,
      "outputs": []
    },
    {
      "cell_type": "code",
      "metadata": {
        "id": "XQgZF_KEK_PL"
      },
      "source": [
        "def test_labeller(test_data):\n",
        "  #because individual labels are 1 dim vects  \n",
        "  import numpy as np\n",
        "  test_label = np.concatenate([y for x, y in test_data], axis=0) \n",
        "  test_labels = list(map(int, test_label))\n",
        "  return test_labels"
      ],
      "execution_count": null,
      "outputs": []
    },
    {
      "cell_type": "code",
      "metadata": {
        "id": "3XLKLR-R_nto"
      },
      "source": [
        "#predicting\n",
        "def model_predict(model, test_data):\n",
        "  y_predicts = tf.round(model_9.predict(test_data))\n",
        "  y_predicts = list(map(int,y_predicts))\n",
        "  return y_predicts"
      ],
      "execution_count": null,
      "outputs": []
    },
    {
      "cell_type": "code",
      "metadata": {
        "id": "_zj8K9qDLWJU"
      },
      "source": [
        "y_labels = test_labeller(test_data)"
      ],
      "execution_count": null,
      "outputs": []
    },
    {
      "cell_type": "code",
      "metadata": {
        "id": "RY25ScEMAyps"
      },
      "source": [
        "y_predict = model_predict(model_9, test_data)"
      ],
      "execution_count": null,
      "outputs": []
    },
    {
      "cell_type": "code",
      "metadata": {
        "colab": {
          "base_uri": "https://localhost:8080/"
        },
        "id": "3z4YfRgsAkNG",
        "outputId": "c6e64b47-4f31-4086-ef9d-f73a85d7f613"
      },
      "source": [
        "tf.math.confusion_matrix(y_labels, y_predict)"
      ],
      "execution_count": null,
      "outputs": [
        {
          "output_type": "execute_result",
          "data": {
            "text/plain": [
              "<tf.Tensor: shape=(2, 2), dtype=int32, numpy=\n",
              "array([[192,  42],\n",
              "       [ 17, 373]], dtype=int32)>"
            ]
          },
          "metadata": {},
          "execution_count": 43
        }
      ]
    },
    {
      "cell_type": "code",
      "metadata": {
        "id": "G_fHTzsgL31v"
      },
      "source": [
        "#creating confusion matrix\n",
        "def creating_confusion(model, test_data):\n",
        "  def test_labeller(test_data):\n",
        "  #because individual labels are 1 dim vects  \n",
        "    import numpy as np\n",
        "    test_label = np.concatenate([y for x, y in test_data], axis=0) \n",
        "    test_labels = list(map(int, test_label))\n",
        "    return test_labels\n",
        "\n",
        "  def model_predict(model, test_data):\n",
        "    import tensorflow as tf \n",
        "    y_predicts = tf.round(model_9.predict(test_data))\n",
        "    y_predicts = list(map(int,y_predicts))\n",
        "    return y_predicts\n",
        "\n",
        "  pred = model_predict(model, test_data)\n",
        "  labels = test_labeller(test_data)\n",
        "  return tf.math.confusion_matrix(labels, pred)"
      ],
      "execution_count": null,
      "outputs": []
    },
    {
      "cell_type": "code",
      "metadata": {
        "colab": {
          "base_uri": "https://localhost:8080/"
        },
        "id": "7ST866E3NL1D",
        "outputId": "07eb963d-9a50-4108-f1f4-8a93a182d984"
      },
      "source": [
        "creating_confusion(model_9, test_data)"
      ],
      "execution_count": null,
      "outputs": [
        {
          "output_type": "execute_result",
          "data": {
            "text/plain": [
              "<tf.Tensor: shape=(2, 2), dtype=int32, numpy=\n",
              "array([[192,  42],\n",
              "       [ 17, 373]], dtype=int32)>"
            ]
          },
          "metadata": {},
          "execution_count": 45
        }
      ]
    },
    {
      "cell_type": "markdown",
      "metadata": {
        "id": "RG9tcwEX8pLk"
      },
      "source": [
        "B3 last 1 layers not trainable for 10 epochs the trainable for 10 (model \n",
        "\n",
        "---\n",
        "\n",
        "10):"
      ]
    },
    {
      "cell_type": "code",
      "metadata": {
        "id": "gRtcLUiv9Cps",
        "colab": {
          "base_uri": "https://localhost:8080/"
        },
        "outputId": "1277f01d-4ed6-4e4e-ce17-bf00e8d25810"
      },
      "source": [
        "input = Input(shape = (256,256,3))\n",
        "x = data_aug(input)\n",
        "x = base_modelB3(x)\n",
        "x = GlobalAveragePooling2D()(x)\n",
        "output = Dense(1, activation= \"sigmoid\")(x)\n",
        " \n",
        "#intial training epochs\n",
        "intial_epochs = 5\n",
        "\n",
        "\n",
        "model_10 = Model(inputs = input, outputs = output)\n",
        "model_10.compile(optimizer = \"adam\", \n",
        "                 loss = \"binary_crossentropy\",\n",
        "                 metrics = \"accuracy\")\n",
        "model_10.fit(train_data, \n",
        "                 epochs = intial_epochs, \n",
        "                 steps_per_epoch = len(train_data), \n",
        "                 validation_data = test_data, \n",
        "                 validation_steps = len(test_data) )\n"
      ],
      "execution_count": 134,
      "outputs": [
        {
          "output_type": "stream",
          "name": "stdout",
          "text": [
            "Epoch 1/5\n",
            "163/163 [==============================] - 36s 150ms/step - loss: 0.1391 - accuracy: 0.9471 - val_loss: 0.4070 - val_accuracy: 0.8462\n",
            "Epoch 2/5\n",
            "163/163 [==============================] - 23s 135ms/step - loss: 0.0944 - accuracy: 0.9628 - val_loss: 0.3238 - val_accuracy: 0.8830\n",
            "Epoch 3/5\n",
            "163/163 [==============================] - 23s 135ms/step - loss: 0.0902 - accuracy: 0.9661 - val_loss: 0.4544 - val_accuracy: 0.8638\n",
            "Epoch 4/5\n",
            "163/163 [==============================] - 23s 134ms/step - loss: 0.0924 - accuracy: 0.9647 - val_loss: 0.3555 - val_accuracy: 0.8846\n",
            "Epoch 5/5\n",
            "163/163 [==============================] - 23s 134ms/step - loss: 0.0859 - accuracy: 0.9674 - val_loss: 0.2876 - val_accuracy: 0.8846\n"
          ]
        },
        {
          "output_type": "execute_result",
          "data": {
            "text/plain": [
              "<keras.callbacks.History at 0x7f8c652be810>"
            ]
          },
          "metadata": {},
          "execution_count": 134
        }
      ]
    },
    {
      "cell_type": "code",
      "metadata": {
        "id": "OWwhz1PklaYl"
      },
      "source": [
        "#changing last layers to trainable\n",
        "base_modelB3.trainable = True\n",
        "for layer in base_modelB3.layers[:-5]:\n",
        "  layer.trainable = False\n",
        "model_10.compile(optimizer = Adam(0.0001), \n",
        "                 loss = \"binary_crossentropy\",\n",
        "                 metrics = \"accuracy\")"
      ],
      "execution_count": 135,
      "outputs": []
    },
    {
      "cell_type": "code",
      "metadata": {
        "colab": {
          "base_uri": "https://localhost:8080/"
        },
        "id": "VGgRD3qvnlQc",
        "outputId": "a34b77ce-f86a-42dc-92f2-f07643a35bf4"
      },
      "source": [
        "\n",
        "#Doesnt seem to help\n",
        "model_10.fit(train_data, \n",
        "                 epochs = 10, \n",
        "                 steps_per_epoch = len(train_data), \n",
        "                 validation_data = test_data, \n",
        "                 validation_steps = len(test_data) )"
      ],
      "execution_count": 136,
      "outputs": [
        {
          "output_type": "stream",
          "name": "stdout",
          "text": [
            "Epoch 1/10\n",
            "163/163 [==============================] - 36s 148ms/step - loss: 0.0836 - accuracy: 0.9691 - val_loss: 0.3084 - val_accuracy: 0.8782\n",
            "Epoch 2/10\n",
            "163/163 [==============================] - 23s 136ms/step - loss: 0.0757 - accuracy: 0.9701 - val_loss: 0.2839 - val_accuracy: 0.8894\n",
            "Epoch 3/10\n",
            "163/163 [==============================] - 23s 135ms/step - loss: 0.0697 - accuracy: 0.9734 - val_loss: 0.2991 - val_accuracy: 0.8846\n",
            "Epoch 4/10\n",
            "163/163 [==============================] - 23s 134ms/step - loss: 0.0747 - accuracy: 0.9714 - val_loss: 0.2934 - val_accuracy: 0.8814\n",
            "Epoch 5/10\n",
            "163/163 [==============================] - 23s 135ms/step - loss: 0.0727 - accuracy: 0.9745 - val_loss: 0.3060 - val_accuracy: 0.8846\n",
            "Epoch 6/10\n",
            "163/163 [==============================] - 23s 134ms/step - loss: 0.0721 - accuracy: 0.9726 - val_loss: 0.3083 - val_accuracy: 0.8814\n",
            "Epoch 7/10\n",
            "163/163 [==============================] - 23s 134ms/step - loss: 0.0755 - accuracy: 0.9734 - val_loss: 0.3076 - val_accuracy: 0.8846\n",
            "Epoch 8/10\n",
            "163/163 [==============================] - 23s 135ms/step - loss: 0.0670 - accuracy: 0.9737 - val_loss: 0.3065 - val_accuracy: 0.8830\n",
            "Epoch 9/10\n",
            "163/163 [==============================] - 23s 135ms/step - loss: 0.0739 - accuracy: 0.9728 - val_loss: 0.3070 - val_accuracy: 0.8846\n",
            "Epoch 10/10\n",
            "163/163 [==============================] - 23s 135ms/step - loss: 0.0645 - accuracy: 0.9753 - val_loss: 0.2987 - val_accuracy: 0.8878\n"
          ]
        },
        {
          "output_type": "execute_result",
          "data": {
            "text/plain": [
              "<keras.callbacks.History at 0x7f8c652c0510>"
            ]
          },
          "metadata": {},
          "execution_count": 136
        }
      ]
    },
    {
      "cell_type": "markdown",
      "metadata": {
        "id": "3Gegp-NRAfL9"
      },
      "source": [
        "Last 10 laters trainable B3"
      ]
    },
    {
      "cell_type": "code",
      "metadata": {
        "id": "atU68JE3AesO"
      },
      "source": [
        ""
      ],
      "execution_count": null,
      "outputs": []
    },
    {
      "cell_type": "code",
      "metadata": {
        "id": "K9Vn9R7lVh8C",
        "colab": {
          "base_uri": "https://localhost:8080/"
        },
        "outputId": "79a87e64-8dc7-42c2-c523-8d3461670989"
      },
      "source": [
        "input = Input(shape = (256,256,3))\n",
        "x = data_aug(input)\n",
        "x = base_modelB3(x)\n",
        "x = GlobalAveragePooling2D()(x)\n",
        "output = Dense(1, activation= \"sigmoid\")(x)\n",
        " \n",
        "#intial training epochs\n",
        "intial_epochs = 5\n",
        "\n",
        "\n",
        "model_11 = Model(inputs = input, outputs = output)\n",
        "model_11.compile(optimizer = \"adam\", \n",
        "                 loss = \"binary_crossentropy\",\n",
        "                 metrics = \"accuracy\")\n",
        "model_11.fit(train_data, \n",
        "                 epochs = intial_epochs, \n",
        "                 steps_per_epoch = len(train_data), \n",
        "                 validation_data = test_data, \n",
        "                 validation_steps = len(test_data) )"
      ],
      "execution_count": 139,
      "outputs": [
        {
          "output_type": "stream",
          "name": "stdout",
          "text": [
            "Epoch 1/5\n",
            "163/163 [==============================] - 36s 150ms/step - loss: 0.1243 - accuracy: 0.9536 - val_loss: 0.6866 - val_accuracy: 0.7724\n",
            "Epoch 2/5\n",
            "163/163 [==============================] - 23s 135ms/step - loss: 0.0846 - accuracy: 0.9676 - val_loss: 0.3180 - val_accuracy: 0.8766\n",
            "Epoch 3/5\n",
            "163/163 [==============================] - 23s 134ms/step - loss: 0.0842 - accuracy: 0.9688 - val_loss: 0.3248 - val_accuracy: 0.8830\n",
            "Epoch 4/5\n",
            "163/163 [==============================] - 23s 136ms/step - loss: 0.0766 - accuracy: 0.9707 - val_loss: 0.3377 - val_accuracy: 0.8766\n",
            "Epoch 5/5\n",
            "163/163 [==============================] - 23s 135ms/step - loss: 0.0845 - accuracy: 0.9664 - val_loss: 0.4399 - val_accuracy: 0.8574\n"
          ]
        },
        {
          "output_type": "execute_result",
          "data": {
            "text/plain": [
              "<keras.callbacks.History at 0x7f8c591e2590>"
            ]
          },
          "metadata": {},
          "execution_count": 139
        }
      ]
    },
    {
      "cell_type": "code",
      "metadata": {
        "id": "LQ6sTwJoBEoH"
      },
      "source": [
        "#changing last layers to trainable\n",
        "base_modelB3.trainable = True\n",
        "for layer in base_modelB3.layers[:-10]:\n",
        "  layer.trainable = False\n",
        "model_11.compile(optimizer = Adam(0.0001), \n",
        "                 loss = \"binary_crossentropy\",\n",
        "                 metrics = \"accuracy\")"
      ],
      "execution_count": 140,
      "outputs": []
    },
    {
      "cell_type": "code",
      "metadata": {
        "colab": {
          "base_uri": "https://localhost:8080/"
        },
        "id": "aztwEx21BTyj",
        "outputId": "d2738b7b-5c36-4359-c9eb-9f6a71d49673"
      },
      "source": [
        "#seems to get the lowest loss\n",
        "\n",
        "model_11.fit(train_data, \n",
        "                 epochs = 10, \n",
        "                 steps_per_epoch = len(train_data), \n",
        "                 validation_data = test_data, \n",
        "                 validation_steps = len(test_data) )"
      ],
      "execution_count": 141,
      "outputs": [
        {
          "output_type": "stream",
          "name": "stdout",
          "text": [
            "Epoch 1/10\n",
            "163/163 [==============================] - 37s 152ms/step - loss: 0.0836 - accuracy: 0.9657 - val_loss: 0.4451 - val_accuracy: 0.8510\n",
            "Epoch 2/10\n",
            "163/163 [==============================] - 23s 136ms/step - loss: 0.0809 - accuracy: 0.9697 - val_loss: 0.4605 - val_accuracy: 0.8397\n",
            "Epoch 3/10\n",
            "163/163 [==============================] - 23s 135ms/step - loss: 0.0656 - accuracy: 0.9749 - val_loss: 0.2863 - val_accuracy: 0.8766\n",
            "Epoch 4/10\n",
            "163/163 [==============================] - 23s 135ms/step - loss: 0.0652 - accuracy: 0.9755 - val_loss: 0.4455 - val_accuracy: 0.8526\n",
            "Epoch 5/10\n",
            "163/163 [==============================] - 23s 136ms/step - loss: 0.0579 - accuracy: 0.9795 - val_loss: 0.2153 - val_accuracy: 0.9375\n",
            "Epoch 6/10\n",
            "163/163 [==============================] - 23s 136ms/step - loss: 0.0672 - accuracy: 0.9732 - val_loss: 0.2136 - val_accuracy: 0.9167\n",
            "Epoch 7/10\n",
            "163/163 [==============================] - 23s 136ms/step - loss: 0.0588 - accuracy: 0.9778 - val_loss: 0.2236 - val_accuracy: 0.9167\n",
            "Epoch 8/10\n",
            "163/163 [==============================] - 23s 135ms/step - loss: 0.0640 - accuracy: 0.9757 - val_loss: 0.2170 - val_accuracy: 0.9151\n",
            "Epoch 9/10\n",
            "163/163 [==============================] - 23s 137ms/step - loss: 0.0688 - accuracy: 0.9745 - val_loss: 0.2680 - val_accuracy: 0.9038\n",
            "Epoch 10/10\n",
            "163/163 [==============================] - 23s 134ms/step - loss: 0.0657 - accuracy: 0.9737 - val_loss: 0.3170 - val_accuracy: 0.8846\n"
          ]
        },
        {
          "output_type": "execute_result",
          "data": {
            "text/plain": [
              "<keras.callbacks.History at 0x7f8c2d9e0050>"
            ]
          },
          "metadata": {},
          "execution_count": 141
        }
      ]
    },
    {
      "cell_type": "markdown",
      "metadata": {
        "id": "AfDSftKndH7e"
      },
      "source": [
        "EfficienetB7 Data Aug model 11"
      ]
    },
    {
      "cell_type": "code",
      "metadata": {
        "id": "oZzYzAbGdMfm"
      },
      "source": [
        "from tensorflow.keras.applications import EfficientNetB7"
      ],
      "execution_count": null,
      "outputs": []
    },
    {
      "cell_type": "code",
      "metadata": {
        "id": "BlI5S1_PdY7z"
      },
      "source": [
        "base_modelB7 = EfficientNetB7(include_top=False)\n",
        "base_modelB7.trainable = False"
      ],
      "execution_count": null,
      "outputs": []
    },
    {
      "cell_type": "code",
      "metadata": {
        "id": "SuH0VMhyd6xI"
      },
      "source": [
        "input = Input(shape = (256,256,3))\n",
        "x = data_aug(input)\n",
        "x = base_modelB7(x)\n",
        "x = GlobalAveragePooling2D()(x)\n",
        "output = Dense(1, activation= \"sigmoid\")(x)\n",
        "model_11 = Model(inputs= input, outputs =output)"
      ],
      "execution_count": null,
      "outputs": []
    },
    {
      "cell_type": "code",
      "metadata": {
        "colab": {
          "base_uri": "https://localhost:8080/"
        },
        "id": "K9G8iUjPkGLs",
        "outputId": "33053c15-f843-45be-9f34-513344da726e"
      },
      "source": [
        "model_11.compile(optimizer = \"adam\", \n",
        "                 loss = \"binary_crossentropy\",\n",
        "                 metrics = \"accuracy\")\n",
        "model_11.fit(train_data, \n",
        "                 epochs = 10, \n",
        "                 steps_per_epoch = len(train_data), \n",
        "                 validation_data = test_data, \n",
        "                 validation_steps = len(test_data) )"
      ],
      "execution_count": null,
      "outputs": [
        {
          "output_type": "stream",
          "name": "stdout",
          "text": [
            "Epoch 1/10\n",
            "163/163 [==============================] - 109s 522ms/step - loss: 0.3348 - accuracy: 0.8616 - val_loss: 0.3957 - val_accuracy: 0.8349\n",
            "Epoch 2/10\n",
            "163/163 [==============================] - 73s 440ms/step - loss: 0.2137 - accuracy: 0.9170 - val_loss: 0.3634 - val_accuracy: 0.8462\n",
            "Epoch 3/10\n",
            "163/163 [==============================] - 71s 431ms/step - loss: 0.1904 - accuracy: 0.9268 - val_loss: 0.3214 - val_accuracy: 0.8750\n",
            "Epoch 4/10\n",
            "163/163 [==============================] - 69s 415ms/step - loss: 0.1776 - accuracy: 0.9312 - val_loss: 0.3195 - val_accuracy: 0.8686\n",
            "Epoch 5/10\n",
            "163/163 [==============================] - 67s 403ms/step - loss: 0.1732 - accuracy: 0.9329 - val_loss: 0.3155 - val_accuracy: 0.8702\n",
            "Epoch 6/10\n",
            "163/163 [==============================] - 65s 395ms/step - loss: 0.1664 - accuracy: 0.9381 - val_loss: 0.3409 - val_accuracy: 0.8462\n",
            "Epoch 7/10\n",
            "163/163 [==============================] - 63s 382ms/step - loss: 0.1571 - accuracy: 0.9404 - val_loss: 0.2998 - val_accuracy: 0.8798\n",
            "Epoch 8/10\n",
            "163/163 [==============================] - 62s 375ms/step - loss: 0.1609 - accuracy: 0.9415 - val_loss: 0.3235 - val_accuracy: 0.8494\n",
            "Epoch 9/10\n",
            "163/163 [==============================] - 63s 380ms/step - loss: 0.1566 - accuracy: 0.9408 - val_loss: 0.3046 - val_accuracy: 0.8702\n",
            "Epoch 10/10\n",
            "163/163 [==============================] - 62s 378ms/step - loss: 0.1452 - accuracy: 0.9450 - val_loss: 0.2824 - val_accuracy: 0.8814\n"
          ]
        },
        {
          "output_type": "execute_result",
          "data": {
            "text/plain": [
              "<keras.callbacks.History at 0x7eff59de1490>"
            ]
          },
          "metadata": {},
          "execution_count": 49
        }
      ]
    },
    {
      "cell_type": "code",
      "metadata": {
        "id": "iFsmQT3ElLr8"
      },
      "source": [
        "#seems to be overfitting more tunin ith efficinetB0 and trainable layers"
      ],
      "execution_count": null,
      "outputs": []
    },
    {
      "cell_type": "code",
      "metadata": {
        "id": "tGG9Br_9p6hb"
      },
      "source": [
        ""
      ],
      "execution_count": null,
      "outputs": []
    }
  ]
}