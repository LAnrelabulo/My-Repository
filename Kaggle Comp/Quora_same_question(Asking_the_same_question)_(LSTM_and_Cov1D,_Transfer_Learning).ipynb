{
  "nbformat": 4,
  "nbformat_minor": 0,
  "metadata": {
    "kernelspec": {
      "display_name": "Python 3",
      "language": "python",
      "name": "python3"
    },
    "language_info": {
      "codemirror_mode": {
        "name": "ipython",
        "version": 3
      },
      "file_extension": ".py",
      "mimetype": "text/x-python",
      "name": "python",
      "nbconvert_exporter": "python",
      "pygments_lexer": "ipython3",
      "version": "3.8.3"
    },
    "colab": {
      "name": "Quora (Asking the same question) (LSTM and Cov1D, Transfer Learning).ipynb",
      "provenance": [],
      "machine_shape": "hm",
      "collapsed_sections": [
        "GIq-WDb01uEw",
        "Ier5G64NM6ZW",
        "8nuMz-0oQu1n"
      ]
    },
    "accelerator": "GPU"
  },
  "cells": [
    {
      "cell_type": "markdown",
      "metadata": {
        "id": "Jr6RtVC63OSr"
      },
      "source": [
        "The aim is to compare questions to see if they are asking the same thing"
      ]
    },
    {
      "cell_type": "code",
      "metadata": {
        "id": "Xhw3epxF1zlW"
      },
      "source": [
        "import tensorflow_hub as hub"
      ],
      "execution_count": null,
      "outputs": []
    },
    {
      "cell_type": "code",
      "metadata": {
        "id": "L8aRwKE31uEB"
      },
      "source": [
        "import numpy as np\n",
        "from tensorflow.keras.models import Sequential, Model\n",
        "from tensorflow.keras.layers import Dense, TextVectorization,Dropout, Embedding,GlobalMaxPooling1D ,Conv1D,LSTM, TextVectorization, Input\n",
        "from tensorflow.keras.regularizers import l2\n",
        "import pandas as pd\n",
        "import tensorflow as tf\n",
        "import pandas as pd\n"
      ],
      "execution_count": null,
      "outputs": []
    },
    {
      "cell_type": "code",
      "metadata": {
        "id": "DbvmwkCDNKBD"
      },
      "source": [
        "data = pd.read_csv('train.csv')"
      ],
      "execution_count": null,
      "outputs": []
    },
    {
      "cell_type": "code",
      "source": [
        "data.head()"
      ],
      "metadata": {
        "colab": {
          "base_uri": "https://localhost:8080/",
          "height": 337
        },
        "id": "fmkOZUCAcJ6j",
        "outputId": "98c09628-b1a6-442c-f500-9186a4d58ff8"
      },
      "execution_count": null,
      "outputs": [
        {
          "output_type": "execute_result",
          "data": {
            "text/html": [
              "\n",
              "  <div id=\"df-30753059-7c6c-45fb-a2cc-3a0a44face82\">\n",
              "    <div class=\"colab-df-container\">\n",
              "      <div>\n",
              "<style scoped>\n",
              "    .dataframe tbody tr th:only-of-type {\n",
              "        vertical-align: middle;\n",
              "    }\n",
              "\n",
              "    .dataframe tbody tr th {\n",
              "        vertical-align: top;\n",
              "    }\n",
              "\n",
              "    .dataframe thead th {\n",
              "        text-align: right;\n",
              "    }\n",
              "</style>\n",
              "<table border=\"1\" class=\"dataframe\">\n",
              "  <thead>\n",
              "    <tr style=\"text-align: right;\">\n",
              "      <th></th>\n",
              "      <th>id</th>\n",
              "      <th>qid1</th>\n",
              "      <th>qid2</th>\n",
              "      <th>question1</th>\n",
              "      <th>question2</th>\n",
              "      <th>is_duplicate</th>\n",
              "    </tr>\n",
              "  </thead>\n",
              "  <tbody>\n",
              "    <tr>\n",
              "      <th>0</th>\n",
              "      <td>0</td>\n",
              "      <td>1</td>\n",
              "      <td>2</td>\n",
              "      <td>What is the step by step guide to invest in sh...</td>\n",
              "      <td>What is the step by step guide to invest in sh...</td>\n",
              "      <td>0</td>\n",
              "    </tr>\n",
              "    <tr>\n",
              "      <th>1</th>\n",
              "      <td>1</td>\n",
              "      <td>3</td>\n",
              "      <td>4</td>\n",
              "      <td>What is the story of Kohinoor (Koh-i-Noor) Dia...</td>\n",
              "      <td>What would happen if the Indian government sto...</td>\n",
              "      <td>0</td>\n",
              "    </tr>\n",
              "    <tr>\n",
              "      <th>2</th>\n",
              "      <td>2</td>\n",
              "      <td>5</td>\n",
              "      <td>6</td>\n",
              "      <td>How can I increase the speed of my internet co...</td>\n",
              "      <td>How can Internet speed be increased by hacking...</td>\n",
              "      <td>0</td>\n",
              "    </tr>\n",
              "    <tr>\n",
              "      <th>3</th>\n",
              "      <td>3</td>\n",
              "      <td>7</td>\n",
              "      <td>8</td>\n",
              "      <td>Why am I mentally very lonely? How can I solve...</td>\n",
              "      <td>Find the remainder when [math]23^{24}[/math] i...</td>\n",
              "      <td>0</td>\n",
              "    </tr>\n",
              "    <tr>\n",
              "      <th>4</th>\n",
              "      <td>4</td>\n",
              "      <td>9</td>\n",
              "      <td>10</td>\n",
              "      <td>Which one dissolve in water quikly sugar, salt...</td>\n",
              "      <td>Which fish would survive in salt water?</td>\n",
              "      <td>0</td>\n",
              "    </tr>\n",
              "  </tbody>\n",
              "</table>\n",
              "</div>\n",
              "      <button class=\"colab-df-convert\" onclick=\"convertToInteractive('df-30753059-7c6c-45fb-a2cc-3a0a44face82')\"\n",
              "              title=\"Convert this dataframe to an interactive table.\"\n",
              "              style=\"display:none;\">\n",
              "        \n",
              "  <svg xmlns=\"http://www.w3.org/2000/svg\" height=\"24px\"viewBox=\"0 0 24 24\"\n",
              "       width=\"24px\">\n",
              "    <path d=\"M0 0h24v24H0V0z\" fill=\"none\"/>\n",
              "    <path d=\"M18.56 5.44l.94 2.06.94-2.06 2.06-.94-2.06-.94-.94-2.06-.94 2.06-2.06.94zm-11 1L8.5 8.5l.94-2.06 2.06-.94-2.06-.94L8.5 2.5l-.94 2.06-2.06.94zm10 10l.94 2.06.94-2.06 2.06-.94-2.06-.94-.94-2.06-.94 2.06-2.06.94z\"/><path d=\"M17.41 7.96l-1.37-1.37c-.4-.4-.92-.59-1.43-.59-.52 0-1.04.2-1.43.59L10.3 9.45l-7.72 7.72c-.78.78-.78 2.05 0 2.83L4 21.41c.39.39.9.59 1.41.59.51 0 1.02-.2 1.41-.59l7.78-7.78 2.81-2.81c.8-.78.8-2.07 0-2.86zM5.41 20L4 18.59l7.72-7.72 1.47 1.35L5.41 20z\"/>\n",
              "  </svg>\n",
              "      </button>\n",
              "      \n",
              "  <style>\n",
              "    .colab-df-container {\n",
              "      display:flex;\n",
              "      flex-wrap:wrap;\n",
              "      gap: 12px;\n",
              "    }\n",
              "\n",
              "    .colab-df-convert {\n",
              "      background-color: #E8F0FE;\n",
              "      border: none;\n",
              "      border-radius: 50%;\n",
              "      cursor: pointer;\n",
              "      display: none;\n",
              "      fill: #1967D2;\n",
              "      height: 32px;\n",
              "      padding: 0 0 0 0;\n",
              "      width: 32px;\n",
              "    }\n",
              "\n",
              "    .colab-df-convert:hover {\n",
              "      background-color: #E2EBFA;\n",
              "      box-shadow: 0px 1px 2px rgba(60, 64, 67, 0.3), 0px 1px 3px 1px rgba(60, 64, 67, 0.15);\n",
              "      fill: #174EA6;\n",
              "    }\n",
              "\n",
              "    [theme=dark] .colab-df-convert {\n",
              "      background-color: #3B4455;\n",
              "      fill: #D2E3FC;\n",
              "    }\n",
              "\n",
              "    [theme=dark] .colab-df-convert:hover {\n",
              "      background-color: #434B5C;\n",
              "      box-shadow: 0px 1px 3px 1px rgba(0, 0, 0, 0.15);\n",
              "      filter: drop-shadow(0px 1px 2px rgba(0, 0, 0, 0.3));\n",
              "      fill: #FFFFFF;\n",
              "    }\n",
              "  </style>\n",
              "\n",
              "      <script>\n",
              "        const buttonEl =\n",
              "          document.querySelector('#df-30753059-7c6c-45fb-a2cc-3a0a44face82 button.colab-df-convert');\n",
              "        buttonEl.style.display =\n",
              "          google.colab.kernel.accessAllowed ? 'block' : 'none';\n",
              "\n",
              "        async function convertToInteractive(key) {\n",
              "          const element = document.querySelector('#df-30753059-7c6c-45fb-a2cc-3a0a44face82');\n",
              "          const dataTable =\n",
              "            await google.colab.kernel.invokeFunction('convertToInteractive',\n",
              "                                                     [key], {});\n",
              "          if (!dataTable) return;\n",
              "\n",
              "          const docLinkHtml = 'Like what you see? Visit the ' +\n",
              "            '<a target=\"_blank\" href=https://colab.research.google.com/notebooks/data_table.ipynb>data table notebook</a>'\n",
              "            + ' to learn more about interactive tables.';\n",
              "          element.innerHTML = '';\n",
              "          dataTable['output_type'] = 'display_data';\n",
              "          await google.colab.output.renderOutput(dataTable, element);\n",
              "          const docLink = document.createElement('div');\n",
              "          docLink.innerHTML = docLinkHtml;\n",
              "          element.appendChild(docLink);\n",
              "        }\n",
              "      </script>\n",
              "    </div>\n",
              "  </div>\n",
              "  "
            ],
            "text/plain": [
              "   id  qid1  ...                                          question2 is_duplicate\n",
              "0   0     1  ...  What is the step by step guide to invest in sh...            0\n",
              "1   1     3  ...  What would happen if the Indian government sto...            0\n",
              "2   2     5  ...  How can Internet speed be increased by hacking...            0\n",
              "3   3     7  ...  Find the remainder when [math]23^{24}[/math] i...            0\n",
              "4   4     9  ...            Which fish would survive in salt water?            0\n",
              "\n",
              "[5 rows x 6 columns]"
            ]
          },
          "metadata": {},
          "execution_count": 73
        }
      ]
    },
    {
      "cell_type": "code",
      "metadata": {
        "id": "bq2l6Ge52Ko4"
      },
      "source": [
        "def calculate_results(y_true, y_pred):\n",
        "  \"\"\"\n",
        "  Calculates model accuracy, precision, recall and f1 score of a binary classification model.\n",
        "\n",
        "  Args:\n",
        "      y_true: true labels in the form of a 1D array\n",
        "      y_pred: predicted labels in the form of a 1D array\n",
        "\n",
        "  Returns a dictionary of accuracy, precision, recall, f1-score.\n",
        "  \"\"\"\n",
        "  from sklearn.metrics import accuracy_score, precision_recall_fscore_support\n",
        "  # Calculate model accuracy\n",
        "  model_accuracy = accuracy_score(y_true, y_pred) * 100\n",
        "  # Calculate model precision, recall and f1 score using \"weighted average\n",
        "  model_precision, model_recall, model_f1, _ = precision_recall_fscore_support(y_true, y_pred, average=\"weighted\")\n",
        "  model_results = {\"accuracy\": model_accuracy,\n",
        "                  \"precision\": model_precision,\n",
        "                  \"recall\": model_recall,\n",
        "                  \"f1\": model_f1}\n",
        "  return model_results"
      ],
      "execution_count": null,
      "outputs": []
    },
    {
      "cell_type": "code",
      "metadata": {
        "id": "zJ-VN0fU7CC_"
      },
      "source": [
        "#creating data\n",
        "data_questions_y = data[ [\"question1\", \"question2\", \"is_duplicate\"]]"
      ],
      "execution_count": null,
      "outputs": []
    },
    {
      "cell_type": "code",
      "metadata": {
        "colab": {
          "base_uri": "https://localhost:8080/",
          "height": 337
        },
        "id": "v0IRQy9R1uED",
        "outputId": "870fef6a-7686-4b88-e5bf-d997d9040ba4"
      },
      "source": [
        "data_questions_y.head()"
      ],
      "execution_count": null,
      "outputs": [
        {
          "output_type": "execute_result",
          "data": {
            "text/html": [
              "\n",
              "  <div id=\"df-8166dacf-d184-4793-ba54-7f27c3015414\">\n",
              "    <div class=\"colab-df-container\">\n",
              "      <div>\n",
              "<style scoped>\n",
              "    .dataframe tbody tr th:only-of-type {\n",
              "        vertical-align: middle;\n",
              "    }\n",
              "\n",
              "    .dataframe tbody tr th {\n",
              "        vertical-align: top;\n",
              "    }\n",
              "\n",
              "    .dataframe thead th {\n",
              "        text-align: right;\n",
              "    }\n",
              "</style>\n",
              "<table border=\"1\" class=\"dataframe\">\n",
              "  <thead>\n",
              "    <tr style=\"text-align: right;\">\n",
              "      <th></th>\n",
              "      <th>question1</th>\n",
              "      <th>question2</th>\n",
              "      <th>is_duplicate</th>\n",
              "    </tr>\n",
              "  </thead>\n",
              "  <tbody>\n",
              "    <tr>\n",
              "      <th>0</th>\n",
              "      <td>What is the step by step guide to invest in sh...</td>\n",
              "      <td>What is the step by step guide to invest in sh...</td>\n",
              "      <td>0</td>\n",
              "    </tr>\n",
              "    <tr>\n",
              "      <th>1</th>\n",
              "      <td>What is the story of Kohinoor (Koh-i-Noor) Dia...</td>\n",
              "      <td>What would happen if the Indian government sto...</td>\n",
              "      <td>0</td>\n",
              "    </tr>\n",
              "    <tr>\n",
              "      <th>2</th>\n",
              "      <td>How can I increase the speed of my internet co...</td>\n",
              "      <td>How can Internet speed be increased by hacking...</td>\n",
              "      <td>0</td>\n",
              "    </tr>\n",
              "    <tr>\n",
              "      <th>3</th>\n",
              "      <td>Why am I mentally very lonely? How can I solve...</td>\n",
              "      <td>Find the remainder when [math]23^{24}[/math] i...</td>\n",
              "      <td>0</td>\n",
              "    </tr>\n",
              "    <tr>\n",
              "      <th>4</th>\n",
              "      <td>Which one dissolve in water quikly sugar, salt...</td>\n",
              "      <td>Which fish would survive in salt water?</td>\n",
              "      <td>0</td>\n",
              "    </tr>\n",
              "  </tbody>\n",
              "</table>\n",
              "</div>\n",
              "      <button class=\"colab-df-convert\" onclick=\"convertToInteractive('df-8166dacf-d184-4793-ba54-7f27c3015414')\"\n",
              "              title=\"Convert this dataframe to an interactive table.\"\n",
              "              style=\"display:none;\">\n",
              "        \n",
              "  <svg xmlns=\"http://www.w3.org/2000/svg\" height=\"24px\"viewBox=\"0 0 24 24\"\n",
              "       width=\"24px\">\n",
              "    <path d=\"M0 0h24v24H0V0z\" fill=\"none\"/>\n",
              "    <path d=\"M18.56 5.44l.94 2.06.94-2.06 2.06-.94-2.06-.94-.94-2.06-.94 2.06-2.06.94zm-11 1L8.5 8.5l.94-2.06 2.06-.94-2.06-.94L8.5 2.5l-.94 2.06-2.06.94zm10 10l.94 2.06.94-2.06 2.06-.94-2.06-.94-.94-2.06-.94 2.06-2.06.94z\"/><path d=\"M17.41 7.96l-1.37-1.37c-.4-.4-.92-.59-1.43-.59-.52 0-1.04.2-1.43.59L10.3 9.45l-7.72 7.72c-.78.78-.78 2.05 0 2.83L4 21.41c.39.39.9.59 1.41.59.51 0 1.02-.2 1.41-.59l7.78-7.78 2.81-2.81c.8-.78.8-2.07 0-2.86zM5.41 20L4 18.59l7.72-7.72 1.47 1.35L5.41 20z\"/>\n",
              "  </svg>\n",
              "      </button>\n",
              "      \n",
              "  <style>\n",
              "    .colab-df-container {\n",
              "      display:flex;\n",
              "      flex-wrap:wrap;\n",
              "      gap: 12px;\n",
              "    }\n",
              "\n",
              "    .colab-df-convert {\n",
              "      background-color: #E8F0FE;\n",
              "      border: none;\n",
              "      border-radius: 50%;\n",
              "      cursor: pointer;\n",
              "      display: none;\n",
              "      fill: #1967D2;\n",
              "      height: 32px;\n",
              "      padding: 0 0 0 0;\n",
              "      width: 32px;\n",
              "    }\n",
              "\n",
              "    .colab-df-convert:hover {\n",
              "      background-color: #E2EBFA;\n",
              "      box-shadow: 0px 1px 2px rgba(60, 64, 67, 0.3), 0px 1px 3px 1px rgba(60, 64, 67, 0.15);\n",
              "      fill: #174EA6;\n",
              "    }\n",
              "\n",
              "    [theme=dark] .colab-df-convert {\n",
              "      background-color: #3B4455;\n",
              "      fill: #D2E3FC;\n",
              "    }\n",
              "\n",
              "    [theme=dark] .colab-df-convert:hover {\n",
              "      background-color: #434B5C;\n",
              "      box-shadow: 0px 1px 3px 1px rgba(0, 0, 0, 0.15);\n",
              "      filter: drop-shadow(0px 1px 2px rgba(0, 0, 0, 0.3));\n",
              "      fill: #FFFFFF;\n",
              "    }\n",
              "  </style>\n",
              "\n",
              "      <script>\n",
              "        const buttonEl =\n",
              "          document.querySelector('#df-8166dacf-d184-4793-ba54-7f27c3015414 button.colab-df-convert');\n",
              "        buttonEl.style.display =\n",
              "          google.colab.kernel.accessAllowed ? 'block' : 'none';\n",
              "\n",
              "        async function convertToInteractive(key) {\n",
              "          const element = document.querySelector('#df-8166dacf-d184-4793-ba54-7f27c3015414');\n",
              "          const dataTable =\n",
              "            await google.colab.kernel.invokeFunction('convertToInteractive',\n",
              "                                                     [key], {});\n",
              "          if (!dataTable) return;\n",
              "\n",
              "          const docLinkHtml = 'Like what you see? Visit the ' +\n",
              "            '<a target=\"_blank\" href=https://colab.research.google.com/notebooks/data_table.ipynb>data table notebook</a>'\n",
              "            + ' to learn more about interactive tables.';\n",
              "          element.innerHTML = '';\n",
              "          dataTable['output_type'] = 'display_data';\n",
              "          await google.colab.output.renderOutput(dataTable, element);\n",
              "          const docLink = document.createElement('div');\n",
              "          docLink.innerHTML = docLinkHtml;\n",
              "          element.appendChild(docLink);\n",
              "        }\n",
              "      </script>\n",
              "    </div>\n",
              "  </div>\n",
              "  "
            ],
            "text/plain": [
              "                                           question1  ... is_duplicate\n",
              "0  What is the step by step guide to invest in sh...  ...            0\n",
              "1  What is the story of Kohinoor (Koh-i-Noor) Dia...  ...            0\n",
              "2  How can I increase the speed of my internet co...  ...            0\n",
              "3  Why am I mentally very lonely? How can I solve...  ...            0\n",
              "4  Which one dissolve in water quikly sugar, salt...  ...            0\n",
              "\n",
              "[5 rows x 3 columns]"
            ]
          },
          "metadata": {},
          "execution_count": 11
        }
      ]
    },
    {
      "cell_type": "code",
      "metadata": {
        "id": "6BHe4TEA18DJ"
      },
      "source": [
        "X = data_questions_y.drop(\"is_duplicate\", axis =1)\n",
        "y = data_questions_y.is_duplicate"
      ],
      "execution_count": null,
      "outputs": []
    },
    {
      "cell_type": "code",
      "metadata": {
        "id": "yJPv7Cha1uEG"
      },
      "source": [
        "import plotly.graph_objects as go"
      ],
      "execution_count": null,
      "outputs": []
    },
    {
      "cell_type": "code",
      "metadata": {
        "id": "ZGB1Iz0N1uEJ"
      },
      "source": [
        "#Creating a pie plot \n",
        "def plot_distribution(pd_series):\n",
        "    labels = pd_series.value_counts().index.tolist()\n",
        "    counts = pd_series.value_counts().values.tolist()\n",
        "    \n",
        "    pie_plot = go.Pie(labels=labels, values=counts, hole=.3)\n",
        "    fig = go.Figure(data=[pie_plot])\n",
        "    fig.update_layout(title_text='Distribution for %s' % pd_series.name)\n",
        "    fig.show()"
      ],
      "execution_count": null,
      "outputs": []
    },
    {
      "cell_type": "code",
      "metadata": {
        "colab": {
          "base_uri": "https://localhost:8080/",
          "height": 542
        },
        "id": "VPFLINWn1uEM",
        "outputId": "b6cc07dd-46f5-4ab8-fc9e-ea3ca7e95690"
      },
      "source": [
        "plot_distribution(data.is_duplicate)"
      ],
      "execution_count": null,
      "outputs": [
        {
          "output_type": "display_data",
          "data": {
            "text/html": [
              "<html>\n",
              "<head><meta charset=\"utf-8\" /></head>\n",
              "<body>\n",
              "    <div>\n",
              "            <script src=\"https://cdnjs.cloudflare.com/ajax/libs/mathjax/2.7.5/MathJax.js?config=TeX-AMS-MML_SVG\"></script><script type=\"text/javascript\">if (window.MathJax) {MathJax.Hub.Config({SVG: {font: \"STIX-Web\"}});}</script>\n",
              "                <script type=\"text/javascript\">window.PlotlyConfig = {MathJaxConfig: 'local'};</script>\n",
              "        <script src=\"https://cdn.plot.ly/plotly-latest.min.js\"></script>    \n",
              "            <div id=\"0149b92e-70ac-4e3d-a9aa-356bacad2340\" class=\"plotly-graph-div\" style=\"height:525px; width:100%;\"></div>\n",
              "            <script type=\"text/javascript\">\n",
              "                \n",
              "                    window.PLOTLYENV=window.PLOTLYENV || {};\n",
              "                    \n",
              "                if (document.getElementById(\"0149b92e-70ac-4e3d-a9aa-356bacad2340\")) {\n",
              "                    Plotly.newPlot(\n",
              "                        '0149b92e-70ac-4e3d-a9aa-356bacad2340',\n",
              "                        [{\"hole\": 0.3, \"labels\": [0, 1], \"type\": \"pie\", \"values\": [255027, 149263]}],\n",
              "                        {\"template\": {\"data\": {\"bar\": [{\"error_x\": {\"color\": \"#2a3f5f\"}, \"error_y\": {\"color\": \"#2a3f5f\"}, \"marker\": {\"line\": {\"color\": \"#E5ECF6\", \"width\": 0.5}}, \"type\": \"bar\"}], \"barpolar\": [{\"marker\": {\"line\": {\"color\": \"#E5ECF6\", \"width\": 0.5}}, \"type\": \"barpolar\"}], \"carpet\": [{\"aaxis\": {\"endlinecolor\": \"#2a3f5f\", \"gridcolor\": \"white\", \"linecolor\": \"white\", \"minorgridcolor\": \"white\", \"startlinecolor\": \"#2a3f5f\"}, \"baxis\": {\"endlinecolor\": \"#2a3f5f\", \"gridcolor\": \"white\", \"linecolor\": \"white\", \"minorgridcolor\": \"white\", \"startlinecolor\": \"#2a3f5f\"}, \"type\": \"carpet\"}], \"choropleth\": [{\"colorbar\": {\"outlinewidth\": 0, \"ticks\": \"\"}, \"type\": \"choropleth\"}], \"contour\": [{\"colorbar\": {\"outlinewidth\": 0, \"ticks\": \"\"}, \"colorscale\": [[0.0, \"#0d0887\"], [0.1111111111111111, \"#46039f\"], [0.2222222222222222, \"#7201a8\"], [0.3333333333333333, \"#9c179e\"], [0.4444444444444444, \"#bd3786\"], [0.5555555555555556, \"#d8576b\"], [0.6666666666666666, \"#ed7953\"], [0.7777777777777778, \"#fb9f3a\"], [0.8888888888888888, \"#fdca26\"], [1.0, \"#f0f921\"]], \"type\": \"contour\"}], \"contourcarpet\": [{\"colorbar\": {\"outlinewidth\": 0, \"ticks\": \"\"}, \"type\": \"contourcarpet\"}], \"heatmap\": [{\"colorbar\": {\"outlinewidth\": 0, \"ticks\": \"\"}, \"colorscale\": [[0.0, \"#0d0887\"], [0.1111111111111111, \"#46039f\"], [0.2222222222222222, \"#7201a8\"], [0.3333333333333333, \"#9c179e\"], [0.4444444444444444, \"#bd3786\"], [0.5555555555555556, \"#d8576b\"], [0.6666666666666666, \"#ed7953\"], [0.7777777777777778, \"#fb9f3a\"], [0.8888888888888888, \"#fdca26\"], [1.0, \"#f0f921\"]], \"type\": \"heatmap\"}], \"heatmapgl\": [{\"colorbar\": {\"outlinewidth\": 0, \"ticks\": \"\"}, \"colorscale\": [[0.0, \"#0d0887\"], [0.1111111111111111, \"#46039f\"], [0.2222222222222222, \"#7201a8\"], [0.3333333333333333, \"#9c179e\"], [0.4444444444444444, \"#bd3786\"], [0.5555555555555556, \"#d8576b\"], [0.6666666666666666, \"#ed7953\"], [0.7777777777777778, \"#fb9f3a\"], [0.8888888888888888, \"#fdca26\"], [1.0, \"#f0f921\"]], \"type\": \"heatmapgl\"}], \"histogram\": [{\"marker\": {\"colorbar\": {\"outlinewidth\": 0, \"ticks\": \"\"}}, \"type\": \"histogram\"}], \"histogram2d\": [{\"colorbar\": {\"outlinewidth\": 0, \"ticks\": \"\"}, \"colorscale\": [[0.0, \"#0d0887\"], [0.1111111111111111, \"#46039f\"], [0.2222222222222222, \"#7201a8\"], [0.3333333333333333, \"#9c179e\"], [0.4444444444444444, \"#bd3786\"], [0.5555555555555556, \"#d8576b\"], [0.6666666666666666, \"#ed7953\"], [0.7777777777777778, \"#fb9f3a\"], [0.8888888888888888, \"#fdca26\"], [1.0, \"#f0f921\"]], \"type\": \"histogram2d\"}], \"histogram2dcontour\": [{\"colorbar\": {\"outlinewidth\": 0, \"ticks\": \"\"}, \"colorscale\": [[0.0, \"#0d0887\"], [0.1111111111111111, \"#46039f\"], [0.2222222222222222, \"#7201a8\"], [0.3333333333333333, \"#9c179e\"], [0.4444444444444444, \"#bd3786\"], [0.5555555555555556, \"#d8576b\"], [0.6666666666666666, \"#ed7953\"], [0.7777777777777778, \"#fb9f3a\"], [0.8888888888888888, \"#fdca26\"], [1.0, \"#f0f921\"]], \"type\": \"histogram2dcontour\"}], \"mesh3d\": [{\"colorbar\": {\"outlinewidth\": 0, \"ticks\": \"\"}, \"type\": \"mesh3d\"}], \"parcoords\": [{\"line\": {\"colorbar\": {\"outlinewidth\": 0, \"ticks\": \"\"}}, \"type\": \"parcoords\"}], \"pie\": [{\"automargin\": true, \"type\": \"pie\"}], \"scatter\": [{\"marker\": {\"colorbar\": {\"outlinewidth\": 0, \"ticks\": \"\"}}, \"type\": \"scatter\"}], \"scatter3d\": [{\"line\": {\"colorbar\": {\"outlinewidth\": 0, \"ticks\": \"\"}}, \"marker\": {\"colorbar\": {\"outlinewidth\": 0, \"ticks\": \"\"}}, \"type\": \"scatter3d\"}], \"scattercarpet\": [{\"marker\": {\"colorbar\": {\"outlinewidth\": 0, \"ticks\": \"\"}}, \"type\": \"scattercarpet\"}], \"scattergeo\": [{\"marker\": {\"colorbar\": {\"outlinewidth\": 0, \"ticks\": \"\"}}, \"type\": \"scattergeo\"}], \"scattergl\": [{\"marker\": {\"colorbar\": {\"outlinewidth\": 0, \"ticks\": \"\"}}, \"type\": \"scattergl\"}], \"scattermapbox\": [{\"marker\": {\"colorbar\": {\"outlinewidth\": 0, \"ticks\": \"\"}}, \"type\": \"scattermapbox\"}], \"scatterpolar\": [{\"marker\": {\"colorbar\": {\"outlinewidth\": 0, \"ticks\": \"\"}}, \"type\": \"scatterpolar\"}], \"scatterpolargl\": [{\"marker\": {\"colorbar\": {\"outlinewidth\": 0, \"ticks\": \"\"}}, \"type\": \"scatterpolargl\"}], \"scatterternary\": [{\"marker\": {\"colorbar\": {\"outlinewidth\": 0, \"ticks\": \"\"}}, \"type\": \"scatterternary\"}], \"surface\": [{\"colorbar\": {\"outlinewidth\": 0, \"ticks\": \"\"}, \"colorscale\": [[0.0, \"#0d0887\"], [0.1111111111111111, \"#46039f\"], [0.2222222222222222, \"#7201a8\"], [0.3333333333333333, \"#9c179e\"], [0.4444444444444444, \"#bd3786\"], [0.5555555555555556, \"#d8576b\"], [0.6666666666666666, \"#ed7953\"], [0.7777777777777778, \"#fb9f3a\"], [0.8888888888888888, \"#fdca26\"], [1.0, \"#f0f921\"]], \"type\": \"surface\"}], \"table\": [{\"cells\": {\"fill\": {\"color\": \"#EBF0F8\"}, \"line\": {\"color\": \"white\"}}, \"header\": {\"fill\": {\"color\": \"#C8D4E3\"}, \"line\": {\"color\": \"white\"}}, \"type\": \"table\"}]}, \"layout\": {\"annotationdefaults\": {\"arrowcolor\": \"#2a3f5f\", \"arrowhead\": 0, \"arrowwidth\": 1}, \"coloraxis\": {\"colorbar\": {\"outlinewidth\": 0, \"ticks\": \"\"}}, \"colorscale\": {\"diverging\": [[0, \"#8e0152\"], [0.1, \"#c51b7d\"], [0.2, \"#de77ae\"], [0.3, \"#f1b6da\"], [0.4, \"#fde0ef\"], [0.5, \"#f7f7f7\"], [0.6, \"#e6f5d0\"], [0.7, \"#b8e186\"], [0.8, \"#7fbc41\"], [0.9, \"#4d9221\"], [1, \"#276419\"]], \"sequential\": [[0.0, \"#0d0887\"], [0.1111111111111111, \"#46039f\"], [0.2222222222222222, \"#7201a8\"], [0.3333333333333333, \"#9c179e\"], [0.4444444444444444, \"#bd3786\"], [0.5555555555555556, \"#d8576b\"], [0.6666666666666666, \"#ed7953\"], [0.7777777777777778, \"#fb9f3a\"], [0.8888888888888888, \"#fdca26\"], [1.0, \"#f0f921\"]], \"sequentialminus\": [[0.0, \"#0d0887\"], [0.1111111111111111, \"#46039f\"], [0.2222222222222222, \"#7201a8\"], [0.3333333333333333, \"#9c179e\"], [0.4444444444444444, \"#bd3786\"], [0.5555555555555556, \"#d8576b\"], [0.6666666666666666, \"#ed7953\"], [0.7777777777777778, \"#fb9f3a\"], [0.8888888888888888, \"#fdca26\"], [1.0, \"#f0f921\"]]}, \"colorway\": [\"#636efa\", \"#EF553B\", \"#00cc96\", \"#ab63fa\", \"#FFA15A\", \"#19d3f3\", \"#FF6692\", \"#B6E880\", \"#FF97FF\", \"#FECB52\"], \"font\": {\"color\": \"#2a3f5f\"}, \"geo\": {\"bgcolor\": \"white\", \"lakecolor\": \"white\", \"landcolor\": \"#E5ECF6\", \"showlakes\": true, \"showland\": true, \"subunitcolor\": \"white\"}, \"hoverlabel\": {\"align\": \"left\"}, \"hovermode\": \"closest\", \"mapbox\": {\"style\": \"light\"}, \"paper_bgcolor\": \"white\", \"plot_bgcolor\": \"#E5ECF6\", \"polar\": {\"angularaxis\": {\"gridcolor\": \"white\", \"linecolor\": \"white\", \"ticks\": \"\"}, \"bgcolor\": \"#E5ECF6\", \"radialaxis\": {\"gridcolor\": \"white\", \"linecolor\": \"white\", \"ticks\": \"\"}}, \"scene\": {\"xaxis\": {\"backgroundcolor\": \"#E5ECF6\", \"gridcolor\": \"white\", \"gridwidth\": 2, \"linecolor\": \"white\", \"showbackground\": true, \"ticks\": \"\", \"zerolinecolor\": \"white\"}, \"yaxis\": {\"backgroundcolor\": \"#E5ECF6\", \"gridcolor\": \"white\", \"gridwidth\": 2, \"linecolor\": \"white\", \"showbackground\": true, \"ticks\": \"\", \"zerolinecolor\": \"white\"}, \"zaxis\": {\"backgroundcolor\": \"#E5ECF6\", \"gridcolor\": \"white\", \"gridwidth\": 2, \"linecolor\": \"white\", \"showbackground\": true, \"ticks\": \"\", \"zerolinecolor\": \"white\"}}, \"shapedefaults\": {\"line\": {\"color\": \"#2a3f5f\"}}, \"ternary\": {\"aaxis\": {\"gridcolor\": \"white\", \"linecolor\": \"white\", \"ticks\": \"\"}, \"baxis\": {\"gridcolor\": \"white\", \"linecolor\": \"white\", \"ticks\": \"\"}, \"bgcolor\": \"#E5ECF6\", \"caxis\": {\"gridcolor\": \"white\", \"linecolor\": \"white\", \"ticks\": \"\"}}, \"title\": {\"x\": 0.05}, \"xaxis\": {\"automargin\": true, \"gridcolor\": \"white\", \"linecolor\": \"white\", \"ticks\": \"\", \"title\": {\"standoff\": 15}, \"zerolinecolor\": \"white\", \"zerolinewidth\": 2}, \"yaxis\": {\"automargin\": true, \"gridcolor\": \"white\", \"linecolor\": \"white\", \"ticks\": \"\", \"title\": {\"standoff\": 15}, \"zerolinecolor\": \"white\", \"zerolinewidth\": 2}}}, \"title\": {\"text\": \"Distribution for is_duplicate\"}},\n",
              "                        {\"responsive\": true}\n",
              "                    ).then(function(){\n",
              "                            \n",
              "var gd = document.getElementById('0149b92e-70ac-4e3d-a9aa-356bacad2340');\n",
              "var x = new MutationObserver(function (mutations, observer) {{\n",
              "        var display = window.getComputedStyle(gd).display;\n",
              "        if (!display || display === 'none') {{\n",
              "            console.log([gd, 'removed!']);\n",
              "            Plotly.purge(gd);\n",
              "            observer.disconnect();\n",
              "        }}\n",
              "}});\n",
              "\n",
              "// Listen for the removal of the full notebook cells\n",
              "var notebookContainer = gd.closest('#notebook-container');\n",
              "if (notebookContainer) {{\n",
              "    x.observe(notebookContainer, {childList: true});\n",
              "}}\n",
              "\n",
              "// Listen for the clearing of the current output cell\n",
              "var outputEl = gd.closest('.output');\n",
              "if (outputEl) {{\n",
              "    x.observe(outputEl, {childList: true});\n",
              "}}\n",
              "\n",
              "                        })\n",
              "                };\n",
              "                \n",
              "            </script>\n",
              "        </div>\n",
              "</body>\n",
              "</html>"
            ]
          },
          "metadata": {}
        }
      ]
    },
    {
      "cell_type": "code",
      "metadata": {
        "id": "ujPUHxMK78Xf"
      },
      "source": [
        "from sklearn.model_selection import train_test_split"
      ],
      "execution_count": null,
      "outputs": []
    },
    {
      "cell_type": "code",
      "metadata": {
        "id": "HzbbQs_28IDj"
      },
      "source": [
        "#creating split\n",
        "X_train, X_test, y_train, y_test = train_test_split(X.astype(\"str\"), y, test_size=0.1, random_state=42)"
      ],
      "execution_count": null,
      "outputs": []
    },
    {
      "cell_type": "code",
      "metadata": {
        "id": "g66VMZB6GK44"
      },
      "source": [
        "#scoring function \n",
        "def model_class_scores(pred, actual):\n",
        "    \"\"\"\"\n",
        "    calculates accuracy, precision, recall and f1 score, binary classification \n",
        "\n",
        "    \"\"\"\n",
        "\n",
        "    from sklearn.metrics import accuracy_score, precision_score, recall_score, f1_score\n",
        "    scores = {\"accuracy\" : accuracy_score(actual, pred),\n",
        "    \"precision\" :   precision_score(actual, pred),\n",
        "    \"recall\" : recall_score(actual, pred),\n",
        "    \"f1\" : f1_score(actual, pred)}\n",
        "     \n",
        "    return scores\n"
      ],
      "execution_count": null,
      "outputs": []
    },
    {
      "cell_type": "code",
      "metadata": {
        "id": "Mxqsev58HyAR"
      },
      "source": [
        "#binary tensorflow prediction function\n",
        "def tensorflow_predict(model, data):\n",
        "  import tensorflow as tf\n",
        "  prediction = model.predict(data)\n",
        "  pred = tf.squeeze(tf.round(prediction))\n",
        "  return pred"
      ],
      "execution_count": null,
      "outputs": []
    },
    {
      "cell_type": "markdown",
      "metadata": {
        "id": "GIq-WDb01uEw"
      },
      "source": [
        "# Creating Model"
      ]
    },
    {
      "cell_type": "code",
      "metadata": {
        "id": "l4n8n98G44iH"
      },
      "source": [
        "#creating text vectorizer \n",
        "text_vectorizer = TextVectorization(max_tokens=10000,\n",
        "                                    output_mode = \"int\",\n",
        "                                    output_sequence_length = 25)\n"
      ],
      "execution_count": null,
      "outputs": []
    },
    {
      "cell_type": "code",
      "metadata": {
        "id": "imX9lMqZ-AHK"
      },
      "source": [
        "#list of all questions \n",
        "all_questions = pd.concat([X_train.question1, X_train.question2])"
      ],
      "execution_count": null,
      "outputs": []
    },
    {
      "cell_type": "code",
      "metadata": {
        "id": "9yjhAYsF-XEN"
      },
      "source": [
        "#fitting text vectorizer \n",
        "all_questions.to_numpy()\n",
        "text_vectorizer.adapt(all_questions.to_numpy())"
      ],
      "execution_count": null,
      "outputs": []
    },
    {
      "cell_type": "code",
      "metadata": {
        "id": "CbulGn4s8499"
      },
      "source": [
        "import tensorflow as tf"
      ],
      "execution_count": null,
      "outputs": []
    },
    {
      "cell_type": "code",
      "metadata": {
        "id": "wFhDbJkB1uEx"
      },
      "source": [
        "from tensorflow.keras.models import Sequential, Model"
      ],
      "execution_count": null,
      "outputs": []
    },
    {
      "cell_type": "code",
      "metadata": {
        "id": "rFQ6XLkA1uEx"
      },
      "source": [
        "from tensorflow.keras.layers import Dense, Flatten, Embedding, Input, LSTM, concatenate, Conv1D, MaxPooling1D, Bidirectional"
      ],
      "execution_count": null,
      "outputs": []
    },
    {
      "cell_type": "code",
      "metadata": {
        "id": "wi6KduDK1uEy"
      },
      "source": [
        "#Both pairs compared of comments are fed into the Neural Net\n",
        "#An embedding is created for each net \n",
        "#Both comments are then put through a LSTM \n",
        "#their outputs are concatenated \n",
        "#Then the output is run through a feedforward net.\n",
        "\n",
        "def build_model():\n",
        "\n",
        "    \n",
        "    input_1 = Input(shape= (1,),  dtype= tf.string) #input of question 1\n",
        "    input_2 = Input(shape= (1, ),  dtype = tf.string) #input question 2\n",
        "    \n",
        "    sentence_1 = text_vectorizer(input_1)\n",
        "    sentence_2 = text_vectorizer(input_2)\n",
        "\n",
        "    sentence_1L1 = Embedding(10000, 512)(sentence_1)\n",
        "    sentence_2L1 =  Embedding(10000, 512)(sentence_2)\n",
        "    \n",
        "    sentence_1L2 = LSTM(64, return_sequences = False, dropout = 0.5)(sentence_1L1)\n",
        "    sentence_2L2 = LSTM(64, return_sequences = False, dropout =0.5)(sentence_2L1)\n",
        "    \n",
        "    output = concatenate([sentence_1L2, sentence_1L2])\n",
        "    output = Dense(32, activation = 'relu')(output)\n",
        "    output = Dense(1, activation = 'sigmoid')(output)\n",
        "    \n",
        "    \n",
        "    model = Model(\n",
        "    \n",
        "        inputs = [input_1, input_2],\n",
        "        outputs = [output]\n",
        "    \n",
        "    \n",
        "    \n",
        "    )\n",
        "    \n",
        "    model.compile(optimizer = 'adam', loss = 'binary_crossentropy', metrics = 'accuracy')\n",
        "    return model"
      ],
      "execution_count": null,
      "outputs": []
    },
    {
      "cell_type": "code",
      "metadata": {
        "id": "dZZExhxH1uEz"
      },
      "source": [
        "rnn = build_model()"
      ],
      "execution_count": null,
      "outputs": []
    },
    {
      "cell_type": "code",
      "metadata": {
        "id": "kWCXYA--CpmH"
      },
      "source": [
        ""
      ],
      "execution_count": null,
      "outputs": []
    },
    {
      "cell_type": "code",
      "metadata": {
        "colab": {
          "base_uri": "https://localhost:8080/"
        },
        "id": "Rj3QOu0h1uEz",
        "outputId": "0e13869c-593c-478e-bbd8-ade22712edaa"
      },
      "source": [
        "rnn.fit([X_train.question1, X_train.question2],y_train, epochs = 10, batch_size = 1000, validation_data=([X_test.question1, X_test.question2], y_test))"
      ],
      "execution_count": null,
      "outputs": [
        {
          "output_type": "stream",
          "name": "stdout",
          "text": [
            "Epoch 1/10\n",
            "364/364 [==============================] - 11s 18ms/step - loss: 0.5441 - accuracy: 0.7251 - val_loss: 0.5128 - val_accuracy: 0.7463\n",
            "Epoch 2/10\n",
            "364/364 [==============================] - 6s 17ms/step - loss: 0.5007 - accuracy: 0.7540 - val_loss: 0.5042 - val_accuracy: 0.7514\n",
            "Epoch 3/10\n",
            "364/364 [==============================] - 6s 17ms/step - loss: 0.4836 - accuracy: 0.7636 - val_loss: 0.5018 - val_accuracy: 0.7548\n",
            "Epoch 4/10\n",
            "364/364 [==============================] - 6s 17ms/step - loss: 0.4687 - accuracy: 0.7724 - val_loss: 0.5033 - val_accuracy: 0.7588\n",
            "Epoch 5/10\n",
            "364/364 [==============================] - 6s 17ms/step - loss: 0.4533 - accuracy: 0.7807 - val_loss: 0.5008 - val_accuracy: 0.7607\n",
            "Epoch 6/10\n",
            "364/364 [==============================] - 6s 17ms/step - loss: 0.4380 - accuracy: 0.7891 - val_loss: 0.5025 - val_accuracy: 0.7596\n",
            "Epoch 7/10\n",
            "364/364 [==============================] - 6s 17ms/step - loss: 0.4228 - accuracy: 0.7975 - val_loss: 0.5042 - val_accuracy: 0.7617\n",
            "Epoch 8/10\n",
            "364/364 [==============================] - 6s 17ms/step - loss: 0.4083 - accuracy: 0.8060 - val_loss: 0.5174 - val_accuracy: 0.7618\n",
            "Epoch 9/10\n",
            "364/364 [==============================] - 6s 17ms/step - loss: 0.3938 - accuracy: 0.8131 - val_loss: 0.5210 - val_accuracy: 0.7631\n",
            "Epoch 10/10\n",
            "364/364 [==============================] - 6s 17ms/step - loss: 0.3812 - accuracy: 0.8201 - val_loss: 0.5465 - val_accuracy: 0.7627\n"
          ]
        },
        {
          "output_type": "execute_result",
          "data": {
            "text/plain": [
              "<keras.callbacks.History at 0x7f6930084dd0>"
            ]
          },
          "metadata": {},
          "execution_count": 28
        }
      ]
    },
    {
      "cell_type": "code",
      "metadata": {
        "id": "6oGJPpCVGIdY"
      },
      "source": [
        "rnn_pred = tensorflow_predict(rnn, [X_test.question1, X_test.question2])"
      ],
      "execution_count": null,
      "outputs": []
    },
    {
      "cell_type": "code",
      "metadata": {
        "colab": {
          "base_uri": "https://localhost:8080/"
        },
        "id": "x2CDYa2tIurT",
        "outputId": "d9747e8f-43b4-4536-de73-fb6e2424584f"
      },
      "source": [
        "rnn_score = model_class_scores(rnn_pred, y_test)\n",
        "rnn_score"
      ],
      "execution_count": null,
      "outputs": [
        {
          "output_type": "execute_result",
          "data": {
            "text/plain": [
              "{'accuracy': 0.7627198298251255,\n",
              " 'f1': 0.6562757533412161,\n",
              " 'precision': 0.705710102489019,\n",
              " 'recall': 0.6133136887222074}"
            ]
          },
          "metadata": {},
          "execution_count": 30
        }
      ]
    },
    {
      "cell_type": "code",
      "metadata": {
        "id": "_XI05xfx1uGP"
      },
      "source": [
        "from tensorflow.keras.layers import Bidirectional, GlobalAveragePooling1D, Dropout, MaxPooling1D, concatenate"
      ],
      "execution_count": null,
      "outputs": []
    },
    {
      "cell_type": "code",
      "metadata": {
        "id": "WENxD3O71uGQ"
      },
      "source": [
        ""
      ],
      "execution_count": null,
      "outputs": []
    },
    {
      "cell_type": "code",
      "metadata": {
        "id": "flJ1ddi-1uGQ"
      },
      "source": [
        "#Both pairs compared of comments are fed into the Neural Net\n",
        "#An embedding is created for each net \n",
        "\n",
        "#Both comments are then put through a 1DCov\n",
        "#Both comments are then put through a Bidirectional LSTM \n",
        "#their outputs are concatenated \n",
        "#Then the output is run through a feedforward net.\n",
        "\n",
        "\n",
        "def build_model():\n",
        "\n",
        "    \n",
        "    input_1 = Input(shape= (1,),  dtype= tf.string)\n",
        "    input_2 = Input(shape= (1, ),  dtype = tf.string)\n",
        "    \n",
        "    sentence_1 = text_vectorizer(input_1)\n",
        "    sentence_2 = text_vectorizer(input_2)\n",
        "\n",
        "    \n",
        "    sentence_1L1 = Embedding(10000, 512)(sentence_1)\n",
        "    sentence_2L1 =  Embedding(10000, 512)(sentence_2)\n",
        "    \n",
        "  \n",
        "    \n",
        "    \n",
        "    sentence_1L4 = Bidirectional(LSTM(64, return_sequences = False, dropout =0.4))(sentence_1L1)\n",
        "    sentence_2L4 = Bidirectional(LSTM(64, return_sequences = False, dropout = 0.4))(sentence_2L1)\n",
        "    Sentence_dif = sentence_2L4 - sentence_1L4 #Minusing the outputs\n",
        "    \n",
        "    output = concatenate([Sentence_dif,  sentence_1L4,sentence_2L4])\n",
        "    output = Dense(64, activation = 'relu')(output)\n",
        "    output= Dropout(0.1)(output)\n",
        "    output = Dense(1, activation = 'sigmoid')(output)\n",
        "    \n",
        "    \n",
        "    model = Model(\n",
        "    \n",
        "        inputs = [input_1, input_2],\n",
        "        outputs = output\n",
        "    \n",
        "    \n",
        "    \n",
        "    )\n",
        "    \n",
        "    model.compile(optimizer = 'rmsprop', loss = 'binary_crossentropy', metrics = 'accuracy')\n",
        "    return model"
      ],
      "execution_count": null,
      "outputs": []
    },
    {
      "cell_type": "code",
      "metadata": {
        "id": "hj9C81HtJnq0"
      },
      "source": [
        "CLSTM_model = build_model()"
      ],
      "execution_count": null,
      "outputs": []
    },
    {
      "cell_type": "code",
      "metadata": {
        "colab": {
          "base_uri": "https://localhost:8080/"
        },
        "id": "WIIyJtmw1uGR",
        "outputId": "9c16190e-de1e-4722-a3d5-46d3ba050637"
      },
      "source": [
        "CLSTM_model.fit([[X_train.question1, X_train.question2]],y_train, epochs = 10, batch_size = 1500, validation_data=([X_test.question1, X_test.question2], y_test))"
      ],
      "execution_count": null,
      "outputs": [
        {
          "output_type": "stream",
          "name": "stdout",
          "text": [
            "Epoch 1/10\n",
            "243/243 [==============================] - 23s 73ms/step - loss: 0.5170 - accuracy: 0.7453 - val_loss: 0.4876 - val_accuracy: 0.7630\n",
            "Epoch 2/10\n",
            "243/243 [==============================] - 16s 67ms/step - loss: 0.4631 - accuracy: 0.7770 - val_loss: 0.4621 - val_accuracy: 0.7760\n",
            "Epoch 3/10\n",
            "243/243 [==============================] - 16s 68ms/step - loss: 0.4299 - accuracy: 0.7950 - val_loss: 0.4543 - val_accuracy: 0.7804\n",
            "Epoch 4/10\n",
            "243/243 [==============================] - 16s 67ms/step - loss: 0.4030 - accuracy: 0.8101 - val_loss: 0.4436 - val_accuracy: 0.7908\n",
            "Epoch 5/10\n",
            "243/243 [==============================] - 16s 67ms/step - loss: 0.3799 - accuracy: 0.8238 - val_loss: 0.4469 - val_accuracy: 0.7909\n",
            "Epoch 6/10\n",
            "243/243 [==============================] - 16s 67ms/step - loss: 0.3597 - accuracy: 0.8351 - val_loss: 0.4483 - val_accuracy: 0.7884\n",
            "Epoch 7/10\n",
            "243/243 [==============================] - 16s 67ms/step - loss: 0.3400 - accuracy: 0.8461 - val_loss: 0.4597 - val_accuracy: 0.7984\n",
            "Epoch 8/10\n",
            "243/243 [==============================] - 16s 67ms/step - loss: 0.3220 - accuracy: 0.8560 - val_loss: 0.4526 - val_accuracy: 0.7942\n",
            "Epoch 9/10\n",
            "243/243 [==============================] - 16s 67ms/step - loss: 0.3046 - accuracy: 0.8653 - val_loss: 0.4589 - val_accuracy: 0.7912\n",
            "Epoch 10/10\n",
            "243/243 [==============================] - 16s 68ms/step - loss: 0.2882 - accuracy: 0.8740 - val_loss: 0.4698 - val_accuracy: 0.8012\n"
          ]
        },
        {
          "output_type": "execute_result",
          "data": {
            "text/plain": [
              "<keras.callbacks.History at 0x7f68b097b690>"
            ]
          },
          "metadata": {},
          "execution_count": 36
        }
      ]
    },
    {
      "cell_type": "code",
      "metadata": {
        "id": "YTzUPBMGL7dK"
      },
      "source": [
        "CLSTM_pred = tensorflow_predict(CLSTM_model, [X_test.question1, X_test.question2])"
      ],
      "execution_count": null,
      "outputs": []
    },
    {
      "cell_type": "code",
      "metadata": {
        "colab": {
          "base_uri": "https://localhost:8080/"
        },
        "id": "ydWEvYoX1uGS",
        "outputId": "df511a4e-0f0c-4794-a044-2b224596b3aa"
      },
      "source": [
        "CLSTM_score = model_class_scores(CLSTM_pred, y_test)\n",
        "CLSTM_score"
      ],
      "execution_count": null,
      "outputs": [
        {
          "output_type": "execute_result",
          "data": {
            "text/plain": [
              "{'accuracy': 0.8011575849019268,\n",
              " 'f1': 0.719416425255663,\n",
              " 'precision': 0.7512209344704425,\n",
              " 'recall': 0.6901955531743905}"
            ]
          },
          "metadata": {},
          "execution_count": 38
        }
      ]
    },
    {
      "cell_type": "markdown",
      "metadata": {
        "id": "Ier5G64NM6ZW"
      },
      "source": [
        "#Universal Sentence encoder "
      ]
    },
    {
      "cell_type": "code",
      "metadata": {
        "id": "QePYiIYHR-Jn"
      },
      "source": [
        "import tensorflow_hub as hub"
      ],
      "execution_count": null,
      "outputs": []
    },
    {
      "cell_type": "code",
      "metadata": {
        "id": "JjXIH0uqcN4k"
      },
      "source": [
        "#loading the sentence encoder \n",
        "sentence_encoder_layer = hub.KerasLayer(\"https://tfhub.dev/google/universal-sentence-encoder/4\", \n",
        "                                        input_shape =[],\n",
        "                                        dtype = tf.string,\n",
        "                                        name = \"badboy\")"
      ],
      "execution_count": null,
      "outputs": []
    },
    {
      "cell_type": "code",
      "metadata": {
        "id": "Ys_1ulpdcE1u"
      },
      "source": [
        "#creating sentence encoder layer\n",
        "trained_emb_model = Sequential([sentence_encoder_layer,\n",
        "                                ])"
      ],
      "execution_count": null,
      "outputs": []
    },
    {
      "cell_type": "code",
      "metadata": {
        "id": "VlaPiuBUM8nx"
      },
      "source": [
        "\n",
        "def build_model():\n",
        "\n",
        "    \n",
        "    input_1 = Input(shape= (),  dtype= tf.string)\n",
        "    input_2 = Input(shape= (),  dtype = tf.string)\n",
        "    \n",
        "    sentence_1 = trained_emb_model(input_1)\n",
        "    sentence_2 = trained_emb_model(input_2)\n",
        "\n",
        "    \n",
        "    output = sentence_1 - sentence_2 #difference between sentence embedding \n",
        "    output = Dense(64, activation = 'relu')(output)\n",
        "    output= Dropout(0.1)(output)\n",
        "    output = Dense(1, activation = 'sigmoid')(output)\n",
        "    \n",
        "    \n",
        "    model = Model(\n",
        "    \n",
        "        inputs = [input_1, input_2],\n",
        "        outputs = output\n",
        "    \n",
        "    )\n",
        "    model.compile(optimizer = 'rmsprop', loss = 'binary_crossentropy', metrics = 'accuracy')\n",
        "    return model\n",
        "    "
      ],
      "execution_count": null,
      "outputs": []
    },
    {
      "cell_type": "code",
      "metadata": {
        "id": "yBithsiOOiQ5"
      },
      "source": [
        "emb_model = build_model()"
      ],
      "execution_count": null,
      "outputs": []
    },
    {
      "cell_type": "code",
      "metadata": {
        "colab": {
          "base_uri": "https://localhost:8080/"
        },
        "id": "pX5V6Y1qOmWE",
        "outputId": "f0ba274e-fb2a-4c20-d27a-9a084f555859"
      },
      "source": [
        "emb_model.fit([X_train.question1, X_train.question2],y_train, epochs = 20, batch_size = 1000, validation_data=([X_test.question1, X_test.question2], y_test))"
      ],
      "execution_count": null,
      "outputs": [
        {
          "output_type": "stream",
          "name": "stdout",
          "text": [
            "Epoch 1/20\n",
            "364/364 [==============================] - 55s 136ms/step - loss: 0.5956 - accuracy: 0.6397 - val_loss: 0.5466 - val_accuracy: 0.6822\n",
            "Epoch 2/20\n",
            "364/364 [==============================] - 51s 140ms/step - loss: 0.5165 - accuracy: 0.7194 - val_loss: 0.4948 - val_accuracy: 0.7420\n",
            "Epoch 3/20\n",
            "364/364 [==============================] - 56s 153ms/step - loss: 0.4751 - accuracy: 0.7591 - val_loss: 0.4629 - val_accuracy: 0.7648\n",
            "Epoch 4/20\n",
            "364/364 [==============================] - 45s 123ms/step - loss: 0.4501 - accuracy: 0.7739 - val_loss: 0.4478 - val_accuracy: 0.7741\n",
            "Epoch 5/20\n",
            "364/364 [==============================] - 43s 117ms/step - loss: 0.4390 - accuracy: 0.7804 - val_loss: 0.4404 - val_accuracy: 0.7803\n",
            "Epoch 6/20\n",
            "364/364 [==============================] - 43s 119ms/step - loss: 0.4315 - accuracy: 0.7855 - val_loss: 0.4345 - val_accuracy: 0.7835\n",
            "Epoch 7/20\n",
            "364/364 [==============================] - 43s 119ms/step - loss: 0.4251 - accuracy: 0.7893 - val_loss: 0.4306 - val_accuracy: 0.7855\n",
            "Epoch 8/20\n",
            "364/364 [==============================] - 44s 120ms/step - loss: 0.4201 - accuracy: 0.7927 - val_loss: 0.4269 - val_accuracy: 0.7896\n",
            "Epoch 9/20\n",
            "364/364 [==============================] - 43s 119ms/step - loss: 0.4163 - accuracy: 0.7952 - val_loss: 0.4241 - val_accuracy: 0.7905\n",
            "Epoch 10/20\n",
            "364/364 [==============================] - 44s 120ms/step - loss: 0.4125 - accuracy: 0.7981 - val_loss: 0.4215 - val_accuracy: 0.7927\n",
            "Epoch 11/20\n",
            "364/364 [==============================] - 43s 118ms/step - loss: 0.4096 - accuracy: 0.7994 - val_loss: 0.4193 - val_accuracy: 0.7939\n",
            "Epoch 12/20\n",
            "364/364 [==============================] - 43s 119ms/step - loss: 0.4064 - accuracy: 0.8012 - val_loss: 0.4170 - val_accuracy: 0.7953\n",
            "Epoch 13/20\n",
            "364/364 [==============================] - 44s 120ms/step - loss: 0.4038 - accuracy: 0.8027 - val_loss: 0.4153 - val_accuracy: 0.7968\n",
            "Epoch 14/20\n",
            "364/364 [==============================] - 44s 120ms/step - loss: 0.4012 - accuracy: 0.8045 - val_loss: 0.4139 - val_accuracy: 0.7979\n",
            "Epoch 15/20\n",
            "364/364 [==============================] - 43s 119ms/step - loss: 0.3987 - accuracy: 0.8065 - val_loss: 0.4127 - val_accuracy: 0.7980\n",
            "Epoch 16/20\n",
            "364/364 [==============================] - 44s 120ms/step - loss: 0.3967 - accuracy: 0.8082 - val_loss: 0.4115 - val_accuracy: 0.7992\n",
            "Epoch 17/20\n",
            "364/364 [==============================] - 43s 119ms/step - loss: 0.3944 - accuracy: 0.8091 - val_loss: 0.4106 - val_accuracy: 0.8004\n",
            "Epoch 18/20\n",
            "364/364 [==============================] - 44s 120ms/step - loss: 0.3927 - accuracy: 0.8107 - val_loss: 0.4098 - val_accuracy: 0.8000\n",
            "Epoch 19/20\n",
            "364/364 [==============================] - 44s 121ms/step - loss: 0.3911 - accuracy: 0.8112 - val_loss: 0.4090 - val_accuracy: 0.8011\n",
            "Epoch 20/20\n",
            "364/364 [==============================] - 44s 121ms/step - loss: 0.3893 - accuracy: 0.8122 - val_loss: 0.4085 - val_accuracy: 0.8021\n"
          ]
        },
        {
          "output_type": "execute_result",
          "data": {
            "text/plain": [
              "<keras.callbacks.History at 0x7fb68b20acd0>"
            ]
          },
          "metadata": {},
          "execution_count": 25
        }
      ]
    },
    {
      "cell_type": "code",
      "metadata": {
        "id": "Tv0gMndrhr2m"
      },
      "source": [
        "#buildeing model\n",
        "def build_model():\n",
        "\n",
        "    \n",
        "    input_1 = Input(shape= (),  dtype= tf.string)\n",
        "    input_2 = Input(shape= (),  dtype = tf.string)\n",
        "    \n",
        "    sentence_1 = trained_emb_model(input_1)\n",
        "    sentence_2 = trained_emb_model(input_2)\n",
        "\n",
        "    \n",
        "    diff = sentence_1 - sentence_2\n",
        "    output = concatenate([diff,  sentence_1,sentence_2])\n",
        "    output = Dense(64, activation = 'relu')(output)\n",
        "    output= Dropout(0.1)(output)\n",
        "    output = Dense(1, activation = 'sigmoid')(output)\n",
        "    \n",
        "    \n",
        "    model = Model(\n",
        "    \n",
        "        inputs = [input_1, input_2],\n",
        "        outputs = output\n",
        "    \n",
        "    )\n",
        "    model.compile(optimizer = 'rmsprop', loss = 'binary_crossentropy', metrics = 'accuracy')\n",
        "    return model"
      ],
      "execution_count": null,
      "outputs": []
    },
    {
      "cell_type": "code",
      "metadata": {
        "id": "F9MY3SShlder"
      },
      "source": [
        "emb_model_diff = build_model()"
      ],
      "execution_count": null,
      "outputs": []
    },
    {
      "cell_type": "code",
      "metadata": {
        "colab": {
          "base_uri": "https://localhost:8080/"
        },
        "id": "WruLQT90lVW2",
        "outputId": "58e54a9a-ba18-4114-f35b-5ed3bcd3cbff"
      },
      "source": [
        "emb_model_diff.fit([X_train.question1, X_train.question2],y_train, epochs = 30, batch_size = 2048, validation_data=([X_test.question1, X_test.question2], y_test))"
      ],
      "execution_count": null,
      "outputs": [
        {
          "output_type": "stream",
          "name": "stdout",
          "text": [
            "Epoch 1/30\n",
            "178/178 [==============================] - 37s 199ms/step - loss: 0.5652 - accuracy: 0.7147 - val_loss: 0.5219 - val_accuracy: 0.7401\n",
            "Epoch 2/30\n",
            "178/178 [==============================] - 35s 198ms/step - loss: 0.4904 - accuracy: 0.7593 - val_loss: 0.4684 - val_accuracy: 0.7707\n",
            "Epoch 3/30\n",
            "178/178 [==============================] - 35s 197ms/step - loss: 0.4499 - accuracy: 0.7825 - val_loss: 0.4376 - val_accuracy: 0.7889\n",
            "Epoch 4/30\n",
            "178/178 [==============================] - 35s 197ms/step - loss: 0.4235 - accuracy: 0.7979 - val_loss: 0.4152 - val_accuracy: 0.8025\n",
            "Epoch 5/30\n",
            "178/178 [==============================] - 35s 198ms/step - loss: 0.4041 - accuracy: 0.8097 - val_loss: 0.3999 - val_accuracy: 0.8126\n",
            "Epoch 6/30\n",
            "178/178 [==============================] - 35s 197ms/step - loss: 0.3891 - accuracy: 0.8182 - val_loss: 0.3886 - val_accuracy: 0.8174\n",
            "Epoch 7/30\n",
            "178/178 [==============================] - 35s 199ms/step - loss: 0.3780 - accuracy: 0.8241 - val_loss: 0.3806 - val_accuracy: 0.8211\n",
            "Epoch 8/30\n",
            "178/178 [==============================] - 34s 193ms/step - loss: 0.3694 - accuracy: 0.8293 - val_loss: 0.3744 - val_accuracy: 0.8246\n",
            "Epoch 9/30\n",
            "178/178 [==============================] - 35s 195ms/step - loss: 0.3623 - accuracy: 0.8330 - val_loss: 0.3697 - val_accuracy: 0.8278\n",
            "Epoch 10/30\n",
            "178/178 [==============================] - 35s 197ms/step - loss: 0.3564 - accuracy: 0.8359 - val_loss: 0.3664 - val_accuracy: 0.8292\n",
            "Epoch 11/30\n",
            "178/178 [==============================] - 35s 199ms/step - loss: 0.3510 - accuracy: 0.8400 - val_loss: 0.3641 - val_accuracy: 0.8294\n",
            "Epoch 12/30\n",
            "178/178 [==============================] - 35s 198ms/step - loss: 0.3468 - accuracy: 0.8415 - val_loss: 0.3615 - val_accuracy: 0.8312\n",
            "Epoch 13/30\n",
            "178/178 [==============================] - 35s 197ms/step - loss: 0.3424 - accuracy: 0.8443 - val_loss: 0.3592 - val_accuracy: 0.8330\n",
            "Epoch 14/30\n",
            "178/178 [==============================] - 35s 198ms/step - loss: 0.3390 - accuracy: 0.8458 - val_loss: 0.3581 - val_accuracy: 0.8342\n",
            "Epoch 15/30\n",
            "178/178 [==============================] - 35s 196ms/step - loss: 0.3355 - accuracy: 0.8477 - val_loss: 0.3567 - val_accuracy: 0.8342\n",
            "Epoch 16/30\n",
            "178/178 [==============================] - 35s 198ms/step - loss: 0.3326 - accuracy: 0.8492 - val_loss: 0.3551 - val_accuracy: 0.8356\n",
            "Epoch 17/30\n",
            "178/178 [==============================] - 35s 196ms/step - loss: 0.3300 - accuracy: 0.8510 - val_loss: 0.3550 - val_accuracy: 0.8364\n",
            "Epoch 18/30\n",
            "178/178 [==============================] - 35s 198ms/step - loss: 0.3266 - accuracy: 0.8526 - val_loss: 0.3561 - val_accuracy: 0.8340\n",
            "Epoch 19/30\n",
            "178/178 [==============================] - 35s 198ms/step - loss: 0.3242 - accuracy: 0.8542 - val_loss: 0.3531 - val_accuracy: 0.8367\n",
            "Epoch 20/30\n",
            "178/178 [==============================] - 35s 198ms/step - loss: 0.3224 - accuracy: 0.8550 - val_loss: 0.3530 - val_accuracy: 0.8379\n",
            "Epoch 21/30\n",
            "178/178 [==============================] - 35s 197ms/step - loss: 0.3203 - accuracy: 0.8561 - val_loss: 0.3551 - val_accuracy: 0.8365\n",
            "Epoch 22/30\n",
            "178/178 [==============================] - 35s 197ms/step - loss: 0.3176 - accuracy: 0.8575 - val_loss: 0.3546 - val_accuracy: 0.8359\n",
            "Epoch 23/30\n",
            "178/178 [==============================] - 35s 196ms/step - loss: 0.3159 - accuracy: 0.8588 - val_loss: 0.3524 - val_accuracy: 0.8380\n",
            "Epoch 24/30\n",
            "178/178 [==============================] - 35s 197ms/step - loss: 0.3140 - accuracy: 0.8592 - val_loss: 0.3525 - val_accuracy: 0.8384\n",
            "Epoch 25/30\n",
            "178/178 [==============================] - 35s 198ms/step - loss: 0.3117 - accuracy: 0.8609 - val_loss: 0.3533 - val_accuracy: 0.8375\n",
            "Epoch 26/30\n",
            "178/178 [==============================] - 35s 197ms/step - loss: 0.3104 - accuracy: 0.8613 - val_loss: 0.3510 - val_accuracy: 0.8387\n",
            "Epoch 27/30\n",
            "178/178 [==============================] - 35s 196ms/step - loss: 0.3090 - accuracy: 0.8620 - val_loss: 0.3518 - val_accuracy: 0.8388\n",
            "Epoch 28/30\n",
            "178/178 [==============================] - 35s 198ms/step - loss: 0.3070 - accuracy: 0.8630 - val_loss: 0.3516 - val_accuracy: 0.8387\n",
            "Epoch 29/30\n",
            "178/178 [==============================] - 35s 197ms/step - loss: 0.3058 - accuracy: 0.8630 - val_loss: 0.3518 - val_accuracy: 0.8398\n",
            "Epoch 30/30\n",
            "178/178 [==============================] - 35s 196ms/step - loss: 0.3039 - accuracy: 0.8646 - val_loss: 0.3513 - val_accuracy: 0.8389\n"
          ]
        },
        {
          "output_type": "execute_result",
          "data": {
            "text/plain": [
              "<keras.callbacks.History at 0x7f84f01a70d0>"
            ]
          },
          "metadata": {},
          "execution_count": 50
        }
      ]
    },
    {
      "cell_type": "code",
      "source": [
        ""
      ],
      "metadata": {
        "id": "7tAnIWbXRcEz"
      },
      "execution_count": null,
      "outputs": []
    },
    {
      "cell_type": "code",
      "metadata": {
        "id": "HchM7j2ipEn2"
      },
      "source": [
        "def build_model():\n",
        "\n",
        "    \n",
        "    input_1 = Input(shape= (),  dtype= tf.string)\n",
        "    input_2 = Input(shape= (),  dtype = tf.string)\n",
        "    \n",
        "    sentence_1 = trained_emb_model(input_1)\n",
        "    sentence_2 = trained_emb_model(input_2)\n",
        "\n",
        "    \n",
        "    diff = sentence_1 - sentence_2\n",
        "    output = concatenate([diff,  sentence_1,sentence_2])\n",
        "    output = Dense(128, activation = 'relu')(output)\n",
        "    output= Dropout(0.15)(output)\n",
        "    output = Dense(1, activation = 'sigmoid')(output)\n",
        "    \n",
        "    \n",
        "    model = Model(\n",
        "    \n",
        "        inputs = [input_1, input_2],\n",
        "        outputs = output\n",
        "    \n",
        "    )\n",
        "    model.compile(optimizer = 'rmsprop', loss = 'binary_crossentropy', metrics = 'accuracy')\n",
        "    return model\n",
        "    "
      ],
      "execution_count": null,
      "outputs": []
    },
    {
      "cell_type": "code",
      "metadata": {
        "id": "HmdpWlHcptL8"
      },
      "source": [
        "emb_model_diff_more= build_model()"
      ],
      "execution_count": null,
      "outputs": []
    },
    {
      "cell_type": "code",
      "metadata": {
        "colab": {
          "base_uri": "https://localhost:8080/"
        },
        "id": "RqM7NBuGpz60",
        "outputId": "f19718ef-544f-466e-8947-bc9ee9c4b39f"
      },
      "source": [
        "emb_model_diff_more.fit([X_train.question1, X_train.question2],y_train, epochs = 15, batch_size = 2048, validation_data=([X_test.question1, X_test.question2], y_test))"
      ],
      "execution_count": null,
      "outputs": [
        {
          "output_type": "stream",
          "name": "stdout",
          "text": [
            "Epoch 1/15\n",
            "178/178 [==============================] - 45s 227ms/step - loss: 0.5387 - accuracy: 0.7314 - val_loss: 0.4812 - val_accuracy: 0.7669\n",
            "Epoch 2/15\n",
            "178/178 [==============================] - 39s 218ms/step - loss: 0.4509 - accuracy: 0.7816 - val_loss: 0.4327 - val_accuracy: 0.7917\n",
            "Epoch 3/15\n",
            "178/178 [==============================] - 35s 197ms/step - loss: 0.4112 - accuracy: 0.8052 - val_loss: 0.4001 - val_accuracy: 0.8122\n",
            "Epoch 4/15\n",
            "178/178 [==============================] - 34s 194ms/step - loss: 0.3863 - accuracy: 0.8192 - val_loss: 0.3826 - val_accuracy: 0.8199\n",
            "Epoch 5/15\n",
            "178/178 [==============================] - 35s 195ms/step - loss: 0.3697 - accuracy: 0.8293 - val_loss: 0.3722 - val_accuracy: 0.8281\n",
            "Epoch 6/15\n",
            "178/178 [==============================] - 37s 209ms/step - loss: 0.3570 - accuracy: 0.8362 - val_loss: 0.3652 - val_accuracy: 0.8289\n",
            "Epoch 7/15\n",
            "178/178 [==============================] - 42s 237ms/step - loss: 0.3472 - accuracy: 0.8416 - val_loss: 0.3579 - val_accuracy: 0.8345\n",
            "Epoch 8/15\n",
            "178/178 [==============================] - 41s 228ms/step - loss: 0.3398 - accuracy: 0.8459 - val_loss: 0.3548 - val_accuracy: 0.8368\n",
            "Epoch 9/15\n",
            "178/178 [==============================] - 39s 220ms/step - loss: 0.3329 - accuracy: 0.8494 - val_loss: 0.3520 - val_accuracy: 0.8395\n",
            "Epoch 10/15\n",
            "178/178 [==============================] - 40s 227ms/step - loss: 0.3268 - accuracy: 0.8532 - val_loss: 0.3495 - val_accuracy: 0.8399\n",
            "Epoch 11/15\n",
            "178/178 [==============================] - 35s 195ms/step - loss: 0.3214 - accuracy: 0.8557 - val_loss: 0.3465 - val_accuracy: 0.8420\n",
            "Epoch 12/15\n",
            "178/178 [==============================] - 35s 197ms/step - loss: 0.3163 - accuracy: 0.8585 - val_loss: 0.3447 - val_accuracy: 0.8436\n",
            "Epoch 13/15\n",
            "178/178 [==============================] - 35s 197ms/step - loss: 0.3117 - accuracy: 0.8612 - val_loss: 0.3431 - val_accuracy: 0.8452\n",
            "Epoch 14/15\n",
            "178/178 [==============================] - 36s 201ms/step - loss: 0.3077 - accuracy: 0.8631 - val_loss: 0.3427 - val_accuracy: 0.8438\n",
            "Epoch 15/15\n",
            "178/178 [==============================] - 35s 196ms/step - loss: 0.3034 - accuracy: 0.8660 - val_loss: 0.3412 - val_accuracy: 0.8455\n"
          ]
        },
        {
          "output_type": "execute_result",
          "data": {
            "text/plain": [
              "<keras.callbacks.History at 0x7fa3a1fbf950>"
            ]
          },
          "metadata": {},
          "execution_count": 39
        }
      ]
    },
    {
      "cell_type": "code",
      "source": [
        "pred = tensorflow_predict(emb_model_diff_more, [X_test.question1, X_test.question2])"
      ],
      "metadata": {
        "id": "3L409Qv8mjuI"
      },
      "execution_count": null,
      "outputs": []
    },
    {
      "cell_type": "code",
      "source": [
        "model_class_scores(pred, y_test)"
      ],
      "metadata": {
        "colab": {
          "base_uri": "https://localhost:8080/"
        },
        "id": "6lKgbNnUQtWT",
        "outputId": "c2c19738-5634-4237-d24a-bde708b72b4a"
      },
      "execution_count": null,
      "outputs": [
        {
          "output_type": "execute_result",
          "data": {
            "text/plain": [
              "{'accuracy': 0.8454574686487423,\n",
              " 'f1': 0.7899267029789524,\n",
              " 'precision': 0.7931802835921674,\n",
              " 'recall': 0.7866997053308331}"
            ]
          },
          "metadata": {},
          "execution_count": 42
        }
      ]
    },
    {
      "cell_type": "markdown",
      "source": [
        "#Character embedding "
      ],
      "metadata": {
        "id": "8nuMz-0oQu1n"
      }
    },
    {
      "cell_type": "code",
      "source": [
        "def split_cha(text):\n",
        "  return \" \".join(list(text))\n",
        "import pandas as pd  "
      ],
      "metadata": {
        "id": "WCc0Bm9PQxSd"
      },
      "execution_count": null,
      "outputs": []
    },
    {
      "cell_type": "code",
      "source": [
        "#spliting data texts into characters \n",
        "question1_char = pd.Series([split_cha(text) for text in X_train.question1])\n",
        "question2_char = pd.Series([split_cha(text) for text in X_train.question2])\n",
        "test_question1_char = pd.Series([split_cha(text) for text in X_test.question1])\n",
        "test_question2_char = pd.Series([split_cha(text) for text in X_test.question2])"
      ],
      "metadata": {
        "id": "-EUpu8__Rzps"
      },
      "execution_count": null,
      "outputs": []
    },
    {
      "cell_type": "code",
      "source": [
        "all_questions_char = pd.concat([question1_char, question2_char])"
      ],
      "metadata": {
        "id": "D-meiXIMS1lf"
      },
      "execution_count": null,
      "outputs": []
    },
    {
      "cell_type": "code",
      "source": [
        "#95 quantile character length \n",
        "np.quantile([len(sen.split(\" \")) for sen in all_questions_char], 0.95)"
      ],
      "metadata": {
        "colab": {
          "base_uri": "https://localhost:8080/"
        },
        "id": "Vcj3nhaTTOc7",
        "outputId": "bffe0453-050e-4ff6-ccc9-78e0f4f8cf9e"
      },
      "execution_count": null,
      "outputs": [
        {
          "output_type": "execute_result",
          "data": {
            "text/plain": [
              "146.0"
            ]
          },
          "metadata": {},
          "execution_count": 65
        }
      ]
    },
    {
      "cell_type": "code",
      "source": [
        "#character vectorizer\n",
        "char_vectoriser = TextVectorization(max_tokens=70,\n",
        "                                    output_mode = \"int\",\n",
        "                                    output_sequence_length = 146,\n",
        "\n",
        "\n",
        "                                    )"
      ],
      "metadata": {
        "id": "kTWo_YZjTXvn"
      },
      "execution_count": null,
      "outputs": []
    },
    {
      "cell_type": "code",
      "source": [
        "#fitting chracter vec\n",
        "char_vectoriser.adapt(all_questions_char)"
      ],
      "metadata": {
        "id": "7_VQbT5mT8Ih"
      },
      "execution_count": null,
      "outputs": []
    },
    {
      "cell_type": "code",
      "source": [
        "def build_model():\n",
        "\n",
        "    \n",
        "    input_1 = Input(shape= (),  dtype= tf.string)\n",
        "    input_2 = Input(shape= (),  dtype = tf.string)\n",
        "    input_char_1 = Input(shape= (1,),  dtype = tf.string)\n",
        "    input_char_2 = Input(shape= (1,),  dtype = tf.string)\n",
        "\n",
        "\n",
        "    sentence_1 = trained_emb_model(input_1)\n",
        "    sentence_2 = trained_emb_model(input_2)\n",
        "\n",
        "    #charter 1\n",
        "    ctext1 = char_vectoriser(input_char_1)\n",
        "    ctext1 = Embedding(28,512)(ctext1)\n",
        "    ctext1 = Conv1D(64,5,activation = \"relu\")(ctext1)\n",
        "    ctext1 = GlobalMaxPooling1D()(ctext1)\n",
        "    \n",
        "    #character 2\n",
        "    ctext2 = char_vectoriser(input_char_2)\n",
        "    ctext2 = Embedding(28,512)(ctext2)\n",
        "    ctext2 = Conv1D(64,5,activation = \"relu\")(ctext2)\n",
        "    ctext2 = GlobalMaxPooling1D()(ctext2)\n",
        "\n",
        "    char_diff =  ctext1 - ctext2 \n",
        "    diff = sentence_1 - sentence_2\n",
        "    output = concatenate([diff,  sentence_1,sentence_2, ctext1, ctext2, char_diff])\n",
        "    output = Dense(128, activation = 'relu')(output)\n",
        "    output= Dropout(0.15)(output)\n",
        "    output = Dense(1, activation = 'sigmoid')(output)\n",
        "    \n",
        "    \n",
        "    model = Model(\n",
        "    \n",
        "        inputs = [input_1, input_2, input_char_1, input_char_2],\n",
        "        outputs = output\n",
        "    \n",
        "    )\n",
        "    model.compile(optimizer = 'rmsprop', loss = 'binary_crossentropy', metrics = 'accuracy')\n",
        "    return model"
      ],
      "metadata": {
        "id": "gcQ_3cdFUFc3"
      },
      "execution_count": null,
      "outputs": []
    },
    {
      "cell_type": "code",
      "source": [
        "charem_model = build_model()"
      ],
      "metadata": {
        "id": "pxs_TdnrUz9_"
      },
      "execution_count": null,
      "outputs": []
    },
    {
      "cell_type": "code",
      "source": [
        "charem_model.fit([X_train.question1, X_train.question2, question1_char, question2_char ],\n",
        "    y_train,\n",
        "    epochs = 15, \n",
        "    batch_size = 2048, \n",
        "    validation_data=([X_test.question1, X_test.question2, test_question1_char, test_question2_char  ], y_test))"
      ],
      "metadata": {
        "colab": {
          "base_uri": "https://localhost:8080/"
        },
        "id": "upu6hvbhVta_",
        "outputId": "52c5a3fb-7538-40a0-f42a-df0ec7110781"
      },
      "execution_count": null,
      "outputs": [
        {
          "output_type": "stream",
          "name": "stdout",
          "text": [
            "Epoch 1/15\n",
            "178/178 [==============================] - 75s 368ms/step - loss: 0.5489 - accuracy: 0.7223 - val_loss: 0.5158 - val_accuracy: 0.7289\n",
            "Epoch 2/15\n",
            "178/178 [==============================] - 66s 372ms/step - loss: 0.4672 - accuracy: 0.7714 - val_loss: 0.4463 - val_accuracy: 0.7874\n",
            "Epoch 3/15\n",
            "178/178 [==============================] - 66s 370ms/step - loss: 0.4270 - accuracy: 0.7953 - val_loss: 0.4124 - val_accuracy: 0.8048\n",
            "Epoch 4/15\n",
            "178/178 [==============================] - 66s 368ms/step - loss: 0.3999 - accuracy: 0.8111 - val_loss: 0.3887 - val_accuracy: 0.8163\n",
            "Epoch 5/15\n",
            "178/178 [==============================] - 66s 369ms/step - loss: 0.3791 - accuracy: 0.8240 - val_loss: 0.3766 - val_accuracy: 0.8242\n",
            "Epoch 6/15\n",
            "178/178 [==============================] - 66s 370ms/step - loss: 0.3630 - accuracy: 0.8333 - val_loss: 0.3646 - val_accuracy: 0.8300\n",
            "Epoch 7/15\n",
            "178/178 [==============================] - 66s 369ms/step - loss: 0.3491 - accuracy: 0.8404 - val_loss: 0.3872 - val_accuracy: 0.8137\n",
            "Epoch 8/15\n",
            "178/178 [==============================] - 66s 369ms/step - loss: 0.3389 - accuracy: 0.8464 - val_loss: 0.3519 - val_accuracy: 0.8395\n",
            "Epoch 9/15\n",
            "178/178 [==============================] - 66s 369ms/step - loss: 0.3294 - accuracy: 0.8505 - val_loss: 0.3493 - val_accuracy: 0.8390\n",
            "Epoch 10/15\n",
            "178/178 [==============================] - 65s 367ms/step - loss: 0.3222 - accuracy: 0.8547 - val_loss: 0.3463 - val_accuracy: 0.8408\n",
            "Epoch 11/15\n",
            "178/178 [==============================] - 66s 370ms/step - loss: 0.3150 - accuracy: 0.8592 - val_loss: 0.3503 - val_accuracy: 0.8387\n",
            "Epoch 12/15\n",
            "178/178 [==============================] - 66s 370ms/step - loss: 0.3083 - accuracy: 0.8623 - val_loss: 0.3501 - val_accuracy: 0.8396\n",
            "Epoch 13/15\n",
            "178/178 [==============================] - 65s 366ms/step - loss: 0.3027 - accuracy: 0.8660 - val_loss: 0.3397 - val_accuracy: 0.8469\n",
            "Epoch 14/15\n",
            "178/178 [==============================] - 66s 369ms/step - loss: 0.2966 - accuracy: 0.8687 - val_loss: 0.3385 - val_accuracy: 0.8482\n",
            "Epoch 15/15\n",
            "178/178 [==============================] - 66s 371ms/step - loss: 0.2920 - accuracy: 0.8711 - val_loss: 0.3394 - val_accuracy: 0.8477\n"
          ]
        },
        {
          "output_type": "execute_result",
          "data": {
            "text/plain": [
              "<keras.callbacks.History at 0x7fa39e1e4a10>"
            ]
          },
          "metadata": {},
          "execution_count": 68
        }
      ]
    },
    {
      "cell_type": "code",
      "source": [
        "pred = tensorflow_predict(charem_model, [X_test.question1, X_test.question2, test_question1_char, test_question2_char ])"
      ],
      "metadata": {
        "id": "bagTilH1XhmX"
      },
      "execution_count": null,
      "outputs": []
    },
    {
      "cell_type": "code",
      "source": [
        "model_class_scores(pred, y_test)"
      ],
      "metadata": {
        "colab": {
          "base_uri": "https://localhost:8080/"
        },
        "id": "sist3l4Ib0wn",
        "outputId": "94dad667-68e8-4eec-b110-b1c70b473250"
      },
      "execution_count": null,
      "outputs": [
        {
          "output_type": "execute_result",
          "data": {
            "text/plain": [
              "{'accuracy': 0.8477083281802666,\n",
              " 'f1': 0.7970331300477995,\n",
              " 'precision': 0.784847107706291,\n",
              " 'recall': 0.8096035360300027}"
            ]
          },
          "metadata": {},
          "execution_count": 72
        }
      ]
    },
    {
      "cell_type": "markdown",
      "source": [
        "Character embedding LSTM"
      ],
      "metadata": {
        "id": "Gkvktlt0baWL"
      }
    },
    {
      "cell_type": "code",
      "source": [
        "sentence_1L4 = Bidirectional(LSTM(64, return_sequences = False, dropout =0.4))(sentence_1L1)"
      ],
      "metadata": {
        "id": "ovIhuS3Bc8CV"
      },
      "execution_count": null,
      "outputs": []
    },
    {
      "cell_type": "code",
      "source": [
        "def build_model():\n",
        "\n",
        "    \n",
        "    input_1 = Input(shape= (),  dtype= tf.string)\n",
        "    input_2 = Input(shape= (),  dtype = tf.string)\n",
        "    input_char_1 = Input(shape= (1,),  dtype = tf.string)\n",
        "    input_char_2 = Input(shape= (1,),  dtype = tf.string)\n",
        "\n",
        "\n",
        "    sentence_1 = trained_emb_model(input_1)\n",
        "    sentence_2 = trained_emb_model(input_2)\n",
        "\n",
        "    #charter 1\n",
        "    ctext1 = char_vectoriser(input_char_1)\n",
        "    ctext1 = Embedding(28,512)(ctext1)\n",
        "    ctext1 = Bidirectional(LSTM(64, return_sequences = False, dropout =0.4))(ctext1)\n",
        "    \n",
        "    #character 2\n",
        "    ctext2 = char_vectoriser(input_char_2)\n",
        "    ctext2 = Embedding(28,512)(ctext2)\n",
        "    ctext2 = Bidirectional(LSTM(64, return_sequences = False, dropout =0.4))(ctext2)\n",
        "  \n",
        "\n",
        "    char_diff =  ctext1 - ctext2 \n",
        "    diff = sentence_1 - sentence_2\n",
        "    output = concatenate([diff,  sentence_1,sentence_2, ctext1, ctext2, char_diff])\n",
        "    output = Dense(128, activation = 'relu')(output)\n",
        "    output= Dropout(0.15)(output)\n",
        "    output = Dense(1, activation = 'sigmoid')(output)\n",
        "    \n",
        "    \n",
        "    model = Model(\n",
        "    \n",
        "        inputs = [input_1, input_2, input_char_1, input_char_2],\n",
        "        outputs = output\n",
        "    \n",
        "    )\n",
        "    model.compile(optimizer = 'rmsprop', loss = 'binary_crossentropy', metrics = 'accuracy')\n",
        "    return model"
      ],
      "metadata": {
        "id": "VCSeSMK9dAuO"
      },
      "execution_count": null,
      "outputs": []
    },
    {
      "cell_type": "code",
      "source": [
        "bichar_model = build_model()"
      ],
      "metadata": {
        "id": "UGycS74NdYg1"
      },
      "execution_count": null,
      "outputs": []
    },
    {
      "cell_type": "code",
      "source": [
        "bichar_model.fit([X_train.question1, X_train.question2, question1_char, question2_char ],\n",
        "    y_train,\n",
        "    epochs = 15, \n",
        "    batch_size = 2048, \n",
        "    validation_data=([X_test.question1, X_test.question2, test_question1_char, test_question2_char  ], y_test))"
      ],
      "metadata": {
        "colab": {
          "base_uri": "https://localhost:8080/"
        },
        "id": "3ATbmSPXdjNd",
        "outputId": "252f4e8d-bfc3-4a4b-87a8-051e9639cf20"
      },
      "execution_count": null,
      "outputs": [
        {
          "output_type": "stream",
          "name": "stdout",
          "text": [
            "Epoch 1/15\n",
            "178/178 [==============================] - 110s 575ms/step - loss: 0.5537 - accuracy: 0.7193 - val_loss: 0.5006 - val_accuracy: 0.7574\n",
            "Epoch 2/15\n",
            "178/178 [==============================] - 98s 549ms/step - loss: 0.4716 - accuracy: 0.7701 - val_loss: 0.4462 - val_accuracy: 0.7859\n",
            "Epoch 3/15\n",
            "178/178 [==============================] - 97s 547ms/step - loss: 0.4268 - accuracy: 0.7966 - val_loss: 0.4125 - val_accuracy: 0.8081\n",
            "Epoch 4/15\n",
            "178/178 [==============================] - 98s 549ms/step - loss: 0.3998 - accuracy: 0.8132 - val_loss: 0.3916 - val_accuracy: 0.8182\n",
            "Epoch 5/15\n",
            "178/178 [==============================] - 97s 545ms/step - loss: 0.3782 - accuracy: 0.8249 - val_loss: 0.3781 - val_accuracy: 0.8228\n",
            "Epoch 6/15\n",
            "178/178 [==============================] - 98s 549ms/step - loss: 0.3629 - accuracy: 0.8331 - val_loss: 0.3677 - val_accuracy: 0.8301\n",
            "Epoch 7/15\n",
            "178/178 [==============================] - 98s 550ms/step - loss: 0.3518 - accuracy: 0.8391 - val_loss: 0.3602 - val_accuracy: 0.8336\n",
            "Epoch 8/15\n",
            "178/178 [==============================] - 97s 548ms/step - loss: 0.3418 - accuracy: 0.8448 - val_loss: 0.3561 - val_accuracy: 0.8357\n",
            "Epoch 9/15\n",
            "178/178 [==============================] - 98s 549ms/step - loss: 0.3335 - accuracy: 0.8493 - val_loss: 0.3506 - val_accuracy: 0.8407\n",
            "Epoch 10/15\n",
            "178/178 [==============================] - 98s 549ms/step - loss: 0.3262 - accuracy: 0.8530 - val_loss: 0.3473 - val_accuracy: 0.8406\n",
            "Epoch 11/15\n",
            "178/178 [==============================] - 97s 547ms/step - loss: 0.3193 - accuracy: 0.8571 - val_loss: 0.3450 - val_accuracy: 0.8422\n",
            "Epoch 12/15\n",
            "178/178 [==============================] - 98s 549ms/step - loss: 0.3127 - accuracy: 0.8600 - val_loss: 0.3441 - val_accuracy: 0.8425\n",
            "Epoch 13/15\n",
            "178/178 [==============================] - 98s 549ms/step - loss: 0.3067 - accuracy: 0.8633 - val_loss: 0.3412 - val_accuracy: 0.8455\n",
            "Epoch 14/15\n",
            "178/178 [==============================] - 98s 552ms/step - loss: 0.3011 - accuracy: 0.8665 - val_loss: 0.3437 - val_accuracy: 0.8427\n",
            "Epoch 15/15\n",
            "178/178 [==============================] - 97s 547ms/step - loss: 0.2963 - accuracy: 0.8687 - val_loss: 0.3377 - val_accuracy: 0.8475\n"
          ]
        },
        {
          "output_type": "execute_result",
          "data": {
            "text/plain": [
              "<keras.callbacks.History at 0x7fa31c657dd0>"
            ]
          },
          "metadata": {},
          "execution_count": 76
        }
      ]
    },
    {
      "cell_type": "code",
      "source": [
        "bichar_model.fit([X_train.question1, X_train.question2, question1_char, question2_char ],\n",
        "    y_train,\n",
        "    epochs = 5, \n",
        "    batch_size = 2048, \n",
        "    validation_data=([X_test.question1, X_test.question2, test_question1_char, test_question2_char  ], y_test))"
      ],
      "metadata": {
        "colab": {
          "base_uri": "https://localhost:8080/"
        },
        "id": "LVLgDmMpdqQT",
        "outputId": "40b9d38e-a4fd-448c-dcab-de9f30f3276e"
      },
      "execution_count": null,
      "outputs": [
        {
          "output_type": "stream",
          "name": "stdout",
          "text": [
            "Epoch 1/5\n",
            "178/178 [==============================] - 98s 550ms/step - loss: 0.2911 - accuracy: 0.8724 - val_loss: 0.3397 - val_accuracy: 0.8472\n",
            "Epoch 2/5\n",
            "178/178 [==============================] - 98s 551ms/step - loss: 0.2864 - accuracy: 0.8747 - val_loss: 0.3408 - val_accuracy: 0.8469\n",
            "Epoch 3/5\n",
            "178/178 [==============================] - 98s 551ms/step - loss: 0.2809 - accuracy: 0.8773 - val_loss: 0.3377 - val_accuracy: 0.8485\n",
            "Epoch 4/5\n",
            "178/178 [==============================] - 99s 558ms/step - loss: 0.2771 - accuracy: 0.8792 - val_loss: 0.3374 - val_accuracy: 0.8494\n",
            "Epoch 5/5\n",
            "178/178 [==============================] - 97s 547ms/step - loss: 0.2724 - accuracy: 0.8816 - val_loss: 0.3416 - val_accuracy: 0.8463\n"
          ]
        },
        {
          "output_type": "execute_result",
          "data": {
            "text/plain": [
              "<keras.callbacks.History at 0x7fa30bd448d0>"
            ]
          },
          "metadata": {},
          "execution_count": 77
        }
      ]
    },
    {
      "cell_type": "code",
      "source": [
        "pred = tensorflow_predict(bichar_model, [X_test.question1, X_test.question2, test_question1_char, test_question2_char ])\n",
        "model_class_scores(pred, y_test)"
      ],
      "metadata": {
        "colab": {
          "base_uri": "https://localhost:8080/"
        },
        "id": "HFW5Rrg_jjxG",
        "outputId": "4a75500f-2ea7-485a-e9ad-5c0583b604b4"
      },
      "execution_count": null,
      "outputs": [
        {
          "output_type": "execute_result",
          "data": {
            "text/plain": [
              "{'accuracy': 0.8463479185733014,\n",
              " 'f1': 0.7841406630064632,\n",
              " 'precision': 0.8148923876931966,\n",
              " 'recall': 0.755625502276989}"
            ]
          },
          "metadata": {},
          "execution_count": 79
        }
      ]
    },
    {
      "cell_type": "code",
      "source": [
        ""
      ],
      "metadata": {
        "id": "Iw2i__pamKQ5"
      },
      "execution_count": null,
      "outputs": []
    }
  ]
}
