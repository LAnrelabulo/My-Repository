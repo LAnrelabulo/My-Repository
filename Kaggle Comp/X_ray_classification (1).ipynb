{
  "nbformat": 4,
  "nbformat_minor": 0,
  "metadata": {
    "colab": {
      "name": "X-ray classification.ipynb",
      "provenance": [],
      "collapsed_sections": [],
      "machine_shape": "hm"
    },
    "kernelspec": {
      "name": "python3",
      "display_name": "Python 3"
    },
    "language_info": {
      "name": "python"
    },
    "accelerator": "GPU"
  },
  "cells": [
    {
      "cell_type": "markdown",
      "metadata": {
        "id": "-mMFshIJt-E0"
      },
      "source": [
        "Getting the data"
      ]
    },
    {
      "cell_type": "code",
      "metadata": {
        "colab": {
          "base_uri": "https://localhost:8080/"
        },
        "id": "Gn3TBajc5Yxg",
        "outputId": "561c0949-a0a2-4093-9907-2df0964f9b66"
      },
      "source": [
        "! ! pip install kaggle\n"
      ],
      "execution_count": 2,
      "outputs": [
        {
          "output_type": "stream",
          "name": "stdout",
          "text": [
            "Requirement already satisfied: kaggle in /usr/local/lib/python3.7/dist-packages (1.5.12)\n",
            "Requirement already satisfied: urllib3 in /usr/local/lib/python3.7/dist-packages (from kaggle) (1.24.3)\n",
            "Requirement already satisfied: python-slugify in /usr/local/lib/python3.7/dist-packages (from kaggle) (5.0.2)\n",
            "Requirement already satisfied: python-dateutil in /usr/local/lib/python3.7/dist-packages (from kaggle) (2.8.2)\n",
            "Requirement already satisfied: requests in /usr/local/lib/python3.7/dist-packages (from kaggle) (2.23.0)\n",
            "Requirement already satisfied: six>=1.10 in /usr/local/lib/python3.7/dist-packages (from kaggle) (1.15.0)\n",
            "Requirement already satisfied: tqdm in /usr/local/lib/python3.7/dist-packages (from kaggle) (4.62.3)\n",
            "Requirement already satisfied: certifi in /usr/local/lib/python3.7/dist-packages (from kaggle) (2021.10.8)\n",
            "Requirement already satisfied: text-unidecode>=1.3 in /usr/local/lib/python3.7/dist-packages (from python-slugify->kaggle) (1.3)\n",
            "Requirement already satisfied: chardet<4,>=3.0.2 in /usr/local/lib/python3.7/dist-packages (from requests->kaggle) (3.0.4)\n",
            "Requirement already satisfied: idna<3,>=2.5 in /usr/local/lib/python3.7/dist-packages (from requests->kaggle) (2.10)\n"
          ]
        }
      ]
    },
    {
      "cell_type": "code",
      "metadata": {
        "id": "JYwP0x0U5vJv"
      },
      "source": [
        "!mkdir ~/.kaggle"
      ],
      "execution_count": 3,
      "outputs": []
    },
    {
      "cell_type": "code",
      "metadata": {
        "id": "DkaIXB6D6qFK"
      },
      "source": [
        "!cp kaggle.json ~/.kaggle/"
      ],
      "execution_count": 4,
      "outputs": []
    },
    {
      "cell_type": "code",
      "metadata": {
        "id": "Qf6e3Hmo6t1t"
      },
      "source": [
        "! chmod 600 ~/.kaggle/kaggle.json"
      ],
      "execution_count": 5,
      "outputs": []
    },
    {
      "cell_type": "code",
      "metadata": {
        "colab": {
          "base_uri": "https://localhost:8080/"
        },
        "id": "maQ-xZGx62PE",
        "outputId": "f99c4866-6d1f-4d01-d28d-25f51101bdcc"
      },
      "source": [
        "! kaggle datasets download paultimothymooney/chest-xray-pneumonia"
      ],
      "execution_count": 6,
      "outputs": [
        {
          "output_type": "stream",
          "name": "stdout",
          "text": [
            "Downloading chest-xray-pneumonia.zip to /content\n",
            " 99% 2.28G/2.29G [00:13<00:00, 162MB/s]\n",
            "100% 2.29G/2.29G [00:13<00:00, 185MB/s]\n"
          ]
        }
      ]
    },
    {
      "cell_type": "code",
      "metadata": {
        "id": "2umCbNJG7JfN"
      },
      "source": [
        "#@title Unzip\n",
        "! unzip chest-xray-pneumonia.zip"
      ],
      "execution_count": null,
      "outputs": []
    },
    {
      "cell_type": "code",
      "metadata": {
        "colab": {
          "base_uri": "https://localhost:8080/"
        },
        "id": "AuuhBm6W7x3D",
        "outputId": "19b0830b-c0d4-4578-bf8e-f86fb6f66c7a"
      },
      "source": [
        "#getting some useful custom functions\n",
        "!wget https://raw.githubusercontent.com/mrdbourke/tensorflow-deep-learning/main/extras/helper_functions.py"
      ],
      "execution_count": 8,
      "outputs": [
        {
          "output_type": "stream",
          "name": "stdout",
          "text": [
            "--2021-11-20 16:52:03--  https://raw.githubusercontent.com/mrdbourke/tensorflow-deep-learning/main/extras/helper_functions.py\n",
            "Resolving raw.githubusercontent.com (raw.githubusercontent.com)... 185.199.110.133, 185.199.109.133, 185.199.108.133, ...\n",
            "Connecting to raw.githubusercontent.com (raw.githubusercontent.com)|185.199.110.133|:443... connected.\n",
            "HTTP request sent, awaiting response... 200 OK\n",
            "Length: 10246 (10K) [text/plain]\n",
            "Saving to: ‘helper_functions.py’\n",
            "\n",
            "\rhelper_functions.py   0%[                    ]       0  --.-KB/s               \rhelper_functions.py 100%[===================>]  10.01K  --.-KB/s    in 0s      \n",
            "\n",
            "2021-11-20 16:52:03 (56.2 MB/s) - ‘helper_functions.py’ saved [10246/10246]\n",
            "\n"
          ]
        }
      ]
    },
    {
      "cell_type": "code",
      "metadata": {
        "id": "iCk5vMXa8UjQ"
      },
      "source": [
        "#training and test directories \n",
        "train_direct = \"chest_xray/train\"\n",
        "test_direct = \"chest_xray/test\""
      ],
      "execution_count": 9,
      "outputs": []
    },
    {
      "cell_type": "code",
      "metadata": {
        "colab": {
          "base_uri": "https://localhost:8080/"
        },
        "id": "0ByrJbgJ9PB3",
        "outputId": "c1239ada-0a05-44ca-b226-03f19f9099e0"
      },
      "source": [
        "#creating the datasets\n",
        "from tensorflow.keras.preprocessing import image_dataset_from_directory\n",
        "train_data = image_dataset_from_directory(directory = train_direct,\n",
        "                                          label_mode = \"binary\",\n",
        "                                          image_size = (256,256),\n",
        "                                          batch_size =32 \n",
        ")\n",
        "test_data = image_dataset_from_directory(directory = test_direct,\n",
        "                                         label_mode = \"binary\",\n",
        "                                         image_size = (256, 256),\n",
        "                                         batch_size = 32, shuffle = False\n",
        "\n",
        "                                         )"
      ],
      "execution_count": 10,
      "outputs": [
        {
          "output_type": "stream",
          "name": "stdout",
          "text": [
            "Found 5216 files belonging to 2 classes.\n",
            "Found 624 files belonging to 2 classes.\n"
          ]
        }
      ]
    },
    {
      "cell_type": "code",
      "metadata": {
        "colab": {
          "base_uri": "https://localhost:8080/",
          "height": 299
        },
        "id": "nhooQ3aV_rUA",
        "outputId": "a2fe4255-aff6-4634-c11e-d00f2588e3d7"
      },
      "source": [
        "#vistualizing a random image \n",
        "direct = \"chest_xray/train/\"\n",
        "import os\n",
        "import random\n",
        "theclass = random.choice(train_data.class_names)\n",
        "target_direct = direct + theclass\n",
        "choice = random.choice(os.listdir(target_direct))\n",
        "import matplotlib.image as mpimg\n",
        "image_direct = target_direct + \"/\" + choice\n",
        "img = mpimg.imread(image_direct)\n",
        "import matplotlib.pyplot as plt\n",
        "plt.imshow(img)\n",
        "plt.title(theclass)\n",
        "choice"
      ],
      "execution_count": 11,
      "outputs": [
        {
          "output_type": "execute_result",
          "data": {
            "application/vnd.google.colaboratory.intrinsic+json": {
              "type": "string"
            },
            "text/plain": [
              "'NORMAL2-IM-1033-0001.jpeg'"
            ]
          },
          "metadata": {},
          "execution_count": 11
        },
        {
          "output_type": "display_data",
          "data": {
            "image/png": "[encoded data removed]",
            "text/plain": [
              "<Figure size 432x288 with 1 Axes>"
            ]
          },
          "metadata": {
            "needs_background": "light"
          }
        }
      ]
    },
    {
      "cell_type": "code",
      "metadata": {
        "id": "GqZvh7e7-FR0"
      },
      "source": [
        "from helper_functions import walk_through_dir"
      ],
      "execution_count": 12,
      "outputs": []
    },
    {
      "cell_type": "code",
      "metadata": {
        "colab": {
          "base_uri": "https://localhost:8080/"
        },
        "id": "cJ97fvxE-RQL",
        "outputId": "b50a0db8-553c-42b9-fc0c-68faf423da02"
      },
      "source": [
        "walk_through_dir(\"chest_xray\")"
      ],
      "execution_count": 13,
      "outputs": [
        {
          "output_type": "stream",
          "name": "stdout",
          "text": [
            "There are 5 directories and 0 images in 'chest_xray'.\n",
            "There are 1 directories and 1 images in 'chest_xray/__MACOSX'.\n",
            "There are 3 directories and 3 images in 'chest_xray/__MACOSX/chest_xray'.\n",
            "There are 2 directories and 3 images in 'chest_xray/__MACOSX/chest_xray/train'.\n",
            "There are 0 directories and 1342 images in 'chest_xray/__MACOSX/chest_xray/train/NORMAL'.\n",
            "There are 0 directories and 3876 images in 'chest_xray/__MACOSX/chest_xray/train/PNEUMONIA'.\n",
            "There are 2 directories and 1 images in 'chest_xray/__MACOSX/chest_xray/val'.\n",
            "There are 0 directories and 9 images in 'chest_xray/__MACOSX/chest_xray/val/NORMAL'.\n",
            "There are 0 directories and 9 images in 'chest_xray/__MACOSX/chest_xray/val/PNEUMONIA'.\n",
            "There are 2 directories and 3 images in 'chest_xray/__MACOSX/chest_xray/test'.\n",
            "There are 0 directories and 234 images in 'chest_xray/__MACOSX/chest_xray/test/NORMAL'.\n",
            "There are 0 directories and 390 images in 'chest_xray/__MACOSX/chest_xray/test/PNEUMONIA'.\n",
            "There are 2 directories and 0 images in 'chest_xray/train'.\n",
            "There are 0 directories and 1341 images in 'chest_xray/train/NORMAL'.\n",
            "There are 0 directories and 3875 images in 'chest_xray/train/PNEUMONIA'.\n",
            "There are 2 directories and 0 images in 'chest_xray/val'.\n",
            "There are 0 directories and 8 images in 'chest_xray/val/NORMAL'.\n",
            "There are 0 directories and 8 images in 'chest_xray/val/PNEUMONIA'.\n",
            "There are 2 directories and 0 images in 'chest_xray/test'.\n",
            "There are 0 directories and 234 images in 'chest_xray/test/NORMAL'.\n",
            "There are 0 directories and 390 images in 'chest_xray/test/PNEUMONIA'.\n",
            "There are 3 directories and 1 images in 'chest_xray/chest_xray'.\n",
            "There are 2 directories and 1 images in 'chest_xray/chest_xray/train'.\n",
            "There are 0 directories and 1342 images in 'chest_xray/chest_xray/train/NORMAL'.\n",
            "There are 0 directories and 3876 images in 'chest_xray/chest_xray/train/PNEUMONIA'.\n",
            "There are 2 directories and 1 images in 'chest_xray/chest_xray/val'.\n",
            "There are 0 directories and 9 images in 'chest_xray/chest_xray/val/NORMAL'.\n",
            "There are 0 directories and 9 images in 'chest_xray/chest_xray/val/PNEUMONIA'.\n",
            "There are 2 directories and 1 images in 'chest_xray/chest_xray/test'.\n",
            "There are 0 directories and 234 images in 'chest_xray/chest_xray/test/NORMAL'.\n",
            "There are 0 directories and 390 images in 'chest_xray/chest_xray/test/PNEUMONIA'.\n"
          ]
        }
      ]
    },
    {
      "cell_type": "code",
      "metadata": {
        "id": "wwSo_Z53BiQ3"
      },
      "source": [
        "#creating a simple convoluted model\n",
        "from tensorflow.keras.models import Model, Sequential\n",
        "from tensorflow.keras.layers import Conv2D, Dense, MaxPooling2D, Flatten, Input,GlobalAveragePooling2D"
      ],
      "execution_count": 14,
      "outputs": []
    },
    {
      "cell_type": "code",
      "metadata": {
        "id": "jJgbGmDvnm5K"
      },
      "source": [
        "model_1 = Sequential()"
      ],
      "execution_count": null,
      "outputs": []
    },
    {
      "cell_type": "code",
      "metadata": {
        "id": "p0pTofxZnqOY"
      },
      "source": [
        "model_1.add(Conv2D(10,3, activation= \"relu\", input_shape = (256,256,3)))\n",
        "model_1.add(Conv2D(10,3, activation = \"relu\"))\n",
        "model_1.add(MaxPooling2D())\n",
        "model_1.add(Conv2D(10, 3, activation=\"relu\"))\n",
        "model_1.add(Conv2D(10,3, activation=\"relu\"))\n",
        "model_1.add(MaxPooling2D())\n",
        "model_1.add((Conv2D(10,3, activation=\"relu\")))\n",
        "model_1.add((Conv2D(10, 3, activation=\"relu\")))\n",
        "model_1.add(MaxPooling2D())\n",
        "model_1.add(Flatten())\n",
        "model_1.add(Dense(1, activation = \"sigmoid\"))"
      ],
      "execution_count": null,
      "outputs": []
    },
    {
      "cell_type": "code",
      "metadata": {
        "id": "iytvI4BDoE0N"
      },
      "source": [
        "model_1.compile(optimizer=\"adam\", loss= \"binary_crossentropy\", metrics = \"accuracy\")"
      ],
      "execution_count": null,
      "outputs": []
    },
    {
      "cell_type": "code",
      "metadata": {
        "colab": {
          "base_uri": "https://localhost:8080/"
        },
        "id": "8Hd6SsiJsIAu",
        "outputId": "142b2940-8853-4228-c39f-48404c6df21e"
      },
      "source": [
        "model_1.fit(train_data, \n",
        "          epochs = 10, \n",
        "          steps_per_epoch= len(train_data), \n",
        "          validation_data= test_data,\n",
        "          validation_steps = len(test_data))               "
      ],
      "execution_count": null,
      "outputs": [
        {
          "output_type": "stream",
          "name": "stdout",
          "text": [
            "Epoch 1/10\n",
            "163/163 [==============================] - 33s 99ms/step - loss: 0.5079 - accuracy: 0.8535 - val_loss: 0.8135 - val_accuracy: 0.7196\n",
            "Epoch 2/10\n",
            "163/163 [==============================] - 16s 97ms/step - loss: 0.1380 - accuracy: 0.9469 - val_loss: 0.8385 - val_accuracy: 0.7099\n",
            "Epoch 3/10\n",
            "163/163 [==============================] - 17s 98ms/step - loss: 0.0966 - accuracy: 0.9630 - val_loss: 0.6640 - val_accuracy: 0.7997\n",
            "Epoch 4/10\n",
            "163/163 [==============================] - 17s 98ms/step - loss: 0.0784 - accuracy: 0.9686 - val_loss: 0.6601 - val_accuracy: 0.7949\n",
            "Epoch 5/10\n",
            "163/163 [==============================] - 17s 97ms/step - loss: 0.0635 - accuracy: 0.9766 - val_loss: 1.1278 - val_accuracy: 0.7340\n",
            "Epoch 6/10\n",
            "163/163 [==============================] - 17s 98ms/step - loss: 0.0473 - accuracy: 0.9831 - val_loss: 0.8374 - val_accuracy: 0.7804\n",
            "Epoch 7/10\n",
            "163/163 [==============================] - 17s 99ms/step - loss: 0.0428 - accuracy: 0.9854 - val_loss: 1.2096 - val_accuracy: 0.7837\n",
            "Epoch 8/10\n",
            "163/163 [==============================] - 17s 97ms/step - loss: 0.0342 - accuracy: 0.9877 - val_loss: 1.3527 - val_accuracy: 0.7500\n",
            "Epoch 9/10\n",
            "163/163 [==============================] - 18s 106ms/step - loss: 0.0228 - accuracy: 0.9925 - val_loss: 1.5325 - val_accuracy: 0.7644\n",
            "Epoch 10/10\n",
            "163/163 [==============================] - 17s 101ms/step - loss: 0.0236 - accuracy: 0.9919 - val_loss: 1.9747 - val_accuracy: 0.7772\n"
          ]
        },
        {
          "output_type": "execute_result",
          "data": {
            "text/plain": [
              "<keras.callbacks.History at 0x7fc2d0517950>"
            ]
          },
          "metadata": {},
          "execution_count": 29
        }
      ]
    },
    {
      "cell_type": "code",
      "metadata": {
        "id": "KpQveMGgspbn"
      },
      "source": [
        "#Simple model with data augmentation \n",
        "from tensorflow.keras.layers.experimental import preprocessing\n",
        "\n",
        "data_aug = Sequential([\n",
        "    preprocessing.RandomFlip(\"horizontal\"),\n",
        "    preprocessing.RandomRotation(0.2),\n",
        "    preprocessing.RandomZoom(0.2),\n",
        "    preprocessing.RandomHeight(0.2),\n",
        "    preprocessing.RandomWidth(0.2)\n",
        "\n",
        "\n",
        "\n",
        "], name = \"data_aug\")"
      ],
      "execution_count": 15,
      "outputs": []
    },
    {
      "cell_type": "code",
      "metadata": {
        "id": "FHdMbdrkv-Ws"
      },
      "source": [
        "input = Input(shape=(256,256, 3))\n",
        "x = data_aug(input)\n",
        "x = Conv2D(10,3, activation= \"relu\")(x)\n",
        "x = Conv2D(10,3, activation= \"relu\")(x)\n",
        "x = MaxPooling2D()(x)\n",
        "x = Conv2D(10,3, activation= \"relu\")(x)\n",
        "x = Conv2D(10,3, activation= \"relu\")(x)\n",
        "x = MaxPooling2D()(x)\n",
        "x = Conv2D(10,3, activation= \"relu\")(x)\n",
        "x = Conv2D(10,3, activation= \"relu\")(x)\n",
        "x = MaxPooling2D()(x)\n",
        "x = GlobalAveragePooling2D()(x)\n",
        "output = Dense(1, activation = \"sigmoid\")(x)"
      ],
      "execution_count": null,
      "outputs": []
    },
    {
      "cell_type": "code",
      "metadata": {
        "id": "AStlGI9lMIVR"
      },
      "source": [
        "model_2 = Model(inputs= input, outputs = output)"
      ],
      "execution_count": null,
      "outputs": []
    },
    {
      "cell_type": "code",
      "metadata": {
        "colab": {
          "base_uri": "https://localhost:8080/"
        },
        "id": "kA0EJEguwMyO",
        "outputId": "91a87b6c-928c-4e6e-866b-6f7339c3642d"
      },
      "source": [
        "model_2.compile(optimizer=\"adam\", loss= \"binary_crossentropy\", metrics = \"accuracy\")\n",
        "model_2.fit(train_data, \n",
        "          epochs = 10, \n",
        "          steps_per_epoch= len(train_data), \n",
        "          validation_data= test_data,\n",
        "          validation_steps = len(test_data))   "
      ],
      "execution_count": null,
      "outputs": [
        {
          "output_type": "stream",
          "name": "stdout",
          "text": [
            "Epoch 1/10\n",
            "163/163 [==============================] - 56s 333ms/step - loss: 0.5684 - accuracy: 0.7439 - val_loss: 0.6374 - val_accuracy: 0.6282\n",
            "Epoch 2/10\n",
            "163/163 [==============================] - 52s 313ms/step - loss: 0.5141 - accuracy: 0.7558 - val_loss: 0.5555 - val_accuracy: 0.7083\n",
            "Epoch 3/10\n",
            "163/163 [==============================] - 48s 287ms/step - loss: 0.4451 - accuracy: 0.7889 - val_loss: 0.5961 - val_accuracy: 0.6891\n",
            "Epoch 4/10\n",
            "163/163 [==============================] - 46s 277ms/step - loss: 0.3961 - accuracy: 0.8148 - val_loss: 0.4572 - val_accuracy: 0.7901\n",
            "Epoch 5/10\n",
            "163/163 [==============================] - 44s 268ms/step - loss: 0.3915 - accuracy: 0.8232 - val_loss: 0.6317 - val_accuracy: 0.6522\n",
            "Epoch 6/10\n",
            "163/163 [==============================] - 44s 265ms/step - loss: 0.3572 - accuracy: 0.8336 - val_loss: 0.4899 - val_accuracy: 0.7997\n",
            "Epoch 7/10\n",
            "163/163 [==============================] - 44s 265ms/step - loss: 0.3557 - accuracy: 0.8378 - val_loss: 0.4942 - val_accuracy: 0.7788\n",
            "Epoch 8/10\n",
            "163/163 [==============================] - 43s 260ms/step - loss: 0.3320 - accuracy: 0.8480 - val_loss: 0.4803 - val_accuracy: 0.7933\n",
            "Epoch 9/10\n",
            "163/163 [==============================] - 39s 237ms/step - loss: 0.3406 - accuracy: 0.8510 - val_loss: 0.5235 - val_accuracy: 0.7276\n",
            "Epoch 10/10\n",
            "163/163 [==============================] - 38s 226ms/step - loss: 0.3331 - accuracy: 0.8495 - val_loss: 0.4715 - val_accuracy: 0.7821\n"
          ]
        },
        {
          "output_type": "execute_result",
          "data": {
            "text/plain": [
              "<keras.callbacks.History at 0x7fc2442448d0>"
            ]
          },
          "metadata": {},
          "execution_count": 52
        }
      ]
    },
    {
      "cell_type": "markdown",
      "metadata": {
        "id": "6G8KLSaD2DPy"
      },
      "source": [
        "Model 3 pretrained "
      ]
    },
    {
      "cell_type": "code",
      "metadata": {
        "id": "o2gqLigu2H3W"
      },
      "source": [
        "from tensorflow.keras.applications import EfficientNetB0"
      ],
      "execution_count": 16,
      "outputs": []
    },
    {
      "cell_type": "code",
      "metadata": {
        "id": "G_aYO3eK2RgA",
        "colab": {
          "base_uri": "https://localhost:8080/"
        },
        "outputId": "93c5cefd-f3a0-4691-d225-8048149208bf"
      },
      "source": [
        "base_model = EfficientNetB0(include_top= False)\n",
        "base_model.trainable = False"
      ],
      "execution_count": 17,
      "outputs": [
        {
          "output_type": "stream",
          "name": "stdout",
          "text": [
            "Downloading data from https://storage.googleapis.com/keras-applications/efficientnetb0_notop.h5\n",
            "16711680/16705208 [==============================] - 0s 0us/step\n",
            "16719872/16705208 [==============================] - 0s 0us/step\n"
          ]
        }
      ]
    },
    {
      "cell_type": "code",
      "metadata": {
        "id": "OfJ2QQXrA7O4"
      },
      "source": [
        "input = Input(shape = (256,256,3))\n",
        "x = base_model(input)\n",
        "x = GlobalAveragePooling2D()(x)\n",
        "output = Dense(1, activation = \"sigmoid\")(x)\n",
        "model_3 = Model(inputs = input, outputs = output)"
      ],
      "execution_count": null,
      "outputs": []
    },
    {
      "cell_type": "code",
      "metadata": {
        "colab": {
          "base_uri": "https://localhost:8080/"
        },
        "id": "-uxfeC6lC4ku",
        "outputId": "4751519e-ed0a-48c0-8ddc-1c210a659605"
      },
      "source": [
        "model_3.compile(loss = \"binary_crossentropy\", optimizer = \"adam\", metrics= \"accuracy\")\n",
        "model_3.fit(train_data, epochs = 10, steps_per_epoch= len(train_data), validation_data=test_data, validation_steps = len(test_data))"
      ],
      "execution_count": null,
      "outputs": [
        {
          "output_type": "stream",
          "name": "stdout",
          "text": [
            "Epoch 1/10\n",
            "163/163 [==============================] - 24s 111ms/step - loss: 0.3380 - accuracy: 0.8495 - val_loss: 0.4526 - val_accuracy: 0.7580\n",
            "Epoch 2/10\n",
            "163/163 [==============================] - 18s 104ms/step - loss: 0.1841 - accuracy: 0.9363 - val_loss: 0.4256 - val_accuracy: 0.8013\n",
            "Epoch 3/10\n",
            "163/163 [==============================] - 18s 104ms/step - loss: 0.1548 - accuracy: 0.9452 - val_loss: 0.4249 - val_accuracy: 0.8093\n",
            "Epoch 4/10\n",
            "163/163 [==============================] - 18s 104ms/step - loss: 0.1334 - accuracy: 0.9548 - val_loss: 0.4517 - val_accuracy: 0.8013\n",
            "Epoch 5/10\n",
            "163/163 [==============================] - 18s 104ms/step - loss: 0.1216 - accuracy: 0.9544 - val_loss: 0.4668 - val_accuracy: 0.7933\n",
            "Epoch 6/10\n",
            "163/163 [==============================] - 18s 104ms/step - loss: 0.1136 - accuracy: 0.9617 - val_loss: 0.3948 - val_accuracy: 0.8365\n",
            "Epoch 7/10\n",
            "163/163 [==============================] - 18s 104ms/step - loss: 0.1097 - accuracy: 0.9620 - val_loss: 0.3995 - val_accuracy: 0.8413\n",
            "Epoch 8/10\n",
            "163/163 [==============================] - 18s 104ms/step - loss: 0.1029 - accuracy: 0.9668 - val_loss: 0.4471 - val_accuracy: 0.8173\n",
            "Epoch 9/10\n",
            "163/163 [==============================] - 18s 104ms/step - loss: 0.0980 - accuracy: 0.9674 - val_loss: 0.4583 - val_accuracy: 0.8125\n",
            "Epoch 10/10\n",
            "163/163 [==============================] - 18s 104ms/step - loss: 0.0924 - accuracy: 0.9651 - val_loss: 0.3796 - val_accuracy: 0.8462\n"
          ]
        },
        {
          "output_type": "execute_result",
          "data": {
            "text/plain": [
              "<keras.callbacks.History at 0x7fc1cc99ee50>"
            ]
          },
          "metadata": {},
          "execution_count": 59
        }
      ]
    },
    {
      "cell_type": "code",
      "metadata": {
        "colab": {
          "base_uri": "https://localhost:8080/"
        },
        "id": "FYmxO6d7DdsL",
        "outputId": "dd3dd4f4-0273-4e4c-dde4-5b713aa5ca57"
      },
      "source": [
        "model_3.fit(train_data, epochs = 5, steps_per_epoch= len(train_data), validation_data=test_data, validation_steps = len(test_data))"
      ],
      "execution_count": null,
      "outputs": [
        {
          "output_type": "stream",
          "name": "stdout",
          "text": [
            "Epoch 1/5\n",
            "163/163 [==============================] - 18s 104ms/step - loss: 0.0904 - accuracy: 0.9695 - val_loss: 0.3948 - val_accuracy: 0.8429\n",
            "Epoch 2/5\n",
            "163/163 [==============================] - 18s 104ms/step - loss: 0.0899 - accuracy: 0.9705 - val_loss: 0.4332 - val_accuracy: 0.8301\n",
            "Epoch 3/5\n",
            "163/163 [==============================] - 18s 104ms/step - loss: 0.0847 - accuracy: 0.9720 - val_loss: 0.4180 - val_accuracy: 0.8381\n",
            "Epoch 4/5\n",
            "163/163 [==============================] - 18s 104ms/step - loss: 0.0836 - accuracy: 0.9720 - val_loss: 0.3991 - val_accuracy: 0.8413\n",
            "Epoch 5/5\n",
            "163/163 [==============================] - 18s 104ms/step - loss: 0.0802 - accuracy: 0.9734 - val_loss: 0.4742 - val_accuracy: 0.8189\n"
          ]
        },
        {
          "output_type": "execute_result",
          "data": {
            "text/plain": [
              "<keras.callbacks.History at 0x7fc122585510>"
            ]
          },
          "metadata": {},
          "execution_count": 60
        }
      ]
    },
    {
      "cell_type": "markdown",
      "metadata": {
        "id": "6SbZ-AIfEOql"
      },
      "source": [
        "Model 4, augmented pretrained"
      ]
    },
    {
      "cell_type": "code",
      "metadata": {
        "id": "tF9Z3UYZETQI"
      },
      "source": [
        "input = Input(shape = (256,256, 3))\n",
        "x = data_aug(input)\n",
        "x = base_model(x)\n",
        "x = GlobalAveragePooling2D()(x)\n",
        "output = Dense(1, activation = \"sigmoid\")(x)\n",
        "model_4 = Model(inputs = input, outputs= output)"
      ],
      "execution_count": null,
      "outputs": []
    },
    {
      "cell_type": "code",
      "metadata": {
        "id": "dbhlFkssFQ6g"
      },
      "source": [
        "model_4.compile(optimizer = \"adam\", loss = \"binary_crossentropy\", metrics = \"accuracy\")"
      ],
      "execution_count": null,
      "outputs": []
    },
    {
      "cell_type": "code",
      "metadata": {
        "colab": {
          "base_uri": "https://localhost:8080/"
        },
        "id": "T_UQQl8DGa5Q",
        "outputId": "bddf1adc-23aa-47f0-fc0b-713af310c76f"
      },
      "source": [
        "model_4.fit(train_data, epochs = 10, steps_per_epoch=len(train_data), validation_data=test_data, validation_steps=len(test_data))"
      ],
      "execution_count": null,
      "outputs": [
        {
          "output_type": "stream",
          "name": "stdout",
          "text": [
            "Epoch 1/10\n",
            "163/163 [==============================] - 34s 172ms/step - loss: 0.3522 - accuracy: 0.8455 - val_loss: 0.4356 - val_accuracy: 0.8093\n",
            "Epoch 2/10\n",
            "163/163 [==============================] - 24s 142ms/step - loss: 0.2335 - accuracy: 0.9118 - val_loss: 0.3854 - val_accuracy: 0.8429\n",
            "Epoch 3/10\n",
            "163/163 [==============================] - 23s 135ms/step - loss: 0.2051 - accuracy: 0.9187 - val_loss: 0.3582 - val_accuracy: 0.8574\n",
            "Epoch 4/10\n",
            "163/163 [==============================] - 21s 126ms/step - loss: 0.1885 - accuracy: 0.9229 - val_loss: 0.3422 - val_accuracy: 0.8558\n",
            "Epoch 5/10\n",
            "163/163 [==============================] - 21s 126ms/step - loss: 0.1828 - accuracy: 0.9310 - val_loss: 0.3272 - val_accuracy: 0.8718\n",
            "Epoch 6/10\n",
            "163/163 [==============================] - 20s 120ms/step - loss: 0.1708 - accuracy: 0.9333 - val_loss: 0.3149 - val_accuracy: 0.8718\n",
            "Epoch 7/10\n",
            "163/163 [==============================] - 20s 117ms/step - loss: 0.1716 - accuracy: 0.9329 - val_loss: 0.3026 - val_accuracy: 0.8910\n",
            "Epoch 8/10\n",
            "163/163 [==============================] - 19s 115ms/step - loss: 0.1574 - accuracy: 0.9410 - val_loss: 0.2902 - val_accuracy: 0.8926\n",
            "Epoch 9/10\n",
            "163/163 [==============================] - 19s 113ms/step - loss: 0.1570 - accuracy: 0.9417 - val_loss: 0.2861 - val_accuracy: 0.8910\n",
            "Epoch 10/10\n",
            "163/163 [==============================] - 19s 114ms/step - loss: 0.1515 - accuracy: 0.9459 - val_loss: 0.2829 - val_accuracy: 0.9006\n"
          ]
        },
        {
          "output_type": "execute_result",
          "data": {
            "text/plain": [
              "<keras.callbacks.History at 0x7fc129201390>"
            ]
          },
          "metadata": {},
          "execution_count": 67
        }
      ]
    },
    {
      "cell_type": "code",
      "metadata": {
        "colab": {
          "base_uri": "https://localhost:8080/"
        },
        "id": "2FYeDQyYGyAc",
        "outputId": "cc17ac46-a2b4-421e-c00a-48865af7c8e8"
      },
      "source": [
        "model_4.fit(train_data, epochs = 5, steps_per_epoch=len(train_data), validation_data=test_data, validation_steps=len(test_data))"
      ],
      "execution_count": null,
      "outputs": [
        {
          "output_type": "stream",
          "name": "stdout",
          "text": [
            "Epoch 1/5\n",
            "163/163 [==============================] - 19s 112ms/step - loss: 0.1451 - accuracy: 0.9463 - val_loss: 0.2865 - val_accuracy: 0.9022\n",
            "Epoch 2/5\n",
            "163/163 [==============================] - 19s 111ms/step - loss: 0.1506 - accuracy: 0.9444 - val_loss: 0.2689 - val_accuracy: 0.8974\n",
            "Epoch 3/5\n",
            "163/163 [==============================] - 19s 110ms/step - loss: 0.1476 - accuracy: 0.9467 - val_loss: 0.2779 - val_accuracy: 0.8990\n",
            "Epoch 4/5\n",
            "163/163 [==============================] - 18s 109ms/step - loss: 0.1361 - accuracy: 0.9471 - val_loss: 0.2664 - val_accuracy: 0.8942\n",
            "Epoch 5/5\n",
            "163/163 [==============================] - 19s 110ms/step - loss: 0.1388 - accuracy: 0.9456 - val_loss: 0.2754 - val_accuracy: 0.9006\n"
          ]
        },
        {
          "output_type": "execute_result",
          "data": {
            "text/plain": [
              "<keras.callbacks.History at 0x7fc1cc54c890>"
            ]
          },
          "metadata": {},
          "execution_count": 68
        }
      ]
    },
    {
      "cell_type": "markdown",
      "metadata": {
        "id": "OidtaxBIIGEr"
      },
      "source": [
        "Model 5, augmented pretrained some layers trainable last 17 layers:\n"
      ]
    },
    {
      "cell_type": "code",
      "metadata": {
        "id": "Rrywn8EOIN1h"
      },
      "source": [
        "for i in range(220, len(base_model.layers)):\n",
        "  base_model.layers[i].trainable = True"
      ],
      "execution_count": null,
      "outputs": []
    },
    {
      "cell_type": "code",
      "metadata": {
        "id": "yPrNFIIiIUfr"
      },
      "source": [
        "input = Input(shape = (256,256, 3))\n",
        "x = data_aug(input)\n",
        "x = base_model(x)\n",
        "x = GlobalAveragePooling2D()(x)\n",
        "output = Dense(1, activation = \"sigmoid\")(x)\n",
        "model_5 = Model(inputs = input, outputs= output)"
      ],
      "execution_count": null,
      "outputs": []
    },
    {
      "cell_type": "code",
      "metadata": {
        "id": "ayp5d3pPIyTO"
      },
      "source": [
        "model_5.compile(optimizer = \"adam\", loss = \"binary_crossentropy\", metrics = \"accuracy\")\n"
      ],
      "execution_count": null,
      "outputs": []
    },
    {
      "cell_type": "code",
      "metadata": {
        "colab": {
          "base_uri": "https://localhost:8080/"
        },
        "id": "Ej4HJJDjJTQz",
        "outputId": "1318a3d0-844d-4e93-a679-a2fcd4ed520b"
      },
      "source": [
        "model_5.fit(train_data, epochs = 15, steps_per_epoch=len(train_data), validation_data=test_data, validation_steps=len(test_data))"
      ],
      "execution_count": null,
      "outputs": [
        {
          "output_type": "stream",
          "name": "stdout",
          "text": [
            "Epoch 1/15\n",
            "163/163 [==============================] - 25s 115ms/step - loss: 0.3719 - accuracy: 0.8606 - val_loss: 0.4293 - val_accuracy: 0.8077\n",
            "Epoch 2/15\n",
            "163/163 [==============================] - 18s 108ms/step - loss: 0.2380 - accuracy: 0.9147 - val_loss: 0.4171 - val_accuracy: 0.8029\n",
            "Epoch 3/15\n",
            "163/163 [==============================] - 18s 109ms/step - loss: 0.2173 - accuracy: 0.9153 - val_loss: 0.4022 - val_accuracy: 0.8013\n",
            "Epoch 4/15\n",
            "163/163 [==============================] - 19s 109ms/step - loss: 0.1961 - accuracy: 0.9250 - val_loss: 0.3716 - val_accuracy: 0.8301\n",
            "Epoch 5/15\n",
            "163/163 [==============================] - 19s 110ms/step - loss: 0.1822 - accuracy: 0.9308 - val_loss: 0.4033 - val_accuracy: 0.7997\n",
            "Epoch 6/15\n",
            "163/163 [==============================] - 19s 110ms/step - loss: 0.1878 - accuracy: 0.9300 - val_loss: 0.3553 - val_accuracy: 0.8365\n",
            "Epoch 7/15\n",
            "163/163 [==============================] - 18s 108ms/step - loss: 0.1694 - accuracy: 0.9371 - val_loss: 0.3808 - val_accuracy: 0.8125\n",
            "Epoch 8/15\n",
            "163/163 [==============================] - 18s 109ms/step - loss: 0.1752 - accuracy: 0.9333 - val_loss: 0.3657 - val_accuracy: 0.8221\n",
            "Epoch 9/15\n",
            "163/163 [==============================] - 18s 108ms/step - loss: 0.1648 - accuracy: 0.9377 - val_loss: 0.3499 - val_accuracy: 0.8365\n",
            "Epoch 10/15\n",
            "163/163 [==============================] - 18s 108ms/step - loss: 0.1677 - accuracy: 0.9344 - val_loss: 0.3589 - val_accuracy: 0.8253\n",
            "Epoch 11/15\n",
            "163/163 [==============================] - 18s 108ms/step - loss: 0.1598 - accuracy: 0.9415 - val_loss: 0.3646 - val_accuracy: 0.8205\n",
            "Epoch 12/15\n",
            "163/163 [==============================] - 18s 108ms/step - loss: 0.1571 - accuracy: 0.9417 - val_loss: 0.3207 - val_accuracy: 0.8510\n",
            "Epoch 13/15\n",
            "163/163 [==============================] - 18s 108ms/step - loss: 0.1584 - accuracy: 0.9442 - val_loss: 0.3486 - val_accuracy: 0.8349\n",
            "Epoch 14/15\n",
            "163/163 [==============================] - 18s 108ms/step - loss: 0.1527 - accuracy: 0.9421 - val_loss: 0.3325 - val_accuracy: 0.8462\n",
            "Epoch 15/15\n",
            "163/163 [==============================] - 18s 108ms/step - loss: 0.1472 - accuracy: 0.9450 - val_loss: 0.3027 - val_accuracy: 0.8654\n"
          ]
        },
        {
          "output_type": "execute_result",
          "data": {
            "text/plain": [
              "<keras.callbacks.History at 0x7fc129208f90>"
            ]
          },
          "metadata": {},
          "execution_count": 76
        }
      ]
    },
    {
      "cell_type": "markdown",
      "metadata": {
        "id": "4JbJj10dKaw9"
      },
      "source": [
        "Model 6, augmented pretrained some layers trainable last 5 layers\n",
        "\n",
        "\n",
        "\n"
      ]
    },
    {
      "cell_type": "code",
      "metadata": {
        "id": "D5rYzfLBKdSL",
        "colab": {
          "base_uri": "https://localhost:8080/"
        },
        "outputId": "3b35d3fb-7d32-4d48-e356-4912251626b5"
      },
      "source": [
        "base_model = EfficientNetB0(include_top= False)\n",
        "base_model.trainable = False"
      ],
      "execution_count": 22,
      "outputs": [
        {
          "output_type": "stream",
          "name": "stdout",
          "text": [
            "Downloading data from https://storage.googleapis.com/keras-applications/efficientnetb0_notop.h5\n",
            "16711680/16705208 [==============================] - 0s 0us/step\n",
            "16719872/16705208 [==============================] - 0s 0us/step\n"
          ]
        }
      ]
    },
    {
      "cell_type": "code",
      "metadata": {
        "id": "6TKqjeE7Kt9G"
      },
      "source": [
        "for i in range(231, len(base_model.layers)):\n",
        "  base_model.layers[i].trainable = True"
      ],
      "execution_count": null,
      "outputs": []
    },
    {
      "cell_type": "code",
      "metadata": {
        "id": "5PxmlI0LKybO"
      },
      "source": [
        "input = Input(shape = (256,256, 3))\n",
        "x = data_aug(input)\n",
        "x = base_model(x)\n",
        "x = GlobalAveragePooling2D()(x)\n",
        "output = Dense(1, activation = \"sigmoid\")(x)\n",
        "model_6 = Model(inputs = input, outputs= output)"
      ],
      "execution_count": null,
      "outputs": []
    },
    {
      "cell_type": "code",
      "metadata": {
        "id": "E8oVg4XBLTtR"
      },
      "source": [
        "model_6.compile(optimizer = \"adam\", loss = \"binary_crossentropy\", metrics = \"accuracy\")"
      ],
      "execution_count": null,
      "outputs": []
    },
    {
      "cell_type": "code",
      "metadata": {
        "colab": {
          "base_uri": "https://localhost:8080/"
        },
        "id": "4h3XyHrfLXnd",
        "outputId": "69319d43-5bed-4afe-eb2d-ed4851c5a330"
      },
      "source": [
        "model_6.fit(train_data, epochs = 15, steps_per_epoch=len(train_data), validation_data=test_data, validation_steps=len(test_data))"
      ],
      "execution_count": null,
      "outputs": [
        {
          "output_type": "stream",
          "name": "stdout",
          "text": [
            "Epoch 1/15\n",
            "163/163 [==============================] - 24s 114ms/step - loss: 0.3796 - accuracy: 0.8491 - val_loss: 0.4297 - val_accuracy: 0.8093\n",
            "Epoch 2/15\n",
            "163/163 [==============================] - 18s 107ms/step - loss: 0.2430 - accuracy: 0.9109 - val_loss: 0.3921 - val_accuracy: 0.8253\n",
            "Epoch 3/15\n",
            "163/163 [==============================] - 18s 107ms/step - loss: 0.2172 - accuracy: 0.9151 - val_loss: 0.3811 - val_accuracy: 0.8301\n",
            "Epoch 4/15\n",
            "163/163 [==============================] - 18s 107ms/step - loss: 0.2016 - accuracy: 0.9225 - val_loss: 0.3753 - val_accuracy: 0.8317\n",
            "Epoch 5/15\n",
            "163/163 [==============================] - 18s 107ms/step - loss: 0.1869 - accuracy: 0.9283 - val_loss: 0.3876 - val_accuracy: 0.8093\n",
            "Epoch 6/15\n",
            "163/163 [==============================] - 18s 107ms/step - loss: 0.1806 - accuracy: 0.9325 - val_loss: 0.3459 - val_accuracy: 0.8510\n",
            "Epoch 7/15\n",
            "163/163 [==============================] - 19s 113ms/step - loss: 0.1811 - accuracy: 0.9294 - val_loss: 0.3468 - val_accuracy: 0.8494\n",
            "Epoch 8/15\n",
            "163/163 [==============================] - 19s 111ms/step - loss: 0.1624 - accuracy: 0.9394 - val_loss: 0.3444 - val_accuracy: 0.8462\n",
            "Epoch 9/15\n",
            "163/163 [==============================] - 18s 108ms/step - loss: 0.1728 - accuracy: 0.9327 - val_loss: 0.3214 - val_accuracy: 0.8606\n",
            "Epoch 10/15\n",
            "163/163 [==============================] - 18s 108ms/step - loss: 0.1587 - accuracy: 0.9390 - val_loss: 0.3516 - val_accuracy: 0.8333\n",
            "Epoch 11/15\n",
            "163/163 [==============================] - 19s 110ms/step - loss: 0.1657 - accuracy: 0.9388 - val_loss: 0.3425 - val_accuracy: 0.8349\n",
            "Epoch 12/15\n",
            "163/163 [==============================] - 19s 110ms/step - loss: 0.1500 - accuracy: 0.9444 - val_loss: 0.3331 - val_accuracy: 0.8462\n",
            "Epoch 13/15\n",
            "163/163 [==============================] - 19s 111ms/step - loss: 0.1595 - accuracy: 0.9356 - val_loss: 0.3124 - val_accuracy: 0.8558\n",
            "Epoch 14/15\n",
            "163/163 [==============================] - 19s 112ms/step - loss: 0.1589 - accuracy: 0.9388 - val_loss: 0.2968 - val_accuracy: 0.8654\n",
            "Epoch 15/15\n",
            "163/163 [==============================] - 19s 109ms/step - loss: 0.1530 - accuracy: 0.9400 - val_loss: 0.3202 - val_accuracy: 0.8510\n"
          ]
        },
        {
          "output_type": "execute_result",
          "data": {
            "text/plain": [
              "<keras.callbacks.History at 0x7fc1275c6310>"
            ]
          },
          "metadata": {},
          "execution_count": 87
        }
      ]
    },
    {
      "cell_type": "code",
      "metadata": {
        "id": "gcM0I6kaLdbZ"
      },
      "source": [
        ""
      ],
      "execution_count": null,
      "outputs": []
    },
    {
      "cell_type": "markdown",
      "metadata": {
        "id": "iMNqqg25MtcP"
      },
      "source": [
        "Model 7, augmented pretrained some layers trainable last  layers\n"
      ]
    },
    {
      "cell_type": "code",
      "metadata": {
        "id": "rPMYCP14Mw6j"
      },
      "source": [
        "base_model = EfficientNetB0(include_top= False)\n",
        "base_model.trainable = False"
      ],
      "execution_count": null,
      "outputs": []
    },
    {
      "cell_type": "code",
      "metadata": {
        "id": "wNUrvOoGM-w2"
      },
      "source": [
        "base_model.layers[236].trainable = True"
      ],
      "execution_count": null,
      "outputs": []
    },
    {
      "cell_type": "code",
      "metadata": {
        "id": "uyZjO-ktNB8e"
      },
      "source": [
        "input = Input(shape = (256,256, 3))\n",
        "x = data_aug(input)\n",
        "x = base_model(x)\n",
        "x = GlobalAveragePooling2D()(x)\n",
        "output = Dense(1, activation = \"sigmoid\")(x)\n",
        "model_7 = Model(inputs = input, outputs= output)"
      ],
      "execution_count": null,
      "outputs": []
    },
    {
      "cell_type": "code",
      "metadata": {
        "id": "N8s8hECyNG9R"
      },
      "source": [
        "model_7.compile(optimizer = \"adam\", loss = \"binary_crossentropy\", metrics = \"accuracy\")"
      ],
      "execution_count": null,
      "outputs": []
    },
    {
      "cell_type": "code",
      "metadata": {
        "colab": {
          "base_uri": "https://localhost:8080/"
        },
        "id": "Pt04LGCSNH0G",
        "outputId": "b6c90b84-9c3a-4ad4-f5ab-a43107c1ebdd"
      },
      "source": [
        "model_7.fit(train_data, epochs = 15, steps_per_epoch=len(train_data), validation_data=test_data, validation_steps=len(test_data))"
      ],
      "execution_count": null,
      "outputs": [
        {
          "output_type": "stream",
          "name": "stdout",
          "text": [
            "Epoch 1/15\n",
            "163/163 [==============================] - 25s 114ms/step - loss: 0.3749 - accuracy: 0.8305 - val_loss: 0.4444 - val_accuracy: 0.8045\n",
            "Epoch 2/15\n",
            "163/163 [==============================] - 18s 107ms/step - loss: 0.2373 - accuracy: 0.9089 - val_loss: 0.3799 - val_accuracy: 0.8381\n",
            "Epoch 3/15\n",
            "163/163 [==============================] - 18s 108ms/step - loss: 0.2041 - accuracy: 0.9224 - val_loss: 0.3542 - val_accuracy: 0.8446\n",
            "Epoch 4/15\n",
            "163/163 [==============================] - 18s 107ms/step - loss: 0.1839 - accuracy: 0.9325 - val_loss: 0.3296 - val_accuracy: 0.8702\n",
            "Epoch 5/15\n",
            "163/163 [==============================] - 18s 106ms/step - loss: 0.1753 - accuracy: 0.9327 - val_loss: 0.3180 - val_accuracy: 0.8750\n",
            "Epoch 6/15\n",
            "163/163 [==============================] - 18s 106ms/step - loss: 0.1665 - accuracy: 0.9383 - val_loss: 0.3073 - val_accuracy: 0.8766\n",
            "Epoch 7/15\n",
            "163/163 [==============================] - 18s 106ms/step - loss: 0.1676 - accuracy: 0.9365 - val_loss: 0.3149 - val_accuracy: 0.8878\n",
            "Epoch 8/15\n",
            "163/163 [==============================] - 18s 106ms/step - loss: 0.1562 - accuracy: 0.9408 - val_loss: 0.3198 - val_accuracy: 0.8910\n",
            "Epoch 9/15\n",
            "163/163 [==============================] - 18s 106ms/step - loss: 0.1566 - accuracy: 0.9421 - val_loss: 0.2969 - val_accuracy: 0.8926\n",
            "Epoch 10/15\n",
            "163/163 [==============================] - 18s 107ms/step - loss: 0.1516 - accuracy: 0.9388 - val_loss: 0.2827 - val_accuracy: 0.8958\n",
            "Epoch 11/15\n",
            "163/163 [==============================] - 18s 107ms/step - loss: 0.1500 - accuracy: 0.9434 - val_loss: 0.2799 - val_accuracy: 0.8942\n",
            "Epoch 12/15\n",
            "163/163 [==============================] - 18s 107ms/step - loss: 0.1427 - accuracy: 0.9463 - val_loss: 0.2746 - val_accuracy: 0.8894\n",
            "Epoch 13/15\n",
            "163/163 [==============================] - 18s 106ms/step - loss: 0.1460 - accuracy: 0.9482 - val_loss: 0.2714 - val_accuracy: 0.8942\n",
            "Epoch 14/15\n",
            "163/163 [==============================] - 18s 107ms/step - loss: 0.1413 - accuracy: 0.9473 - val_loss: 0.2881 - val_accuracy: 0.8894\n",
            "Epoch 15/15\n",
            "163/163 [==============================] - 18s 107ms/step - loss: 0.1377 - accuracy: 0.9461 - val_loss: 0.2838 - val_accuracy: 0.8974\n"
          ]
        },
        {
          "output_type": "execute_result",
          "data": {
            "text/plain": [
              "<keras.callbacks.History at 0x7fc123d39bd0>"
            ]
          },
          "metadata": {},
          "execution_count": 97
        }
      ]
    },
    {
      "cell_type": "code",
      "metadata": {
        "colab": {
          "base_uri": "https://localhost:8080/"
        },
        "id": "QzBTU_XmNPSo",
        "outputId": "5b8c58bb-f242-4530-9ebc-0d2ebcc6c20d"
      },
      "source": [
        "model_7.fit(train_data, epochs = 5, steps_per_epoch=len(train_data), validation_data=test_data, validation_steps=len(test_data))"
      ],
      "execution_count": null,
      "outputs": [
        {
          "output_type": "stream",
          "name": "stdout",
          "text": [
            "Epoch 1/5\n",
            "163/163 [==============================] - 19s 110ms/step - loss: 0.1355 - accuracy: 0.9513 - val_loss: 0.2724 - val_accuracy: 0.9006\n",
            "Epoch 2/5\n",
            "163/163 [==============================] - 18s 108ms/step - loss: 0.1371 - accuracy: 0.9459 - val_loss: 0.2817 - val_accuracy: 0.8942\n",
            "Epoch 3/5\n",
            "163/163 [==============================] - 18s 109ms/step - loss: 0.1372 - accuracy: 0.9475 - val_loss: 0.3124 - val_accuracy: 0.8766\n",
            "Epoch 4/5\n",
            "163/163 [==============================] - 18s 108ms/step - loss: 0.1321 - accuracy: 0.9488 - val_loss: 0.2700 - val_accuracy: 0.8942\n",
            "Epoch 5/5\n",
            "163/163 [==============================] - 18s 108ms/step - loss: 0.1319 - accuracy: 0.9507 - val_loss: 0.2639 - val_accuracy: 0.8942\n"
          ]
        },
        {
          "output_type": "execute_result",
          "data": {
            "text/plain": [
              "<keras.callbacks.History at 0x7fc097cca390>"
            ]
          },
          "metadata": {},
          "execution_count": 98
        }
      ]
    },
    {
      "cell_type": "markdown",
      "metadata": {
        "id": "XWiXgF8SuPyq"
      },
      "source": [
        "Model 8 Pretrained, weights locked for 5 epochs then trainable for 10"
      ]
    },
    {
      "cell_type": "code",
      "metadata": {
        "id": "5ajEQ6hIvb2s"
      },
      "source": [
        "base_model = EfficientNetB0(include_top= False)\n",
        "base_model.trainable = False"
      ],
      "execution_count": 23,
      "outputs": []
    },
    {
      "cell_type": "code",
      "metadata": {
        "id": "z89tYHvqvi4Y"
      },
      "source": [
        "input = Input(shape=(256,256,3))\n",
        "x = data_aug(input)\n",
        "x = base_model(x)\n",
        "x = GlobalAveragePooling2D()(x)\n",
        "output = Dense(1, activation = \"sigmoid\")(x)\n",
        "model_8 = Model(inputs = input, outputs = output) "
      ],
      "execution_count": null,
      "outputs": []
    },
    {
      "cell_type": "code",
      "metadata": {
        "id": "pIzjWb0KvrzZ"
      },
      "source": [
        "initial_epochs = 5"
      ],
      "execution_count": 17,
      "outputs": []
    },
    {
      "cell_type": "code",
      "metadata": {
        "colab": {
          "base_uri": "https://localhost:8080/"
        },
        "id": "zDLHNT1Sw0TL",
        "outputId": "ef7ba73d-f441-4ce4-ba0d-7bf0ca05a22e"
      },
      "source": [
        "model_8.compile(optimizer=\"adam\", loss = \"binary_crossentropy\", metrics = \"accuracy\")\n",
        "model_8.fit(train_data, epochs=initial_epochs, steps_per_epoch=len(train_data), validation_data= test_data, validation_steps=len(test_data))"
      ],
      "execution_count": null,
      "outputs": [
        {
          "output_type": "stream",
          "name": "stdout",
          "text": [
            "Epoch 1/5\n",
            "163/163 [==============================] - 32s 150ms/step - loss: 0.3621 - accuracy: 0.8361 - val_loss: 0.4510 - val_accuracy: 0.7933\n",
            "Epoch 2/5\n",
            "163/163 [==============================] - 23s 138ms/step - loss: 0.2292 - accuracy: 0.9116 - val_loss: 0.3962 - val_accuracy: 0.8285\n",
            "Epoch 3/5\n",
            "163/163 [==============================] - 23s 137ms/step - loss: 0.1992 - accuracy: 0.9237 - val_loss: 0.3634 - val_accuracy: 0.8446\n",
            "Epoch 4/5\n",
            "163/163 [==============================] - 23s 135ms/step - loss: 0.1938 - accuracy: 0.9245 - val_loss: 0.3376 - val_accuracy: 0.8718\n",
            "Epoch 5/5\n",
            "163/163 [==============================] - 23s 135ms/step - loss: 0.1731 - accuracy: 0.9346 - val_loss: 0.3287 - val_accuracy: 0.8926\n"
          ]
        },
        {
          "output_type": "execute_result",
          "data": {
            "text/plain": [
              "<keras.callbacks.History at 0x7f20b4f8ff90>"
            ]
          },
          "metadata": {},
          "execution_count": 42
        }
      ]
    },
    {
      "cell_type": "code",
      "metadata": {
        "id": "9yVs6crYyZhv"
      },
      "source": [
        "#making the last 5 layers trainabe o\n",
        "for i in range(231, len(base_model.layers)):\n",
        " model_8.layers[2].layers[i].trainable = True"
      ],
      "execution_count": null,
      "outputs": []
    },
    {
      "cell_type": "code",
      "metadata": {
        "colab": {
          "base_uri": "https://localhost:8080/"
        },
        "id": "tEpQe0xm0XR1",
        "outputId": "8c8f05da-44a7-4173-ccbf-0c81521ee681"
      },
      "source": [
        "model_8.fit(train_data, epochs=10, steps_per_epoch=len(train_data), validation_data= test_data, validation_steps=len(test_data))"
      ],
      "execution_count": null,
      "outputs": [
        {
          "output_type": "stream",
          "name": "stdout",
          "text": [
            "Epoch 1/10\n",
            "163/163 [==============================] - 23s 134ms/step - loss: 0.1794 - accuracy: 0.9293 - val_loss: 0.3147 - val_accuracy: 0.8846\n",
            "Epoch 2/10\n",
            "163/163 [==============================] - 23s 134ms/step - loss: 0.1640 - accuracy: 0.9383 - val_loss: 0.2989 - val_accuracy: 0.8830\n",
            "Epoch 3/10\n",
            "163/163 [==============================] - 23s 133ms/step - loss: 0.1582 - accuracy: 0.9356 - val_loss: 0.2905 - val_accuracy: 0.8894\n",
            "Epoch 4/10\n",
            "163/163 [==============================] - 22s 131ms/step - loss: 0.1504 - accuracy: 0.9411 - val_loss: 0.2979 - val_accuracy: 0.8926\n",
            "Epoch 5/10\n",
            "163/163 [==============================] - 23s 133ms/step - loss: 0.1547 - accuracy: 0.9379 - val_loss: 0.2889 - val_accuracy: 0.8830\n",
            "Epoch 6/10\n",
            "163/163 [==============================] - 22s 132ms/step - loss: 0.1498 - accuracy: 0.9429 - val_loss: 0.2792 - val_accuracy: 0.9022\n",
            "Epoch 7/10\n",
            "163/163 [==============================] - 22s 131ms/step - loss: 0.1413 - accuracy: 0.9450 - val_loss: 0.2811 - val_accuracy: 0.9038\n",
            "Epoch 8/10\n",
            "163/163 [==============================] - 22s 130ms/step - loss: 0.1445 - accuracy: 0.9463 - val_loss: 0.2724 - val_accuracy: 0.9038\n",
            "Epoch 9/10\n",
            "163/163 [==============================] - 22s 131ms/step - loss: 0.1402 - accuracy: 0.9456 - val_loss: 0.2797 - val_accuracy: 0.9038\n",
            "Epoch 10/10\n",
            "163/163 [==============================] - 22s 132ms/step - loss: 0.1396 - accuracy: 0.9454 - val_loss: 0.2645 - val_accuracy: 0.9006\n"
          ]
        },
        {
          "output_type": "execute_result",
          "data": {
            "text/plain": [
              "<keras.callbacks.History at 0x7f20380d7950>"
            ]
          },
          "metadata": {},
          "execution_count": 49
        }
      ]
    },
    {
      "cell_type": "code",
      "metadata": {
        "colab": {
          "base_uri": "https://localhost:8080/"
        },
        "id": "u-o16_d615d3",
        "outputId": "dda5a96d-7194-4376-e0e9-066fb25064b8"
      },
      "source": [
        "model_8.fit(train_data, epochs=5, steps_per_epoch=len(train_data), validation_data= test_data, validation_steps=len(test_data))"
      ],
      "execution_count": null,
      "outputs": [
        {
          "output_type": "stream",
          "name": "stdout",
          "text": [
            "Epoch 1/5\n",
            "163/163 [==============================] - 22s 130ms/step - loss: 0.1376 - accuracy: 0.9500 - val_loss: 0.2939 - val_accuracy: 0.8894\n",
            "Epoch 2/5\n",
            "163/163 [==============================] - 22s 132ms/step - loss: 0.1264 - accuracy: 0.9519 - val_loss: 0.2630 - val_accuracy: 0.9054\n",
            "Epoch 3/5\n",
            "163/163 [==============================] - 22s 130ms/step - loss: 0.1368 - accuracy: 0.9454 - val_loss: 0.2640 - val_accuracy: 0.9054\n",
            "Epoch 4/5\n",
            "163/163 [==============================] - 22s 129ms/step - loss: 0.1357 - accuracy: 0.9498 - val_loss: 0.3046 - val_accuracy: 0.8782\n",
            "Epoch 5/5\n",
            "163/163 [==============================] - 22s 131ms/step - loss: 0.1316 - accuracy: 0.9494 - val_loss: 0.2684 - val_accuracy: 0.8942\n"
          ]
        },
        {
          "output_type": "execute_result",
          "data": {
            "text/plain": [
              "<keras.callbacks.History at 0x7f20bf71a2d0>"
            ]
          },
          "metadata": {},
          "execution_count": 50
        }
      ]
    },
    {
      "cell_type": "code",
      "metadata": {
        "id": "hBy9Ivkb2AcE"
      },
      "source": [
        ""
      ],
      "execution_count": null,
      "outputs": []
    },
    {
      "cell_type": "markdown",
      "metadata": {
        "id": "QoaaEvzI2eY6"
      },
      "source": [
        "#Model 9 Trying EfficientNetB3 Aug\n",
        "\n"
      ]
    },
    {
      "cell_type": "code",
      "metadata": {
        "id": "BwUuof7X3Lih"
      },
      "source": [
        "from tensorflow.keras.applications import EfficientNetB3"
      ],
      "execution_count": 18,
      "outputs": []
    },
    {
      "cell_type": "code",
      "metadata": {
        "colab": {
          "base_uri": "https://localhost:8080/"
        },
        "id": "tnP1yAyO2kOv",
        "outputId": "d7d165c5-29df-46d2-fb34-12011f41e7d7"
      },
      "source": [
        "base_modelB3 = EfficientNetB3(include_top=False)\n",
        "base_modelB3.trainable = False"
      ],
      "execution_count": 19,
      "outputs": [
        {
          "output_type": "stream",
          "name": "stdout",
          "text": [
            "Downloading data from https://storage.googleapis.com/keras-applications/efficientnetb3_notop.h5\n",
            "43941888/43941136 [==============================] - 0s 0us/step\n",
            "43950080/43941136 [==============================] - 0s 0us/step\n"
          ]
        }
      ]
    },
    {
      "cell_type": "code",
      "metadata": {
        "id": "XrydFzcm30Oc"
      },
      "source": [
        "input = Input(shape = (256,256, 3))\n",
        "x = data_aug(input)\n",
        "x = base_modelB3(x)\n",
        "x = GlobalAveragePooling2D()(x)\n",
        "output = Dense(1, activation= 'sigmoid')(x)\n",
        "model_9 = Model(inputs = input, outputs = output)"
      ],
      "execution_count": 64,
      "outputs": []
    },
    {
      "cell_type": "code",
      "metadata": {
        "colab": {
          "base_uri": "https://localhost:8080/"
        },
        "id": "NmgpvbPO4l2C",
        "outputId": "d03659a1-5a31-4b94-d325-40636e114ea9"
      },
      "source": [
        "model_9.compile(optimizer = \"adam\", loss = \"binary_crossentropy\", metrics= ['accuracy'])\n",
        "model_9.fit(train_data, epochs=10, steps_per_epoch= len(train_data), validation_data=test_data, validation_steps=len(test_data))"
      ],
      "execution_count": 65,
      "outputs": [
        {
          "output_type": "stream",
          "name": "stdout",
          "text": [
            "Epoch 1/10\n",
            "163/163 [==============================] - 33s 151ms/step - loss: 0.3465 - accuracy: 0.8510 - val_loss: 0.3520 - val_accuracy: 0.8542\n",
            "Epoch 2/10\n",
            "163/163 [==============================] - 23s 137ms/step - loss: 0.2159 - accuracy: 0.9189 - val_loss: 0.3109 - val_accuracy: 0.8798\n",
            "Epoch 3/10\n",
            "163/163 [==============================] - 23s 135ms/step - loss: 0.1833 - accuracy: 0.9302 - val_loss: 0.2933 - val_accuracy: 0.8766\n",
            "Epoch 4/10\n",
            "163/163 [==============================] - 23s 136ms/step - loss: 0.1732 - accuracy: 0.9340 - val_loss: 0.2708 - val_accuracy: 0.8894\n",
            "Epoch 5/10\n",
            "163/163 [==============================] - 23s 136ms/step - loss: 0.1638 - accuracy: 0.9400 - val_loss: 0.2616 - val_accuracy: 0.8990\n",
            "Epoch 6/10\n",
            "163/163 [==============================] - 23s 135ms/step - loss: 0.1581 - accuracy: 0.9398 - val_loss: 0.2711 - val_accuracy: 0.8766\n",
            "Epoch 7/10\n",
            "163/163 [==============================] - 23s 134ms/step - loss: 0.1622 - accuracy: 0.9373 - val_loss: 0.2565 - val_accuracy: 0.8878\n",
            "Epoch 8/10\n",
            "163/163 [==============================] - 23s 134ms/step - loss: 0.1492 - accuracy: 0.9431 - val_loss: 0.2702 - val_accuracy: 0.8766\n",
            "Epoch 9/10\n",
            "163/163 [==============================] - 22s 133ms/step - loss: 0.1443 - accuracy: 0.9459 - val_loss: 0.2580 - val_accuracy: 0.8846\n",
            "Epoch 10/10\n",
            "163/163 [==============================] - 23s 134ms/step - loss: 0.1447 - accuracy: 0.9459 - val_loss: 0.2573 - val_accuracy: 0.8846\n"
          ]
        },
        {
          "output_type": "execute_result",
          "data": {
            "text/plain": [
              "<keras.callbacks.History at 0x7fca1b03ef10>"
            ]
          },
          "metadata": {},
          "execution_count": 65
        }
      ]
    },
    {
      "cell_type": "code",
      "metadata": {
        "colab": {
          "base_uri": "https://localhost:8080/"
        },
        "id": "unpmPVwb5trj",
        "outputId": "7927cc11-ae40-4dc1-cf18-a6ab72c98696"
      },
      "source": [
        "model_9.fit(train_data, epochs=5, steps_per_epoch= len(train_data), validation_data=test_data, validation_steps=len(test_data))"
      ],
      "execution_count": 66,
      "outputs": [
        {
          "output_type": "stream",
          "name": "stdout",
          "text": [
            "Epoch 1/5\n",
            "163/163 [==============================] - 23s 134ms/step - loss: 0.1408 - accuracy: 0.9463 - val_loss: 0.2416 - val_accuracy: 0.9038\n",
            "Epoch 2/5\n",
            "163/163 [==============================] - 23s 135ms/step - loss: 0.1360 - accuracy: 0.9482 - val_loss: 0.2472 - val_accuracy: 0.8926\n",
            "Epoch 3/5\n",
            "163/163 [==============================] - 22s 129ms/step - loss: 0.1356 - accuracy: 0.9484 - val_loss: 0.2460 - val_accuracy: 0.9022\n",
            "Epoch 4/5\n",
            "163/163 [==============================] - 22s 132ms/step - loss: 0.1257 - accuracy: 0.9496 - val_loss: 0.2404 - val_accuracy: 0.9006\n",
            "Epoch 5/5\n",
            "163/163 [==============================] - 22s 130ms/step - loss: 0.1345 - accuracy: 0.9461 - val_loss: 0.2484 - val_accuracy: 0.8958\n"
          ]
        },
        {
          "output_type": "execute_result",
          "data": {
            "text/plain": [
              "<keras.callbacks.History at 0x7fca1afc4f90>"
            ]
          },
          "metadata": {},
          "execution_count": 66
        }
      ]
    },
    {
      "cell_type": "code",
      "metadata": {
        "colab": {
          "base_uri": "https://localhost:8080/"
        },
        "id": "nHtVlTyU71m5",
        "outputId": "7d9a9191-6c93-4765-c115-c076a0702766"
      },
      "source": [
        "#the loss seems to continously go down so MORE EPOCHS!!!!!\n",
        "model_9.fit(train_data, epochs=5, steps_per_epoch= len(train_data), validation_data=test_data, validation_steps=len(test_data))"
      ],
      "execution_count": 67,
      "outputs": [
        {
          "output_type": "stream",
          "name": "stdout",
          "text": [
            "Epoch 1/5\n",
            "163/163 [==============================] - 21s 126ms/step - loss: 0.1272 - accuracy: 0.9534 - val_loss: 0.2502 - val_accuracy: 0.8910\n",
            "Epoch 2/5\n",
            "163/163 [==============================] - 22s 130ms/step - loss: 0.1298 - accuracy: 0.9492 - val_loss: 0.2515 - val_accuracy: 0.8958\n",
            "Epoch 3/5\n",
            "163/163 [==============================] - 22s 131ms/step - loss: 0.1261 - accuracy: 0.9492 - val_loss: 0.2374 - val_accuracy: 0.9054\n",
            "Epoch 4/5\n",
            "163/163 [==============================] - 22s 129ms/step - loss: 0.1268 - accuracy: 0.9515 - val_loss: 0.2417 - val_accuracy: 0.8990\n",
            "Epoch 5/5\n",
            "163/163 [==============================] - 22s 128ms/step - loss: 0.1272 - accuracy: 0.9505 - val_loss: 0.2406 - val_accuracy: 0.8958\n"
          ]
        },
        {
          "output_type": "execute_result",
          "data": {
            "text/plain": [
              "<keras.callbacks.History at 0x7fca1afc4790>"
            ]
          },
          "metadata": {},
          "execution_count": 67
        }
      ]
    },
    {
      "cell_type": "code",
      "metadata": {
        "id": "vEonM98J72kT"
      },
      "source": [
        "#Seems to preform slightly better "
      ],
      "execution_count": null,
      "outputs": []
    },
    {
      "cell_type": "code",
      "metadata": {
        "colab": {
          "base_uri": "https://localhost:8080/"
        },
        "id": "hR1SnCyIA0q3",
        "outputId": "4d9ebc11-8c21-42a7-90ff-93489a066b44"
      },
      "source": [
        "model_9.evaluate(test_data)"
      ],
      "execution_count": 45,
      "outputs": [
        {
          "output_type": "stream",
          "name": "stdout",
          "text": [
            "20/20 [==============================] - 3s 101ms/step - loss: 0.2359 - accuracy: 0.9087\n"
          ]
        },
        {
          "output_type": "execute_result",
          "data": {
            "text/plain": [
              "[0.23593612015247345, 0.9086538553237915]"
            ]
          },
          "metadata": {},
          "execution_count": 45
        }
      ]
    },
    {
      "cell_type": "code",
      "metadata": {
        "id": "etcN-lxZ_JLp"
      },
      "source": [
        "import tensorflow as tf"
      ],
      "execution_count": 20,
      "outputs": []
    },
    {
      "cell_type": "code",
      "metadata": {
        "colab": {
          "base_uri": "https://localhost:8080/"
        },
        "id": "ZjH3d4yhH493",
        "outputId": "e03eb962-84dc-48f8-c579-dca97d6f249b"
      },
      "source": [
        "data"
      ],
      "execution_count": 77,
      "outputs": [
        {
          "output_type": "execute_result",
          "data": {
            "text/plain": [
              "array([[[[1.52500000e+01, 1.52500000e+01, 1.52500000e+01],\n",
              "         [1.52500000e+01, 1.52500000e+01, 1.52500000e+01],\n",
              "         [1.52500000e+01, 1.52500000e+01, 1.52500000e+01],\n",
              "         ...,\n",
              "         [7.81250000e-01, 7.81250000e-01, 7.81250000e-01],\n",
              "         [1.25000000e+00, 1.25000000e+00, 1.25000000e+00],\n",
              "         [1.25000000e+00, 1.25000000e+00, 1.25000000e+00]],\n",
              "\n",
              "        [[1.47500000e+01, 1.47500000e+01, 1.47500000e+01],\n",
              "         [1.47500000e+01, 1.47500000e+01, 1.47500000e+01],\n",
              "         [1.47500000e+01, 1.47500000e+01, 1.47500000e+01],\n",
              "         ...,\n",
              "         [5.93750000e-01, 5.93750000e-01, 5.93750000e-01],\n",
              "         [7.50000000e-01, 7.50000000e-01, 7.50000000e-01],\n",
              "         [7.50000000e-01, 7.50000000e-01, 7.50000000e-01]],\n",
              "\n",
              "        [[1.40000000e+01, 1.40000000e+01, 1.40000000e+01],\n",
              "         [1.40000000e+01, 1.40000000e+01, 1.40000000e+01],\n",
              "         [1.40000000e+01, 1.40000000e+01, 1.40000000e+01],\n",
              "         ...,\n",
              "         [9.37500000e-01, 9.37500000e-01, 9.37500000e-01],\n",
              "         [0.00000000e+00, 0.00000000e+00, 0.00000000e+00],\n",
              "         [0.00000000e+00, 0.00000000e+00, 0.00000000e+00]],\n",
              "\n",
              "        ...,\n",
              "\n",
              "        [[1.60000000e+01, 1.60000000e+01, 1.60000000e+01],\n",
              "         [1.60000000e+01, 1.60000000e+01, 1.60000000e+01],\n",
              "         [1.60000000e+01, 1.60000000e+01, 1.60000000e+01],\n",
              "         ...,\n",
              "         [1.71875000e+00, 1.71875000e+00, 1.71875000e+00],\n",
              "         [0.00000000e+00, 0.00000000e+00, 0.00000000e+00],\n",
              "         [0.00000000e+00, 0.00000000e+00, 0.00000000e+00]],\n",
              "\n",
              "        [[1.60000000e+01, 1.60000000e+01, 1.60000000e+01],\n",
              "         [1.60000000e+01, 1.60000000e+01, 1.60000000e+01],\n",
              "         [1.60000000e+01, 1.60000000e+01, 1.60000000e+01],\n",
              "         ...,\n",
              "         [2.28125000e+00, 2.28125000e+00, 2.28125000e+00],\n",
              "         [3.75000000e-01, 3.75000000e-01, 3.75000000e-01],\n",
              "         [0.00000000e+00, 0.00000000e+00, 0.00000000e+00]],\n",
              "\n",
              "        [[1.60000000e+01, 1.60000000e+01, 1.60000000e+01],\n",
              "         [1.60000000e+01, 1.60000000e+01, 1.60000000e+01],\n",
              "         [1.60000000e+01, 1.60000000e+01, 1.60000000e+01],\n",
              "         ...,\n",
              "         [2.37500000e+00, 2.37500000e+00, 2.37500000e+00],\n",
              "         [1.37500000e+00, 1.37500000e+00, 1.37500000e+00],\n",
              "         [9.06250000e-01, 9.06250000e-01, 9.06250000e-01]]],\n",
              "\n",
              "\n",
              "       [[[0.00000000e+00, 0.00000000e+00, 0.00000000e+00],\n",
              "         [0.00000000e+00, 0.00000000e+00, 0.00000000e+00],\n",
              "         [0.00000000e+00, 0.00000000e+00, 0.00000000e+00],\n",
              "         ...,\n",
              "         [1.65175293e+02, 1.65175293e+02, 1.65175293e+02],\n",
              "         [9.80371094e+00, 9.80371094e+00, 9.80371094e+00],\n",
              "         [6.34033203e+00, 6.34033203e+00, 6.34033203e+00]],\n",
              "\n",
              "        [[0.00000000e+00, 0.00000000e+00, 0.00000000e+00],\n",
              "         [0.00000000e+00, 0.00000000e+00, 0.00000000e+00],\n",
              "         [0.00000000e+00, 0.00000000e+00, 0.00000000e+00],\n",
              "         ...,\n",
              "         [1.25122070e+00, 1.25122070e+00, 1.25122070e+00],\n",
              "         [4.62231445e+00, 4.62231445e+00, 4.62231445e+00],\n",
              "         [1.51245117e+00, 1.51245117e+00, 1.51245117e+00]],\n",
              "\n",
              "        [[0.00000000e+00, 0.00000000e+00, 0.00000000e+00],\n",
              "         [0.00000000e+00, 0.00000000e+00, 0.00000000e+00],\n",
              "         [0.00000000e+00, 0.00000000e+00, 0.00000000e+00],\n",
              "         ...,\n",
              "         [3.46484375e+00, 3.46484375e+00, 3.46484375e+00],\n",
              "         [5.20507812e-01, 5.20507812e-01, 5.20507812e-01],\n",
              "         [2.52758789e+00, 2.52758789e+00, 2.52758789e+00]],\n",
              "\n",
              "        ...,\n",
              "\n",
              "        [[0.00000000e+00, 0.00000000e+00, 0.00000000e+00],\n",
              "         [0.00000000e+00, 0.00000000e+00, 0.00000000e+00],\n",
              "         [0.00000000e+00, 0.00000000e+00, 0.00000000e+00],\n",
              "         ...,\n",
              "         [0.00000000e+00, 0.00000000e+00, 0.00000000e+00],\n",
              "         [0.00000000e+00, 0.00000000e+00, 0.00000000e+00],\n",
              "         [0.00000000e+00, 0.00000000e+00, 0.00000000e+00]],\n",
              "\n",
              "        [[0.00000000e+00, 0.00000000e+00, 0.00000000e+00],\n",
              "         [0.00000000e+00, 0.00000000e+00, 0.00000000e+00],\n",
              "         [0.00000000e+00, 0.00000000e+00, 0.00000000e+00],\n",
              "         ...,\n",
              "         [0.00000000e+00, 0.00000000e+00, 0.00000000e+00],\n",
              "         [0.00000000e+00, 0.00000000e+00, 0.00000000e+00],\n",
              "         [0.00000000e+00, 0.00000000e+00, 0.00000000e+00]],\n",
              "\n",
              "        [[0.00000000e+00, 0.00000000e+00, 0.00000000e+00],\n",
              "         [0.00000000e+00, 0.00000000e+00, 0.00000000e+00],\n",
              "         [0.00000000e+00, 0.00000000e+00, 0.00000000e+00],\n",
              "         ...,\n",
              "         [0.00000000e+00, 0.00000000e+00, 0.00000000e+00],\n",
              "         [0.00000000e+00, 0.00000000e+00, 0.00000000e+00],\n",
              "         [0.00000000e+00, 0.00000000e+00, 0.00000000e+00]]],\n",
              "\n",
              "\n",
              "       [[[1.00000000e+00, 1.00000000e+00, 1.00000000e+00],\n",
              "         [2.34375000e+00, 2.34375000e+00, 2.34375000e+00],\n",
              "         [2.00000000e+00, 2.00000000e+00, 2.00000000e+00],\n",
              "         ...,\n",
              "         [2.43117188e+02, 2.43117188e+02, 2.43117188e+02],\n",
              "         [4.57324219e+00, 4.57324219e+00, 4.57324219e+00],\n",
              "         [1.23486328e+00, 1.23486328e+00, 1.23486328e+00]],\n",
              "\n",
              "        [[1.00000000e+00, 1.00000000e+00, 1.00000000e+00],\n",
              "         [2.34375000e+00, 2.34375000e+00, 2.34375000e+00],\n",
              "         [2.00000000e+00, 2.00000000e+00, 2.00000000e+00],\n",
              "         ...,\n",
              "         [4.62500000e+00, 4.62500000e+00, 4.62500000e+00],\n",
              "         [9.77548828e+01, 9.77548828e+01, 9.77548828e+01],\n",
              "         [5.41992188e+00, 5.41992188e+00, 5.41992188e+00]],\n",
              "\n",
              "        [[2.96875000e-01, 2.96875000e-01, 2.96875000e-01],\n",
              "         [1.64062500e+00, 1.64062500e+00, 1.64062500e+00],\n",
              "         [1.29687500e+00, 1.29687500e+00, 1.29687500e+00],\n",
              "         ...,\n",
              "         [1.02441406e+00, 1.02441406e+00, 1.02441406e+00],\n",
              "         [9.50639648e+01, 9.50639648e+01, 9.50639648e+01],\n",
              "         [8.78906250e+00, 8.78906250e+00, 8.78906250e+00]],\n",
              "\n",
              "        ...,\n",
              "\n",
              "        [[5.46337891e+00, 5.46337891e+00, 5.46337891e+00],\n",
              "         [1.40595703e+01, 1.40595703e+01, 1.40595703e+01],\n",
              "         [2.14724121e+02, 2.14724121e+02, 2.14724121e+02],\n",
              "         ...,\n",
              "         [0.00000000e+00, 0.00000000e+00, 0.00000000e+00],\n",
              "         [1.02050781e-01, 1.02050781e-01, 1.02050781e-01],\n",
              "         [5.84472656e-01, 5.84472656e-01, 5.84472656e-01]],\n",
              "\n",
              "        [[3.21044922e+00, 3.21044922e+00, 3.21044922e+00],\n",
              "         [9.03530273e+01, 9.03530273e+01, 9.03530273e+01],\n",
              "         [1.27547852e+02, 1.27547852e+02, 1.27547852e+02],\n",
              "         ...,\n",
              "         [0.00000000e+00, 0.00000000e+00, 0.00000000e+00],\n",
              "         [5.08837891e+00, 5.08837891e+00, 5.08837891e+00],\n",
              "         [6.52734375e+00, 6.52734375e+00, 6.52734375e+00]],\n",
              "\n",
              "        [[2.13487793e+02, 2.13487793e+02, 2.13487793e+02],\n",
              "         [2.54033203e+02, 2.54033203e+02, 2.54033203e+02],\n",
              "         [3.91845703e+00, 3.91845703e+00, 3.91845703e+00],\n",
              "         ...,\n",
              "         [0.00000000e+00, 0.00000000e+00, 0.00000000e+00],\n",
              "         [1.17949219e+01, 1.17949219e+01, 1.17949219e+01],\n",
              "         [2.15647461e+02, 2.15647461e+02, 2.15647461e+02]]],\n",
              "\n",
              "\n",
              "       ...,\n",
              "\n",
              "\n",
              "       [[[1.18125000e+02, 1.18125000e+02, 1.18125000e+02],\n",
              "         [1.16157715e+02, 1.16157715e+02, 1.16157715e+02],\n",
              "         [1.03950684e+02, 1.03950684e+02, 1.03950684e+02],\n",
              "         ...,\n",
              "         [6.41586914e+01, 6.41586914e+01, 6.41586914e+01],\n",
              "         [6.30781250e+01, 6.30781250e+01, 6.30781250e+01],\n",
              "         [6.17187500e+01, 6.17187500e+01, 6.17187500e+01]],\n",
              "\n",
              "        [[1.18735840e+02, 1.18735840e+02, 1.18735840e+02],\n",
              "         [1.16687500e+02, 1.16687500e+02, 1.16687500e+02],\n",
              "         [1.04109375e+02, 1.04109375e+02, 1.04109375e+02],\n",
              "         ...,\n",
              "         [6.55468750e+01, 6.55468750e+01, 6.55468750e+01],\n",
              "         [6.54218750e+01, 6.54218750e+01, 6.54218750e+01],\n",
              "         [6.41860352e+01, 6.41860352e+01, 6.41860352e+01]],\n",
              "\n",
              "        [[1.19541016e+02, 1.19541016e+02, 1.19541016e+02],\n",
              "         [1.10991699e+02, 1.10991699e+02, 1.10991699e+02],\n",
              "         [9.39843750e+01, 9.39843750e+01, 9.39843750e+01],\n",
              "         ...,\n",
              "         [6.79252930e+01, 6.79252930e+01, 6.79252930e+01],\n",
              "         [6.79843750e+01, 6.79843750e+01, 6.79843750e+01],\n",
              "         [6.69843750e+01, 6.69843750e+01, 6.69843750e+01]],\n",
              "\n",
              "        ...,\n",
              "\n",
              "        [[3.83999023e+01, 3.83999023e+01, 3.83999023e+01],\n",
              "         [4.13281250e+00, 4.13281250e+00, 4.13281250e+00],\n",
              "         [1.30000000e+01, 1.30000000e+01, 1.30000000e+01],\n",
              "         ...,\n",
              "         [1.20312500e+00, 1.20312500e+00, 1.20312500e+00],\n",
              "         [2.63671875e-01, 2.63671875e-01, 2.63671875e-01],\n",
              "         [3.27714844e+01, 3.27714844e+01, 3.27714844e+01]],\n",
              "\n",
              "        [[1.09819336e+01, 1.09819336e+01, 1.09819336e+01],\n",
              "         [1.44306641e+01, 1.44306641e+01, 1.44306641e+01],\n",
              "         [1.30000000e+01, 1.30000000e+01, 1.30000000e+01],\n",
              "         ...,\n",
              "         [1.20312500e+00, 1.20312500e+00, 1.20312500e+00],\n",
              "         [1.04609375e+01, 1.04609375e+01, 1.04609375e+01],\n",
              "         [8.09033203e+00, 8.09033203e+00, 8.09033203e+00]],\n",
              "\n",
              "        [[1.73652344e+01, 1.73652344e+01, 1.73652344e+01],\n",
              "         [4.08593750e+00, 4.08593750e+00, 4.08593750e+00],\n",
              "         [1.30000000e+01, 1.30000000e+01, 1.30000000e+01],\n",
              "         ...,\n",
              "         [1.20312500e+00, 1.20312500e+00, 1.20312500e+00],\n",
              "         [4.95507812e+00, 4.95507812e+00, 4.95507812e+00],\n",
              "         [5.50585938e+00, 5.50585938e+00, 5.50585938e+00]]],\n",
              "\n",
              "\n",
              "       [[[1.50000000e+01, 1.50000000e+01, 1.50000000e+01],\n",
              "         [1.90000000e+01, 1.90000000e+01, 1.90000000e+01],\n",
              "         [1.89296875e+01, 1.89296875e+01, 1.89296875e+01],\n",
              "         ...,\n",
              "         [2.00000000e+00, 2.00000000e+00, 2.00000000e+00],\n",
              "         [2.00000000e+00, 2.00000000e+00, 2.00000000e+00],\n",
              "         [2.00000000e+00, 2.00000000e+00, 2.00000000e+00]],\n",
              "\n",
              "        [[1.60000000e+01, 1.60000000e+01, 1.60000000e+01],\n",
              "         [1.80000000e+01, 1.80000000e+01, 1.80000000e+01],\n",
              "         [1.82890625e+01, 1.82890625e+01, 1.82890625e+01],\n",
              "         ...,\n",
              "         [1.87500000e+00, 1.87500000e+00, 1.87500000e+00],\n",
              "         [2.00000000e+00, 2.00000000e+00, 2.00000000e+00],\n",
              "         [1.00000000e+00, 1.00000000e+00, 1.00000000e+00]],\n",
              "\n",
              "        [[1.63750000e+01, 1.63750000e+01, 1.63750000e+01],\n",
              "         [1.79531250e+01, 1.79531250e+01, 1.79531250e+01],\n",
              "         [1.96953125e+01, 1.96953125e+01, 1.96953125e+01],\n",
              "         ...,\n",
              "         [1.00000000e+00, 1.00000000e+00, 1.00000000e+00],\n",
              "         [1.00000000e+00, 1.00000000e+00, 1.00000000e+00],\n",
              "         [1.00000000e+00, 1.00000000e+00, 1.00000000e+00]],\n",
              "\n",
              "        ...,\n",
              "\n",
              "        [[1.00000000e+01, 1.00000000e+01, 1.00000000e+01],\n",
              "         [1.00000000e+01, 1.00000000e+01, 1.00000000e+01],\n",
              "         [1.00000000e+01, 1.00000000e+01, 1.00000000e+01],\n",
              "         ...,\n",
              "         [6.00000000e+00, 6.00000000e+00, 6.00000000e+00],\n",
              "         [6.00000000e+00, 6.00000000e+00, 6.00000000e+00],\n",
              "         [6.00000000e+00, 6.00000000e+00, 6.00000000e+00]],\n",
              "\n",
              "        [[1.00000000e+01, 1.00000000e+01, 1.00000000e+01],\n",
              "         [1.00000000e+01, 1.00000000e+01, 1.00000000e+01],\n",
              "         [1.00000000e+01, 1.00000000e+01, 1.00000000e+01],\n",
              "         ...,\n",
              "         [6.00000000e+00, 6.00000000e+00, 6.00000000e+00],\n",
              "         [6.00000000e+00, 6.00000000e+00, 6.00000000e+00],\n",
              "         [6.00000000e+00, 6.00000000e+00, 6.00000000e+00]],\n",
              "\n",
              "        [[1.00000000e+01, 1.00000000e+01, 1.00000000e+01],\n",
              "         [1.00000000e+01, 1.00000000e+01, 1.00000000e+01],\n",
              "         [1.00000000e+01, 1.00000000e+01, 1.00000000e+01],\n",
              "         ...,\n",
              "         [6.00000000e+00, 6.00000000e+00, 6.00000000e+00],\n",
              "         [6.00000000e+00, 6.00000000e+00, 6.00000000e+00],\n",
              "         [6.00000000e+00, 6.00000000e+00, 6.00000000e+00]]],\n",
              "\n",
              "\n",
              "       [[[6.88437500e+01, 6.88437500e+01, 6.88437500e+01],\n",
              "         [7.37912598e+01, 7.37912598e+01, 7.37912598e+01],\n",
              "         [8.20427246e+01, 8.20427246e+01, 8.20427246e+01],\n",
              "         ...,\n",
              "         [3.03906250e+01, 3.03906250e+01, 3.03906250e+01],\n",
              "         [4.34687500e+01, 4.34687500e+01, 4.34687500e+01],\n",
              "         [6.03125000e+01, 6.03125000e+01, 6.03125000e+01]],\n",
              "\n",
              "        [[6.88437500e+01, 6.88437500e+01, 6.88437500e+01],\n",
              "         [7.60937500e+01, 7.60937500e+01, 7.60937500e+01],\n",
              "         [8.12187500e+01, 8.12187500e+01, 8.12187500e+01],\n",
              "         ...,\n",
              "         [3.03906250e+01, 3.03906250e+01, 3.03906250e+01],\n",
              "         [4.34687500e+01, 4.34687500e+01, 4.34687500e+01],\n",
              "         [6.03125000e+01, 6.03125000e+01, 6.03125000e+01]],\n",
              "\n",
              "        [[6.88437500e+01, 6.88437500e+01, 6.88437500e+01],\n",
              "         [7.55312500e+01, 7.55312500e+01, 7.55312500e+01],\n",
              "         [8.12187500e+01, 8.12187500e+01, 8.12187500e+01],\n",
              "         ...,\n",
              "         [3.03906250e+01, 3.03906250e+01, 3.03906250e+01],\n",
              "         [4.19375000e+01, 4.19375000e+01, 4.19375000e+01],\n",
              "         [6.03125000e+01, 6.03125000e+01, 6.03125000e+01]],\n",
              "\n",
              "        ...,\n",
              "\n",
              "        [[2.07263184e+01, 2.07263184e+01, 2.07263184e+01],\n",
              "         [2.00000000e+01, 2.00000000e+01, 2.00000000e+01],\n",
              "         [2.00000000e+01, 2.00000000e+01, 2.00000000e+01],\n",
              "         ...,\n",
              "         [2.50000000e+01, 2.50000000e+01, 2.50000000e+01],\n",
              "         [2.60000000e+01, 2.60000000e+01, 2.60000000e+01],\n",
              "         [2.74594727e+01, 2.74594727e+01, 2.74594727e+01]],\n",
              "\n",
              "        [[1.90000000e+01, 1.90000000e+01, 1.90000000e+01],\n",
              "         [2.00000000e+01, 2.00000000e+01, 2.00000000e+01],\n",
              "         [2.00000000e+01, 2.00000000e+01, 2.00000000e+01],\n",
              "         ...,\n",
              "         [2.50000000e+01, 2.50000000e+01, 2.50000000e+01],\n",
              "         [2.60000000e+01, 2.60000000e+01, 2.60000000e+01],\n",
              "         [2.60000000e+01, 2.60000000e+01, 2.60000000e+01]],\n",
              "\n",
              "        [[1.90000000e+01, 1.90000000e+01, 1.90000000e+01],\n",
              "         [2.00000000e+01, 2.00000000e+01, 2.00000000e+01],\n",
              "         [2.00000000e+01, 2.00000000e+01, 2.00000000e+01],\n",
              "         ...,\n",
              "         [2.50000000e+01, 2.50000000e+01, 2.50000000e+01],\n",
              "         [2.60000000e+01, 2.60000000e+01, 2.60000000e+01],\n",
              "         [2.60000000e+01, 2.60000000e+01, 2.60000000e+01]]]],\n",
              "      dtype=float32)"
            ]
          },
          "metadata": {},
          "execution_count": 77
        }
      ]
    },
    {
      "cell_type": "code",
      "metadata": {
        "id": "XQgZF_KEK_PL"
      },
      "source": [
        "def test_labeller(test_data):\n",
        "  #because individual labels are 1 dim vects  \n",
        "  import numpy as np\n",
        "  test_label = np.concatenate([y for x, y in test_data], axis=0) \n",
        "  test_labels = list(map(int, test_label))\n",
        "  return test_labels"
      ],
      "execution_count": 21,
      "outputs": []
    },
    {
      "cell_type": "code",
      "metadata": {
        "id": "3XLKLR-R_nto"
      },
      "source": [
        "#predicting\n",
        "def model_predict(model, test_data):\n",
        "  y_predicts = tf.round(model_9.predict(test_data))\n",
        "  y_predicts = list(map(int,y_predicts))\n",
        "  return y_predicts"
      ],
      "execution_count": 23,
      "outputs": []
    },
    {
      "cell_type": "code",
      "metadata": {
        "id": "_zj8K9qDLWJU"
      },
      "source": [
        "y_labels = test_labeller(test_data)"
      ],
      "execution_count": 100,
      "outputs": []
    },
    {
      "cell_type": "code",
      "metadata": {
        "id": "RY25ScEMAyps"
      },
      "source": [
        "y_predict = model_predict(model_9, test_data)"
      ],
      "execution_count": 101,
      "outputs": []
    },
    {
      "cell_type": "code",
      "metadata": {
        "colab": {
          "base_uri": "https://localhost:8080/"
        },
        "id": "3z4YfRgsAkNG",
        "outputId": "062f41c5-fa3a-46bd-e296-7d958ef73202"
      },
      "source": [
        "tf.math.confusion_matrix(y_labels, y_predict)"
      ],
      "execution_count": 102,
      "outputs": [
        {
          "output_type": "execute_result",
          "data": {
            "text/plain": [
              "<tf.Tensor: shape=(2, 2), dtype=int32, numpy=\n",
              "array([[188,  46],\n",
              "       [ 19, 371]], dtype=int32)>"
            ]
          },
          "metadata": {},
          "execution_count": 102
        }
      ]
    },
    {
      "cell_type": "code",
      "metadata": {
        "id": "G_fHTzsgL31v"
      },
      "source": [
        "#creating confusion matrix\n",
        "def creating_confusion(model, test_data):\n",
        "  def test_labeller(test_data):\n",
        "  #because individual labels are 1 dim vects  \n",
        "    import numpy as np\n",
        "    test_label = np.concatenate([y for x, y in test_data], axis=0) \n",
        "    test_labels = list(map(int, test_label))\n",
        "    return test_labels\n",
        "\n",
        "  def model_predict(model, test_data):\n",
        "    import tensorflow as tf \n",
        "    y_predicts = tf.round(model_9.predict(test_data))\n",
        "    y_predicts = list(map(int,y_predicts))\n",
        "    return y_predicts\n",
        "\n",
        "  pred = model_predict(model, test_data)\n",
        "  labels = test_labeller(test_data)\n",
        "  return tf.math.confusion_matrix(labels, pred)"
      ],
      "execution_count": 24,
      "outputs": []
    },
    {
      "cell_type": "code",
      "metadata": {
        "colab": {
          "base_uri": "https://localhost:8080/"
        },
        "id": "7ST866E3NL1D",
        "outputId": "da9dd876-8b2d-45db-8c2f-07ae9b4a2c6e"
      },
      "source": [
        "creating_confusion(model_9, test_data)"
      ],
      "execution_count": 108,
      "outputs": [
        {
          "output_type": "execute_result",
          "data": {
            "text/plain": [
              "<tf.Tensor: shape=(2, 2), dtype=int32, numpy=\n",
              "array([[188,  46],\n",
              "       [ 19, 371]], dtype=int32)>"
            ]
          },
          "metadata": {},
          "execution_count": 108
        }
      ]
    },
    {
      "cell_type": "markdown",
      "metadata": {
        "id": "RG9tcwEX8pLk"
      },
      "source": [
        "# EfficienetB3 last 10 layers not trainable for 10 epochs the trainable for 10 (model 10):"
      ]
    },
    {
      "cell_type": "code",
      "metadata": {
        "id": "gRtcLUiv9Cps",
        "colab": {
          "base_uri": "https://localhost:8080/"
        },
        "outputId": "d02870a7-22ef-4865-c755-70b93e059624"
      },
      "source": [
        "input = Input(shape = (256,256,3))\n",
        "x = data_aug(input)\n",
        "x = base_modelB3(x)\n",
        "x = GlobalAveragePooling2D()(x)\n",
        "output = Dense(1, activation= \"sigmoid\")(x)\n",
        " \n",
        "#intial training epochs\n",
        "intial_epochs = 10\n",
        "\n",
        "model_10 = Model(inputs = input, outputs = output)\n",
        "model_10.compile(optimizer = \"adam\", \n",
        "                 loss = \"binary_crossentropy\",\n",
        "                 metrics = \"accuracy\")\n",
        "model_10.fit(train_data, \n",
        "                 epochs = intial_epochs, \n",
        "                 steps_per_epoch = len(train_data), \n",
        "                 validation_data = test_data, \n",
        "                 validation_steps = len(test_data) )\n"
      ],
      "execution_count": 30,
      "outputs": [
        {
          "output_type": "stream",
          "name": "stdout",
          "text": [
            "Epoch 1/10\n",
            "163/163 [==============================] - 38s 158ms/step - loss: 0.3441 - accuracy: 0.8560 - val_loss: 0.3762 - val_accuracy: 0.8365\n",
            "Epoch 2/10\n",
            "163/163 [==============================] - 24s 141ms/step - loss: 0.2230 - accuracy: 0.9147 - val_loss: 0.3265 - val_accuracy: 0.8638\n",
            "Epoch 3/10\n",
            "163/163 [==============================] - 24s 140ms/step - loss: 0.1874 - accuracy: 0.9306 - val_loss: 0.3245 - val_accuracy: 0.8574\n",
            "Epoch 4/10\n",
            "163/163 [==============================] - 24s 140ms/step - loss: 0.1752 - accuracy: 0.9354 - val_loss: 0.3179 - val_accuracy: 0.8606\n",
            "Epoch 5/10\n",
            "163/163 [==============================] - 23s 135ms/step - loss: 0.1684 - accuracy: 0.9344 - val_loss: 0.2700 - val_accuracy: 0.8782\n",
            "Epoch 6/10\n",
            "163/163 [==============================] - 23s 137ms/step - loss: 0.1612 - accuracy: 0.9400 - val_loss: 0.2613 - val_accuracy: 0.8798\n",
            "Epoch 7/10\n",
            "163/163 [==============================] - 23s 137ms/step - loss: 0.1566 - accuracy: 0.9400 - val_loss: 0.2599 - val_accuracy: 0.8862\n",
            "Epoch 8/10\n",
            "163/163 [==============================] - 23s 138ms/step - loss: 0.1485 - accuracy: 0.9423 - val_loss: 0.2547 - val_accuracy: 0.8894\n",
            "Epoch 9/10\n",
            "163/163 [==============================] - 23s 135ms/step - loss: 0.1471 - accuracy: 0.9433 - val_loss: 0.2492 - val_accuracy: 0.8926\n",
            "Epoch 10/10\n",
            "163/163 [==============================] - 23s 134ms/step - loss: 0.1463 - accuracy: 0.9440 - val_loss: 0.2558 - val_accuracy: 0.8894\n"
          ]
        },
        {
          "output_type": "execute_result",
          "data": {
            "text/plain": [
              "<keras.callbacks.History at 0x7f03a020ce90>"
            ]
          },
          "metadata": {},
          "execution_count": 30
        }
      ]
    },
    {
      "cell_type": "code",
      "metadata": {
        "id": "OWwhz1PklaYl"
      },
      "source": [
        "for i in range(226, len(model_10.layers[2].layers)):\n",
        "  model_10.layers[2].layers[i].trainable = True"
      ],
      "execution_count": 31,
      "outputs": []
    },
    {
      "cell_type": "code",
      "metadata": {
        "colab": {
          "base_uri": "https://localhost:8080/"
        },
        "id": "2DljnUB9ncfU",
        "outputId": "34439d6a-e0fb-4e4d-8c88-833120d0fadb"
      },
      "source": [
        "model_10.fit(train_data, \n",
        "                 epochs = intial_epochs, \n",
        "                 steps_per_epoch = len(train_data), \n",
        "                 validation_data = test_data, \n",
        "                 validation_steps = len(test_data) )"
      ],
      "execution_count": 32,
      "outputs": [
        {
          "output_type": "stream",
          "name": "stdout",
          "text": [
            "Epoch 1/10\n",
            "163/163 [==============================] - 23s 137ms/step - loss: 0.1382 - accuracy: 0.9473 - val_loss: 0.2442 - val_accuracy: 0.8990\n",
            "Epoch 2/10\n",
            "163/163 [==============================] - 23s 136ms/step - loss: 0.1431 - accuracy: 0.9467 - val_loss: 0.2475 - val_accuracy: 0.9022\n",
            "Epoch 3/10\n",
            "163/163 [==============================] - 23s 135ms/step - loss: 0.1323 - accuracy: 0.9488 - val_loss: 0.2603 - val_accuracy: 0.8974\n",
            "Epoch 4/10\n",
            "163/163 [==============================] - 23s 137ms/step - loss: 0.1384 - accuracy: 0.9477 - val_loss: 0.2391 - val_accuracy: 0.9022\n",
            "Epoch 5/10\n",
            "163/163 [==============================] - 24s 139ms/step - loss: 0.1278 - accuracy: 0.9528 - val_loss: 0.2353 - val_accuracy: 0.9054\n",
            "Epoch 6/10\n",
            "163/163 [==============================] - 23s 136ms/step - loss: 0.1305 - accuracy: 0.9507 - val_loss: 0.2344 - val_accuracy: 0.9087\n",
            "Epoch 7/10\n",
            "163/163 [==============================] - 23s 137ms/step - loss: 0.1289 - accuracy: 0.9496 - val_loss: 0.2336 - val_accuracy: 0.9022\n",
            "Epoch 8/10\n",
            "163/163 [==============================] - 23s 135ms/step - loss: 0.1234 - accuracy: 0.9555 - val_loss: 0.2392 - val_accuracy: 0.9006\n",
            "Epoch 9/10\n",
            "163/163 [==============================] - 23s 135ms/step - loss: 0.1287 - accuracy: 0.9511 - val_loss: 0.2334 - val_accuracy: 0.9054\n",
            "Epoch 10/10\n",
            "163/163 [==============================] - 23s 135ms/step - loss: 0.1212 - accuracy: 0.9528 - val_loss: 0.2385 - val_accuracy: 0.9119\n"
          ]
        },
        {
          "output_type": "execute_result",
          "data": {
            "text/plain": [
              "<keras.callbacks.History at 0x7f018d9a9490>"
            ]
          },
          "metadata": {},
          "execution_count": 32
        }
      ]
    },
    {
      "cell_type": "code",
      "metadata": {
        "colab": {
          "base_uri": "https://localhost:8080/"
        },
        "id": "VGgRD3qvnlQc",
        "outputId": "912491ff-fe33-4467-d4b8-d3381387ff87"
      },
      "source": [
        "#loss seems to still be imporoving will run for MORE epochs\n",
        "model_10.fit(train_data, \n",
        "                 epochs = 10, \n",
        "                 steps_per_epoch = len(train_data), \n",
        "                 validation_data = test_data, \n",
        "                 validation_steps = len(test_data) )"
      ],
      "execution_count": 34,
      "outputs": [
        {
          "output_type": "stream",
          "name": "stdout",
          "text": [
            "Epoch 1/10\n",
            "163/163 [==============================] - 23s 135ms/step - loss: 0.1155 - accuracy: 0.9567 - val_loss: 0.2305 - val_accuracy: 0.9119\n",
            "Epoch 2/10\n",
            "163/163 [==============================] - 23s 134ms/step - loss: 0.1135 - accuracy: 0.9561 - val_loss: 0.2300 - val_accuracy: 0.9151\n",
            "Epoch 3/10\n",
            "163/163 [==============================] - 23s 135ms/step - loss: 0.1112 - accuracy: 0.9574 - val_loss: 0.2301 - val_accuracy: 0.9103\n",
            "Epoch 4/10\n",
            "163/163 [==============================] - 23s 135ms/step - loss: 0.1197 - accuracy: 0.9509 - val_loss: 0.2292 - val_accuracy: 0.9151\n",
            "Epoch 5/10\n",
            "163/163 [==============================] - 23s 134ms/step - loss: 0.1051 - accuracy: 0.9617 - val_loss: 0.2263 - val_accuracy: 0.9231\n",
            "Epoch 6/10\n",
            "163/163 [==============================] - 23s 134ms/step - loss: 0.1163 - accuracy: 0.9536 - val_loss: 0.2271 - val_accuracy: 0.9167\n",
            "Epoch 7/10\n",
            "163/163 [==============================] - 23s 134ms/step - loss: 0.1086 - accuracy: 0.9594 - val_loss: 0.2311 - val_accuracy: 0.9199\n",
            "Epoch 8/10\n",
            "163/163 [==============================] - 23s 136ms/step - loss: 0.1085 - accuracy: 0.9576 - val_loss: 0.2259 - val_accuracy: 0.9103\n",
            "Epoch 9/10\n",
            "163/163 [==============================] - 23s 134ms/step - loss: 0.1170 - accuracy: 0.9542 - val_loss: 0.2373 - val_accuracy: 0.9038\n",
            "Epoch 10/10\n",
            "163/163 [==============================] - 23s 135ms/step - loss: 0.1103 - accuracy: 0.9569 - val_loss: 0.2294 - val_accuracy: 0.9054\n"
          ]
        },
        {
          "output_type": "execute_result",
          "data": {
            "text/plain": [
              "<keras.callbacks.History at 0x7f03a07024d0>"
            ]
          },
          "metadata": {},
          "execution_count": 34
        }
      ]
    },
    {
      "cell_type": "code",
      "metadata": {
        "colab": {
          "base_uri": "https://localhost:8080/"
        },
        "id": "vPMnvCQlQRMj",
        "outputId": "bfab60c9-eda6-41eb-c332-2f066aef8fbf"
      },
      "source": [
        "#5 more epochs\n",
        "model_10.fit(train_data, \n",
        "                 epochs = 10, \n",
        "                 steps_per_epoch = len(train_data), \n",
        "                 validation_data = test_data, \n",
        "                 validation_steps = len(test_data) )"
      ],
      "execution_count": 35,
      "outputs": [
        {
          "output_type": "stream",
          "name": "stdout",
          "text": [
            "Epoch 1/10\n",
            "163/163 [==============================] - 23s 134ms/step - loss: 0.1133 - accuracy: 0.9588 - val_loss: 0.2352 - val_accuracy: 0.9038\n",
            "Epoch 2/10\n",
            "163/163 [==============================] - 23s 134ms/step - loss: 0.1121 - accuracy: 0.9549 - val_loss: 0.2273 - val_accuracy: 0.9199\n",
            "Epoch 3/10\n",
            "163/163 [==============================] - 23s 134ms/step - loss: 0.1150 - accuracy: 0.9557 - val_loss: 0.2388 - val_accuracy: 0.9022\n",
            "Epoch 4/10\n",
            "163/163 [==============================] - 23s 133ms/step - loss: 0.1101 - accuracy: 0.9561 - val_loss: 0.2291 - val_accuracy: 0.9119\n",
            "Epoch 5/10\n",
            "163/163 [==============================] - 23s 135ms/step - loss: 0.1083 - accuracy: 0.9590 - val_loss: 0.2287 - val_accuracy: 0.9087\n",
            "Epoch 6/10\n",
            "163/163 [==============================] - 23s 134ms/step - loss: 0.1101 - accuracy: 0.9561 - val_loss: 0.2259 - val_accuracy: 0.9103\n",
            "Epoch 7/10\n",
            "163/163 [==============================] - 23s 134ms/step - loss: 0.1127 - accuracy: 0.9563 - val_loss: 0.2350 - val_accuracy: 0.9135\n",
            "Epoch 8/10\n",
            "163/163 [==============================] - 23s 137ms/step - loss: 0.1058 - accuracy: 0.9613 - val_loss: 0.2314 - val_accuracy: 0.9135\n",
            "Epoch 9/10\n",
            "163/163 [==============================] - 23s 135ms/step - loss: 0.1078 - accuracy: 0.9605 - val_loss: 0.2279 - val_accuracy: 0.9151\n",
            "Epoch 10/10\n",
            "163/163 [==============================] - 23s 134ms/step - loss: 0.1090 - accuracy: 0.9565 - val_loss: 0.2253 - val_accuracy: 0.9135\n"
          ]
        },
        {
          "output_type": "execute_result",
          "data": {
            "text/plain": [
              "<keras.callbacks.History at 0x7f03a072ca50>"
            ]
          },
          "metadata": {},
          "execution_count": 35
        }
      ]
    },
    {
      "cell_type": "code",
      "metadata": {
        "id": "K9Vn9R7lVh8C"
      },
      "source": [
        "#"
      ],
      "execution_count": null,
      "outputs": []
    },
    {
      "cell_type": "markdown",
      "metadata": {
        "id": "AfDSftKndH7e"
      },
      "source": [
        "EfficienetB7 Data Aug model 11"
      ]
    },
    {
      "cell_type": "code",
      "metadata": {
        "id": "oZzYzAbGdMfm"
      },
      "source": [
        "from tensorflow.keras.applications import EfficientNetB7"
      ],
      "execution_count": 36,
      "outputs": []
    },
    {
      "cell_type": "code",
      "metadata": {
        "id": "BlI5S1_PdY7z"
      },
      "source": [
        "base_modelB7 = EfficientNetB7(include_top=False)\n",
        "base_modelB7.trainable = False"
      ],
      "execution_count": 47,
      "outputs": []
    },
    {
      "cell_type": "code",
      "metadata": {
        "id": "SuH0VMhyd6xI"
      },
      "source": [
        "input = Input(shape = (256,256,3))\n",
        "x = data_aug(input)\n",
        "x = base_modelB7(x)\n",
        "x = GlobalAveragePooling2D()(x)\n",
        "output = Dense(1, activation= \"sigmoid\")(x)\n",
        "model_11 = Model(inputs= input, outputs =output)"
      ],
      "execution_count": 48,
      "outputs": []
    },
    {
      "cell_type": "code",
      "metadata": {
        "colab": {
          "base_uri": "https://localhost:8080/"
        },
        "id": "K9G8iUjPkGLs",
        "outputId": "33053c15-f843-45be-9f34-513344da726e"
      },
      "source": [
        "model_11.compile(optimizer = \"adam\", \n",
        "                 loss = \"binary_crossentropy\",\n",
        "                 metrics = \"accuracy\")\n",
        "model_11.fit(train_data, \n",
        "                 epochs = 10, \n",
        "                 steps_per_epoch = len(train_data), \n",
        "                 validation_data = test_data, \n",
        "                 validation_steps = len(test_data) )"
      ],
      "execution_count": 49,
      "outputs": [
        {
          "output_type": "stream",
          "name": "stdout",
          "text": [
            "Epoch 1/10\n",
            "163/163 [==============================] - 109s 522ms/step - loss: 0.3348 - accuracy: 0.8616 - val_loss: 0.3957 - val_accuracy: 0.8349\n",
            "Epoch 2/10\n",
            "163/163 [==============================] - 73s 440ms/step - loss: 0.2137 - accuracy: 0.9170 - val_loss: 0.3634 - val_accuracy: 0.8462\n",
            "Epoch 3/10\n",
            "163/163 [==============================] - 71s 431ms/step - loss: 0.1904 - accuracy: 0.9268 - val_loss: 0.3214 - val_accuracy: 0.8750\n",
            "Epoch 4/10\n",
            "163/163 [==============================] - 69s 415ms/step - loss: 0.1776 - accuracy: 0.9312 - val_loss: 0.3195 - val_accuracy: 0.8686\n",
            "Epoch 5/10\n",
            "163/163 [==============================] - 67s 403ms/step - loss: 0.1732 - accuracy: 0.9329 - val_loss: 0.3155 - val_accuracy: 0.8702\n",
            "Epoch 6/10\n",
            "163/163 [==============================] - 65s 395ms/step - loss: 0.1664 - accuracy: 0.9381 - val_loss: 0.3409 - val_accuracy: 0.8462\n",
            "Epoch 7/10\n",
            "163/163 [==============================] - 63s 382ms/step - loss: 0.1571 - accuracy: 0.9404 - val_loss: 0.2998 - val_accuracy: 0.8798\n",
            "Epoch 8/10\n",
            "163/163 [==============================] - 62s 375ms/step - loss: 0.1609 - accuracy: 0.9415 - val_loss: 0.3235 - val_accuracy: 0.8494\n",
            "Epoch 9/10\n",
            "163/163 [==============================] - 63s 380ms/step - loss: 0.1566 - accuracy: 0.9408 - val_loss: 0.3046 - val_accuracy: 0.8702\n",
            "Epoch 10/10\n",
            "163/163 [==============================] - 62s 378ms/step - loss: 0.1452 - accuracy: 0.9450 - val_loss: 0.2824 - val_accuracy: 0.8814\n"
          ]
        },
        {
          "output_type": "execute_result",
          "data": {
            "text/plain": [
              "<keras.callbacks.History at 0x7eff59de1490>"
            ]
          },
          "metadata": {},
          "execution_count": 49
        }
      ]
    },
    {
      "cell_type": "code",
      "metadata": {
        "id": "iFsmQT3ElLr8"
      },
      "source": [
        "#seems to be overfitting "
      ],
      "execution_count": 50,
      "outputs": []
    },
    {
      "cell_type": "code",
      "metadata": {
        "id": "tGG9Br_9p6hb"
      },
      "source": [
        ""
      ],
      "execution_count": null,
      "outputs": []
    }
  ]
}